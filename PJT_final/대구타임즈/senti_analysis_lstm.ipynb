{
 "cells": [
  {
   "cell_type": "code",
   "execution_count": 3,
   "metadata": {},
   "outputs": [],
   "source": [
    "# 모듈 불러오기\n",
    "import pandas as pd\n",
    "import numpy as np\n",
    "from konlpy.tag import Okt\n",
    "from tqdm import tqdm\n",
    "import re"
   ]
  },
  {
   "cell_type": "code",
   "execution_count": 100,
   "metadata": {},
   "outputs": [
    {
     "data": {
      "text/html": [
       "<div>\n",
       "<style scoped>\n",
       "    .dataframe tbody tr th:only-of-type {\n",
       "        vertical-align: middle;\n",
       "    }\n",
       "\n",
       "    .dataframe tbody tr th {\n",
       "        vertical-align: top;\n",
       "    }\n",
       "\n",
       "    .dataframe thead th {\n",
       "        text-align: right;\n",
       "    }\n",
       "</style>\n",
       "<table border=\"1\" class=\"dataframe\">\n",
       "  <thead>\n",
       "    <tr style=\"text-align: right;\">\n",
       "      <th></th>\n",
       "      <th>word</th>\n",
       "      <th>polarity</th>\n",
       "    </tr>\n",
       "  </thead>\n",
       "  <tbody>\n",
       "    <tr>\n",
       "      <th>0</th>\n",
       "      <td>ㅡㅡ</td>\n",
       "      <td>-1</td>\n",
       "    </tr>\n",
       "    <tr>\n",
       "      <th>1</th>\n",
       "      <td>ㅠㅠ</td>\n",
       "      <td>-1</td>\n",
       "    </tr>\n",
       "    <tr>\n",
       "      <th>2</th>\n",
       "      <td>ㅠ_ㅠ</td>\n",
       "      <td>-1</td>\n",
       "    </tr>\n",
       "    <tr>\n",
       "      <th>3</th>\n",
       "      <td>ㅠ</td>\n",
       "      <td>-1</td>\n",
       "    </tr>\n",
       "    <tr>\n",
       "      <th>4</th>\n",
       "      <td>ㅜㅡ</td>\n",
       "      <td>-1</td>\n",
       "    </tr>\n",
       "    <tr>\n",
       "      <th>...</th>\n",
       "      <td>...</td>\n",
       "      <td>...</td>\n",
       "    </tr>\n",
       "    <tr>\n",
       "      <th>14849</th>\n",
       "      <td>(^-^)</td>\n",
       "      <td>1</td>\n",
       "    </tr>\n",
       "    <tr>\n",
       "      <th>14850</th>\n",
       "      <td>(;_;)</td>\n",
       "      <td>-1</td>\n",
       "    </tr>\n",
       "    <tr>\n",
       "      <th>14851</th>\n",
       "      <td>(-_-)</td>\n",
       "      <td>-1</td>\n",
       "    </tr>\n",
       "    <tr>\n",
       "      <th>14852</th>\n",
       "      <td>(-;</td>\n",
       "      <td>1</td>\n",
       "    </tr>\n",
       "    <tr>\n",
       "      <th>14853</th>\n",
       "      <td>-_-^</td>\n",
       "      <td>-1</td>\n",
       "    </tr>\n",
       "  </tbody>\n",
       "</table>\n",
       "<p>14854 rows × 2 columns</p>\n",
       "</div>"
      ],
      "text/plain": [
       "        word  polarity\n",
       "0         ㅡㅡ        -1\n",
       "1         ㅠㅠ        -1\n",
       "2        ㅠ_ㅠ        -1\n",
       "3          ㅠ        -1\n",
       "4         ㅜㅡ        -1\n",
       "...      ...       ...\n",
       "14849  (^-^)         1\n",
       "14850  (;_;)        -1\n",
       "14851  (-_-)        -1\n",
       "14852    (-;         1\n",
       "14853   -_-^        -1\n",
       "\n",
       "[14854 rows x 2 columns]"
      ]
     },
     "execution_count": 100,
     "metadata": {},
     "output_type": "execute_result"
    }
   ],
   "source": [
    "senti=pd.read_csv('./data/knu_sentiment_lexicon.csv')\n",
    "senti"
   ]
  },
  {
   "cell_type": "code",
   "execution_count": 101,
   "metadata": {},
   "outputs": [
    {
     "data": {
      "text/html": [
       "<div>\n",
       "<style scoped>\n",
       "    .dataframe tbody tr th:only-of-type {\n",
       "        vertical-align: middle;\n",
       "    }\n",
       "\n",
       "    .dataframe tbody tr th {\n",
       "        vertical-align: top;\n",
       "    }\n",
       "\n",
       "    .dataframe thead th {\n",
       "        text-align: right;\n",
       "    }\n",
       "</style>\n",
       "<table border=\"1\" class=\"dataframe\">\n",
       "  <thead>\n",
       "    <tr style=\"text-align: right;\">\n",
       "      <th></th>\n",
       "      <th>명사</th>\n",
       "    </tr>\n",
       "  </thead>\n",
       "  <tbody>\n",
       "    <tr>\n",
       "      <th>0</th>\n",
       "      <td>['이대성', '허웅', '제압', '성현', '점슛', '분전', '허웅', '생...</td>\n",
       "    </tr>\n",
       "    <tr>\n",
       "      <th>1</th>\n",
       "      <td>['진박', '감별', '사가', '쥐락펴락', '나경원', '비판', '응수', ...</td>\n",
       "    </tr>\n",
       "    <tr>\n",
       "      <th>2</th>\n",
       "      <td>['양금', '국민', '의원', '대구', '북구', '대구', '북구', '주민...</td>\n",
       "    </tr>\n",
       "    <tr>\n",
       "      <th>3</th>\n",
       "      <td>['김상훈', '국민', '의원', '대구', '서구', '대구', '서구', '주...</td>\n",
       "    </tr>\n",
       "    <tr>\n",
       "      <th>4</th>\n",
       "      <td>['류성걸', '국민', '의원', '대구', '류성걸', '국민', '의원', '...</td>\n",
       "    </tr>\n",
       "    <tr>\n",
       "      <th>...</th>\n",
       "      <td>...</td>\n",
       "    </tr>\n",
       "    <tr>\n",
       "      <th>39940</th>\n",
       "      <td>['우상혁', '부다페스트', '세계', '육상', '선수권', '남자', '높이뛰...</td>\n",
       "    </tr>\n",
       "    <tr>\n",
       "      <th>39941</th>\n",
       "      <td>['중소', '벤처기업', '실장', '전보', '중소기업', '정책', '실장',...</td>\n",
       "    </tr>\n",
       "    <tr>\n",
       "      <th>39942</th>\n",
       "      <td>['유튜버', '김용호', '유튜브', '채널', '강용석', '나이트', '라이브...</td>\n",
       "    </tr>\n",
       "    <tr>\n",
       "      <th>39943</th>\n",
       "      <td>['윤희', '경찰청장', '충북', '충주시', '중앙', '경찰', '학교', ...</td>\n",
       "    </tr>\n",
       "    <tr>\n",
       "      <th>39944</th>\n",
       "      <td>['날씨', '기록', '지난', '서울', '경복궁', '관광객', '양산', '...</td>\n",
       "    </tr>\n",
       "  </tbody>\n",
       "</table>\n",
       "<p>39945 rows × 1 columns</p>\n",
       "</div>"
      ],
      "text/plain": [
       "                                                      명사\n",
       "0      ['이대성', '허웅', '제압', '성현', '점슛', '분전', '허웅', '생...\n",
       "1      ['진박', '감별', '사가', '쥐락펴락', '나경원', '비판', '응수', ...\n",
       "2      ['양금', '국민', '의원', '대구', '북구', '대구', '북구', '주민...\n",
       "3      ['김상훈', '국민', '의원', '대구', '서구', '대구', '서구', '주...\n",
       "4      ['류성걸', '국민', '의원', '대구', '류성걸', '국민', '의원', '...\n",
       "...                                                  ...\n",
       "39940  ['우상혁', '부다페스트', '세계', '육상', '선수권', '남자', '높이뛰...\n",
       "39941  ['중소', '벤처기업', '실장', '전보', '중소기업', '정책', '실장',...\n",
       "39942  ['유튜버', '김용호', '유튜브', '채널', '강용석', '나이트', '라이브...\n",
       "39943  ['윤희', '경찰청장', '충북', '충주시', '중앙', '경찰', '학교', ...\n",
       "39944  ['날씨', '기록', '지난', '서울', '경복궁', '관광객', '양산', '...\n",
       "\n",
       "[39945 rows x 1 columns]"
      ]
     },
     "execution_count": 101,
     "metadata": {},
     "output_type": "execute_result"
    }
   ],
   "source": [
    "nouns = pd.read_csv('./data/nouns_df.csv')\n",
    "nouns = nouns[['명사']]\n",
    "nouns"
   ]
  },
  {
   "cell_type": "code",
   "execution_count": 5,
   "metadata": {},
   "outputs": [],
   "source": [
    "# 본문내용 안의 공백제거 코드 (명사만 뽑으면 돼서 안함)\n",
    "# text = news['본문'][0]\n",
    "# cleaned_text = re.sub(r'\\s+', ' ', text)"
   ]
  },
  {
   "cell_type": "markdown",
   "metadata": {},
   "source": [
    "## 딥러닝 (LSTM)\n",
    "- 학습데이터 : 본문\n",
    "- 타겟데이터 : 감성분석결과"
   ]
  },
  {
   "cell_type": "code",
   "execution_count": 4,
   "metadata": {},
   "outputs": [
    {
     "name": "stderr",
     "output_type": "stream",
     "text": [
      "100%|██████████| 39945/39945 [10:41<00:00, 62.23it/s]\n"
     ]
    },
    {
     "data": {
      "text/html": [
       "<div>\n",
       "<style scoped>\n",
       "    .dataframe tbody tr th:only-of-type {\n",
       "        vertical-align: middle;\n",
       "    }\n",
       "\n",
       "    .dataframe tbody tr th {\n",
       "        vertical-align: top;\n",
       "    }\n",
       "\n",
       "    .dataframe thead th {\n",
       "        text-align: right;\n",
       "    }\n",
       "</style>\n",
       "<table border=\"1\" class=\"dataframe\">\n",
       "  <thead>\n",
       "    <tr style=\"text-align: right;\">\n",
       "      <th></th>\n",
       "      <th>명사</th>\n",
       "      <th>감성점수</th>\n",
       "    </tr>\n",
       "  </thead>\n",
       "  <tbody>\n",
       "    <tr>\n",
       "      <th>0</th>\n",
       "      <td>['이대성', '허웅', '제압', '성현', '점슛', '분전', '허웅', '생...</td>\n",
       "      <td>6</td>\n",
       "    </tr>\n",
       "    <tr>\n",
       "      <th>1</th>\n",
       "      <td>['진박', '감별', '사가', '쥐락펴락', '나경원', '비판', '응수', ...</td>\n",
       "      <td>-3</td>\n",
       "    </tr>\n",
       "    <tr>\n",
       "      <th>2</th>\n",
       "      <td>['양금', '국민', '의원', '대구', '북구', '대구', '북구', '주민...</td>\n",
       "      <td>9</td>\n",
       "    </tr>\n",
       "    <tr>\n",
       "      <th>3</th>\n",
       "      <td>['김상훈', '국민', '의원', '대구', '서구', '대구', '서구', '주...</td>\n",
       "      <td>14</td>\n",
       "    </tr>\n",
       "    <tr>\n",
       "      <th>4</th>\n",
       "      <td>['류성걸', '국민', '의원', '대구', '류성걸', '국민', '의원', '...</td>\n",
       "      <td>12</td>\n",
       "    </tr>\n",
       "    <tr>\n",
       "      <th>...</th>\n",
       "      <td>...</td>\n",
       "      <td>...</td>\n",
       "    </tr>\n",
       "    <tr>\n",
       "      <th>39940</th>\n",
       "      <td>['우상혁', '부다페스트', '세계', '육상', '선수권', '남자', '높이뛰...</td>\n",
       "      <td>-7</td>\n",
       "    </tr>\n",
       "    <tr>\n",
       "      <th>39941</th>\n",
       "      <td>['중소', '벤처기업', '실장', '전보', '중소기업', '정책', '실장',...</td>\n",
       "      <td>15</td>\n",
       "    </tr>\n",
       "    <tr>\n",
       "      <th>39942</th>\n",
       "      <td>['유튜버', '김용호', '유튜브', '채널', '강용석', '나이트', '라이브...</td>\n",
       "      <td>-8</td>\n",
       "    </tr>\n",
       "    <tr>\n",
       "      <th>39943</th>\n",
       "      <td>['윤희', '경찰청장', '충북', '충주시', '중앙', '경찰', '학교', ...</td>\n",
       "      <td>11</td>\n",
       "    </tr>\n",
       "    <tr>\n",
       "      <th>39944</th>\n",
       "      <td>['날씨', '기록', '지난', '서울', '경복궁', '관광객', '양산', '...</td>\n",
       "      <td>-10</td>\n",
       "    </tr>\n",
       "  </tbody>\n",
       "</table>\n",
       "<p>39945 rows × 2 columns</p>\n",
       "</div>"
      ],
      "text/plain": [
       "                                                      명사  감성점수\n",
       "0      ['이대성', '허웅', '제압', '성현', '점슛', '분전', '허웅', '생...     6\n",
       "1      ['진박', '감별', '사가', '쥐락펴락', '나경원', '비판', '응수', ...    -3\n",
       "2      ['양금', '국민', '의원', '대구', '북구', '대구', '북구', '주민...     9\n",
       "3      ['김상훈', '국민', '의원', '대구', '서구', '대구', '서구', '주...    14\n",
       "4      ['류성걸', '국민', '의원', '대구', '류성걸', '국민', '의원', '...    12\n",
       "...                                                  ...   ...\n",
       "39940  ['우상혁', '부다페스트', '세계', '육상', '선수권', '남자', '높이뛰...    -7\n",
       "39941  ['중소', '벤처기업', '실장', '전보', '중소기업', '정책', '실장',...    15\n",
       "39942  ['유튜버', '김용호', '유튜브', '채널', '강용석', '나이트', '라이브...    -8\n",
       "39943  ['윤희', '경찰청장', '충북', '충주시', '중앙', '경찰', '학교', ...    11\n",
       "39944  ['날씨', '기록', '지난', '서울', '경복궁', '관광객', '양산', '...   -10\n",
       "\n",
       "[39945 rows x 2 columns]"
      ]
     },
     "execution_count": 4,
     "metadata": {},
     "output_type": "execute_result"
    }
   ],
   "source": [
    "# 감성사전\n",
    "okt = Okt()\n",
    "\n",
    "total_score = []\n",
    "for i in tqdm(nouns['명사']):\n",
    "    try:\n",
    "        t = okt.normalize(i)\n",
    "        score = 0\n",
    "        for w,p in zip(senti['word'], senti['polarity']):\n",
    "            score += t.count(w)*p\n",
    "        total_score.append(score)\n",
    "\n",
    "    except:\n",
    "        total_score.append(None)\n",
    "\n",
    "nouns['감성점수'] = total_score\n",
    "nouns"
   ]
  },
  {
   "cell_type": "code",
   "execution_count": 5,
   "metadata": {},
   "outputs": [
    {
     "data": {
      "text/plain": [
       "0"
      ]
     },
     "execution_count": 5,
     "metadata": {},
     "output_type": "execute_result"
    }
   ],
   "source": [
    "nouns['감성점수'].isna().sum()"
   ]
  },
  {
   "cell_type": "code",
   "execution_count": 6,
   "metadata": {},
   "outputs": [
    {
     "data": {
      "text/plain": [
       "-14.0"
      ]
     },
     "execution_count": 6,
     "metadata": {},
     "output_type": "execute_result"
    },
    {
     "data": {
      "image/png": "[encoded data removed]",
      "text/plain": [
       "<Figure size 640x480 with 1 Axes>"
      ]
     },
     "metadata": {},
     "output_type": "display_data"
    }
   ],
   "source": [
    "# 감성점수 분포 확인하기\n",
    "import matplotlib.pyplot as plt\n",
    "\n",
    "plt.boxplot(nouns['감성점수'])\n",
    "nouns['감성점수'].quantile(q=0.25)  # 1 분위수"
   ]
  },
  {
   "cell_type": "code",
   "execution_count": 7,
   "metadata": {},
   "outputs": [
    {
     "data": {
      "text/plain": [
       "-5.0"
      ]
     },
     "execution_count": 7,
     "metadata": {},
     "output_type": "execute_result"
    }
   ],
   "source": [
    "# 중앙값 확인\n",
    "nouns['감성점수'].median()"
   ]
  },
  {
   "cell_type": "code",
   "execution_count": 8,
   "metadata": {},
   "outputs": [
    {
     "name": "stdout",
     "output_type": "stream",
     "text": [
      "감성점수\n",
      "False    28900\n",
      "True     11045\n",
      "Name: count, dtype: int64\n",
      "감성점수\n",
      "False    29855\n",
      "True     10090\n",
      "Name: count, dtype: int64\n",
      "감성점수\n",
      "False    21135\n",
      "True     18810\n",
      "Name: count, dtype: int64\n"
     ]
    }
   ],
   "source": [
    "# 긍정\n",
    "print((nouns['감성점수'] >= 1.0).value_counts())\n",
    "\n",
    "# 부정\n",
    "print((nouns['감성점수'] <= -14.0).value_counts())\n",
    "\n",
    "# 중립\n",
    "print(((nouns['감성점수'] > -14.0) & (nouns['감성점수'] < 1.0)).value_counts()) "
   ]
  },
  {
   "cell_type": "code",
   "execution_count": 11,
   "metadata": {},
   "outputs": [],
   "source": [
    "# 긍정 : 1 / 중립 : 0 / 부정 : -1\n",
    "nouns['감성분석결과'] = nouns['감성점수'].apply(lambda x: 1 if x>=1.0 else -1 if x<=-14.0 else 0) \n",
    "nouns[nouns['감성분석결과'] == 0]['감성분석결과'].value_counts()\n",
    "nouns\n",
    "\n",
    "# csv파일로 저장\n",
    "nouns.to_csv('senti_result.csv', encoding='utf-8', index=False)"
   ]
  },
  {
   "cell_type": "markdown",
   "metadata": {},
   "source": [
    "#### LSTM 모델"
   ]
  },
  {
   "cell_type": "code",
   "execution_count": 15,
   "metadata": {},
   "outputs": [
    {
     "data": {
      "text/html": [
       "<div>\n",
       "<style scoped>\n",
       "    .dataframe tbody tr th:only-of-type {\n",
       "        vertical-align: middle;\n",
       "    }\n",
       "\n",
       "    .dataframe tbody tr th {\n",
       "        vertical-align: top;\n",
       "    }\n",
       "\n",
       "    .dataframe thead th {\n",
       "        text-align: right;\n",
       "    }\n",
       "</style>\n",
       "<table border=\"1\" class=\"dataframe\">\n",
       "  <thead>\n",
       "    <tr style=\"text-align: right;\">\n",
       "      <th></th>\n",
       "      <th>명사</th>\n",
       "      <th>감성점수</th>\n",
       "      <th>감성분석결과</th>\n",
       "    </tr>\n",
       "  </thead>\n",
       "  <tbody>\n",
       "    <tr>\n",
       "      <th>0</th>\n",
       "      <td>['이대성', '허웅', '제압', '성현', '점슛', '분전', '허웅', '생...</td>\n",
       "      <td>6</td>\n",
       "      <td>1</td>\n",
       "    </tr>\n",
       "    <tr>\n",
       "      <th>1</th>\n",
       "      <td>['진박', '감별', '사가', '쥐락펴락', '나경원', '비판', '응수', ...</td>\n",
       "      <td>-3</td>\n",
       "      <td>0</td>\n",
       "    </tr>\n",
       "    <tr>\n",
       "      <th>2</th>\n",
       "      <td>['양금', '국민', '의원', '대구', '북구', '대구', '북구', '주민...</td>\n",
       "      <td>9</td>\n",
       "      <td>1</td>\n",
       "    </tr>\n",
       "    <tr>\n",
       "      <th>3</th>\n",
       "      <td>['김상훈', '국민', '의원', '대구', '서구', '대구', '서구', '주...</td>\n",
       "      <td>14</td>\n",
       "      <td>1</td>\n",
       "    </tr>\n",
       "    <tr>\n",
       "      <th>4</th>\n",
       "      <td>['류성걸', '국민', '의원', '대구', '류성걸', '국민', '의원', '...</td>\n",
       "      <td>12</td>\n",
       "      <td>1</td>\n",
       "    </tr>\n",
       "    <tr>\n",
       "      <th>...</th>\n",
       "      <td>...</td>\n",
       "      <td>...</td>\n",
       "      <td>...</td>\n",
       "    </tr>\n",
       "    <tr>\n",
       "      <th>39940</th>\n",
       "      <td>['우상혁', '부다페스트', '세계', '육상', '선수권', '남자', '높이뛰...</td>\n",
       "      <td>-7</td>\n",
       "      <td>0</td>\n",
       "    </tr>\n",
       "    <tr>\n",
       "      <th>39941</th>\n",
       "      <td>['중소', '벤처기업', '실장', '전보', '중소기업', '정책', '실장',...</td>\n",
       "      <td>15</td>\n",
       "      <td>1</td>\n",
       "    </tr>\n",
       "    <tr>\n",
       "      <th>39942</th>\n",
       "      <td>['유튜버', '김용호', '유튜브', '채널', '강용석', '나이트', '라이브...</td>\n",
       "      <td>-8</td>\n",
       "      <td>0</td>\n",
       "    </tr>\n",
       "    <tr>\n",
       "      <th>39943</th>\n",
       "      <td>['윤희', '경찰청장', '충북', '충주시', '중앙', '경찰', '학교', ...</td>\n",
       "      <td>11</td>\n",
       "      <td>1</td>\n",
       "    </tr>\n",
       "    <tr>\n",
       "      <th>39944</th>\n",
       "      <td>['날씨', '기록', '지난', '서울', '경복궁', '관광객', '양산', '...</td>\n",
       "      <td>-10</td>\n",
       "      <td>0</td>\n",
       "    </tr>\n",
       "  </tbody>\n",
       "</table>\n",
       "<p>39945 rows × 3 columns</p>\n",
       "</div>"
      ],
      "text/plain": [
       "                                                      명사  감성점수  감성분석결과\n",
       "0      ['이대성', '허웅', '제압', '성현', '점슛', '분전', '허웅', '생...     6       1\n",
       "1      ['진박', '감별', '사가', '쥐락펴락', '나경원', '비판', '응수', ...    -3       0\n",
       "2      ['양금', '국민', '의원', '대구', '북구', '대구', '북구', '주민...     9       1\n",
       "3      ['김상훈', '국민', '의원', '대구', '서구', '대구', '서구', '주...    14       1\n",
       "4      ['류성걸', '국민', '의원', '대구', '류성걸', '국민', '의원', '...    12       1\n",
       "...                                                  ...   ...     ...\n",
       "39940  ['우상혁', '부다페스트', '세계', '육상', '선수권', '남자', '높이뛰...    -7       0\n",
       "39941  ['중소', '벤처기업', '실장', '전보', '중소기업', '정책', '실장',...    15       1\n",
       "39942  ['유튜버', '김용호', '유튜브', '채널', '강용석', '나이트', '라이브...    -8       0\n",
       "39943  ['윤희', '경찰청장', '충북', '충주시', '중앙', '경찰', '학교', ...    11       1\n",
       "39944  ['날씨', '기록', '지난', '서울', '경복궁', '관광객', '양산', '...   -10       0\n",
       "\n",
       "[39945 rows x 3 columns]"
      ]
     },
     "execution_count": 15,
     "metadata": {},
     "output_type": "execute_result"
    }
   ],
   "source": [
    "nouns = pd.read_csv('./senti_result.csv', encoding='utf-8')\n",
    "nouns"
   ]
  },
  {
   "cell_type": "code",
   "execution_count": 16,
   "metadata": {},
   "outputs": [
    {
     "data": {
      "text/html": [
       "<div>\n",
       "<style scoped>\n",
       "    .dataframe tbody tr th:only-of-type {\n",
       "        vertical-align: middle;\n",
       "    }\n",
       "\n",
       "    .dataframe tbody tr th {\n",
       "        vertical-align: top;\n",
       "    }\n",
       "\n",
       "    .dataframe thead th {\n",
       "        text-align: right;\n",
       "    }\n",
       "</style>\n",
       "<table border=\"1\" class=\"dataframe\">\n",
       "  <thead>\n",
       "    <tr style=\"text-align: right;\">\n",
       "      <th></th>\n",
       "      <th>명사</th>\n",
       "      <th>감성점수</th>\n",
       "      <th>감성분석결과</th>\n",
       "    </tr>\n",
       "  </thead>\n",
       "  <tbody>\n",
       "    <tr>\n",
       "      <th>0</th>\n",
       "      <td>이대성 허웅 제압 성현 점슛 분전 허웅 생애 점슛 콘테스트 우승 반도 덩크슛 챔피언...</td>\n",
       "      <td>6</td>\n",
       "      <td>1</td>\n",
       "    </tr>\n",
       "    <tr>\n",
       "      <th>1</th>\n",
       "      <td>진박 감별 사가 쥐락펴락 나경원 비판 응수 국민 장제원 의원 나경원 의원 나경원 국...</td>\n",
       "      <td>-3</td>\n",
       "      <td>0</td>\n",
       "    </tr>\n",
       "    <tr>\n",
       "      <th>2</th>\n",
       "      <td>양금 국민 의원 대구 북구 대구 북구 주민 양금 국민 의원 중앙 정치 활동 긍정 평...</td>\n",
       "      <td>9</td>\n",
       "      <td>1</td>\n",
       "    </tr>\n",
       "    <tr>\n",
       "      <th>3</th>\n",
       "      <td>김상훈 국민 의원 대구 서구 대구 서구 주민 출신 김상훈 국민 의원 의정 활동 전반...</td>\n",
       "      <td>14</td>\n",
       "      <td>1</td>\n",
       "    </tr>\n",
       "    <tr>\n",
       "      <th>4</th>\n",
       "      <td>류성걸 국민 의원 대구 류성걸 국민 의원 전반 의정 활동 대한 대구 주민 평가 긍정...</td>\n",
       "      <td>12</td>\n",
       "      <td>1</td>\n",
       "    </tr>\n",
       "    <tr>\n",
       "      <th>...</th>\n",
       "      <td>...</td>\n",
       "      <td>...</td>\n",
       "      <td>...</td>\n",
       "    </tr>\n",
       "    <tr>\n",
       "      <th>39940</th>\n",
       "      <td>우상혁 부다페스트 세계 육상 선수권 남자 높이뛰기 예선 로이터 우상혁 부다페스트 세...</td>\n",
       "      <td>-7</td>\n",
       "      <td>0</td>\n",
       "    </tr>\n",
       "    <tr>\n",
       "      <th>39941</th>\n",
       "      <td>중소 벤처기업 실장 전보 중소기업 정책 실장 대희 상공 정책 실장 영준 국장 전보 ...</td>\n",
       "      <td>15</td>\n",
       "      <td>1</td>\n",
       "    </tr>\n",
       "    <tr>\n",
       "      <th>39942</th>\n",
       "      <td>유튜버 김용호 유튜브 채널 강용석 나이트 라이브 캡처 연예 출신 유튜버 김용호 조국...</td>\n",
       "      <td>-8</td>\n",
       "      <td>0</td>\n",
       "    </tr>\n",
       "    <tr>\n",
       "      <th>39943</th>\n",
       "      <td>윤희 경찰청장 충북 충주시 중앙 경찰 학교 신임 경찰 졸업식 신임 경찰 악수 최근 ...</td>\n",
       "      <td>11</td>\n",
       "      <td>1</td>\n",
       "    </tr>\n",
       "    <tr>\n",
       "      <th>39944</th>\n",
       "      <td>날씨 기록 지난 서울 경복궁 관광객 양산 햇볕 피하 토요일 일부 지역 기온 전국 무...</td>\n",
       "      <td>-10</td>\n",
       "      <td>0</td>\n",
       "    </tr>\n",
       "  </tbody>\n",
       "</table>\n",
       "<p>39945 rows × 3 columns</p>\n",
       "</div>"
      ],
      "text/plain": [
       "                                                      명사  감성점수  감성분석결과\n",
       "0      이대성 허웅 제압 성현 점슛 분전 허웅 생애 점슛 콘테스트 우승 반도 덩크슛 챔피언...     6       1\n",
       "1      진박 감별 사가 쥐락펴락 나경원 비판 응수 국민 장제원 의원 나경원 의원 나경원 국...    -3       0\n",
       "2      양금 국민 의원 대구 북구 대구 북구 주민 양금 국민 의원 중앙 정치 활동 긍정 평...     9       1\n",
       "3      김상훈 국민 의원 대구 서구 대구 서구 주민 출신 김상훈 국민 의원 의정 활동 전반...    14       1\n",
       "4      류성걸 국민 의원 대구 류성걸 국민 의원 전반 의정 활동 대한 대구 주민 평가 긍정...    12       1\n",
       "...                                                  ...   ...     ...\n",
       "39940  우상혁 부다페스트 세계 육상 선수권 남자 높이뛰기 예선 로이터 우상혁 부다페스트 세...    -7       0\n",
       "39941  중소 벤처기업 실장 전보 중소기업 정책 실장 대희 상공 정책 실장 영준 국장 전보 ...    15       1\n",
       "39942  유튜버 김용호 유튜브 채널 강용석 나이트 라이브 캡처 연예 출신 유튜버 김용호 조국...    -8       0\n",
       "39943  윤희 경찰청장 충북 충주시 중앙 경찰 학교 신임 경찰 졸업식 신임 경찰 악수 최근 ...    11       1\n",
       "39944  날씨 기록 지난 서울 경복궁 관광객 양산 햇볕 피하 토요일 일부 지역 기온 전국 무...   -10       0\n",
       "\n",
       "[39945 rows x 3 columns]"
      ]
     },
     "execution_count": 16,
     "metadata": {},
     "output_type": "execute_result"
    }
   ],
   "source": [
    "nouns['명사'][0].replace('[', '').replace(']', '').replace(\"'\", '').replace(',', '')\n",
    "nouns['명사'] = nouns['명사'].apply(lambda x: x.replace('[', '').replace(']', '').replace(\"'\", '').replace(',', ''))\n",
    "nouns"
   ]
  },
  {
   "cell_type": "code",
   "execution_count": 17,
   "metadata": {},
   "outputs": [],
   "source": [
    "from sklearn.model_selection import train_test_split\n",
    "\n",
    "data = nouns['명사']\n",
    "target = nouns['감성분석결과']\n",
    "\n",
    "train_X, test_X, train_y, test_y = train_test_split(data, target, \n",
    "                                                    test_size=0.2,\n",
    "                                                    stratify=target,\n",
    "                                                    random_state=42)"
   ]
  },
  {
   "cell_type": "code",
   "execution_count": 19,
   "metadata": {},
   "outputs": [
    {
     "data": {
      "text/plain": [
       "26162    0\n",
       "13487    0\n",
       "35100    0\n",
       "8680     0\n",
       "35376   -1\n",
       "        ..\n",
       "39920   -1\n",
       "12783    0\n",
       "7249     0\n",
       "35553    0\n",
       "4061     0\n",
       "Name: 감성분석결과, Length: 31956, dtype: int64"
      ]
     },
     "execution_count": 19,
     "metadata": {},
     "output_type": "execute_result"
    }
   ],
   "source": [
    "train_y"
   ]
  },
  {
   "cell_type": "code",
   "execution_count": 20,
   "metadata": {},
   "outputs": [],
   "source": [
    "import numpy as np\n",
    "from tensorflow.keras.preprocessing.text import Tokenizer\n",
    "from tensorflow.keras.models import Sequential\n",
    "from tensorflow.keras.layers import LSTM, Embedding, Dense, SpatialDropout1D\n",
    "from tensorflow.keras.preprocessing.sequence import pad_sequences\n",
    "from keras.utils import to_categorical\n",
    "from tensorflow.keras.callbacks import ModelCheckpoint, EarlyStopping"
   ]
  },
  {
   "cell_type": "code",
   "execution_count": 21,
   "metadata": {},
   "outputs": [],
   "source": [
    "tokenizer = Tokenizer()\n",
    "tokenizer.fit_on_texts(train_X)\n",
    "tokenizer.fit_on_texts(test_X)\n",
    "\n",
    "tokens_train = tokenizer.texts_to_sequences(train_X)\n",
    "tokens_test = tokenizer.texts_to_sequences(test_X)"
   ]
  },
  {
   "cell_type": "code",
   "execution_count": 22,
   "metadata": {},
   "outputs": [],
   "source": [
    "train_y = to_categorical(train_y, num_classes=3)\n",
    "test_y = to_categorical(test_y, num_classes=3)"
   ]
  },
  {
   "cell_type": "code",
   "execution_count": 23,
   "metadata": {},
   "outputs": [
    {
     "data": {
      "text/plain": [
       "array([[1., 0., 0.],\n",
       "       [1., 0., 0.],\n",
       "       [1., 0., 0.],\n",
       "       ...,\n",
       "       [1., 0., 0.],\n",
       "       [1., 0., 0.],\n",
       "       [1., 0., 0.]], dtype=float32)"
      ]
     },
     "execution_count": 23,
     "metadata": {},
     "output_type": "execute_result"
    }
   ],
   "source": [
    "train_y"
   ]
  },
  {
   "cell_type": "markdown",
   "metadata": {},
   "source": [
    "---"
   ]
  },
  {
   "cell_type": "markdown",
   "metadata": {},
   "source": [
    "### 처음 모델 돌린 거 "
   ]
  },
  {
   "cell_type": "code",
   "execution_count": 24,
   "metadata": {},
   "outputs": [],
   "source": [
    "max_features = 100000  # 특성으로 사용할 단어의 수\n",
    "maxlen = 100  # 시퀀스 길이\n",
    "\n",
    "# 시퀀스 길이 맞춤\n",
    "train_X = pad_sequences(tokens_train, maxlen=maxlen)\n",
    "test_X = pad_sequences(tokens_test, maxlen=maxlen)\n",
    "\n",
    "# LSTM 모델 구축\n",
    "\n",
    "embedding_dim = 128\n",
    "model = Sequential()\n",
    "model.add(Embedding(max_features, embedding_dim, input_length=maxlen))\n",
    "model.add(SpatialDropout1D(0.2))\n",
    "model.add(LSTM(100, dropout=0.2, recurrent_dropout=0.2))\n",
    "model.add(Dense(3, activation='softmax'))\n",
    "\n",
    "model.compile(loss='categorical_crossentropy', optimizer='adam', metrics=['accuracy'])"
   ]
  },
  {
   "cell_type": "code",
   "execution_count": 14,
   "metadata": {},
   "outputs": [
    {
     "name": "stdout",
     "output_type": "stream",
     "text": [
      "Epoch 1/10\n",
      "999/999 [==============================] - ETA: 0s - loss: 0.7560 - accuracy: 0.6522\n",
      "Epoch 1: val_loss improved from inf to 0.66417, saving model to checkpoint\\model_lstm.h5\n"
     ]
    },
    {
     "name": "stderr",
     "output_type": "stream",
     "text": [
      "c:\\Users\\LG\\anaconda3\\envs\\daegu\\lib\\site-packages\\keras\\src\\engine\\training.py:3000: UserWarning: You are saving your model as an HDF5 file via `model.save()`. This file format is considered legacy. We recommend using instead the native Keras format, e.g. `model.save('my_model.keras')`.\n",
      "  saving_api.save_model(\n"
     ]
    },
    {
     "name": "stdout",
     "output_type": "stream",
     "text": [
      "999/999 [==============================] - 154s 154ms/step - loss: 0.7560 - accuracy: 0.6522 - val_loss: 0.6642 - val_accuracy: 0.7046\n",
      "Epoch 2/10\n",
      "999/999 [==============================] - ETA: 0s - loss: 0.5092 - accuracy: 0.7893\n",
      "Epoch 2: val_loss did not improve from 0.66417\n",
      "999/999 [==============================] - 229s 230ms/step - loss: 0.5092 - accuracy: 0.7893 - val_loss: 0.6754 - val_accuracy: 0.7082\n",
      "Epoch 3/10\n",
      "999/999 [==============================] - ETA: 0s - loss: 0.3491 - accuracy: 0.8654\n",
      "Epoch 3: val_loss did not improve from 0.66417\n",
      "999/999 [==============================] - 174s 174ms/step - loss: 0.3491 - accuracy: 0.8654 - val_loss: 0.7430 - val_accuracy: 0.7185\n",
      "Epoch 4/10\n",
      "999/999 [==============================] - ETA: 0s - loss: 0.2409 - accuracy: 0.9093\n",
      "Epoch 4: val_loss did not improve from 0.66417\n",
      "999/999 [==============================] - 176s 176ms/step - loss: 0.2409 - accuracy: 0.9093 - val_loss: 0.8618 - val_accuracy: 0.7177\n",
      "Epoch 4: early stopping\n"
     ]
    }
   ],
   "source": [
    "# 체크포인트와 얼리스탑 콜백 설정\n",
    "checkpoint_path = 'checkpoint/model_lstm.h5'  # 체크포인트 경로\n",
    "checkpoint = ModelCheckpoint(checkpoint_path, monitor='val_loss', save_best_only=True, mode='min', verbose=1)\n",
    "early_stopping = EarlyStopping(monitor='val_loss', patience=3, mode='min', verbose=1)\n",
    "\n",
    "# 모델 학습\n",
    "history = model.fit(train_X, train_y, epochs=10, batch_size=32, validation_data=(test_X, test_y), callbacks=[checkpoint, early_stopping])"
   ]
  },
  {
   "cell_type": "markdown",
   "metadata": {},
   "source": [
    "### 두번째 stratify=target 주고 돌린 거"
   ]
  },
  {
   "cell_type": "code",
   "execution_count": 25,
   "metadata": {},
   "outputs": [
    {
     "name": "stdout",
     "output_type": "stream",
     "text": [
      "Epoch 1/10\n",
      "999/999 [==============================] - ETA: 0s - loss: 0.8076 - accuracy: 0.6199\n",
      "Epoch 1: val_loss improved from inf to 0.68012, saving model to checkpoint\\model_lstm2.h5\n"
     ]
    },
    {
     "name": "stderr",
     "output_type": "stream",
     "text": [
      "c:\\Users\\LG\\anaconda3\\envs\\daegu\\lib\\site-packages\\keras\\src\\engine\\training.py:3000: UserWarning: You are saving your model as an HDF5 file via `model.save()`. This file format is considered legacy. We recommend using instead the native Keras format, e.g. `model.save('my_model.keras')`.\n",
      "  saving_api.save_model(\n"
     ]
    },
    {
     "name": "stdout",
     "output_type": "stream",
     "text": [
      "999/999 [==============================] - 162s 160ms/step - loss: 0.8076 - accuracy: 0.6199 - val_loss: 0.6801 - val_accuracy: 0.7010\n",
      "Epoch 2/10\n",
      "999/999 [==============================] - ETA: 0s - loss: 0.5293 - accuracy: 0.7788\n",
      "Epoch 2: val_loss improved from 0.68012 to 0.64160, saving model to checkpoint\\model_lstm2.h5\n",
      "999/999 [==============================] - 209s 209ms/step - loss: 0.5293 - accuracy: 0.7788 - val_loss: 0.6416 - val_accuracy: 0.7300\n",
      "Epoch 3/10\n",
      "999/999 [==============================] - ETA: 0s - loss: 0.3602 - accuracy: 0.8586\n",
      "Epoch 3: val_loss did not improve from 0.64160\n",
      "999/999 [==============================] - 205s 206ms/step - loss: 0.3602 - accuracy: 0.8586 - val_loss: 0.6978 - val_accuracy: 0.7254\n",
      "Epoch 4/10\n",
      "999/999 [==============================] - ETA: 0s - loss: 0.2472 - accuracy: 0.9070\n",
      "Epoch 4: val_loss did not improve from 0.64160\n",
      "999/999 [==============================] - 216s 216ms/step - loss: 0.2472 - accuracy: 0.9070 - val_loss: 0.8384 - val_accuracy: 0.7252\n",
      "Epoch 5/10\n",
      "999/999 [==============================] - ETA: 0s - loss: 0.1751 - accuracy: 0.9369\n",
      "Epoch 5: val_loss did not improve from 0.64160\n",
      "999/999 [==============================] - 199s 199ms/step - loss: 0.1751 - accuracy: 0.9369 - val_loss: 0.9392 - val_accuracy: 0.7279\n",
      "Epoch 5: early stopping\n"
     ]
    }
   ],
   "source": [
    "# 체크포인트와 얼리스탑 콜백 설정\n",
    "checkpoint_path = 'checkpoint/model_lstm2.h5'  # 체크포인트 경로\n",
    "checkpoint = ModelCheckpoint(checkpoint_path, monitor='val_loss', save_best_only=True, mode='min', verbose=1)\n",
    "early_stopping = EarlyStopping(monitor='val_loss', patience=3, mode='min', verbose=1)\n",
    "\n",
    "# 모델 학습\n",
    "history = model.fit(train_X, train_y, epochs=10, batch_size=32, validation_data=(test_X, test_y), callbacks=[checkpoint, early_stopping])"
   ]
  },
  {
   "cell_type": "code",
   "execution_count": 27,
   "metadata": {},
   "outputs": [
    {
     "data": {
      "image/png": "[encoded data removed]",
      "text/plain": [
       "<Figure size 640x480 with 1 Axes>"
      ]
     },
     "metadata": {},
     "output_type": "display_data"
    }
   ],
   "source": [
    "import matplotlib.pyplot as plt\n",
    "\n",
    "# history 객체에서 훈련 손실값과 검증 손실값 추출\n",
    "train_loss = history.history['loss']\n",
    "val_loss = history.history['val_loss']\n",
    "\n",
    "# 에폭 수 만큼의 리스트 생성 (1, 2, 3, ..., epochs)\n",
    "epochs = range(1, len(train_loss) + 1)\n",
    "\n",
    "# 손실값 그래프 그리기\n",
    "plt.plot(epochs, train_loss, 'b', label='Training Loss')\n",
    "plt.plot(epochs, val_loss, 'r', label='Validation Loss')\n",
    "plt.title('Training and Validation Loss')\n",
    "plt.xlabel('Epochs')\n",
    "plt.ylabel('Loss')\n",
    "plt.legend()\n",
    "\n",
    "# 그래프 표시\n",
    "plt.show()"
   ]
  },
  {
   "cell_type": "code",
   "execution_count": 29,
   "metadata": {},
   "outputs": [
    {
     "data": {
      "image/png": "[encoded data removed]",
      "text/plain": [
       "<Figure size 640x480 with 1 Axes>"
      ]
     },
     "metadata": {},
     "output_type": "display_data"
    }
   ],
   "source": [
    "import matplotlib.pyplot as plt\n",
    "\n",
    "# history 객체에서 훈련 정확도와 검증 정확도 추출\n",
    "train_acc = history.history['accuracy']\n",
    "val_acc = history.history['val_accuracy']\n",
    "\n",
    "# 에폭 수 만큼의 리스트 생성 (1, 2, 3, ..., epochs)\n",
    "epochs = range(1, len(train_acc) + 1)\n",
    "\n",
    "# 정확도 그래프 그리기\n",
    "plt.plot(epochs, train_acc, 'b', label='Training Accuracy')\n",
    "plt.plot(epochs, val_acc, 'r', label='Validation Accuracy')\n",
    "plt.title('Training and Validation Accuracy')\n",
    "plt.xlabel('Epochs')\n",
    "plt.ylabel('Accuracy')\n",
    "plt.legend()\n",
    "\n",
    "# 그래프 표시\n",
    "plt.show()"
   ]
  },
  {
   "cell_type": "code",
   "execution_count": 30,
   "metadata": {},
   "outputs": [],
   "source": [
    "from tensorflow.keras.models import load_model\n",
    "\n",
    "# 모델을 불러옵니다 (모델 파일명은 여기에서는 'your_model_filename.h5'로 가정)\n",
    "loaded_model = load_model('checkpoint/model_lstm2.h5')\n"
   ]
  },
  {
   "cell_type": "code",
   "execution_count": 32,
   "metadata": {},
   "outputs": [],
   "source": [
    "history = loaded_model.history\n",
    "history"
   ]
  },
  {
   "cell_type": "code",
   "execution_count": 33,
   "metadata": {},
   "outputs": [
    {
     "ename": "TypeError",
     "evalue": "'NoneType' object is not subscriptable",
     "output_type": "error",
     "traceback": [
      "\u001b[1;31m---------------------------------------------------------------------------\u001b[0m",
      "\u001b[1;31mTypeError\u001b[0m                                 Traceback (most recent call last)",
      "\u001b[1;32mc:\\Users\\LG\\Documents\\대구타임즈\\senti_analysis_lstm.ipynb Cell 31\u001b[0m line \u001b[0;36m1\n\u001b[1;32m----> <a href='vscode-notebook-cell:/c%3A/Users/LG/Documents/%EB%8C%80%EA%B5%AC%ED%83%80%EC%9E%84%EC%A6%88/senti_analysis_lstm.ipynb#Y116sZmlsZQ%3D%3D?line=0'>1</a>\u001b[0m train_loss \u001b[39m=\u001b[39m history[\u001b[39m'\u001b[39;49m\u001b[39mloss\u001b[39;49m\u001b[39m'\u001b[39;49m]\n\u001b[0;32m      <a href='vscode-notebook-cell:/c%3A/Users/LG/Documents/%EB%8C%80%EA%B5%AC%ED%83%80%EC%9E%84%EC%A6%88/senti_analysis_lstm.ipynb#Y116sZmlsZQ%3D%3D?line=1'>2</a>\u001b[0m val_loss \u001b[39m=\u001b[39m history[\u001b[39m'\u001b[39m\u001b[39mval_loss\u001b[39m\u001b[39m'\u001b[39m]\n\u001b[0;32m      <a href='vscode-notebook-cell:/c%3A/Users/LG/Documents/%EB%8C%80%EA%B5%AC%ED%83%80%EC%9E%84%EC%A6%88/senti_analysis_lstm.ipynb#Y116sZmlsZQ%3D%3D?line=2'>3</a>\u001b[0m epochs \u001b[39m=\u001b[39m \u001b[39mrange\u001b[39m(\u001b[39m1\u001b[39m, \u001b[39mlen\u001b[39m(train_loss) \u001b[39m+\u001b[39m \u001b[39m1\u001b[39m)\n",
      "\u001b[1;31mTypeError\u001b[0m: 'NoneType' object is not subscriptable"
     ]
    }
   ],
   "source": [
    "train_loss = history['loss']\n",
    "val_loss = history['val_loss']\n",
    "epochs = range(1, len(train_loss) + 1)\n",
    "\n",
    "# 손실값 그래프 그리기\n",
    "plt.plot(epochs, train_loss, 'b', label='Training Loss')\n",
    "plt.plot(epochs, val_loss, 'r', label='Validation Loss')\n",
    "plt.title('Training and Validation Loss')\n",
    "plt.xlabel('Epochs')\n",
    "plt.ylabel('Loss')\n",
    "plt.legend()\n",
    "\n",
    "# 그래프 표시\n",
    "plt.show()"
   ]
  },
  {
   "cell_type": "markdown",
   "metadata": {},
   "source": [
    "---"
   ]
  },
  {
   "cell_type": "code",
   "execution_count": 96,
   "metadata": {},
   "outputs": [],
   "source": [
    "# 최대 단어의 개수\n",
    "max_features = 10000  # 특성으로 사용할 단어의 수\n",
    "# 최대 단어 길이 (한번의 input당 들어갈 단어의 수)\n",
    "maxlen = 200  # 시퀀스 길이\n",
    "\n",
    "# 시퀀스 길이 맞춤\n",
    "train_X = pad_sequences(tokens_train, maxlen=maxlen)\n",
    "test_X = pad_sequences(tokens_test, maxlen=maxlen)\n",
    "\n",
    "# LSTM 모델 구축\n",
    "embedding_dim = 16\n",
    "model = Sequential()\n",
    "model.add(Embedding(max_features, embedding_dim, input_length=maxlen))\n",
    "model.add(SpatialDropout1D(0.7))\n",
    "model.add(LSTM(8, dropout=0.7, recurrent_dropout=0.7))\n",
    "model.add(Dense(3, activation='softmax'))\n",
    "\n",
    "model.compile(loss='categorical_crossentropy', optimizer='adam', metrics=['accuracy'])\n"
   ]
  },
  {
   "cell_type": "code",
   "execution_count": 94,
   "metadata": {},
   "outputs": [
    {
     "name": "stdout",
     "output_type": "stream",
     "text": [
      "tokens_train에서 가장 긴 요소의 길이: 3489\n",
      "tokens_test에서 가장 긴 요소의 길이: 3179\n"
     ]
    }
   ],
   "source": [
    "# tokens_train과 tokens_test에서 가장 긴 요소의 길이 확인\n",
    "max_len_train = max(len(seq) for seq in tokens_train)\n",
    "max_len_test = max(len(seq) for seq in tokens_test)\n",
    "\n",
    "print(\"tokens_train에서 가장 긴 요소의 길이:\", max_len_train)\n",
    "print(\"tokens_test에서 가장 긴 요소의 길이:\", max_len_test)\n"
   ]
  },
  {
   "cell_type": "code",
   "execution_count": 98,
   "metadata": {},
   "outputs": [
    {
     "name": "stdout",
     "output_type": "stream",
     "text": [
      "Epoch 1/10\n",
      "32/32 [==============================] - ETA: 0s - loss: 1.0560 - accuracy: 0.4701 \n",
      "Epoch 1: val_loss improved from inf to 1.05367, saving model to checkpoint\\model_lstm.h5\n",
      "32/32 [==============================] - 1052s 33s/step - loss: 1.0560 - accuracy: 0.4701 - val_loss: 1.0537 - val_accuracy: 0.4739\n",
      "Epoch 2/10\n",
      " 4/32 [==>...........................] - ETA: 15:53 - loss: 1.0540 - accuracy: 0.4675"
     ]
    },
    {
     "name": "stderr",
     "output_type": "stream",
     "text": [
      "\n",
      "KeyboardInterrupt\n",
      "\n"
     ]
    }
   ],
   "source": [
    "# 체크포인트와 얼리스탑 콜백 설정\n",
    "checkpoint_path = 'checkpoint/model_lstm.h5'  # 체크포인트 경로\n",
    "checkpoint = ModelCheckpoint(checkpoint_path, monitor='val_loss', save_best_only=True, mode='min', verbose=1)\n",
    "early_stopping = EarlyStopping(monitor='val_loss', patience=3, mode='min', verbose=1)\n",
    "\n",
    "# 모델 학습\n",
    "history = model.fit(train_X, train_y, epochs=10, batch_size=1024, validation_data=(test_X, test_y), callbacks=[checkpoint, early_stopping])\n",
    "# 만약 과적합 나오면 batch_size 늘리면 됨 => 128정도\n",
    "\n",
    "# 얼리스탑에 의해 학습이 중단된 경우 가장 좋은 모델을 로드합니다.\n",
    "# best_model = load_model('checkpoint/model.h5')"
   ]
  },
  {
   "cell_type": "markdown",
   "metadata": {},
   "source": [
    "---"
   ]
  },
  {
   "cell_type": "code",
   "execution_count": 11,
   "metadata": {},
   "outputs": [],
   "source": [
    "from tensorflow.keras.models import Sequential\n",
    "from tensorflow.keras.layers import LSTM, Dense, Embedding\n",
    "from tensorflow.keras.preprocessing.text import Tokenizer\n",
    "from tensorflow.keras.preprocessing.sequence import pad_sequences\n",
    "from keras.utils import to_categorical\n",
    "from tensorflow.keras.callbacks import ModelCheckpoint, EarlyStopping\n",
    "from sklearn.model_selection import train_test_split\n",
    "import numpy as np"
   ]
  },
  {
   "cell_type": "code",
   "execution_count": 6,
   "metadata": {},
   "outputs": [],
   "source": [
    "data = nouns['명사']\n",
    "target = nouns['감성분석결과']\n",
    "\n",
    "train_X, test_X, train_y, test_y = train_test_split(data.values, target.values, \n",
    "                                                    test_size=0.2,\n",
    "                                                    random_state=42)"
   ]
  },
  {
   "cell_type": "code",
   "execution_count": 7,
   "metadata": {},
   "outputs": [],
   "source": [
    "# 텍스트 토큰화\n",
    "tokenizer = Tokenizer()\n",
    "tokenizer.fit_on_texts(train_X)  # 훈련 데이터를 기반으로 토큰화\n",
    "sequences_train = tokenizer.texts_to_sequences(train_X)\n",
    "sequences_test = tokenizer.texts_to_sequences(test_X)\n",
    "\n",
    "word_index = tokenizer.word_index\n",
    "max_length = max([len(sequence) for sequence in sequences_train])\n",
    "vocab_size = len(word_index) + 1\n",
    "\n",
    "# 시퀀스 패딩 (모든 시퀀스 길이를 동일하게 맞춰줍니다)\n",
    "train_X = pad_sequences(sequences_train, maxlen=max_length)\n",
    "test_X = pad_sequences(sequences_test, maxlen=max_length)\n",
    "\n",
    "# 레이블을 원-핫 인코딩으로 변환\n",
    "train_y = to_categorical(train_y, num_classes=3)\n",
    "test_y = to_categorical(test_y, num_classes=3)"
   ]
  },
  {
   "cell_type": "code",
   "execution_count": 8,
   "metadata": {},
   "outputs": [
    {
     "data": {
      "text/plain": [
       "array([[0., 1., 0.],\n",
       "       [1., 0., 0.],\n",
       "       [0., 0., 1.],\n",
       "       ...,\n",
       "       [0., 1., 0.],\n",
       "       [1., 0., 0.],\n",
       "       [1., 0., 0.]], dtype=float32)"
      ]
     },
     "execution_count": 8,
     "metadata": {},
     "output_type": "execute_result"
    }
   ],
   "source": [
    "train_y"
   ]
  },
  {
   "cell_type": "code",
   "execution_count": 9,
   "metadata": {},
   "outputs": [],
   "source": [
    "# LSTM 모델 생성\n",
    "model = Sequential()\n",
    "model.add(Embedding(vocab_size, 100, input_length=max_length))\n",
    "model.add(LSTM(128, dropout=0.2, recurrent_dropout=0.2))\n",
    "model.add(Dense(3, activation='softmax'))  # 출력 레이어 (다중 분류 - 3개의 클래스)\n",
    "\n",
    "# 모델 컴파일\n",
    "model.compile(optimizer='adam', loss='sparse_categorical_crossentropy', metrics=['accuracy'])"
   ]
  },
  {
   "cell_type": "code",
   "execution_count": 12,
   "metadata": {},
   "outputs": [
    {
     "name": "stdout",
     "output_type": "stream",
     "text": [
      "Epoch 1/10\n"
     ]
    }
   ],
   "source": [
    "# 체크포인트와 얼리스탑 콜백 설정\n",
    "checkpoint_path = 'checkpoint/model_lstm.h5'  # 체크포인트 경로\n",
    "checkpoint = ModelCheckpoint(checkpoint_path, monitor='val_loss', save_best_only=True, mode='min', verbose=1)\n",
    "early_stopping = EarlyStopping(monitor='val_loss', patience=3, mode='min', verbose=1)\n",
    "\n",
    "# 모델 학습\n",
    "history = model.fit(train_X, train_y, epochs=10, batch_size=1024, validation_data=(test_X, test_y), callbacks=[checkpoint, early_stopping])"
   ]
  },
  {
   "cell_type": "code",
   "execution_count": null,
   "metadata": {},
   "outputs": [],
   "source": []
  },
  {
   "cell_type": "code",
   "execution_count": null,
   "metadata": {},
   "outputs": [],
   "source": []
  }
 ],
 "metadata": {
  "kernelspec": {
   "display_name": "daegu",
   "language": "python",
   "name": "python3"
  },
  "language_info": {
   "codemirror_mode": {
    "name": "ipython",
    "version": 3
   },
   "file_extension": ".py",
   "mimetype": "text/x-python",
   "name": "python",
   "nbconvert_exporter": "python",
   "pygments_lexer": "ipython3",
   "version": "3.8.18"
  }
 },
 "nbformat": 4,
 "nbformat_minor": 2
}
