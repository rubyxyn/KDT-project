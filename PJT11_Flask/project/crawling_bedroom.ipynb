{
 "cells": [
  {
   "cell_type": "code",
   "execution_count": 3,
   "metadata": {},
   "outputs": [],
   "source": [
    "import requests\n",
    "from bs4 import BeautifulSoup\n",
    "from tqdm import tqdm\n",
    "\n",
    "import pandas as pd\n",
    "import random\n",
    "import time\n",
    "import re\n",
    "from selenium import webdriver\n",
    "from selenium.webdriver.chrome.service import Service\n",
    "from selenium.webdriver.common.keys import Keys\n",
    "from selenium.webdriver.common.by import By "
   ]
  },
  {
   "cell_type": "code",
   "execution_count": 35,
   "metadata": {},
   "outputs": [],
   "source": [
    "# 창 열기\n",
    "driver = webdriver.Chrome()"
   ]
  },
  {
   "cell_type": "markdown",
   "metadata": {},
   "source": [
    "## 침실"
   ]
  },
  {
   "cell_type": "markdown",
   "metadata": {},
   "source": [
    "### 1) 침대"
   ]
  },
  {
   "cell_type": "code",
   "execution_count": null,
   "metadata": {},
   "outputs": [],
   "source": [
    "# 사이트 열기\n",
    "driver.get('https://ohou.se/store/category?category_id=10270010')\n",
    "driver.implicitly_wait(10)\n",
    "time.sleep(3)\n",
    "\n",
    "# 리뷰많은순으로 변경\n",
    "pre_order = driver.find_element(By.CLASS_NAME, \"category-filter-bar-order-button\").click()\n",
    "time.sleep(0.5+random.random())\n",
    "\n",
    "order_ = driver.find_elements(By.CLASS_NAME, \"property-filter-panel-entry-list__item__title\")\n",
    "order_[-3].click()\n",
    "time.sleep(0.5+random.random())"
   ]
  },
  {
   "cell_type": "code",
   "execution_count": 21,
   "metadata": {},
   "outputs": [
    {
     "name": "stderr",
     "output_type": "stream",
     "text": [
      "  0%|          | 0/20 [00:00<?, ?it/s]"
     ]
    },
    {
     "name": "stdout",
     "output_type": "stream",
     "text": [
      "15 개 데이터 가져옴....\n"
     ]
    },
    {
     "name": "stderr",
     "output_type": "stream",
     "text": [
      "  5%|▌         | 1/20 [00:07<02:31,  7.95s/it]"
     ]
    },
    {
     "name": "stdout",
     "output_type": "stream",
     "text": [
      "21 개 데이터 가져옴....\n"
     ]
    },
    {
     "name": "stderr",
     "output_type": "stream",
     "text": [
      " 10%|█         | 2/20 [00:13<02:02,  6.78s/it]"
     ]
    },
    {
     "name": "stdout",
     "output_type": "stream",
     "text": [
      "21 개 데이터 가져옴....\n"
     ]
    },
    {
     "name": "stderr",
     "output_type": "stream",
     "text": [
      " 15%|█▌        | 3/20 [00:20<01:53,  6.66s/it]"
     ]
    },
    {
     "name": "stdout",
     "output_type": "stream",
     "text": [
      "24 개 데이터 가져옴....\n"
     ]
    },
    {
     "name": "stderr",
     "output_type": "stream",
     "text": [
      " 20%|██        | 4/20 [00:27<01:46,  6.66s/it]"
     ]
    },
    {
     "name": "stdout",
     "output_type": "stream",
     "text": [
      "21 개 데이터 가져옴....\n"
     ]
    },
    {
     "name": "stderr",
     "output_type": "stream",
     "text": [
      " 25%|██▌       | 5/20 [00:33<01:38,  6.59s/it]"
     ]
    },
    {
     "name": "stdout",
     "output_type": "stream",
     "text": [
      "24 개 데이터 가져옴....\n"
     ]
    },
    {
     "name": "stderr",
     "output_type": "stream",
     "text": [
      " 30%|███       | 6/20 [00:40<01:31,  6.57s/it]"
     ]
    },
    {
     "name": "stdout",
     "output_type": "stream",
     "text": [
      "21 개 데이터 가져옴....\n"
     ]
    },
    {
     "name": "stderr",
     "output_type": "stream",
     "text": [
      " 35%|███▌      | 7/20 [00:46<01:25,  6.57s/it]"
     ]
    },
    {
     "name": "stdout",
     "output_type": "stream",
     "text": [
      "24 개 데이터 가져옴....\n"
     ]
    },
    {
     "name": "stderr",
     "output_type": "stream",
     "text": [
      " 40%|████      | 8/20 [00:53<01:18,  6.56s/it]"
     ]
    },
    {
     "name": "stdout",
     "output_type": "stream",
     "text": [
      "21 개 데이터 가져옴....\n"
     ]
    },
    {
     "name": "stderr",
     "output_type": "stream",
     "text": [
      " 45%|████▌     | 9/20 [00:59<01:11,  6.48s/it]"
     ]
    },
    {
     "name": "stdout",
     "output_type": "stream",
     "text": [
      "24 개 데이터 가져옴....\n"
     ]
    },
    {
     "name": "stderr",
     "output_type": "stream",
     "text": [
      " 50%|█████     | 10/20 [01:06<01:05,  6.50s/it]"
     ]
    },
    {
     "name": "stdout",
     "output_type": "stream",
     "text": [
      "21 개 데이터 가져옴....\n"
     ]
    },
    {
     "name": "stderr",
     "output_type": "stream",
     "text": [
      " 55%|█████▌    | 11/20 [01:11<00:56,  6.31s/it]"
     ]
    },
    {
     "name": "stdout",
     "output_type": "stream",
     "text": [
      "24 개 데이터 가져옴....\n"
     ]
    },
    {
     "name": "stderr",
     "output_type": "stream",
     "text": [
      " 60%|██████    | 12/20 [01:18<00:50,  6.34s/it]"
     ]
    },
    {
     "name": "stdout",
     "output_type": "stream",
     "text": [
      "21 개 데이터 가져옴....\n"
     ]
    },
    {
     "name": "stderr",
     "output_type": "stream",
     "text": [
      " 65%|██████▌   | 13/20 [01:24<00:44,  6.39s/it]"
     ]
    },
    {
     "name": "stdout",
     "output_type": "stream",
     "text": [
      "27 개 데이터 가져옴....\n"
     ]
    },
    {
     "name": "stderr",
     "output_type": "stream",
     "text": [
      " 70%|███████   | 14/20 [01:31<00:39,  6.52s/it]"
     ]
    },
    {
     "name": "stdout",
     "output_type": "stream",
     "text": [
      "24 개 데이터 가져옴....\n"
     ]
    },
    {
     "name": "stderr",
     "output_type": "stream",
     "text": [
      " 75%|███████▌  | 15/20 [01:38<00:32,  6.52s/it]"
     ]
    },
    {
     "name": "stdout",
     "output_type": "stream",
     "text": [
      "27 개 데이터 가져옴....\n"
     ]
    },
    {
     "name": "stderr",
     "output_type": "stream",
     "text": [
      " 80%|████████  | 16/20 [01:44<00:25,  6.48s/it]"
     ]
    },
    {
     "name": "stdout",
     "output_type": "stream",
     "text": [
      "24 개 데이터 가져옴....\n"
     ]
    },
    {
     "name": "stderr",
     "output_type": "stream",
     "text": [
      " 85%|████████▌ | 17/20 [01:50<00:19,  6.42s/it]"
     ]
    },
    {
     "name": "stdout",
     "output_type": "stream",
     "text": [
      "27 개 데이터 가져옴....\n"
     ]
    },
    {
     "name": "stderr",
     "output_type": "stream",
     "text": [
      " 90%|█████████ | 18/20 [01:57<00:12,  6.48s/it]"
     ]
    },
    {
     "name": "stdout",
     "output_type": "stream",
     "text": [
      "27 개 데이터 가져옴....\n"
     ]
    },
    {
     "name": "stderr",
     "output_type": "stream",
     "text": [
      " 95%|█████████▌| 19/20 [02:04<00:06,  6.52s/it]"
     ]
    },
    {
     "name": "stdout",
     "output_type": "stream",
     "text": [
      "27 개 데이터 가져옴....\n"
     ]
    },
    {
     "name": "stderr",
     "output_type": "stream",
     "text": [
      "100%|██████████| 20/20 [02:10<00:00,  6.54s/it]\n"
     ]
    }
   ],
   "source": [
    "ffffa = 0\n",
    "\n",
    "# 스크롤 내리기\n",
    "def scroll():\n",
    "\n",
    "    global ffffa\n",
    "    ffffa += 600 \n",
    "    driver.execute_script(\"window.scrollTo(0, \"+ str(ffffa) +\" )\")\n",
    "\n",
    "# 제목 : [브랜드, 제목, 가격, 이미지 위치, 링크]\n",
    "# 스크롤을 조금씩 내리면서 가져오기 때문에 데이터 중복 가능\n",
    "# 데이터 중복 제거하기 위해 제목은 중복안되니까 제목을 key로 지정 \n",
    "data = {}\n",
    "\n",
    "# 스크롤 조금씩 내리면서 데이터 가져오기\n",
    "for page in tqdm(range(20)):\n",
    "    scroll()\n",
    "    time.sleep(5)\n",
    "\n",
    "    # 브랜드, 상품명, 가격, 이미지 경로, 제품 링크\n",
    "    brands = driver.find_elements(By.CLASS_NAME, \"production-item__header__brand\")\n",
    "    names = driver.find_elements(By.CLASS_NAME, \"production-item__header__name\")\n",
    "    prices = driver.find_elements(By.CLASS_NAME, \"production-item-price__price\")\n",
    "    srcs = driver.find_elements(By.CLASS_NAME, \"image\")\n",
    "    links = driver.find_elements(By.CLASS_NAME, \"production-item__overlay\")\n",
    "\n",
    "    amount = len(brands)\n",
    "    print(amount, \"개 데이터 가져옴....\")\n",
    "    \n",
    "    for i in range(amount):\n",
    "\n",
    "        # 브랜드\n",
    "        brand = brands[i].text\n",
    "\n",
    "        # 상품명\n",
    "        name = names[i].text\n",
    "        name = re.sub(r'\\[.*?\\]', '', name)\n",
    "\n",
    "        # 가격\n",
    "        price = prices[i].text\n",
    "\n",
    "        # 이미지 경로\n",
    "        src = srcs[i].get_attribute('src')\n",
    "\n",
    "        # 제품 링크\n",
    "        link = links[i].get_attribute(\"href\")\n",
    "\n",
    "        # 제목을 key값으로 지정\n",
    "        data[name] = [brand, name, price, src, link]\n"
   ]
  },
  {
   "cell_type": "code",
   "execution_count": 22,
   "metadata": {},
   "outputs": [
    {
     "data": {
      "text/plain": [
       "102"
      ]
     },
     "execution_count": 22,
     "metadata": {},
     "output_type": "execute_result"
    }
   ],
   "source": [
    "result_amount = len(data.keys())\n",
    "result_amount"
   ]
  },
  {
   "cell_type": "code",
   "execution_count": 23,
   "metadata": {},
   "outputs": [
    {
     "name": "stderr",
     "output_type": "stream",
     "text": [
      "  1%|          | 1/102 [00:01<03:10,  1.88s/it]"
     ]
    },
    {
     "name": "stdout",
     "output_type": "stream",
     "text": [
      "https://image.ohou.se/i/bucketplace-v2-development/uploads/productions/156687402696538490.jpg?gif=1&w=360&h=360&c=c&q=0.8&webp=1\n"
     ]
    },
    {
     "name": "stderr",
     "output_type": "stream",
     "text": [
      "  2%|▏         | 2/102 [00:02<02:22,  1.43s/it]"
     ]
    },
    {
     "name": "stdout",
     "output_type": "stream",
     "text": [
      "https://image.ohou.se/i/bucketplace-v2-development/uploads/productions/169053562587529591.jpg?gif=1&w=360&h=360&c=c&q=0.8&webp=1\n"
     ]
    },
    {
     "name": "stderr",
     "output_type": "stream",
     "text": [
      "  3%|▎         | 3/102 [00:04<02:09,  1.31s/it]"
     ]
    },
    {
     "name": "stdout",
     "output_type": "stream",
     "text": [
      "https://image.ohou.se/i/bucketplace-v2-development/uploads/productions/168724924720041320.jpg?gif=1&w=360&h=360&c=c&q=0.8&webp=1\n"
     ]
    },
    {
     "name": "stderr",
     "output_type": "stream",
     "text": [
      "  4%|▍         | 4/102 [00:06<02:42,  1.66s/it]"
     ]
    },
    {
     "name": "stdout",
     "output_type": "stream",
     "text": [
      "https://image.ohou.se/i/bucketplace-v2-development/uploads/productions/169716439678788368.jpg?gif=1&w=360&h=360&c=c&q=0.8&webp=1\n"
     ]
    },
    {
     "name": "stderr",
     "output_type": "stream",
     "text": [
      "  5%|▍         | 5/102 [00:07<02:34,  1.59s/it]"
     ]
    },
    {
     "name": "stdout",
     "output_type": "stream",
     "text": [
      "https://image.ohou.se/i/bucketplace-v2-development/uploads/productions/163482246552769372.jpg?gif=1&w=360&h=360&c=c&q=0.8&webp=1\n"
     ]
    },
    {
     "name": "stderr",
     "output_type": "stream",
     "text": [
      "  6%|▌         | 6/102 [00:09<02:38,  1.65s/it]"
     ]
    },
    {
     "name": "stdout",
     "output_type": "stream",
     "text": [
      "https://image.ohou.se/i/bucketplace-v2-development/uploads/productions/1561102295784_8.jpg?gif=1&w=360&h=360&c=c&q=0.8&webp=1\n"
     ]
    },
    {
     "name": "stderr",
     "output_type": "stream",
     "text": [
      "  7%|▋         | 7/102 [00:11<02:46,  1.76s/it]"
     ]
    },
    {
     "name": "stdout",
     "output_type": "stream",
     "text": [
      "https://image.ohou.se/i/bucketplace-v2-development/uploads/productions/164689113017984479.jpg?gif=1&w=360&h=360&c=c&q=0.8&webp=1\n"
     ]
    },
    {
     "name": "stderr",
     "output_type": "stream",
     "text": [
      "  8%|▊         | 8/102 [00:13<02:41,  1.72s/it]"
     ]
    },
    {
     "name": "stdout",
     "output_type": "stream",
     "text": [
      "https://image.ohou.se/i/bucketplace-v2-development/uploads/productions/168784030279436669.jpg?gif=1&w=360&h=360&c=c&q=0.8&webp=1\n"
     ]
    },
    {
     "name": "stderr",
     "output_type": "stream",
     "text": [
      "  9%|▉         | 9/102 [00:14<02:41,  1.73s/it]"
     ]
    },
    {
     "name": "stdout",
     "output_type": "stream",
     "text": [
      "https://image.ohou.se/i/bucketplace-v2-development/uploads/productions/167031541436318775.jpg?gif=1&w=360&h=360&c=c&q=0.8&webp=1\n"
     ]
    },
    {
     "name": "stderr",
     "output_type": "stream",
     "text": [
      " 10%|▉         | 10/102 [00:16<02:29,  1.63s/it]"
     ]
    },
    {
     "name": "stdout",
     "output_type": "stream",
     "text": [
      "https://image.ohou.se/i/bucketplace-v2-development/uploads/productions/166668491757404762.jpg?gif=1&w=360&h=360&c=c&q=0.8&webp=1\n"
     ]
    },
    {
     "name": "stderr",
     "output_type": "stream",
     "text": [
      " 11%|█         | 11/102 [00:17<02:13,  1.47s/it]"
     ]
    },
    {
     "name": "stdout",
     "output_type": "stream",
     "text": [
      "https://image.ohou.se/i/bucketplace-v2-development/uploads/productions/169338092508807719.png?gif=1&w=360&h=360&c=c&q=0.8&webp=1\n"
     ]
    },
    {
     "name": "stderr",
     "output_type": "stream",
     "text": [
      " 12%|█▏        | 12/102 [00:18<02:01,  1.35s/it]"
     ]
    },
    {
     "name": "stdout",
     "output_type": "stream",
     "text": [
      "https://image.ohou.se/i/bucketplace-v2-development/uploads/productions/164689139714715370.jpg?gif=1&w=360&h=360&c=c&q=0.8&webp=1\n"
     ]
    },
    {
     "name": "stderr",
     "output_type": "stream",
     "text": [
      " 13%|█▎        | 13/102 [00:19<01:54,  1.29s/it]"
     ]
    },
    {
     "name": "stdout",
     "output_type": "stream",
     "text": [
      "https://image.ohou.se/i/bucketplace-v2-development/uploads/productions/159054634233453550.jpg?gif=1&w=360&h=360&c=c&q=0.8&webp=1\n"
     ]
    },
    {
     "name": "stderr",
     "output_type": "stream",
     "text": [
      " 14%|█▎        | 14/102 [00:21<01:56,  1.33s/it]"
     ]
    },
    {
     "name": "stdout",
     "output_type": "stream",
     "text": [
      "https://image.ohou.se/i/bucketplace-v2-development/uploads/productions/169035611917554859.jpg?gif=1&w=360&h=360&c=c&q=0.8&webp=1\n"
     ]
    },
    {
     "name": "stderr",
     "output_type": "stream",
     "text": [
      " 15%|█▍        | 15/102 [00:22<02:02,  1.41s/it]"
     ]
    },
    {
     "name": "stdout",
     "output_type": "stream",
     "text": [
      "https://image.ohou.se/i/bucketplace-v2-development/uploads/productions/161120678308797739.jpg?gif=1&w=360&h=360&c=c&q=0.8&webp=1\n"
     ]
    },
    {
     "name": "stderr",
     "output_type": "stream",
     "text": [
      " 16%|█▌        | 16/102 [00:24<02:09,  1.50s/it]"
     ]
    },
    {
     "name": "stdout",
     "output_type": "stream",
     "text": [
      "https://image.ohou.se/i/bucketplace-v2-development/uploads/productions/168810115680550451.jpg?gif=1&w=360&h=360&c=c&q=0.8&webp=1\n"
     ]
    },
    {
     "name": "stderr",
     "output_type": "stream",
     "text": [
      " 17%|█▋        | 17/102 [00:25<02:05,  1.47s/it]"
     ]
    },
    {
     "name": "stdout",
     "output_type": "stream",
     "text": [
      "https://image.ohou.se/i/bucketplace-v2-development/uploads/productions/169744521785119732.jpg?gif=1&w=360&h=360&c=c&q=0.8&webp=1\n"
     ]
    },
    {
     "name": "stderr",
     "output_type": "stream",
     "text": [
      " 18%|█▊        | 18/102 [00:27<02:20,  1.67s/it]"
     ]
    },
    {
     "name": "stdout",
     "output_type": "stream",
     "text": [
      "https://image.ohou.se/i/bucketplace-v2-development/uploads/productions/159583583797965488.jpg?gif=1&w=360&h=360&c=c&q=0.8&webp=1\n"
     ]
    },
    {
     "name": "stderr",
     "output_type": "stream",
     "text": [
      " 19%|█▊        | 19/102 [00:29<02:07,  1.53s/it]"
     ]
    },
    {
     "name": "stdout",
     "output_type": "stream",
     "text": [
      "https://image.ohou.se/i/bucketplace-v2-development/uploads/productions/168480785327177640.jpg?gif=1&w=360&h=360&c=c&q=0.8&webp=1\n"
     ]
    },
    {
     "name": "stderr",
     "output_type": "stream",
     "text": [
      " 20%|█▉        | 20/102 [00:30<01:57,  1.43s/it]"
     ]
    },
    {
     "name": "stdout",
     "output_type": "stream",
     "text": [
      "https://image.ohou.se/i/bucketplace-v2-development/uploads/productions/166010903420637937.jpg?gif=1&w=360&h=360&c=c&q=0.8&webp=1\n"
     ]
    },
    {
     "name": "stderr",
     "output_type": "stream",
     "text": [
      " 21%|██        | 21/102 [00:31<02:00,  1.49s/it]"
     ]
    },
    {
     "name": "stdout",
     "output_type": "stream",
     "text": [
      "https://image.ohou.se/i/bucketplace-v2-development/uploads/productions/158216129189491012.jpg?gif=1&w=360&h=360&c=c&q=0.8&webp=1\n"
     ]
    },
    {
     "name": "stderr",
     "output_type": "stream",
     "text": [
      " 22%|██▏       | 22/102 [00:33<02:05,  1.57s/it]"
     ]
    },
    {
     "name": "stdout",
     "output_type": "stream",
     "text": [
      "https://image.ohou.se/i/bucketplace-v2-development/uploads/productions/164074138967589186.jpg?gif=1&w=360&h=360&c=c&q=0.8&webp=1\n"
     ]
    },
    {
     "name": "stderr",
     "output_type": "stream",
     "text": [
      " 23%|██▎       | 23/102 [00:35<02:03,  1.57s/it]"
     ]
    },
    {
     "name": "stdout",
     "output_type": "stream",
     "text": [
      "https://image.ohou.se/i/bucketplace-v2-development/uploads/productions/156988518319397457.jpg?gif=1&w=360&h=360&c=c&q=0.8&webp=1\n"
     ]
    },
    {
     "name": "stderr",
     "output_type": "stream",
     "text": [
      " 24%|██▎       | 24/102 [00:37<02:08,  1.65s/it]"
     ]
    },
    {
     "name": "stdout",
     "output_type": "stream",
     "text": [
      "https://image.ohou.se/i/bucketplace-v2-development/uploads/productions/168836008949560881.jpg?gif=1&w=360&h=360&c=c&q=0.8&webp=1\n"
     ]
    },
    {
     "name": "stderr",
     "output_type": "stream",
     "text": [
      " 25%|██▍       | 25/102 [00:38<02:00,  1.56s/it]"
     ]
    },
    {
     "name": "stdout",
     "output_type": "stream",
     "text": [
      "https://image.ohou.se/i/bucketplace-v2-development/uploads/productions/157466604581905251.jpg?gif=1&w=360&h=360&c=c&q=0.8&webp=1\n"
     ]
    },
    {
     "name": "stderr",
     "output_type": "stream",
     "text": [
      " 25%|██▌       | 26/102 [00:40<02:06,  1.66s/it]"
     ]
    },
    {
     "name": "stdout",
     "output_type": "stream",
     "text": [
      "https://image.ohou.se/i/bucketplace-v2-development/uploads/productions/163474840030302252.jpg?gif=1&w=360&h=360&c=c&q=0.8&webp=1\n"
     ]
    },
    {
     "name": "stderr",
     "output_type": "stream",
     "text": [
      " 26%|██▋       | 27/102 [00:42<02:05,  1.68s/it]"
     ]
    },
    {
     "name": "stdout",
     "output_type": "stream",
     "text": [
      "https://image.ohou.se/i/bucketplace-v2-development/uploads/productions/168480653183249339.jpg?gif=1&w=360&h=360&c=c&q=0.8&webp=1\n"
     ]
    },
    {
     "name": "stderr",
     "output_type": "stream",
     "text": [
      " 27%|██▋       | 28/102 [00:43<01:54,  1.55s/it]"
     ]
    },
    {
     "name": "stdout",
     "output_type": "stream",
     "text": [
      "https://image.ohou.se/i/bucketplace-v2-development/uploads/productions/167693979567595781.jpg?gif=1&w=360&h=360&c=c&q=0.8&webp=1\n"
     ]
    },
    {
     "name": "stderr",
     "output_type": "stream",
     "text": [
      " 28%|██▊       | 29/102 [00:44<01:48,  1.49s/it]"
     ]
    },
    {
     "name": "stdout",
     "output_type": "stream",
     "text": [
      "https://image.ohou.se/i/bucketplace-v2-development/uploads/productions/168777080750755872.jpg?gif=1&w=360&h=360&c=c&q=0.8&webp=1\n"
     ]
    },
    {
     "name": "stderr",
     "output_type": "stream",
     "text": [
      " 29%|██▉       | 30/102 [00:45<01:34,  1.31s/it]"
     ]
    },
    {
     "name": "stdout",
     "output_type": "stream",
     "text": [
      "https://image.ohou.se/i/bucketplace-v2-development/uploads/productions/160326327646073145.jpg?gif=1&w=360&h=360&c=c&q=0.8&webp=1\n"
     ]
    },
    {
     "name": "stderr",
     "output_type": "stream",
     "text": [
      " 30%|███       | 31/102 [00:47<01:42,  1.45s/it]"
     ]
    },
    {
     "name": "stdout",
     "output_type": "stream",
     "text": [
      "https://image.ohou.se/i/bucketplace-v2-development/uploads/productions/160914245501580027.jpg?gif=1&w=360&h=360&c=c&q=0.8&webp=1\n"
     ]
    },
    {
     "name": "stderr",
     "output_type": "stream",
     "text": [
      " 31%|███▏      | 32/102 [00:49<01:53,  1.63s/it]"
     ]
    },
    {
     "name": "stdout",
     "output_type": "stream",
     "text": [
      "https://image.ohou.se/i/bucketplace-v2-development/uploads/productions/164920989699431693.jpg?gif=1&w=360&h=360&c=c&q=0.8&webp=1\n"
     ]
    },
    {
     "name": "stderr",
     "output_type": "stream",
     "text": [
      " 32%|███▏      | 33/102 [00:51<01:56,  1.69s/it]"
     ]
    },
    {
     "name": "stdout",
     "output_type": "stream",
     "text": [
      "https://image.ohou.se/i/bucketplace-v2-development/uploads/productions/166726432270376413.jpg?gif=1&w=360&h=360&c=c&q=0.8&webp=1\n"
     ]
    },
    {
     "name": "stderr",
     "output_type": "stream",
     "text": [
      " 33%|███▎      | 34/102 [00:52<01:39,  1.46s/it]"
     ]
    },
    {
     "name": "stdout",
     "output_type": "stream",
     "text": [
      "https://image.ohou.se/i/bucketplace-v2-development/uploads/productions/167746588388385413.jpg?gif=1&w=360&h=360&c=c&q=0.8&webp=1\n"
     ]
    },
    {
     "name": "stderr",
     "output_type": "stream",
     "text": [
      " 34%|███▍      | 35/102 [00:53<01:42,  1.53s/it]"
     ]
    },
    {
     "name": "stdout",
     "output_type": "stream",
     "text": [
      "https://image.ohou.se/i/bucketplace-v2-development/uploads/productions/169778666483799397.jpg?gif=1&w=360&h=360&c=c&q=0.8&webp=1\n"
     ]
    },
    {
     "name": "stderr",
     "output_type": "stream",
     "text": [
      " 35%|███▌      | 36/102 [00:55<01:37,  1.48s/it]"
     ]
    },
    {
     "name": "stdout",
     "output_type": "stream",
     "text": [
      "https://image.ohou.se/i/bucketplace-v2-development/uploads/productions/167166879964962567.jpg?gif=1&w=360&h=360&c=c&q=0.8&webp=1\n"
     ]
    },
    {
     "name": "stderr",
     "output_type": "stream",
     "text": [
      " 36%|███▋      | 37/102 [00:56<01:25,  1.31s/it]"
     ]
    },
    {
     "name": "stdout",
     "output_type": "stream",
     "text": [
      "https://image.ohou.se/i/bucketplace-v2-development/uploads/productions/165104938346157650.jpg?gif=1&w=360&h=360&c=c&q=0.8&webp=1\n"
     ]
    },
    {
     "name": "stderr",
     "output_type": "stream",
     "text": [
      " 37%|███▋      | 38/102 [00:57<01:29,  1.40s/it]"
     ]
    },
    {
     "name": "stdout",
     "output_type": "stream",
     "text": [
      "https://image.ohou.se/i/bucketplace-v2-development/uploads/productions/164689126213243575.jpg?gif=1&w=360&h=360&c=c&q=0.8&webp=1\n"
     ]
    },
    {
     "name": "stderr",
     "output_type": "stream",
     "text": [
      " 38%|███▊      | 39/102 [00:58<01:16,  1.22s/it]"
     ]
    },
    {
     "name": "stdout",
     "output_type": "stream",
     "text": [
      "https://image.ohou.se/i/bucketplace-v2-development/uploads/productions/156160130722597296.jpg?gif=1&w=360&h=360&c=c&q=0.8&webp=1\n"
     ]
    },
    {
     "name": "stderr",
     "output_type": "stream",
     "text": [
      " 39%|███▉      | 40/102 [00:59<01:18,  1.27s/it]"
     ]
    },
    {
     "name": "stdout",
     "output_type": "stream",
     "text": [
      "https://image.ohou.se/i/bucketplace-v2-development/uploads/productions/168724167580931762.jpg?gif=1&w=360&h=360&c=c&q=0.8&webp=1\n",
      "https://image.ohou.se/i/bucketplace-v2-development/uploads/productions/162184414177920557.jpg?gif=1&w=360&h=360&c=c&q=0.8&webp=1\n"
     ]
    },
    {
     "name": "stderr",
     "output_type": "stream",
     "text": [
      " 41%|████      | 42/102 [01:04<01:41,  1.69s/it]"
     ]
    },
    {
     "name": "stdout",
     "output_type": "stream",
     "text": [
      "https://image.ohou.se/i/bucketplace-v2-development/uploads/productions/167533295509319277.jpg?gif=1&w=360&h=360&c=c&q=0.8&webp=1\n"
     ]
    },
    {
     "name": "stderr",
     "output_type": "stream",
     "text": [
      " 42%|████▏     | 43/102 [01:05<01:24,  1.43s/it]"
     ]
    },
    {
     "name": "stdout",
     "output_type": "stream",
     "text": [
      "https://image.ohou.se/i/bucketplace-v2-development/uploads/productions/164991158917075337.jpg?gif=1&w=360&h=360&c=c&q=0.8&webp=1\n"
     ]
    },
    {
     "name": "stderr",
     "output_type": "stream",
     "text": [
      " 43%|████▎     | 44/102 [01:07<01:28,  1.53s/it]"
     ]
    },
    {
     "name": "stdout",
     "output_type": "stream",
     "text": [
      "https://image.ohou.se/i/bucketplace-v2-development/uploads/productions/160464604380832033.jpg?gif=1&w=360&h=360&c=c&q=0.8&webp=1\n"
     ]
    },
    {
     "name": "stderr",
     "output_type": "stream",
     "text": [
      " 44%|████▍     | 45/102 [01:08<01:25,  1.50s/it]"
     ]
    },
    {
     "name": "stdout",
     "output_type": "stream",
     "text": [
      "https://image.ohou.se/i/bucketplace-v2-development/uploads/productions/169647811322544666.gif?gif=1&w=360&h=360&c=c&q=0.8&webp=1\n"
     ]
    },
    {
     "name": "stderr",
     "output_type": "stream",
     "text": [
      " 45%|████▌     | 46/102 [01:09<01:19,  1.43s/it]"
     ]
    },
    {
     "name": "stdout",
     "output_type": "stream",
     "text": [
      "https://image.ohou.se/i/bucketplace-v2-development/uploads/productions/168206468837090769.jpg?gif=1&w=360&h=360&c=c&q=0.8&webp=1\n"
     ]
    },
    {
     "name": "stderr",
     "output_type": "stream",
     "text": [
      " 46%|████▌     | 47/102 [01:11<01:20,  1.47s/it]"
     ]
    },
    {
     "name": "stdout",
     "output_type": "stream",
     "text": [
      "https://image.ohou.se/i/bucketplace-v2-development/uploads/productions/159133178802123301.jpg?gif=1&w=360&h=360&c=c&q=0.8&webp=1\n"
     ]
    },
    {
     "name": "stderr",
     "output_type": "stream",
     "text": [
      " 47%|████▋     | 48/102 [01:12<01:15,  1.40s/it]"
     ]
    },
    {
     "name": "stdout",
     "output_type": "stream",
     "text": [
      "https://image.ohou.se/i/bucketplace-v2-development/uploads/productions/169804330939480187.jpg?gif=1&w=360&h=360&c=c&q=0.8&webp=1\n"
     ]
    },
    {
     "name": "stderr",
     "output_type": "stream",
     "text": [
      " 48%|████▊     | 49/102 [01:14<01:17,  1.46s/it]"
     ]
    },
    {
     "name": "stdout",
     "output_type": "stream",
     "text": [
      "https://image.ohou.se/i/bucketplace-v2-development/uploads/productions/166175064181465395.webp?gif=1&w=360&h=360&c=c&q=0.8&webp=1\n"
     ]
    },
    {
     "name": "stderr",
     "output_type": "stream",
     "text": [
      " 49%|████▉     | 50/102 [01:16<01:28,  1.70s/it]"
     ]
    },
    {
     "name": "stdout",
     "output_type": "stream",
     "text": [
      "https://image.ohou.se/i/bucketplace-v2-development/uploads/productions/169577751434031065.jpg?gif=1&w=360&h=360&c=c&q=0.8&webp=1\n"
     ]
    },
    {
     "name": "stderr",
     "output_type": "stream",
     "text": [
      " 50%|█████     | 51/102 [01:18<01:23,  1.63s/it]"
     ]
    },
    {
     "name": "stdout",
     "output_type": "stream",
     "text": [
      "https://image.ohou.se/i/bucketplace-v2-development/uploads/productions/159177699254783117.jpg?gif=1&w=360&h=360&c=c&q=0.8&webp=1\n"
     ]
    },
    {
     "name": "stderr",
     "output_type": "stream",
     "text": [
      " 51%|█████     | 52/102 [01:19<01:14,  1.48s/it]"
     ]
    },
    {
     "name": "stdout",
     "output_type": "stream",
     "text": [
      "https://image.ohou.se/i/bucketplace-v2-development/uploads/productions/164689121368260804.jpg?gif=1&w=360&h=360&c=c&q=0.8&webp=1\n"
     ]
    },
    {
     "name": "stderr",
     "output_type": "stream",
     "text": [
      " 52%|█████▏    | 53/102 [01:20<01:09,  1.42s/it]"
     ]
    },
    {
     "name": "stdout",
     "output_type": "stream",
     "text": [
      "https://image.ohou.se/i/bucketplace-v2-development/uploads/productions/166779614995379134.jpg?gif=1&w=360&h=360&c=c&q=0.8&webp=1\n"
     ]
    },
    {
     "name": "stderr",
     "output_type": "stream",
     "text": [
      " 53%|█████▎    | 54/102 [01:22<01:12,  1.51s/it]"
     ]
    },
    {
     "name": "stdout",
     "output_type": "stream",
     "text": [
      "https://image.ohou.se/i/bucketplace-v2-development/uploads/productions/164810824644397800.jpg?gif=1&w=360&h=360&c=c&q=0.8&webp=1\n"
     ]
    },
    {
     "name": "stderr",
     "output_type": "stream",
     "text": [
      " 54%|█████▍    | 55/102 [01:23<01:04,  1.36s/it]"
     ]
    },
    {
     "name": "stdout",
     "output_type": "stream",
     "text": [
      "https://image.ohou.se/i/bucketplace-v2-development/uploads/productions/164550192758733220.jpg?gif=1&w=360&h=360&c=c&q=0.8&webp=1\n"
     ]
    },
    {
     "name": "stderr",
     "output_type": "stream",
     "text": [
      " 55%|█████▍    | 56/102 [01:24<01:01,  1.34s/it]"
     ]
    },
    {
     "name": "stdout",
     "output_type": "stream",
     "text": [
      "https://image.ohou.se/i/bucketplace-v2-development/uploads/productions/163876557889838706.jpg?gif=1&w=360&h=360&c=c&q=0.8&webp=1\n"
     ]
    },
    {
     "name": "stderr",
     "output_type": "stream",
     "text": [
      " 56%|█████▌    | 57/102 [01:25<00:54,  1.20s/it]"
     ]
    },
    {
     "name": "stdout",
     "output_type": "stream",
     "text": [
      "https://image.ohou.se/i/bucketplace-v2-development/uploads/productions/167685439854933655.jpg?gif=1&w=360&h=360&c=c&q=0.8&webp=1\n"
     ]
    },
    {
     "name": "stderr",
     "output_type": "stream",
     "text": [
      " 57%|█████▋    | 58/102 [01:26<00:52,  1.20s/it]"
     ]
    },
    {
     "name": "stdout",
     "output_type": "stream",
     "text": [
      "https://image.ohou.se/i/bucketplace-v2-development/uploads/productions/1614071410_100640_19.jpg?gif=1&w=360&h=360&c=c&q=0.8&webp=1\n"
     ]
    },
    {
     "name": "stderr",
     "output_type": "stream",
     "text": [
      " 58%|█████▊    | 59/102 [01:28<00:57,  1.33s/it]"
     ]
    },
    {
     "name": "stdout",
     "output_type": "stream",
     "text": [
      "https://image.ohou.se/i/bucketplace-v2-development/uploads/productions/158408452438501753.jpg?gif=1&w=360&h=360&c=c&q=0.8&webp=1\n"
     ]
    },
    {
     "name": "stderr",
     "output_type": "stream",
     "text": [
      " 59%|█████▉    | 60/102 [01:29<00:53,  1.28s/it]"
     ]
    },
    {
     "name": "stdout",
     "output_type": "stream",
     "text": [
      "https://image.ohou.se/i/bucketplace-v2-development/uploads/productions/165957356906395116.jpg?gif=1&w=360&h=360&c=c&q=0.8&webp=1\n"
     ]
    },
    {
     "name": "stderr",
     "output_type": "stream",
     "text": [
      " 60%|█████▉    | 61/102 [01:30<00:47,  1.17s/it]"
     ]
    },
    {
     "name": "stdout",
     "output_type": "stream",
     "text": [
      "https://image.ohou.se/i/bucketplace-v2-development/uploads/productions/165397484036539053.jpg?gif=1&w=360&h=360&c=c&q=0.8&webp=1\n"
     ]
    },
    {
     "name": "stderr",
     "output_type": "stream",
     "text": [
      " 61%|██████    | 62/102 [01:31<00:46,  1.16s/it]"
     ]
    },
    {
     "name": "stdout",
     "output_type": "stream",
     "text": [
      "https://image.ohou.se/i/bucketplace-v2-development/uploads/productions/169165017019716278.jpg?gif=1&w=360&h=360&c=c&q=0.8&webp=1\n"
     ]
    },
    {
     "name": "stderr",
     "output_type": "stream",
     "text": [
      " 62%|██████▏   | 63/102 [01:32<00:40,  1.05s/it]"
     ]
    },
    {
     "name": "stdout",
     "output_type": "stream",
     "text": [
      "https://image.ohou.se/i/bucketplace-v2-development/uploads/productions/164782658485330784.jpg?gif=1&w=360&h=360&c=c&q=0.8&webp=1\n"
     ]
    },
    {
     "name": "stderr",
     "output_type": "stream",
     "text": [
      " 63%|██████▎   | 64/102 [01:33<00:38,  1.02s/it]"
     ]
    },
    {
     "name": "stdout",
     "output_type": "stream",
     "text": [
      "https://image.ohou.se/i/bucketplace-v2-development/uploads/productions/159979270147285894.jpg?gif=1&w=360&h=360&c=c&q=0.8&webp=1\n"
     ]
    },
    {
     "name": "stderr",
     "output_type": "stream",
     "text": [
      " 64%|██████▎   | 65/102 [01:34<00:38,  1.04s/it]"
     ]
    },
    {
     "name": "stdout",
     "output_type": "stream",
     "text": [
      "https://image.ohou.se/i/bucketplace-v2-development/uploads/productions/167050114736212429.jpg?gif=1&w=360&h=360&c=c&q=0.8&webp=1\n"
     ]
    },
    {
     "name": "stderr",
     "output_type": "stream",
     "text": [
      " 65%|██████▍   | 66/102 [01:35<00:40,  1.12s/it]"
     ]
    },
    {
     "name": "stdout",
     "output_type": "stream",
     "text": [
      "https://image.ohou.se/i/bucketplace-v2-development/uploads/productions/167523088253503548.jpg?gif=1&w=360&h=360&c=c&q=0.8&webp=1\n"
     ]
    },
    {
     "name": "stderr",
     "output_type": "stream",
     "text": [
      " 66%|██████▌   | 67/102 [01:36<00:39,  1.13s/it]"
     ]
    },
    {
     "name": "stdout",
     "output_type": "stream",
     "text": [
      "ERROR!!\n"
     ]
    },
    {
     "name": "stderr",
     "output_type": "stream",
     "text": [
      " 67%|██████▋   | 68/102 [01:38<00:41,  1.22s/it]"
     ]
    },
    {
     "name": "stdout",
     "output_type": "stream",
     "text": [
      "ERROR!!\n"
     ]
    },
    {
     "name": "stderr",
     "output_type": "stream",
     "text": [
      " 68%|██████▊   | 69/102 [01:39<00:37,  1.13s/it]"
     ]
    },
    {
     "name": "stdout",
     "output_type": "stream",
     "text": [
      "ERROR!!\n"
     ]
    },
    {
     "name": "stderr",
     "output_type": "stream",
     "text": [
      " 69%|██████▊   | 70/102 [01:40<00:41,  1.29s/it]"
     ]
    },
    {
     "name": "stdout",
     "output_type": "stream",
     "text": [
      "https://image.ohou.se/i/bucketplace-v2-development/uploads/productions/164912493224465507.jpg?gif=1&w=360&h=360&c=c&q=0.8&webp=1\n"
     ]
    },
    {
     "name": "stderr",
     "output_type": "stream",
     "text": [
      " 70%|██████▉   | 71/102 [01:41<00:38,  1.25s/it]"
     ]
    },
    {
     "name": "stdout",
     "output_type": "stream",
     "text": [
      "https://image.ohou.se/i/bucketplace-v2-development/uploads/productions/158986546151906938.jpg?gif=1&w=360&h=360&c=c&q=0.8&webp=1\n"
     ]
    },
    {
     "name": "stderr",
     "output_type": "stream",
     "text": [
      " 71%|███████   | 72/102 [01:42<00:34,  1.15s/it]"
     ]
    },
    {
     "name": "stdout",
     "output_type": "stream",
     "text": [
      "https://image.ohou.se/i/bucketplace-v2-development/uploads/productions/168566694976821940.jpg?gif=1&w=360&h=360&c=c&q=0.8&webp=1\n"
     ]
    },
    {
     "name": "stderr",
     "output_type": "stream",
     "text": [
      " 72%|███████▏  | 73/102 [01:44<00:38,  1.33s/it]"
     ]
    },
    {
     "name": "stdout",
     "output_type": "stream",
     "text": [
      "https://image.ohou.se/i/bucketplace-v2-development/uploads/productions/167359401562016332.webp?gif=1&w=360&h=360&c=c&q=0.8&webp=1\n"
     ]
    },
    {
     "name": "stderr",
     "output_type": "stream",
     "text": [
      " 73%|███████▎  | 74/102 [01:46<00:39,  1.42s/it]"
     ]
    },
    {
     "name": "stdout",
     "output_type": "stream",
     "text": [
      "https://image.ohou.se/i/bucketplace-v2-development/uploads/productions/169802411850926341.jpg?gif=1&w=360&h=360&c=c&q=0.8&webp=1\n"
     ]
    },
    {
     "name": "stderr",
     "output_type": "stream",
     "text": [
      " 74%|███████▎  | 75/102 [01:47<00:40,  1.49s/it]"
     ]
    },
    {
     "name": "stdout",
     "output_type": "stream",
     "text": [
      "https://image.ohou.se/i/bucketplace-v2-development/uploads/productions/169390260478214596.jpg?gif=1&w=360&h=360&c=c&q=0.8&webp=1\n"
     ]
    },
    {
     "name": "stderr",
     "output_type": "stream",
     "text": [
      " 75%|███████▍  | 76/102 [01:48<00:34,  1.31s/it]"
     ]
    },
    {
     "name": "stdout",
     "output_type": "stream",
     "text": [
      "https://image.ohou.se/i/bucketplace-v2-development/uploads/productions/166363335171239625.jpg?gif=1&w=360&h=360&c=c&q=0.8&webp=1\n"
     ]
    },
    {
     "name": "stderr",
     "output_type": "stream",
     "text": [
      " 75%|███████▌  | 77/102 [01:49<00:32,  1.29s/it]"
     ]
    },
    {
     "name": "stdout",
     "output_type": "stream",
     "text": [
      "https://image.ohou.se/i/bucketplace-v2-development/uploads/productions/167349590040232966.JPG?gif=1&w=360&h=360&c=c&q=0.8&webp=1\n"
     ]
    },
    {
     "name": "stderr",
     "output_type": "stream",
     "text": [
      " 76%|███████▋  | 78/102 [01:51<00:29,  1.23s/it]"
     ]
    },
    {
     "name": "stdout",
     "output_type": "stream",
     "text": [
      "https://image.ohou.se/i/bucketplace-v2-development/uploads/productions/159064821733108815.jpg?gif=1&w=360&h=360&c=c&q=0.8&webp=1\n"
     ]
    },
    {
     "name": "stderr",
     "output_type": "stream",
     "text": [
      " 77%|███████▋  | 79/102 [01:51<00:25,  1.11s/it]"
     ]
    },
    {
     "name": "stdout",
     "output_type": "stream",
     "text": [
      "https://image.ohou.se/i/bucketplace-v2-development/uploads/productions/165104927021974084.jpg?gif=1&w=360&h=360&c=c&q=0.8&webp=1\n"
     ]
    },
    {
     "name": "stderr",
     "output_type": "stream",
     "text": [
      " 78%|███████▊  | 80/102 [01:54<00:36,  1.68s/it]"
     ]
    },
    {
     "name": "stdout",
     "output_type": "stream",
     "text": [
      "https://image.ohou.se/i/bucketplace-v2-development/uploads/productions/166632957544570272.jpg?gif=1&w=360&h=360&c=c&q=0.8&webp=1\n"
     ]
    },
    {
     "name": "stderr",
     "output_type": "stream",
     "text": [
      " 79%|███████▉  | 81/102 [01:56<00:32,  1.56s/it]"
     ]
    },
    {
     "name": "stdout",
     "output_type": "stream",
     "text": [
      "https://image.ohou.se/i/bucketplace-v2-development/uploads/productions/169198211846669658.jpg?gif=1&w=360&h=360&c=c&q=0.8&webp=1\n"
     ]
    },
    {
     "name": "stderr",
     "output_type": "stream",
     "text": [
      " 80%|████████  | 82/102 [01:57<00:27,  1.36s/it]"
     ]
    },
    {
     "name": "stdout",
     "output_type": "stream",
     "text": [
      "https://image.ohou.se/i/bucketplace-v2-development/uploads/productions/168178126979344225.jpg?gif=1&w=360&h=360&c=c&q=0.8&webp=1\n"
     ]
    },
    {
     "name": "stderr",
     "output_type": "stream",
     "text": [
      " 81%|████████▏ | 83/102 [01:59<00:33,  1.78s/it]"
     ]
    },
    {
     "name": "stdout",
     "output_type": "stream",
     "text": [
      "https://image.ohou.se/i/bucketplace-v2-development/uploads/productions/160870876406633919.jpg?gif=1&w=360&h=360&c=c&q=0.8&webp=1\n"
     ]
    },
    {
     "name": "stderr",
     "output_type": "stream",
     "text": [
      " 82%|████████▏ | 84/102 [02:01<00:31,  1.75s/it]"
     ]
    },
    {
     "name": "stdout",
     "output_type": "stream",
     "text": [
      "https://image.ohou.se/i/bucketplace-v2-development/uploads/productions/162857742288861353.jpg?gif=1&w=360&h=360&c=c&q=0.8&webp=1\n"
     ]
    },
    {
     "name": "stderr",
     "output_type": "stream",
     "text": [
      " 83%|████████▎ | 85/102 [02:02<00:26,  1.59s/it]"
     ]
    },
    {
     "name": "stdout",
     "output_type": "stream",
     "text": [
      "https://image.ohou.se/i/bucketplace-v2-development/uploads/productions/167410539322058586.jpg?gif=1&w=360&h=360&c=c&q=0.8&webp=1\n"
     ]
    },
    {
     "name": "stderr",
     "output_type": "stream",
     "text": [
      " 84%|████████▍ | 86/102 [02:04<00:24,  1.51s/it]"
     ]
    },
    {
     "name": "stdout",
     "output_type": "stream",
     "text": [
      "https://image.ohou.se/i/bucketplace-v2-development/uploads/productions/1589968507_123746_22.jpg?gif=1&w=360&h=360&c=c&q=0.8&webp=1\n"
     ]
    },
    {
     "name": "stderr",
     "output_type": "stream",
     "text": [
      " 85%|████████▌ | 87/102 [02:05<00:22,  1.50s/it]"
     ]
    },
    {
     "name": "stdout",
     "output_type": "stream",
     "text": [
      "https://image.ohou.se/i/bucketplace-v2-development/uploads/productions/163185269766770585.jpg?gif=1&w=360&h=360&c=c&q=0.8&webp=1\n"
     ]
    },
    {
     "name": "stderr",
     "output_type": "stream",
     "text": [
      " 86%|████████▋ | 88/102 [02:06<00:18,  1.35s/it]"
     ]
    },
    {
     "name": "stdout",
     "output_type": "stream",
     "text": [
      "https://image.ohou.se/i/bucketplace-v2-development/uploads/productions/163488871627162115.jpg?gif=1&w=360&h=360&c=c&q=0.8&webp=1\n"
     ]
    },
    {
     "name": "stderr",
     "output_type": "stream",
     "text": [
      " 87%|████████▋ | 89/102 [02:08<00:19,  1.49s/it]"
     ]
    },
    {
     "name": "stdout",
     "output_type": "stream",
     "text": [
      "https://image.ohou.se/i/bucketplace-v2-development/uploads/productions/159549336943776014.jpg?gif=1&w=360&h=360&c=c&q=0.8&webp=1\n"
     ]
    },
    {
     "name": "stderr",
     "output_type": "stream",
     "text": [
      " 88%|████████▊ | 90/102 [02:09<00:18,  1.53s/it]"
     ]
    },
    {
     "name": "stdout",
     "output_type": "stream",
     "text": [
      "https://image.ohou.se/i/bucketplace-v2-development/uploads/productions/162449889243857460.jpg?gif=1&w=360&h=360&c=c&q=0.8&webp=1\n"
     ]
    },
    {
     "name": "stderr",
     "output_type": "stream",
     "text": [
      " 89%|████████▉ | 91/102 [02:10<00:14,  1.36s/it]"
     ]
    },
    {
     "name": "stdout",
     "output_type": "stream",
     "text": [
      "https://image.ohou.se/i/bucketplace-v2-development/uploads/productions/168195267707835393.jpg?gif=1&w=360&h=360&c=c&q=0.8&webp=1\n"
     ]
    },
    {
     "name": "stderr",
     "output_type": "stream",
     "text": [
      " 90%|█████████ | 92/102 [02:12<00:13,  1.30s/it]"
     ]
    },
    {
     "name": "stdout",
     "output_type": "stream",
     "text": [
      "https://image.ohou.se/i/bucketplace-v2-development/uploads/productions/163525030634528562.jpg?gif=1&w=360&h=360&c=c&q=0.8&webp=1\n"
     ]
    },
    {
     "name": "stderr",
     "output_type": "stream",
     "text": [
      " 91%|█████████ | 93/102 [02:12<00:10,  1.16s/it]"
     ]
    },
    {
     "name": "stdout",
     "output_type": "stream",
     "text": [
      "https://image.ohou.se/i/bucketplace-v2-development/uploads/productions/166996384750505520.jpg?gif=1&w=360&h=360&c=c&q=0.8&webp=1\n"
     ]
    },
    {
     "name": "stderr",
     "output_type": "stream",
     "text": [
      " 92%|█████████▏| 94/102 [02:14<00:09,  1.24s/it]"
     ]
    },
    {
     "name": "stdout",
     "output_type": "stream",
     "text": [
      "https://image.ohou.se/i/bucketplace-v2-development/uploads/productions/164007184534139784.jpg?gif=1&w=360&h=360&c=c&q=0.8&webp=1\n"
     ]
    },
    {
     "name": "stderr",
     "output_type": "stream",
     "text": [
      " 93%|█████████▎| 95/102 [02:15<00:09,  1.33s/it]"
     ]
    },
    {
     "name": "stdout",
     "output_type": "stream",
     "text": [
      "https://image.ohou.se/i/bucketplace-v2-development/uploads/productions/163601587036997237.jpg?gif=1&w=360&h=360&c=c&q=0.8&webp=1\n"
     ]
    },
    {
     "name": "stderr",
     "output_type": "stream",
     "text": [
      " 94%|█████████▍| 96/102 [02:17<00:08,  1.46s/it]"
     ]
    },
    {
     "name": "stdout",
     "output_type": "stream",
     "text": [
      "https://image.ohou.se/i/bucketplace-v2-development/uploads/productions/164024862192828130.jpg?gif=1&w=360&h=360&c=c&q=0.8&webp=1\n"
     ]
    },
    {
     "name": "stderr",
     "output_type": "stream",
     "text": [
      " 95%|█████████▌| 97/102 [02:18<00:07,  1.43s/it]"
     ]
    },
    {
     "name": "stdout",
     "output_type": "stream",
     "text": [
      "https://image.ohou.se/i/bucketplace-v2-development/uploads/productions/162806571326848812.jpg?gif=1&w=360&h=360&c=c&q=0.8&webp=1\n"
     ]
    },
    {
     "name": "stderr",
     "output_type": "stream",
     "text": [
      " 96%|█████████▌| 98/102 [02:20<00:06,  1.53s/it]"
     ]
    },
    {
     "name": "stdout",
     "output_type": "stream",
     "text": [
      "https://image.ohou.se/i/bucketplace-v2-development/uploads/productions/164914127392415605.jpg?gif=1&w=360&h=360&c=c&q=0.8&webp=1\n"
     ]
    },
    {
     "name": "stderr",
     "output_type": "stream",
     "text": [
      " 97%|█████████▋| 99/102 [02:21<00:04,  1.34s/it]"
     ]
    },
    {
     "name": "stdout",
     "output_type": "stream",
     "text": [
      "https://image.ohou.se/i/bucketplace-v2-development/uploads/productions/169647214465440146.jpg?gif=1&w=360&h=360&c=c&q=0.8&webp=1\n"
     ]
    },
    {
     "name": "stderr",
     "output_type": "stream",
     "text": [
      " 98%|█████████▊| 100/102 [02:22<00:02,  1.29s/it]"
     ]
    },
    {
     "name": "stdout",
     "output_type": "stream",
     "text": [
      "https://image.ohou.se/i/bucketplace-v2-development/uploads/productions/164689135861138727.jpg?gif=1&w=360&h=360&c=c&q=0.8&webp=1\n"
     ]
    },
    {
     "name": "stderr",
     "output_type": "stream",
     "text": [
      " 99%|█████████▉| 101/102 [02:24<00:01,  1.40s/it]"
     ]
    },
    {
     "name": "stdout",
     "output_type": "stream",
     "text": [
      "https://image.ohou.se/i/bucketplace-v2-development/uploads/productions/168982462123992415.jpg?gif=1&w=360&h=360&c=c&q=0.8&webp=1\n"
     ]
    },
    {
     "name": "stderr",
     "output_type": "stream",
     "text": [
      "100%|██████████| 102/102 [02:25<00:00,  1.43s/it]"
     ]
    },
    {
     "name": "stdout",
     "output_type": "stream",
     "text": [
      "https://image.ohou.se/i/bucketplace-v2-development/uploads/productions/168871688477633876.jpg?gif=1&w=360&h=360&c=c&q=0.8&webp=1\n"
     ]
    },
    {
     "name": "stderr",
     "output_type": "stream",
     "text": [
      "\n"
     ]
    }
   ],
   "source": [
    "i = 0\n",
    "info = []\n",
    "\n",
    "for key, value in tqdm(data.items()):\n",
    "    try:\n",
    "        brand = value[0]\n",
    "        name = value[1]\n",
    "        price = value[2]\n",
    "        src = value[3]\n",
    "        link = value[4]\n",
    "\n",
    "        i += 1\n",
    "        time.sleep(0.5 + random.random())\n",
    "        response = requests.get(src, stream=True)\n",
    "        print(src)\n",
    "\n",
    "        save_image_path = f'./static/img/bed/bed_/bed_{i}.png'\n",
    "        if response.status_code == 200:\n",
    "            # 응답 내용을 바이너리 파일로 저장하기\n",
    "            with open(save_image_path, 'wb') as out_file:\n",
    "                out_file.write(response.content)\n",
    "        \n",
    "        info.append([brand, name, price, save_image_path, link, None])\n",
    "\n",
    "    except:\n",
    "        print('ERROR!!')\n",
    "        pass"
   ]
  },
  {
   "cell_type": "code",
   "execution_count": 24,
   "metadata": {},
   "outputs": [
    {
     "data": {
      "text/plain": [
       "99"
      ]
     },
     "execution_count": 24,
     "metadata": {},
     "output_type": "execute_result"
    }
   ],
   "source": [
    "len(info)"
   ]
  },
  {
   "cell_type": "code",
   "execution_count": 25,
   "metadata": {},
   "outputs": [
    {
     "name": "stderr",
     "output_type": "stream",
     "text": [
      "100%|██████████| 99/99 [1:20:43<00:00, 48.92s/it]\n"
     ]
    }
   ],
   "source": [
    "# 제품 링크 접속하기\n",
    "for i in tqdm(range(len(info))):\n",
    "    info_line = info[i]\n",
    "    link = info_line[4]\n",
    "\n",
    "    driver.get(link)\n",
    "    driver.implicitly_wait(4)\n",
    "    time.sleep(0.5+random.random())\n",
    "\n",
    "    re_ = driver.find_elements(By.CLASS_NAME, \"production-selling-navigation__item\")\n",
    "    re_[1].click()\n",
    "    time.sleep(0.5+random.random()) \n",
    "\n",
    "    # 한 페이지당 5개 리뷰 \n",
    "    # 20페이지 크롤링해서 총 100개 리뷰 가져오기\n",
    "    review = []\n",
    "    first = driver.find_elements(By.CLASS_NAME, \"production-review-item__description\")\n",
    "    for i in first:\n",
    "        review.append(i.text)\n",
    "\n",
    "    for i in range(19):\n",
    "        try:\n",
    "            driver.find_elements(By.CLASS_NAME, \"_2XI47._3I7ex\")[0].click()\n",
    "            time.sleep(1.5+random.random())\n",
    "            text = driver.find_elements(By.CLASS_NAME, \"production-review-item__description\")\n",
    "            for i in text:\n",
    "                review.append(i.text)\n",
    "        except:\n",
    "            print('ERROR!!')\n",
    "            pass\n",
    "\n",
    "    info_line[5] = review\n",
    "\n"
   ]
  },
  {
   "cell_type": "code",
   "execution_count": 26,
   "metadata": {},
   "outputs": [
    {
     "data": {
      "text/html": [
       "<div>\n",
       "<style scoped>\n",
       "    .dataframe tbody tr th:only-of-type {\n",
       "        vertical-align: middle;\n",
       "    }\n",
       "\n",
       "    .dataframe tbody tr th {\n",
       "        vertical-align: top;\n",
       "    }\n",
       "\n",
       "    .dataframe thead th {\n",
       "        text-align: right;\n",
       "    }\n",
       "</style>\n",
       "<table border=\"1\" class=\"dataframe\">\n",
       "  <thead>\n",
       "    <tr style=\"text-align: right;\">\n",
       "      <th></th>\n",
       "      <th>brand</th>\n",
       "      <th>item</th>\n",
       "      <th>price</th>\n",
       "      <th>image</th>\n",
       "      <th>link</th>\n",
       "      <th>review</th>\n",
       "    </tr>\n",
       "  </thead>\n",
       "  <tbody>\n",
       "    <tr>\n",
       "      <th>0</th>\n",
       "      <td>노르웨이숲</td>\n",
       "      <td>침대 프레임 원목 깔판 매트리스 받침대 7size</td>\n",
       "      <td>19,900</td>\n",
       "      <td>./static/img/bed/bed_/bed_1.png</td>\n",
       "      <td>https://ohou.se/productions/125056/selling?aff...</td>\n",
       "      <td>[매트리스 바닥에 아무것도 안깔면 곰팡이 핀다는 말을 듣고 구매했어요. 생각보다 가...</td>\n",
       "    </tr>\n",
       "    <tr>\n",
       "      <th>1</th>\n",
       "      <td>헤이몰리</td>\n",
       "      <td>유사품에 속지마세요! 원조 어메이징 원목 침대 매트리스 깔판</td>\n",
       "      <td>9,900</td>\n",
       "      <td>./static/img/bed/bed_/bed_2.png</td>\n",
       "      <td>https://ohou.se/productions/75702/selling?affe...</td>\n",
       "      <td>[곰팡이 생길까봐 깔아뒀는데 한달마다 청소하려고 올려보니 나무여서 그런가 벌레+거미...</td>\n",
       "    </tr>\n",
       "    <tr>\n",
       "      <th>2</th>\n",
       "      <td>리샘</td>\n",
       "      <td>캐더린 LED조명 통서랍 수납침대 SSQ (매트리스 선택)</td>\n",
       "      <td>199,000</td>\n",
       "      <td>./static/img/bed/bed_/bed_3.png</td>\n",
       "      <td>https://ohou.se/productions/310649/selling?aff...</td>\n",
       "      <td>[방이 작아서 발부분 판자는 설치 못했지만 왼쪽 수납부분에 생각보다 옷이 많이 들어...</td>\n",
       "    </tr>\n",
       "    <tr>\n",
       "      <th>3</th>\n",
       "      <td>웨스트프롬</td>\n",
       "      <td>비앙카 LED 수납침대 (SS/Q/K)+매트리스 선택</td>\n",
       "      <td>199,900</td>\n",
       "      <td>./static/img/bed/bed_/bed_4.png</td>\n",
       "      <td>https://ohou.se/productions/355500/selling?aff...</td>\n",
       "      <td>[둘째아이 10살되어서 슬슬 혼자자려는 연습시키려고 미리샀어요~~높은것보다 낮은게나...</td>\n",
       "    </tr>\n",
       "    <tr>\n",
       "      <th>4</th>\n",
       "      <td>오트밀하우스</td>\n",
       "      <td>토미 무헤드 4단 멀티 수납 침대 SS/Q (매트추가)</td>\n",
       "      <td>259,900</td>\n",
       "      <td>./static/img/bed/bed_/bed_5.png</td>\n",
       "      <td>https://ohou.se/productions/1030886/selling?af...</td>\n",
       "      <td>[원룸 공간이 협소해 무헤드에 수납침대를 검색끝에 토미를 선택했어요. 벙커형이 아닌...</td>\n",
       "    </tr>\n",
       "    <tr>\n",
       "      <th>...</th>\n",
       "      <td>...</td>\n",
       "      <td>...</td>\n",
       "      <td>...</td>\n",
       "      <td>...</td>\n",
       "      <td>...</td>\n",
       "      <td>...</td>\n",
       "    </tr>\n",
       "    <tr>\n",
       "      <th>94</th>\n",
       "      <td>마티노가구</td>\n",
       "      <td>스텝스 평상형 멀티 수납 계단 침대프레임 SS/Q (책상&amp;책장 포함)</td>\n",
       "      <td>620,000</td>\n",
       "      <td>./static/img/bed/bed_/bed_98.png</td>\n",
       "      <td>https://ohou.se/productions/772425/selling?aff...</td>\n",
       "      <td>[일찍 오셨는데 다른 작업팀과 겹쳐져서 오래 기다리셨는대..꼼꼼하게 감사합니다..ㅎ...</td>\n",
       "    </tr>\n",
       "    <tr>\n",
       "      <th>95</th>\n",
       "      <td>크라운퍼니쳐</td>\n",
       "      <td>로우 저상형 침대 프레임 (매트추가) 2colors(화이트,오크) SS/Q(K호환)</td>\n",
       "      <td>99,000</td>\n",
       "      <td>./static/img/bed/bed_/bed_99.png</td>\n",
       "      <td>https://ohou.se/productions/1897215/selling?af...</td>\n",
       "      <td>[진드기,옴기사때문에 저상형프레임과 매트리스구매했습니다 심플하고 좋은제품마음에들고 ...</td>\n",
       "    </tr>\n",
       "    <tr>\n",
       "      <th>96</th>\n",
       "      <td>지누스</td>\n",
       "      <td>아이언라인 하이브리드 침대 프레임</td>\n",
       "      <td>236,300</td>\n",
       "      <td>./static/img/bed/bed_/bed_100.png</td>\n",
       "      <td>https://ohou.se/productions/74893/selling?affe...</td>\n",
       "      <td>[혼자 조립하는게 힘들었지만 튼튼하고 너무 편하게 사용했어요 ㅎㅎ, 철재라 무거워서...</td>\n",
       "    </tr>\n",
       "    <tr>\n",
       "      <th>97</th>\n",
       "      <td>우아미가구</td>\n",
       "      <td>모노 비즈 LED 수납형 호텔 침대 프레임 SS/Q/K</td>\n",
       "      <td>189,000</td>\n",
       "      <td>./static/img/bed/bed_/bed_101.png</td>\n",
       "      <td>https://ohou.se/productions/331857/selling?aff...</td>\n",
       "      <td>[설치도 잘해주시고 혼자 쓰기 좋았어요 프레임 자체에 조명도 있어서 좋아요, 생각보...</td>\n",
       "    </tr>\n",
       "    <tr>\n",
       "      <th>98</th>\n",
       "      <td>DF동서가구</td>\n",
       "      <td>디아 편백선반 헤드 LED조명 평상형 침대 프레임 (매트제외) SS/Q 3colors</td>\n",
       "      <td>229,000</td>\n",
       "      <td>./static/img/bed/bed_/bed_102.png</td>\n",
       "      <td>https://ohou.se/productions/1079608/selling?af...</td>\n",
       "      <td>[프레임 견고하고 예뻐요. 배송도 지정 날짜에 정확히오고 기사님도 친절하셨엉ㅎ~, ...</td>\n",
       "    </tr>\n",
       "  </tbody>\n",
       "</table>\n",
       "<p>99 rows × 6 columns</p>\n",
       "</div>"
      ],
      "text/plain": [
       "     brand                                             item    price  \\\n",
       "0    노르웨이숲                      침대 프레임 원목 깔판 매트리스 받침대 7size   19,900   \n",
       "1     헤이몰리                유사품에 속지마세요! 원조 어메이징 원목 침대 매트리스 깔판    9,900   \n",
       "2       리샘                 캐더린 LED조명 통서랍 수납침대 SSQ (매트리스 선택)  199,000   \n",
       "3    웨스트프롬                    비앙카 LED 수납침대 (SS/Q/K)+매트리스 선택  199,900   \n",
       "4   오트밀하우스                   토미 무헤드 4단 멀티 수납 침대 SS/Q (매트추가)  259,900   \n",
       "..     ...                                              ...      ...   \n",
       "94   마티노가구           스텝스 평상형 멀티 수납 계단 침대프레임 SS/Q (책상&책장 포함)  620,000   \n",
       "95  크라운퍼니쳐   로우 저상형 침대 프레임 (매트추가) 2colors(화이트,오크) SS/Q(K호환)   99,000   \n",
       "96     지누스                               아이언라인 하이브리드 침대 프레임  236,300   \n",
       "97   우아미가구                   모노 비즈 LED 수납형 호텔 침대 프레임 SS/Q/K  189,000   \n",
       "98  DF동서가구  디아 편백선반 헤드 LED조명 평상형 침대 프레임 (매트제외) SS/Q 3colors  229,000   \n",
       "\n",
       "                                image  \\\n",
       "0     ./static/img/bed/bed_/bed_1.png   \n",
       "1     ./static/img/bed/bed_/bed_2.png   \n",
       "2     ./static/img/bed/bed_/bed_3.png   \n",
       "3     ./static/img/bed/bed_/bed_4.png   \n",
       "4     ./static/img/bed/bed_/bed_5.png   \n",
       "..                                ...   \n",
       "94   ./static/img/bed/bed_/bed_98.png   \n",
       "95   ./static/img/bed/bed_/bed_99.png   \n",
       "96  ./static/img/bed/bed_/bed_100.png   \n",
       "97  ./static/img/bed/bed_/bed_101.png   \n",
       "98  ./static/img/bed/bed_/bed_102.png   \n",
       "\n",
       "                                                 link  \\\n",
       "0   https://ohou.se/productions/125056/selling?aff...   \n",
       "1   https://ohou.se/productions/75702/selling?affe...   \n",
       "2   https://ohou.se/productions/310649/selling?aff...   \n",
       "3   https://ohou.se/productions/355500/selling?aff...   \n",
       "4   https://ohou.se/productions/1030886/selling?af...   \n",
       "..                                                ...   \n",
       "94  https://ohou.se/productions/772425/selling?aff...   \n",
       "95  https://ohou.se/productions/1897215/selling?af...   \n",
       "96  https://ohou.se/productions/74893/selling?affe...   \n",
       "97  https://ohou.se/productions/331857/selling?aff...   \n",
       "98  https://ohou.se/productions/1079608/selling?af...   \n",
       "\n",
       "                                               review  \n",
       "0   [매트리스 바닥에 아무것도 안깔면 곰팡이 핀다는 말을 듣고 구매했어요. 생각보다 가...  \n",
       "1   [곰팡이 생길까봐 깔아뒀는데 한달마다 청소하려고 올려보니 나무여서 그런가 벌레+거미...  \n",
       "2   [방이 작아서 발부분 판자는 설치 못했지만 왼쪽 수납부분에 생각보다 옷이 많이 들어...  \n",
       "3   [둘째아이 10살되어서 슬슬 혼자자려는 연습시키려고 미리샀어요~~높은것보다 낮은게나...  \n",
       "4   [원룸 공간이 협소해 무헤드에 수납침대를 검색끝에 토미를 선택했어요. 벙커형이 아닌...  \n",
       "..                                                ...  \n",
       "94  [일찍 오셨는데 다른 작업팀과 겹쳐져서 오래 기다리셨는대..꼼꼼하게 감사합니다..ㅎ...  \n",
       "95  [진드기,옴기사때문에 저상형프레임과 매트리스구매했습니다 심플하고 좋은제품마음에들고 ...  \n",
       "96  [혼자 조립하는게 힘들었지만 튼튼하고 너무 편하게 사용했어요 ㅎㅎ, 철재라 무거워서...  \n",
       "97  [설치도 잘해주시고 혼자 쓰기 좋았어요 프레임 자체에 조명도 있어서 좋아요, 생각보...  \n",
       "98  [프레임 견고하고 예뻐요. 배송도 지정 날짜에 정확히오고 기사님도 친절하셨엉ㅎ~, ...  \n",
       "\n",
       "[99 rows x 6 columns]"
      ]
     },
     "execution_count": 26,
     "metadata": {},
     "output_type": "execute_result"
    }
   ],
   "source": [
    "bed_ = pd.DataFrame(info, columns=['brand', 'item', 'price', 'image', 'link', 'review'])\n",
    "bed_"
   ]
  },
  {
   "cell_type": "code",
   "execution_count": 27,
   "metadata": {},
   "outputs": [],
   "source": [
    "bed_.to_csv('bed.csv')"
   ]
  },
  {
   "cell_type": "markdown",
   "metadata": {},
   "source": [
    "---"
   ]
  },
  {
   "cell_type": "markdown",
   "metadata": {},
   "source": [
    "### 2) 협탁"
   ]
  },
  {
   "cell_type": "code",
   "execution_count": 36,
   "metadata": {},
   "outputs": [],
   "source": [
    "# 사이트 열기\n",
    "driver.get('https://ohou.se/store/category?category_id=10270014')\n",
    "driver.implicitly_wait(10)\n",
    "time.sleep(3)\n",
    "\n",
    "# 리뷰많은순으로 변경\n",
    "pre_order = driver.find_element(By.CLASS_NAME, \"category-filter-bar-order-button\").click()\n",
    "time.sleep(0.5+random.random())\n",
    "\n",
    "order_ = driver.find_elements(By.CLASS_NAME, \"property-filter-panel-entry-list__item__title\")\n",
    "order_[-3].click()\n",
    "time.sleep(0.5+random.random())"
   ]
  },
  {
   "cell_type": "code",
   "execution_count": 37,
   "metadata": {},
   "outputs": [
    {
     "name": "stderr",
     "output_type": "stream",
     "text": [
      "  0%|          | 0/20 [00:00<?, ?it/s]"
     ]
    },
    {
     "name": "stdout",
     "output_type": "stream",
     "text": [
      "15 개 데이터 가져옴....\n"
     ]
    },
    {
     "name": "stderr",
     "output_type": "stream",
     "text": [
      "  5%|▌         | 1/20 [00:05<01:53,  5.98s/it]"
     ]
    },
    {
     "name": "stdout",
     "output_type": "stream",
     "text": [
      "21 개 데이터 가져옴....\n"
     ]
    },
    {
     "name": "stderr",
     "output_type": "stream",
     "text": [
      " 10%|█         | 2/20 [00:12<01:53,  6.33s/it]"
     ]
    },
    {
     "name": "stdout",
     "output_type": "stream",
     "text": [
      "21 개 데이터 가져옴....\n"
     ]
    },
    {
     "name": "stderr",
     "output_type": "stream",
     "text": [
      " 15%|█▌        | 3/20 [00:19<01:49,  6.44s/it]"
     ]
    },
    {
     "name": "stdout",
     "output_type": "stream",
     "text": [
      "24 개 데이터 가져옴....\n"
     ]
    },
    {
     "name": "stderr",
     "output_type": "stream",
     "text": [
      " 20%|██        | 4/20 [00:25<01:44,  6.56s/it]"
     ]
    },
    {
     "name": "stdout",
     "output_type": "stream",
     "text": [
      "21 개 데이터 가져옴....\n"
     ]
    },
    {
     "name": "stderr",
     "output_type": "stream",
     "text": [
      " 25%|██▌       | 5/20 [00:32<01:38,  6.55s/it]"
     ]
    },
    {
     "name": "stdout",
     "output_type": "stream",
     "text": [
      "24 개 데이터 가져옴....\n"
     ]
    },
    {
     "name": "stderr",
     "output_type": "stream",
     "text": [
      " 30%|███       | 6/20 [00:39<01:32,  6.63s/it]"
     ]
    },
    {
     "name": "stdout",
     "output_type": "stream",
     "text": [
      "27 개 데이터 가져옴....\n"
     ]
    },
    {
     "name": "stderr",
     "output_type": "stream",
     "text": [
      " 35%|███▌      | 7/20 [00:45<01:26,  6.68s/it]"
     ]
    },
    {
     "name": "stdout",
     "output_type": "stream",
     "text": [
      "21 개 데이터 가져옴....\n"
     ]
    },
    {
     "name": "stderr",
     "output_type": "stream",
     "text": [
      " 40%|████      | 8/20 [00:52<01:18,  6.54s/it]"
     ]
    },
    {
     "name": "stdout",
     "output_type": "stream",
     "text": [
      "24 개 데이터 가져옴....\n"
     ]
    },
    {
     "name": "stderr",
     "output_type": "stream",
     "text": [
      " 45%|████▌     | 9/20 [00:58<01:10,  6.43s/it]"
     ]
    },
    {
     "name": "stdout",
     "output_type": "stream",
     "text": [
      "21 개 데이터 가져옴....\n"
     ]
    },
    {
     "name": "stderr",
     "output_type": "stream",
     "text": [
      " 50%|█████     | 10/20 [01:04<01:03,  6.37s/it]"
     ]
    },
    {
     "name": "stdout",
     "output_type": "stream",
     "text": [
      "24 개 데이터 가져옴....\n"
     ]
    },
    {
     "name": "stderr",
     "output_type": "stream",
     "text": [
      " 55%|█████▌    | 11/20 [01:10<00:57,  6.35s/it]"
     ]
    },
    {
     "name": "stdout",
     "output_type": "stream",
     "text": [
      "24 개 데이터 가져옴....\n"
     ]
    },
    {
     "name": "stderr",
     "output_type": "stream",
     "text": [
      " 60%|██████    | 12/20 [01:17<00:50,  6.35s/it]"
     ]
    },
    {
     "name": "stdout",
     "output_type": "stream",
     "text": [
      "27 개 데이터 가져옴....\n"
     ]
    },
    {
     "name": "stderr",
     "output_type": "stream",
     "text": [
      " 65%|██████▌   | 13/20 [01:23<00:44,  6.29s/it]"
     ]
    },
    {
     "name": "stdout",
     "output_type": "stream",
     "text": [
      "27 개 데이터 가져옴....\n"
     ]
    },
    {
     "name": "stderr",
     "output_type": "stream",
     "text": [
      " 70%|███████   | 14/20 [01:29<00:37,  6.27s/it]"
     ]
    },
    {
     "name": "stdout",
     "output_type": "stream",
     "text": [
      "24 개 데이터 가져옴....\n"
     ]
    },
    {
     "name": "stderr",
     "output_type": "stream",
     "text": [
      " 75%|███████▌  | 15/20 [01:35<00:31,  6.28s/it]"
     ]
    },
    {
     "name": "stdout",
     "output_type": "stream",
     "text": [
      "27 개 데이터 가져옴....\n"
     ]
    },
    {
     "name": "stderr",
     "output_type": "stream",
     "text": [
      " 80%|████████  | 16/20 [01:42<00:25,  6.31s/it]"
     ]
    },
    {
     "name": "stdout",
     "output_type": "stream",
     "text": [
      "24 개 데이터 가져옴....\n"
     ]
    },
    {
     "name": "stderr",
     "output_type": "stream",
     "text": [
      " 85%|████████▌ | 17/20 [01:48<00:18,  6.33s/it]"
     ]
    },
    {
     "name": "stdout",
     "output_type": "stream",
     "text": [
      "21 개 데이터 가져옴....\n"
     ]
    },
    {
     "name": "stderr",
     "output_type": "stream",
     "text": [
      " 90%|█████████ | 18/20 [01:54<00:12,  6.29s/it]"
     ]
    },
    {
     "name": "stdout",
     "output_type": "stream",
     "text": [
      "24 개 데이터 가져옴....\n"
     ]
    },
    {
     "name": "stderr",
     "output_type": "stream",
     "text": [
      " 95%|█████████▌| 19/20 [02:01<00:06,  6.31s/it]"
     ]
    },
    {
     "name": "stdout",
     "output_type": "stream",
     "text": [
      "27 개 데이터 가져옴....\n"
     ]
    },
    {
     "name": "stderr",
     "output_type": "stream",
     "text": [
      "100%|██████████| 20/20 [02:07<00:00,  6.39s/it]\n"
     ]
    }
   ],
   "source": [
    "info = []\n",
    "\n",
    "ffffa = 0\n",
    "# 스크롤 내리기\n",
    "def scroll():\n",
    "\n",
    "    global ffffa\n",
    "    ffffa += 600 \n",
    "    driver.execute_script(\"window.scrollTo(0, \"+ str(ffffa) + \")\")\n",
    "\n",
    "# 제목 : [브랜드, 제목, 가격, 이미지위치]\n",
    "# 스크롤을 조금씩 내리면서 가져오기 때문에 데이터 중복 가능\n",
    "# 데이터 중복 제거하기 위해 제목은 중복안되니까 제목을 key로 지정 \n",
    "data = {}\n",
    "\n",
    "# 스크롤 조금씩 내리면서 데이터 가져오기\n",
    "for page in tqdm(range(20)):\n",
    "    scroll()\n",
    "    time.sleep(5)\n",
    "\n",
    "    # 브랜드, 상품명, 가격, 이미지 경로, 제품 링크\n",
    "    brands =  driver.find_elements(By.CLASS_NAME, \"production-item__header__brand\")\n",
    "    names =  driver.find_elements(By.CLASS_NAME, \"production-item__header__name\")\n",
    "    prices = driver.find_elements(By.CLASS_NAME, \"production-item-price__price\")\n",
    "    srcs=  driver.find_elements(By.CLASS_NAME, \"image\")\n",
    "    links =  driver.find_elements(By.CLASS_NAME, \"production-item__overlay\")\n",
    "\n",
    "    amount= len(brands)\n",
    "    print(amount ,\"개 데이터 가져옴....\")\n",
    "    \n",
    "    for i in range(amount):\n",
    "        # 브랜드\n",
    "        brand = brands[i].text\n",
    "\n",
    "        # 상품명\n",
    "        name = names[i].text\n",
    "        name = re.sub(r'\\[.*?\\]', '', name)\n",
    "\n",
    "        # 가격\n",
    "        price = prices[i].text\n",
    "\n",
    "        # 이미지 경로\n",
    "        src = srcs[i].get_attribute('src')\n",
    "\n",
    "        # 제품 링크\n",
    "        link = links[i].get_attribute(\"href\")\n",
    "\n",
    "        data[name] = [brand, name, price, src, link]\n"
   ]
  },
  {
   "cell_type": "code",
   "execution_count": 38,
   "metadata": {},
   "outputs": [
    {
     "data": {
      "text/plain": [
       "102"
      ]
     },
     "execution_count": 38,
     "metadata": {},
     "output_type": "execute_result"
    }
   ],
   "source": [
    "result_amount = len(data.keys())\n",
    "result_amount"
   ]
  },
  {
   "cell_type": "code",
   "execution_count": 39,
   "metadata": {},
   "outputs": [
    {
     "name": "stderr",
     "output_type": "stream",
     "text": [
      "  1%|          | 1/102 [00:01<01:53,  1.12s/it]"
     ]
    },
    {
     "name": "stdout",
     "output_type": "stream",
     "text": [
      "https://image.ohou.se/i/bucketplace-v2-development/uploads/productions/159730510881306514.jpg?gif=1&w=360&h=360&c=c&q=0.8\n"
     ]
    },
    {
     "name": "stderr",
     "output_type": "stream",
     "text": [
      "  2%|▏         | 2/102 [00:02<01:59,  1.19s/it]"
     ]
    },
    {
     "name": "stdout",
     "output_type": "stream",
     "text": [
      "https://image.ohou.se/i/bucketplace-v2-development/uploads/productions/164999244041691819.jpg?gif=1&w=360&h=360&c=c&q=0.8\n"
     ]
    },
    {
     "name": "stderr",
     "output_type": "stream",
     "text": [
      "  3%|▎         | 3/102 [00:03<02:04,  1.26s/it]"
     ]
    },
    {
     "name": "stdout",
     "output_type": "stream",
     "text": [
      "https://image.ohou.se/i/bucketplace-v2-development/uploads/productions/159701865379005454.jpg?gif=1&w=360&h=360&c=c&q=0.8\n"
     ]
    },
    {
     "name": "stderr",
     "output_type": "stream",
     "text": [
      "  4%|▍         | 4/102 [00:04<01:52,  1.14s/it]"
     ]
    },
    {
     "name": "stdout",
     "output_type": "stream",
     "text": [
      "https://image.ohou.se/i/bucketplace-v2-development/uploads/productions/168300998832912331.jpg?gif=1&w=360&h=360&c=c&q=0.8\n"
     ]
    },
    {
     "name": "stderr",
     "output_type": "stream",
     "text": [
      "  5%|▍         | 5/102 [00:05<01:49,  1.13s/it]"
     ]
    },
    {
     "name": "stdout",
     "output_type": "stream",
     "text": [
      "https://image.ohou.se/i/bucketplace-v2-development/uploads/productions/162823711596230250.jpg?gif=1&w=360&h=360&c=c&q=0.8\n"
     ]
    },
    {
     "name": "stderr",
     "output_type": "stream",
     "text": [
      "  6%|▌         | 6/102 [00:07<02:02,  1.27s/it]"
     ]
    },
    {
     "name": "stdout",
     "output_type": "stream",
     "text": [
      "https://image.ohou.se/i/bucketplace-v2-development/uploads/productions/161905540240602230.jpg?gif=1&w=360&h=360&c=c&q=0.8\n"
     ]
    },
    {
     "name": "stderr",
     "output_type": "stream",
     "text": [
      "  7%|▋         | 7/102 [00:09<02:16,  1.44s/it]"
     ]
    },
    {
     "name": "stdout",
     "output_type": "stream",
     "text": [
      "https://image.ohou.se/i/bucketplace-v2-development/uploads/productions/168900325644176258.jpg?gif=1&w=360&h=360&c=c&q=0.8\n"
     ]
    },
    {
     "name": "stderr",
     "output_type": "stream",
     "text": [
      "  8%|▊         | 8/102 [00:10<02:14,  1.43s/it]"
     ]
    },
    {
     "name": "stdout",
     "output_type": "stream",
     "text": [
      "https://image.ohou.se/i/bucketplace-v2-development/uploads/productions/15650448051650_GBWwf.jpg?gif=1&w=360&h=360&c=c&q=0.8\n"
     ]
    },
    {
     "name": "stderr",
     "output_type": "stream",
     "text": [
      "  9%|▉         | 9/102 [00:11<01:59,  1.29s/it]"
     ]
    },
    {
     "name": "stdout",
     "output_type": "stream",
     "text": [
      "https://image.ohou.se/i/bucketplace-v2-development/uploads/productions/162797073786629311.jpg?gif=1&w=360&h=360&c=c&q=0.8\n"
     ]
    },
    {
     "name": "stderr",
     "output_type": "stream",
     "text": [
      " 10%|▉         | 10/102 [00:12<01:44,  1.14s/it]"
     ]
    },
    {
     "name": "stdout",
     "output_type": "stream",
     "text": [
      "https://image.ohou.se/i/bucketplace-v2-development/uploads/productions/169570164201482600.jpg?gif=1&w=360&h=360&c=c&q=0.8\n"
     ]
    },
    {
     "name": "stderr",
     "output_type": "stream",
     "text": [
      " 11%|█         | 11/102 [00:13<01:58,  1.30s/it]"
     ]
    },
    {
     "name": "stdout",
     "output_type": "stream",
     "text": [
      "https://image.ohou.se/i/bucketplace-v2-development/uploads/productions/168716815265905391.jpg?gif=1&w=360&h=360&c=c&q=0.8\n"
     ]
    },
    {
     "name": "stderr",
     "output_type": "stream",
     "text": [
      " 12%|█▏        | 12/102 [00:15<02:05,  1.40s/it]"
     ]
    },
    {
     "name": "stdout",
     "output_type": "stream",
     "text": [
      "https://image.ohou.se/i/bucketplace-v2-development/uploads/productions/1560499102002_z8zUNicT.jpg?gif=1&w=360&h=360&c=c&q=0.8\n"
     ]
    },
    {
     "name": "stderr",
     "output_type": "stream",
     "text": [
      " 13%|█▎        | 13/102 [00:16<02:00,  1.35s/it]"
     ]
    },
    {
     "name": "stdout",
     "output_type": "stream",
     "text": [
      "https://image.ohou.se/i/bucketplace-v2-development/uploads/productions/162554674198797563.jpg?gif=1&w=360&h=360&c=c&q=0.8&webp=1\n"
     ]
    },
    {
     "name": "stderr",
     "output_type": "stream",
     "text": [
      " 14%|█▎        | 14/102 [00:18<01:56,  1.32s/it]"
     ]
    },
    {
     "name": "stdout",
     "output_type": "stream",
     "text": [
      "https://image.ohou.se/i/bucketplace-v2-development/uploads/productions/167360288574496100.jpg?gif=1&w=360&h=360&c=c&q=0.8&webp=1\n"
     ]
    },
    {
     "name": "stderr",
     "output_type": "stream",
     "text": [
      " 15%|█▍        | 15/102 [00:20<02:17,  1.58s/it]"
     ]
    },
    {
     "name": "stdout",
     "output_type": "stream",
     "text": [
      "https://image.ohou.se/i/bucketplace-v2-development/uploads/productions/169033050169806696.jpg?gif=1&w=360&h=360&c=c&q=0.8&webp=1\n"
     ]
    },
    {
     "name": "stderr",
     "output_type": "stream",
     "text": [
      " 16%|█▌        | 16/102 [00:22<02:20,  1.63s/it]"
     ]
    },
    {
     "name": "stdout",
     "output_type": "stream",
     "text": [
      "https://image.ohou.se/i/bucketplace-v2-development/uploads/productions/158375220625079687.jpg?gif=1&w=360&h=360&c=c&q=0.8&webp=1\n"
     ]
    },
    {
     "name": "stderr",
     "output_type": "stream",
     "text": [
      " 17%|█▋        | 17/102 [00:23<02:09,  1.53s/it]"
     ]
    },
    {
     "name": "stdout",
     "output_type": "stream",
     "text": [
      "https://image.ohou.se/i/bucketplace-v2-development/uploads/productions/162036862141129462.jpg?gif=1&w=360&h=360&c=c&q=0.8&webp=1\n"
     ]
    },
    {
     "name": "stderr",
     "output_type": "stream",
     "text": [
      " 18%|█▊        | 18/102 [00:25<02:22,  1.69s/it]"
     ]
    },
    {
     "name": "stdout",
     "output_type": "stream",
     "text": [
      "https://image.ohou.se/i/bucketplace-v2-development/uploads/productions/161000483091306395.jpg?gif=1&w=360&h=360&c=c&q=0.8&webp=1\n"
     ]
    },
    {
     "name": "stderr",
     "output_type": "stream",
     "text": [
      " 19%|█▊        | 19/102 [00:26<02:08,  1.55s/it]"
     ]
    },
    {
     "name": "stdout",
     "output_type": "stream",
     "text": [
      "https://image.ohou.se/i/bucketplace-v2-development/uploads/productions/169807028957344585.jpg?gif=1&w=360&h=360&c=c&q=0.8&webp=1\n"
     ]
    },
    {
     "name": "stderr",
     "output_type": "stream",
     "text": [
      " 20%|█▉        | 20/102 [00:27<02:00,  1.47s/it]"
     ]
    },
    {
     "name": "stdout",
     "output_type": "stream",
     "text": [
      "https://image.ohou.se/i/bucketplace-v2-development/uploads/productions/156498425040061679.jpg?gif=1&w=360&h=360&c=c&q=0.8&webp=1\n"
     ]
    },
    {
     "name": "stderr",
     "output_type": "stream",
     "text": [
      " 21%|██        | 21/102 [00:29<02:07,  1.57s/it]"
     ]
    },
    {
     "name": "stdout",
     "output_type": "stream",
     "text": [
      "https://image.ohou.se/i/bucketplace-v2-development/uploads/productions/160922530159707654.jpg?gif=1&w=360&h=360&c=c&q=0.8&webp=1\n"
     ]
    },
    {
     "name": "stderr",
     "output_type": "stream",
     "text": [
      " 22%|██▏       | 22/102 [00:31<02:15,  1.69s/it]"
     ]
    },
    {
     "name": "stdout",
     "output_type": "stream",
     "text": [
      "https://image.ohou.se/i/bucketplace-v2-development/uploads/productions/1589766490_116028_1.jpg?gif=1&w=360&h=360&c=c&q=0.8&webp=1\n"
     ]
    },
    {
     "name": "stderr",
     "output_type": "stream",
     "text": [
      " 23%|██▎       | 23/102 [00:33<02:06,  1.61s/it]"
     ]
    },
    {
     "name": "stdout",
     "output_type": "stream",
     "text": [
      "https://image.ohou.se/i/bucketplace-v2-development/uploads/productions/167825741587699278.jpg?gif=1&w=360&h=360&c=c&q=0.8&webp=1\n"
     ]
    },
    {
     "name": "stderr",
     "output_type": "stream",
     "text": [
      " 24%|██▎       | 24/102 [00:34<01:58,  1.52s/it]"
     ]
    },
    {
     "name": "stdout",
     "output_type": "stream",
     "text": [
      "https://image.ohou.se/i/bucketplace-v2-development/uploads/productions/164671856307794240.jpg?gif=1&w=360&h=360&c=c&q=0.8&webp=1\n"
     ]
    },
    {
     "name": "stderr",
     "output_type": "stream",
     "text": [
      " 25%|██▍       | 25/102 [00:35<01:55,  1.50s/it]"
     ]
    },
    {
     "name": "stdout",
     "output_type": "stream",
     "text": [
      "https://image.ohou.se/i/bucketplace-v2-development/uploads/productions/165157028772177365.jpg?gif=1&w=360&h=360&c=c&q=0.8&webp=1\n"
     ]
    },
    {
     "name": "stderr",
     "output_type": "stream",
     "text": [
      " 25%|██▌       | 26/102 [00:37<01:52,  1.48s/it]"
     ]
    },
    {
     "name": "stdout",
     "output_type": "stream",
     "text": [
      "https://image.ohou.se/i/bucketplace-v2-development/uploads/productions/1560211744_100862_1.jpg?gif=1&w=360&h=360&c=c&q=0.8&webp=1\n"
     ]
    },
    {
     "name": "stderr",
     "output_type": "stream",
     "text": [
      " 26%|██▋       | 27/102 [00:39<01:59,  1.60s/it]"
     ]
    },
    {
     "name": "stdout",
     "output_type": "stream",
     "text": [
      "https://image.ohou.se/i/bucketplace-v2-development/uploads/productions/161959575811720468.jpg?gif=1&w=360&h=360&c=c&q=0.8&webp=1\n"
     ]
    },
    {
     "name": "stderr",
     "output_type": "stream",
     "text": [
      " 27%|██▋       | 28/102 [00:40<01:48,  1.47s/it]"
     ]
    },
    {
     "name": "stdout",
     "output_type": "stream",
     "text": [
      "https://image.ohou.se/i/bucketplace-v2-development/uploads/productions/1555494240_116349_1.jpg?gif=1&w=360&h=360&c=c&q=0.8&webp=1\n"
     ]
    },
    {
     "name": "stderr",
     "output_type": "stream",
     "text": [
      " 28%|██▊       | 29/102 [00:42<01:53,  1.56s/it]"
     ]
    },
    {
     "name": "stdout",
     "output_type": "stream",
     "text": [
      "https://image.ohou.se/i/bucketplace-v2-development/uploads/productions/169002676048724793.jpg?gif=1&w=360&h=360&c=c&q=0.8&webp=1\n"
     ]
    },
    {
     "name": "stderr",
     "output_type": "stream",
     "text": [
      " 29%|██▉       | 30/102 [00:43<01:50,  1.54s/it]"
     ]
    },
    {
     "name": "stdout",
     "output_type": "stream",
     "text": [
      "https://image.ohou.se/i/bucketplace-v2-development/uploads/productions/157663728085809690.jpg?gif=1&w=360&h=360&c=c&q=0.8&webp=1\n"
     ]
    },
    {
     "name": "stderr",
     "output_type": "stream",
     "text": [
      " 30%|███       | 31/102 [00:45<01:52,  1.59s/it]"
     ]
    },
    {
     "name": "stdout",
     "output_type": "stream",
     "text": [
      "https://image.ohou.se/i/bucketplace-v2-development/uploads/productions/15650448042596_HCdqW.jpg?gif=1&w=360&h=360&c=c&q=0.8&webp=1\n"
     ]
    },
    {
     "name": "stderr",
     "output_type": "stream",
     "text": [
      " 31%|███▏      | 32/102 [00:47<01:54,  1.63s/it]"
     ]
    },
    {
     "name": "stdout",
     "output_type": "stream",
     "text": [
      "https://image.ohou.se/i/bucketplace-v2-development/uploads/productions/162036864753512305.jpg?gif=1&w=360&h=360&c=c&q=0.8&webp=1\n"
     ]
    },
    {
     "name": "stderr",
     "output_type": "stream",
     "text": [
      " 32%|███▏      | 33/102 [00:48<01:54,  1.65s/it]"
     ]
    },
    {
     "name": "stdout",
     "output_type": "stream",
     "text": [
      "https://image.ohou.se/i/bucketplace-v2-development/uploads/openapi/3027658/1687263944581.jpg?gif=1&w=360&h=360&c=c&q=0.8&webp=1\n"
     ]
    },
    {
     "name": "stderr",
     "output_type": "stream",
     "text": [
      " 33%|███▎      | 34/102 [00:49<01:35,  1.40s/it]"
     ]
    },
    {
     "name": "stdout",
     "output_type": "stream",
     "text": [
      "https://image.ohou.se/i/bucketplace-v2-development/uploads/productions/160497565726051388.jpg?gif=1&w=360&h=360&c=c&q=0.8&webp=1\n"
     ]
    },
    {
     "name": "stderr",
     "output_type": "stream",
     "text": [
      " 34%|███▍      | 35/102 [00:50<01:30,  1.35s/it]"
     ]
    },
    {
     "name": "stdout",
     "output_type": "stream",
     "text": [
      "https://image.ohou.se/i/bucketplace-v2-development/uploads/productions/168317508559539113.jpg?gif=1&w=360&h=360&c=c&q=0.8&webp=1\n"
     ]
    },
    {
     "name": "stderr",
     "output_type": "stream",
     "text": [
      " 35%|███▌      | 36/102 [00:52<01:34,  1.42s/it]"
     ]
    },
    {
     "name": "stdout",
     "output_type": "stream",
     "text": [
      "https://image.ohou.se/i/bucketplace-v2-development/uploads/productions/1591864423_102923_12.jpg?gif=1&w=360&h=360&c=c&q=0.8&webp=1\n"
     ]
    },
    {
     "name": "stderr",
     "output_type": "stream",
     "text": [
      " 36%|███▋      | 37/102 [00:53<01:29,  1.37s/it]"
     ]
    },
    {
     "name": "stdout",
     "output_type": "stream",
     "text": [
      "https://image.ohou.se/i/bucketplace-v2-development/uploads/productions/159124438524535958.jpg?gif=1&w=360&h=360&c=c&q=0.8&webp=1\n"
     ]
    },
    {
     "name": "stderr",
     "output_type": "stream",
     "text": [
      " 37%|███▋      | 38/102 [00:54<01:21,  1.27s/it]"
     ]
    },
    {
     "name": "stdout",
     "output_type": "stream",
     "text": [
      "https://image.ohou.se/i/bucketplace-v2-development/uploads/productions/163728306830081515.jpg?gif=1&w=360&h=360&c=c&q=0.8&webp=1\n"
     ]
    },
    {
     "name": "stderr",
     "output_type": "stream",
     "text": [
      " 38%|███▊      | 39/102 [00:56<01:24,  1.35s/it]"
     ]
    },
    {
     "name": "stdout",
     "output_type": "stream",
     "text": [
      "https://image.ohou.se/i/bucketplace-v2-development/uploads/openapi/3886323/1692350563510.jpg?gif=1&w=360&h=360&c=c&q=0.8&webp=1\n"
     ]
    },
    {
     "name": "stderr",
     "output_type": "stream",
     "text": [
      " 39%|███▉      | 40/102 [00:56<01:13,  1.18s/it]"
     ]
    },
    {
     "name": "stdout",
     "output_type": "stream",
     "text": [
      "https://image.ohou.se/i/bucketplace-v2-development/uploads/productions/167842704817893496.jpg?gif=1&w=360&h=360&c=c&q=0.8&webp=1\n"
     ]
    },
    {
     "name": "stderr",
     "output_type": "stream",
     "text": [
      " 40%|████      | 41/102 [00:57<01:07,  1.10s/it]"
     ]
    },
    {
     "name": "stdout",
     "output_type": "stream",
     "text": [
      "https://image.ohou.se/i/bucketplace-v2-development/uploads/productions/159962932571262029.jpg?gif=1&w=360&h=360&c=c&q=0.8&webp=1\n"
     ]
    },
    {
     "name": "stderr",
     "output_type": "stream",
     "text": [
      " 41%|████      | 42/102 [00:59<01:21,  1.36s/it]"
     ]
    },
    {
     "name": "stdout",
     "output_type": "stream",
     "text": [
      "https://image.ohou.se/i/bucketplace-v2-development/uploads/productions/159641504370431199.jpg?gif=1&w=360&h=360&c=c&q=0.8&webp=1\n"
     ]
    },
    {
     "name": "stderr",
     "output_type": "stream",
     "text": [
      " 42%|████▏     | 43/102 [01:00<01:15,  1.28s/it]"
     ]
    },
    {
     "name": "stdout",
     "output_type": "stream",
     "text": [
      "https://image.ohou.se/i/bucketplace-v2-development/uploads/productions/160194708663230297.jpg?gif=1&w=360&h=360&c=c&q=0.8&webp=1\n"
     ]
    },
    {
     "name": "stderr",
     "output_type": "stream",
     "text": [
      " 43%|████▎     | 44/102 [01:02<01:21,  1.41s/it]"
     ]
    },
    {
     "name": "stdout",
     "output_type": "stream",
     "text": [
      "https://image.ohou.se/i/bucketplace-v2-development/uploads/productions/169716207543126214.jpg?gif=1&w=360&h=360&c=c&q=0.8&webp=1\n"
     ]
    },
    {
     "name": "stderr",
     "output_type": "stream",
     "text": [
      " 44%|████▍     | 45/102 [01:03<01:10,  1.24s/it]"
     ]
    },
    {
     "name": "stdout",
     "output_type": "stream",
     "text": [
      "https://image.ohou.se/i/bucketplace-v2-development/uploads/productions/167324661984708500.jpg?gif=1&w=360&h=360&c=c&q=0.8&webp=1\n"
     ]
    },
    {
     "name": "stderr",
     "output_type": "stream",
     "text": [
      " 45%|████▌     | 46/102 [01:05<01:13,  1.32s/it]"
     ]
    },
    {
     "name": "stdout",
     "output_type": "stream",
     "text": [
      "https://image.ohou.se/i/bucketplace-v2-development/uploads/productions/160464603140248088.jpg?gif=1&w=360&h=360&c=c&q=0.8&webp=1\n"
     ]
    },
    {
     "name": "stderr",
     "output_type": "stream",
     "text": [
      " 46%|████▌     | 47/102 [01:06<01:16,  1.39s/it]"
     ]
    },
    {
     "name": "stdout",
     "output_type": "stream",
     "text": [
      "https://image.ohou.se/i/bucketplace-v2-development/uploads/productions/1549930579140_sIv.jpg?gif=1&w=360&h=360&c=c&q=0.8&webp=1\n"
     ]
    },
    {
     "name": "stderr",
     "output_type": "stream",
     "text": [
      " 47%|████▋     | 48/102 [01:07<01:08,  1.27s/it]"
     ]
    },
    {
     "name": "stdout",
     "output_type": "stream",
     "text": [
      "https://image.ohou.se/i/bucketplace-v2-development/uploads/productions/167599776311711191.jpg?gif=1&w=360&h=360&c=c&q=0.8&webp=1\n"
     ]
    },
    {
     "name": "stderr",
     "output_type": "stream",
     "text": [
      " 48%|████▊     | 49/102 [01:08<01:04,  1.23s/it]"
     ]
    },
    {
     "name": "stdout",
     "output_type": "stream",
     "text": [
      "https://image.ohou.se/i/bucketplace-v2-development/uploads/productions/163712516481467015.jpg?gif=1&w=360&h=360&c=c&q=0.8&webp=1\n"
     ]
    },
    {
     "name": "stderr",
     "output_type": "stream",
     "text": [
      " 49%|████▉     | 50/102 [01:09<01:02,  1.19s/it]"
     ]
    },
    {
     "name": "stdout",
     "output_type": "stream",
     "text": [
      "https://image.ohou.se/i/bucketplace-v2-development/uploads/productions/162002249678271455.jpg?gif=1&w=360&h=360&c=c&q=0.8&webp=1\n"
     ]
    },
    {
     "name": "stderr",
     "output_type": "stream",
     "text": [
      " 50%|█████     | 51/102 [01:10<00:59,  1.16s/it]"
     ]
    },
    {
     "name": "stdout",
     "output_type": "stream",
     "text": [
      "https://image.ohou.se/i/bucketplace-v2-development/uploads/openapi/3886323/1652695171588.jpg?gif=1&w=360&h=360&c=c&q=0.8&webp=1\n"
     ]
    },
    {
     "name": "stderr",
     "output_type": "stream",
     "text": [
      " 51%|█████     | 52/102 [01:12<00:59,  1.20s/it]"
     ]
    },
    {
     "name": "stdout",
     "output_type": "stream",
     "text": [
      "https://image.ohou.se/i/bucketplace-v2-development/uploads/productions/167332159299545397.jpg?gif=1&w=360&h=360&c=c&q=0.8&webp=1\n"
     ]
    },
    {
     "name": "stderr",
     "output_type": "stream",
     "text": [
      " 52%|█████▏    | 53/102 [01:13<00:56,  1.16s/it]"
     ]
    },
    {
     "name": "stdout",
     "output_type": "stream",
     "text": [
      "https://image.ohou.se/i/bucketplace-v2-development/uploads/productions/162001835348746261.jpg?gif=1&w=360&h=360&c=c&q=0.8&webp=1\n"
     ]
    },
    {
     "name": "stderr",
     "output_type": "stream",
     "text": [
      " 53%|█████▎    | 54/102 [01:14<00:58,  1.23s/it]"
     ]
    },
    {
     "name": "stdout",
     "output_type": "stream",
     "text": [
      "https://image.ohou.se/i/bucketplace-v2-development/uploads/productions/165902711723623574.jpg?gif=1&w=360&h=360&c=c&q=0.8&webp=1\n"
     ]
    },
    {
     "name": "stderr",
     "output_type": "stream",
     "text": [
      " 54%|█████▍    | 55/102 [01:15<00:52,  1.12s/it]"
     ]
    },
    {
     "name": "stdout",
     "output_type": "stream",
     "text": [
      "https://image.ohou.se/i/bucketplace-v2-development/uploads/productions/162001818628341063.jpg?gif=1&w=360&h=360&c=c&q=0.8&webp=1\n"
     ]
    },
    {
     "name": "stderr",
     "output_type": "stream",
     "text": [
      " 55%|█████▍    | 56/102 [01:17<00:57,  1.25s/it]"
     ]
    },
    {
     "name": "stdout",
     "output_type": "stream",
     "text": [
      "https://image.ohou.se/i/bucketplace-v2-development/uploads/productions/162036859857687633.jpg?gif=1&w=360&h=360&c=c&q=0.8&webp=1\n"
     ]
    },
    {
     "name": "stderr",
     "output_type": "stream",
     "text": [
      " 56%|█████▌    | 57/102 [01:17<00:50,  1.13s/it]"
     ]
    },
    {
     "name": "stdout",
     "output_type": "stream",
     "text": [
      "https://image.ohou.se/i/bucketplace-v2-development/uploads/openapi/3886323/1692942101316.jpg?gif=1&w=360&h=360&c=c&q=0.8&webp=1\n"
     ]
    },
    {
     "name": "stderr",
     "output_type": "stream",
     "text": [
      " 57%|█████▋    | 58/102 [01:19<00:56,  1.28s/it]"
     ]
    },
    {
     "name": "stdout",
     "output_type": "stream",
     "text": [
      "https://image.ohou.se/i/bucketplace-v2-development/uploads/productions/164932289268878391.jpg?gif=1&w=360&h=360&c=c&q=0.8&webp=1\n"
     ]
    },
    {
     "name": "stderr",
     "output_type": "stream",
     "text": [
      " 58%|█████▊    | 59/102 [01:20<00:49,  1.16s/it]"
     ]
    },
    {
     "name": "stdout",
     "output_type": "stream",
     "text": [
      "https://image.ohou.se/i/bucketplace-v2-development/uploads/productions/169215358082085816.jpg?gif=1&w=360&h=360&c=c&q=0.8&webp=1\n"
     ]
    },
    {
     "name": "stderr",
     "output_type": "stream",
     "text": [
      " 59%|█████▉    | 60/102 [01:21<00:44,  1.07s/it]"
     ]
    },
    {
     "name": "stdout",
     "output_type": "stream",
     "text": [
      "https://image.ohou.se/i/bucketplace-v2-development/uploads/productions/162218050006374547.jpg?gif=1&w=360&h=360&c=c&q=0.8&webp=1\n"
     ]
    },
    {
     "name": "stderr",
     "output_type": "stream",
     "text": [
      " 60%|█████▉    | 61/102 [01:22<00:44,  1.08s/it]"
     ]
    },
    {
     "name": "stdout",
     "output_type": "stream",
     "text": [
      "https://image.ohou.se/i/bucketplace-v2-development/uploads/productions/159133978798638789.jpg?gif=1&w=360&h=360&c=c&q=0.8&webp=1\n"
     ]
    },
    {
     "name": "stderr",
     "output_type": "stream",
     "text": [
      " 61%|██████    | 62/102 [01:23<00:42,  1.07s/it]"
     ]
    },
    {
     "name": "stdout",
     "output_type": "stream",
     "text": [
      "https://image.ohou.se/i/bucketplace-v2-development/uploads/productions/158926443767326892.jpg?gif=1&w=360&h=360&c=c&q=0.8&webp=1\n"
     ]
    },
    {
     "name": "stderr",
     "output_type": "stream",
     "text": [
      " 62%|██████▏   | 63/102 [01:24<00:40,  1.03s/it]"
     ]
    },
    {
     "name": "stdout",
     "output_type": "stream",
     "text": [
      "https://image.ohou.se/i/bucketplace-v2-development/uploads/productions/161950898343177824.jpg?gif=1&w=360&h=360&c=c&q=0.8&webp=1\n"
     ]
    },
    {
     "name": "stderr",
     "output_type": "stream",
     "text": [
      " 63%|██████▎   | 64/102 [01:25<00:37,  1.01it/s]"
     ]
    },
    {
     "name": "stdout",
     "output_type": "stream",
     "text": [
      "https://image.ohou.se/i/bucketplace-v2-development/uploads/productions/158806959067794576.jpg?gif=1&w=360&h=360&c=c&q=0.8&webp=1\n"
     ]
    },
    {
     "name": "stderr",
     "output_type": "stream",
     "text": [
      " 64%|██████▎   | 65/102 [01:26<00:36,  1.03it/s]"
     ]
    },
    {
     "name": "stdout",
     "output_type": "stream",
     "text": [
      "https://image.ohou.se/i/bucketplace-v2-development/uploads/productions/162063729827465824.jpg?gif=1&w=360&h=360&c=c&q=0.8&webp=1\n"
     ]
    },
    {
     "name": "stderr",
     "output_type": "stream",
     "text": [
      " 65%|██████▍   | 66/102 [01:27<00:34,  1.05it/s]"
     ]
    },
    {
     "name": "stdout",
     "output_type": "stream",
     "text": [
      "https://image.ohou.se/i/bucketplace-v2-development/uploads/productions/169561059484089647.jpg?gif=1&w=360&h=360&c=c&q=0.8&webp=1\n"
     ]
    },
    {
     "name": "stderr",
     "output_type": "stream",
     "text": [
      " 66%|██████▌   | 67/102 [01:28<00:33,  1.04it/s]"
     ]
    },
    {
     "name": "stdout",
     "output_type": "stream",
     "text": [
      "https://image.ohou.se/i/bucketplace-v2-development/uploads/productions/166850239070315757.jpg?gif=1&w=360&h=360&c=c&q=0.8&webp=1\n"
     ]
    },
    {
     "name": "stderr",
     "output_type": "stream",
     "text": [
      " 67%|██████▋   | 68/102 [01:29<00:40,  1.20s/it]"
     ]
    },
    {
     "name": "stdout",
     "output_type": "stream",
     "text": [
      "https://image.ohou.se/i/bucketplace-v2-development/uploads/productions/161959654321415543.jpg?gif=1&w=360&h=360&c=c&q=0.8&webp=1\n"
     ]
    },
    {
     "name": "stderr",
     "output_type": "stream",
     "text": [
      " 68%|██████▊   | 69/102 [01:31<00:40,  1.24s/it]"
     ]
    },
    {
     "name": "stdout",
     "output_type": "stream",
     "text": [
      "https://image.ohou.se/i/bucketplace-v2-development/uploads/productions/163358975347196674.jpg?gif=1&w=360&h=360&c=c&q=0.8&webp=1\n"
     ]
    },
    {
     "name": "stderr",
     "output_type": "stream",
     "text": [
      " 69%|██████▊   | 70/102 [01:32<00:40,  1.28s/it]"
     ]
    },
    {
     "name": "stdout",
     "output_type": "stream",
     "text": [
      "https://image.ohou.se/i/bucketplace-v2-development/uploads/productions/161950834006767329.jpg?gif=1&w=360&h=360&c=c&q=0.8&webp=1\n"
     ]
    },
    {
     "name": "stderr",
     "output_type": "stream",
     "text": [
      " 70%|██████▉   | 71/102 [01:33<00:36,  1.17s/it]"
     ]
    },
    {
     "name": "stdout",
     "output_type": "stream",
     "text": [
      "https://image.ohou.se/i/bucketplace-v2-development/uploads/productions/168991501146312578.jpg?gif=1&w=360&h=360&c=c&q=0.8&webp=1\n"
     ]
    },
    {
     "name": "stderr",
     "output_type": "stream",
     "text": [
      " 71%|███████   | 72/102 [01:34<00:33,  1.13s/it]"
     ]
    },
    {
     "name": "stdout",
     "output_type": "stream",
     "text": [
      "https://image.ohou.se/i/bucketplace-v2-development/uploads/openapi/3886323/1692942129414.jpg?gif=1&w=360&h=360&c=c&q=0.8&webp=1\n"
     ]
    },
    {
     "name": "stderr",
     "output_type": "stream",
     "text": [
      " 72%|███████▏  | 73/102 [01:35<00:35,  1.22s/it]"
     ]
    },
    {
     "name": "stdout",
     "output_type": "stream",
     "text": [
      "https://image.ohou.se/i/bucketplace-v2-development/uploads/productions/169259283952863468.JPG?gif=1&w=360&h=360&c=c&q=0.8&webp=1\n"
     ]
    },
    {
     "name": "stderr",
     "output_type": "stream",
     "text": [
      " 73%|███████▎  | 74/102 [01:36<00:33,  1.19s/it]"
     ]
    },
    {
     "name": "stdout",
     "output_type": "stream",
     "text": [
      "https://image.ohou.se/i/bucketplace-v2-development/uploads/productions/1540262107_106013_1.jpg?gif=1&w=360&h=360&c=c&q=0.8&webp=1\n"
     ]
    },
    {
     "name": "stderr",
     "output_type": "stream",
     "text": [
      " 74%|███████▎  | 75/102 [01:37<00:30,  1.12s/it]"
     ]
    },
    {
     "name": "stdout",
     "output_type": "stream",
     "text": [
      "https://image.ohou.se/i/bucketplace-v2-development/uploads/productions/159004706429515723.jpg?gif=1&w=360&h=360&c=c&q=0.8&webp=1\n"
     ]
    },
    {
     "name": "stderr",
     "output_type": "stream",
     "text": [
      " 75%|███████▍  | 76/102 [01:38<00:28,  1.09s/it]"
     ]
    },
    {
     "name": "stdout",
     "output_type": "stream",
     "text": [
      "https://image.ohou.se/i/bucketplace-v2-development/uploads/productions/168791327850160431.jpg?gif=1&w=360&h=360&c=c&q=0.8&webp=1\n"
     ]
    },
    {
     "name": "stderr",
     "output_type": "stream",
     "text": [
      " 75%|███████▌  | 77/102 [01:40<00:27,  1.10s/it]"
     ]
    },
    {
     "name": "stdout",
     "output_type": "stream",
     "text": [
      "https://image.ohou.se/i/bucketplace-v2-development/uploads/productions/169811513646306476.jpg?gif=1&w=360&h=360&c=c&q=0.8&webp=1\n"
     ]
    },
    {
     "name": "stderr",
     "output_type": "stream",
     "text": [
      " 76%|███████▋  | 78/102 [01:41<00:28,  1.21s/it]"
     ]
    },
    {
     "name": "stdout",
     "output_type": "stream",
     "text": [
      "https://image.ohou.se/i/bucketplace-v2-development/uploads/productions/169215361708364199.jpg?gif=1&w=360&h=360&c=c&q=0.8&webp=1\n"
     ]
    },
    {
     "name": "stderr",
     "output_type": "stream",
     "text": [
      " 77%|███████▋  | 79/102 [01:42<00:28,  1.25s/it]"
     ]
    },
    {
     "name": "stdout",
     "output_type": "stream",
     "text": [
      "https://image.ohou.se/i/bucketplace-v2-development/uploads/productions/1557810830745_9W.jpg?gif=1&w=360&h=360&c=c&q=0.8&webp=1\n"
     ]
    },
    {
     "name": "stderr",
     "output_type": "stream",
     "text": [
      " 78%|███████▊  | 80/102 [01:44<00:28,  1.31s/it]"
     ]
    },
    {
     "name": "stdout",
     "output_type": "stream",
     "text": [
      "https://image.ohou.se/i/bucketplace-v2-development/uploads/productions/162875459608639345.jpg?gif=1&w=360&h=360&c=c&q=0.8&webp=1\n"
     ]
    },
    {
     "name": "stderr",
     "output_type": "stream",
     "text": [
      " 79%|███████▉  | 81/102 [01:45<00:25,  1.23s/it]"
     ]
    },
    {
     "name": "stdout",
     "output_type": "stream",
     "text": [
      "https://image.ohou.se/i/bucketplace-v2-development/uploads/productions/163348848427294374.jpg?gif=1&w=360&h=360&c=c&q=0.8&webp=1\n"
     ]
    },
    {
     "name": "stderr",
     "output_type": "stream",
     "text": [
      " 80%|████████  | 82/102 [01:47<00:31,  1.58s/it]"
     ]
    },
    {
     "name": "stdout",
     "output_type": "stream",
     "text": [
      "https://image.ohou.se/i/bucketplace-v2-development/uploads/productions/160438386135211752.jpg?gif=1&w=360&h=360&c=c&q=0.8&webp=1\n"
     ]
    },
    {
     "name": "stderr",
     "output_type": "stream",
     "text": [
      " 81%|████████▏ | 83/102 [01:49<00:29,  1.58s/it]"
     ]
    },
    {
     "name": "stdout",
     "output_type": "stream",
     "text": [
      "https://image.ohou.se/i/bucketplace-v2-development/uploads/productions/167641928397009308.jpg?gif=1&w=360&h=360&c=c&q=0.8&webp=1\n"
     ]
    },
    {
     "name": "stderr",
     "output_type": "stream",
     "text": [
      " 82%|████████▏ | 84/102 [01:51<00:28,  1.60s/it]"
     ]
    },
    {
     "name": "stdout",
     "output_type": "stream",
     "text": [
      "https://image.ohou.se/i/bucketplace-v2-development/uploads/productions/159581851801063843.jpg?gif=1&w=360&h=360&c=c&q=0.8&webp=1\n"
     ]
    },
    {
     "name": "stderr",
     "output_type": "stream",
     "text": [
      " 83%|████████▎ | 85/102 [01:52<00:26,  1.56s/it]"
     ]
    },
    {
     "name": "stdout",
     "output_type": "stream",
     "text": [
      "https://image.ohou.se/i/bucketplace-v2-development/uploads/productions/165157624681960287.jpg?gif=1&w=360&h=360&c=c&q=0.8&webp=1\n"
     ]
    },
    {
     "name": "stderr",
     "output_type": "stream",
     "text": [
      " 84%|████████▍ | 86/102 [01:54<00:24,  1.54s/it]"
     ]
    },
    {
     "name": "stdout",
     "output_type": "stream",
     "text": [
      "https://image.ohou.se/i/bucketplace-v2-development/uploads/productions/165770023729724243.jpg?gif=1&w=360&h=360&c=c&q=0.8&webp=1\n"
     ]
    },
    {
     "name": "stderr",
     "output_type": "stream",
     "text": [
      " 85%|████████▌ | 87/102 [01:55<00:21,  1.45s/it]"
     ]
    },
    {
     "name": "stdout",
     "output_type": "stream",
     "text": [
      "https://image.ohou.se/i/bucketplace-v2-development/uploads/productions/168679034597366396.jpg?gif=1&w=360&h=360&c=c&q=0.8&webp=1\n"
     ]
    },
    {
     "name": "stderr",
     "output_type": "stream",
     "text": [
      " 86%|████████▋ | 88/102 [01:56<00:19,  1.36s/it]"
     ]
    },
    {
     "name": "stdout",
     "output_type": "stream",
     "text": [
      "https://image.ohou.se/i/bucketplace-v2-development/uploads/productions/167203128758075840.jpg?gif=1&w=360&h=360&c=c&q=0.8&webp=1\n"
     ]
    },
    {
     "name": "stderr",
     "output_type": "stream",
     "text": [
      " 87%|████████▋ | 89/102 [01:58<00:18,  1.45s/it]"
     ]
    },
    {
     "name": "stdout",
     "output_type": "stream",
     "text": [
      "https://image.ohou.se/i/bucketplace-v2-development/uploads/productions/160991158636866060.jpg?gif=1&w=360&h=360&c=c&q=0.8&webp=1\n"
     ]
    },
    {
     "name": "stderr",
     "output_type": "stream",
     "text": [
      " 88%|████████▊ | 90/102 [01:59<00:18,  1.53s/it]"
     ]
    },
    {
     "name": "stdout",
     "output_type": "stream",
     "text": [
      "https://image.ohou.se/i/bucketplace-v2-development/uploads/productions/161734140741674567.jpg?gif=1&w=360&h=360&c=c&q=0.8&webp=1\n"
     ]
    },
    {
     "name": "stderr",
     "output_type": "stream",
     "text": [
      " 89%|████████▉ | 91/102 [02:00<00:15,  1.40s/it]"
     ]
    },
    {
     "name": "stdout",
     "output_type": "stream",
     "text": [
      "https://image.ohou.se/i/bucketplace-v2-development/uploads/productions/164930826878221559.jpg?gif=1&w=360&h=360&c=c&q=0.8&webp=1\n"
     ]
    },
    {
     "name": "stderr",
     "output_type": "stream",
     "text": [
      " 90%|█████████ | 92/102 [02:01<00:13,  1.30s/it]"
     ]
    },
    {
     "name": "stdout",
     "output_type": "stream",
     "text": [
      "https://image.ohou.se/i/bucketplace-v2-development/uploads/productions/167479525774153669.JPG?gif=1&w=360&h=360&c=c&q=0.8&webp=1\n"
     ]
    },
    {
     "name": "stderr",
     "output_type": "stream",
     "text": [
      " 91%|█████████ | 93/102 [02:03<00:13,  1.46s/it]"
     ]
    },
    {
     "name": "stdout",
     "output_type": "stream",
     "text": [
      "https://image.ohou.se/i/bucketplace-v2-development/uploads/productions/160455135128940310.jpg?gif=1&w=360&h=360&c=c&q=0.8&webp=1\n"
     ]
    },
    {
     "name": "stderr",
     "output_type": "stream",
     "text": [
      " 92%|█████████▏| 94/102 [02:05<00:11,  1.49s/it]"
     ]
    },
    {
     "name": "stdout",
     "output_type": "stream",
     "text": [
      "https://image.ohou.se/i/bucketplace-v2-development/uploads/productions/158919633554364441.jpg?gif=1&w=360&h=360&c=c&q=0.8&webp=1\n"
     ]
    },
    {
     "name": "stderr",
     "output_type": "stream",
     "text": [
      " 93%|█████████▎| 95/102 [02:06<00:09,  1.40s/it]"
     ]
    },
    {
     "name": "stdout",
     "output_type": "stream",
     "text": [
      "https://image.ohou.se/i/bucketplace-v2-development/uploads/productions/164005399354363157.jpg?gif=1&w=360&h=360&c=c&q=0.8&webp=1\n"
     ]
    },
    {
     "name": "stderr",
     "output_type": "stream",
     "text": [
      " 94%|█████████▍| 96/102 [02:07<00:08,  1.41s/it]"
     ]
    },
    {
     "name": "stdout",
     "output_type": "stream",
     "text": [
      "https://image.ohou.se/i/bucketplace-v2-development/uploads/productions/165277641143335890.jpg?gif=1&w=360&h=360&c=c&q=0.8&webp=1\n"
     ]
    },
    {
     "name": "stderr",
     "output_type": "stream",
     "text": [
      " 95%|█████████▌| 97/102 [02:09<00:06,  1.39s/it]"
     ]
    },
    {
     "name": "stdout",
     "output_type": "stream",
     "text": [
      "https://image.ohou.se/i/bucketplace-v2-development/uploads/productions/162002190784584334.jpg?gif=1&w=360&h=360&c=c&q=0.8&webp=1\n"
     ]
    },
    {
     "name": "stderr",
     "output_type": "stream",
     "text": [
      " 96%|█████████▌| 98/102 [02:10<00:05,  1.43s/it]"
     ]
    },
    {
     "name": "stdout",
     "output_type": "stream",
     "text": [
      "https://image.ohou.se/i/bucketplace-v2-development/uploads/productions/166426346648697455.jpg?gif=1&w=360&h=360&c=c&q=0.8&webp=1\n"
     ]
    },
    {
     "name": "stderr",
     "output_type": "stream",
     "text": [
      " 97%|█████████▋| 99/102 [02:11<00:04,  1.35s/it]"
     ]
    },
    {
     "name": "stdout",
     "output_type": "stream",
     "text": [
      "https://image.ohou.se/i/bucketplace-v2-development/uploads/productions/1551774324_116061_1.jpg?gif=1&w=360&h=360&c=c&q=0.8&webp=1\n"
     ]
    },
    {
     "name": "stderr",
     "output_type": "stream",
     "text": [
      " 98%|█████████▊| 100/102 [02:13<00:02,  1.37s/it]"
     ]
    },
    {
     "name": "stdout",
     "output_type": "stream",
     "text": [
      "https://image.ohou.se/i/bucketplace-v2-development/uploads/productions/162425961248145379.jpg?gif=1&w=360&h=360&c=c&q=0.8&webp=1\n"
     ]
    },
    {
     "name": "stderr",
     "output_type": "stream",
     "text": [
      " 99%|█████████▉| 101/102 [02:14<00:01,  1.32s/it]"
     ]
    },
    {
     "name": "stdout",
     "output_type": "stream",
     "text": [
      "https://image.ohou.se/i/bucketplace-v2-development/uploads/productions/160775482980894926.jpg?gif=1&w=360&h=360&c=c&q=0.8&webp=1\n"
     ]
    },
    {
     "name": "stderr",
     "output_type": "stream",
     "text": [
      "100%|██████████| 102/102 [02:15<00:00,  1.33s/it]"
     ]
    },
    {
     "name": "stdout",
     "output_type": "stream",
     "text": [
      "https://image.ohou.se/i/bucketplace-v2-development/uploads/openapi/4073118/1675831124203.jpg?gif=1&w=360&h=360&c=c&q=0.8&webp=1\n"
     ]
    },
    {
     "name": "stderr",
     "output_type": "stream",
     "text": [
      "\n"
     ]
    }
   ],
   "source": [
    "i = 0\n",
    "info = []\n",
    "\n",
    "for key,value in tqdm(data.items()):\n",
    "    try:\n",
    "        brand = value[0]\n",
    "        name = value[1]\n",
    "        price = value[2]\n",
    "        src = value[3]\n",
    "        link = value[4]\n",
    "\n",
    "        i += 1\n",
    "        time.sleep(0.5 + random.random())\n",
    "        response = requests.get(src, stream=True)\n",
    "        print(src)\n",
    "\n",
    "        save_image_path = f'./static/img/bed/night_stand/night_stand{i}.png'\n",
    "        if response.status_code == 200:\n",
    "            # 응답 내용을 바이너리 파일로 저장하기\n",
    "            with open(save_image_path, 'wb') as out_file:\n",
    "                out_file.write(response.content)\n",
    "        \n",
    "        info.append([brand, name, price, save_image_path, link, None])\n",
    "\n",
    "    except:\n",
    "        print('ERROR!!')\n",
    "        pass"
   ]
  },
  {
   "cell_type": "code",
   "execution_count": 40,
   "metadata": {},
   "outputs": [
    {
     "data": {
      "text/plain": [
       "102"
      ]
     },
     "execution_count": 40,
     "metadata": {},
     "output_type": "execute_result"
    }
   ],
   "source": [
    "len(info)"
   ]
  },
  {
   "cell_type": "code",
   "execution_count": 41,
   "metadata": {},
   "outputs": [
    {
     "name": "stderr",
     "output_type": "stream",
     "text": [
      "100%|██████████| 102/102 [1:17:43<00:00, 45.72s/it]\n"
     ]
    }
   ],
   "source": [
    "# 제품 링크 접속하기\n",
    "# 회원만 구입할 수 있는 상품이 포함되어 있어 로그인 후 크롤링\n",
    "for i in tqdm(range(len(info))):\n",
    "    info_line = info[i]\n",
    "    link = info_line[4]\n",
    "\n",
    "    driver.get(link)\n",
    "    driver.implicitly_wait(4)\n",
    "    time.sleep(0.5+random.random())\n",
    "\n",
    "    re_ = driver.find_elements(By.CLASS_NAME, \"production-selling-navigation__item\")\n",
    "    re_[1].click()\n",
    "    time.sleep(0.5+random.random()) \n",
    "\n",
    "    # 한 페이지당 5개 리뷰 \n",
    "    # 20페이지 크롤링해서 총 100개 리뷰 가져오기\n",
    "    review = []\n",
    "    first = driver.find_elements(By.CLASS_NAME, \"production-review-item__description\")\n",
    "    for i in first:\n",
    "        review.append(i.text)\n",
    "\n",
    "    for i in range(19):\n",
    "        try:\n",
    "            driver.find_elements(By.CLASS_NAME, \"_2XI47._3I7ex\")[0].click()\n",
    "            time.sleep(1.5+random.random())\n",
    "            text = driver.find_elements(By.CLASS_NAME, \"production-review-item__description\")\n",
    "            for i in text:\n",
    "                review.append(i.text)\n",
    "        except:\n",
    "            print('ERROR!!')\n",
    "            pass\n",
    "\n",
    "    info_line[5] = review\n",
    "\n"
   ]
  },
  {
   "cell_type": "code",
   "execution_count": 42,
   "metadata": {},
   "outputs": [
    {
     "data": {
      "text/html": [
       "<div>\n",
       "<style scoped>\n",
       "    .dataframe tbody tr th:only-of-type {\n",
       "        vertical-align: middle;\n",
       "    }\n",
       "\n",
       "    .dataframe tbody tr th {\n",
       "        vertical-align: top;\n",
       "    }\n",
       "\n",
       "    .dataframe thead th {\n",
       "        text-align: right;\n",
       "    }\n",
       "</style>\n",
       "<table border=\"1\" class=\"dataframe\">\n",
       "  <thead>\n",
       "    <tr style=\"text-align: right;\">\n",
       "      <th></th>\n",
       "      <th>brand</th>\n",
       "      <th>item</th>\n",
       "      <th>price</th>\n",
       "      <th>image</th>\n",
       "      <th>link</th>\n",
       "      <th>review</th>\n",
       "    </tr>\n",
       "  </thead>\n",
       "  <tbody>\n",
       "    <tr>\n",
       "      <th>0</th>\n",
       "      <td>제이픽스</td>\n",
       "      <td>원목 사이드테이블 협탁 (강화유리선반) 4color</td>\n",
       "      <td>18,800</td>\n",
       "      <td>./static/img/bed/night_stand/night_stand1.png</td>\n",
       "      <td>https://ohou.se/productions/244188/selling?aff...</td>\n",
       "      <td>[전체적으로 나온 사진이 없어서 이렇게 첨부해요,,ㅜ 원룸에서 사용하려고 구매했고 ...</td>\n",
       "    </tr>\n",
       "    <tr>\n",
       "      <th>1</th>\n",
       "      <td>모노폴리오</td>\n",
       "      <td>헤이 매거진랙 침실 거실 협탁 4colors</td>\n",
       "      <td>39,000</td>\n",
       "      <td>./static/img/bed/night_stand/night_stand2.png</td>\n",
       "      <td>https://ohou.se/productions/306402/selling?aff...</td>\n",
       "      <td>[티비는 큰디 원래 사려고 했던 거실장은 길이가 좀 짧아서 추가 구매했어요 붙여놓으...</td>\n",
       "    </tr>\n",
       "    <tr>\n",
       "      <th>2</th>\n",
       "      <td>나누벨</td>\n",
       "      <td>베르 고무나무 심플 원목 미니 침대 옆 협탁 선반</td>\n",
       "      <td>49,800</td>\n",
       "      <td>./static/img/bed/night_stand/night_stand3.png</td>\n",
       "      <td>https://ohou.se/productions/443184/selling?aff...</td>\n",
       "      <td>[같은거 전에 사서 잘 쓰고 있다가 엄마 사드리려고 추가 구매했습니다~! 질리지 않...</td>\n",
       "    </tr>\n",
       "    <tr>\n",
       "      <th>3</th>\n",
       "      <td>올쏘퍼니처</td>\n",
       "      <td>(오늘의딜) 플로 미니 침대 협탁 소파 사이드 테이블 3colors</td>\n",
       "      <td>43,900</td>\n",
       "      <td>./static/img/bed/night_stand/night_stand4.png</td>\n",
       "      <td>https://ohou.se/productions/958608/selling?aff...</td>\n",
       "      <td>[협탁이 없어서 휴대폰을 침대발치 방바닥에두고 사용해서 불편했는데 좁디좁은 공간에 ...</td>\n",
       "    </tr>\n",
       "    <tr>\n",
       "      <th>4</th>\n",
       "      <td>이케아</td>\n",
       "      <td>네스나 원목 협탁 사이드테이블 (안전포장)</td>\n",
       "      <td>24,400</td>\n",
       "      <td>./static/img/bed/night_stand/night_stand5.png</td>\n",
       "      <td>https://ohou.se/productions/228411/selling?aff...</td>\n",
       "      <td>[거실장 옆에 셋톱박스 정리함 올려두고 댕댕이용품 정리 하려고 샀는데 화분과 탈모관...</td>\n",
       "    </tr>\n",
       "    <tr>\n",
       "      <th>...</th>\n",
       "      <td>...</td>\n",
       "      <td>...</td>\n",
       "      <td>...</td>\n",
       "      <td>...</td>\n",
       "      <td>...</td>\n",
       "      <td>...</td>\n",
       "    </tr>\n",
       "    <tr>\n",
       "      <th>97</th>\n",
       "      <td>AQY</td>\n",
       "      <td>투명 아크릴 협탁 사이드테이블 미드센추리모던 모듈 미니 2단</td>\n",
       "      <td>56,800</td>\n",
       "      <td>./static/img/bed/night_stand/night_stand98.png</td>\n",
       "      <td>https://ohou.se/productions/1283251/selling?af...</td>\n",
       "      <td>[완전조아요!!!! 제가딱원하는침대협탁이예여 만족해여 100프로, 조명과 함께 두었...</td>\n",
       "    </tr>\n",
       "    <tr>\n",
       "      <th>98</th>\n",
       "      <td>마켓비</td>\n",
       "      <td>MONTAC 사이드테이블 TBM4631</td>\n",
       "      <td>69,000</td>\n",
       "      <td>./static/img/bed/night_stand/night_stand99.png</td>\n",
       "      <td>https://ohou.se/productions/101302/selling?aff...</td>\n",
       "      <td>[분위기있고 예쁘고 좋아요! 견고하답니당, 잘 받았습니다....견고하고 이쁘네요.....</td>\n",
       "    </tr>\n",
       "    <tr>\n",
       "      <th>99</th>\n",
       "      <td>모노먼트</td>\n",
       "      <td>강화 유리 순수 원목 2단 협탁 소나무 침대 사이드 선반 테이블</td>\n",
       "      <td>16,900</td>\n",
       "      <td>./static/img/bed/night_stand/night_stand100.png</td>\n",
       "      <td>https://ohou.se/productions/887454/selling?aff...</td>\n",
       "      <td>[잘쓸게요 조립 쉬운편이였고 기본 협탁 딱 가격에 합리적인 구매였습니다, 간이 협탁...</td>\n",
       "    </tr>\n",
       "    <tr>\n",
       "      <th>100</th>\n",
       "      <td>로포텐</td>\n",
       "      <td>브릿지 3단 원목 침대협탁</td>\n",
       "      <td>129,000</td>\n",
       "      <td>./static/img/bed/night_stand/night_stand101.png</td>\n",
       "      <td>https://ohou.se/productions/610695/selling?aff...</td>\n",
       "      <td>[클래식한 디자인이라 오래 쓸 수 있을 것 같아서 골랐어요 약간 촌스러울 수도 있을...</td>\n",
       "    </tr>\n",
       "    <tr>\n",
       "      <th>101</th>\n",
       "      <td>인디우드</td>\n",
       "      <td>웨이브 미니 침대 거실 사이드 테이블 협탁 3colors</td>\n",
       "      <td>62,900</td>\n",
       "      <td>./static/img/bed/night_stand/night_stand102.png</td>\n",
       "      <td>https://ohou.se/productions/1862700/selling?af...</td>\n",
       "      <td>[색상도 크기도 딱이예요 ㅠㅠ 귀엽고 조립하기도 쉽습니당 ’◡‘, 색상도이쁘고맘에들...</td>\n",
       "    </tr>\n",
       "  </tbody>\n",
       "</table>\n",
       "<p>102 rows × 6 columns</p>\n",
       "</div>"
      ],
      "text/plain": [
       "     brand                                   item    price  \\\n",
       "0     제이픽스           원목 사이드테이블 협탁 (강화유리선반) 4color   18,800   \n",
       "1    모노폴리오               헤이 매거진랙 침실 거실 협탁 4colors   39,000   \n",
       "2      나누벨            베르 고무나무 심플 원목 미니 침대 옆 협탁 선반   49,800   \n",
       "3    올쏘퍼니처  (오늘의딜) 플로 미니 침대 협탁 소파 사이드 테이블 3colors   43,900   \n",
       "4      이케아                네스나 원목 협탁 사이드테이블 (안전포장)   24,400   \n",
       "..     ...                                    ...      ...   \n",
       "97     AQY      투명 아크릴 협탁 사이드테이블 미드센추리모던 모듈 미니 2단   56,800   \n",
       "98     마켓비                  MONTAC 사이드테이블 TBM4631   69,000   \n",
       "99    모노먼트    강화 유리 순수 원목 2단 협탁 소나무 침대 사이드 선반 테이블   16,900   \n",
       "100    로포텐                         브릿지 3단 원목 침대협탁  129,000   \n",
       "101   인디우드        웨이브 미니 침대 거실 사이드 테이블 협탁 3colors   62,900   \n",
       "\n",
       "                                               image  \\\n",
       "0      ./static/img/bed/night_stand/night_stand1.png   \n",
       "1      ./static/img/bed/night_stand/night_stand2.png   \n",
       "2      ./static/img/bed/night_stand/night_stand3.png   \n",
       "3      ./static/img/bed/night_stand/night_stand4.png   \n",
       "4      ./static/img/bed/night_stand/night_stand5.png   \n",
       "..                                               ...   \n",
       "97    ./static/img/bed/night_stand/night_stand98.png   \n",
       "98    ./static/img/bed/night_stand/night_stand99.png   \n",
       "99   ./static/img/bed/night_stand/night_stand100.png   \n",
       "100  ./static/img/bed/night_stand/night_stand101.png   \n",
       "101  ./static/img/bed/night_stand/night_stand102.png   \n",
       "\n",
       "                                                  link  \\\n",
       "0    https://ohou.se/productions/244188/selling?aff...   \n",
       "1    https://ohou.se/productions/306402/selling?aff...   \n",
       "2    https://ohou.se/productions/443184/selling?aff...   \n",
       "3    https://ohou.se/productions/958608/selling?aff...   \n",
       "4    https://ohou.se/productions/228411/selling?aff...   \n",
       "..                                                 ...   \n",
       "97   https://ohou.se/productions/1283251/selling?af...   \n",
       "98   https://ohou.se/productions/101302/selling?aff...   \n",
       "99   https://ohou.se/productions/887454/selling?aff...   \n",
       "100  https://ohou.se/productions/610695/selling?aff...   \n",
       "101  https://ohou.se/productions/1862700/selling?af...   \n",
       "\n",
       "                                                review  \n",
       "0    [전체적으로 나온 사진이 없어서 이렇게 첨부해요,,ㅜ 원룸에서 사용하려고 구매했고 ...  \n",
       "1    [티비는 큰디 원래 사려고 했던 거실장은 길이가 좀 짧아서 추가 구매했어요 붙여놓으...  \n",
       "2    [같은거 전에 사서 잘 쓰고 있다가 엄마 사드리려고 추가 구매했습니다~! 질리지 않...  \n",
       "3    [협탁이 없어서 휴대폰을 침대발치 방바닥에두고 사용해서 불편했는데 좁디좁은 공간에 ...  \n",
       "4    [거실장 옆에 셋톱박스 정리함 올려두고 댕댕이용품 정리 하려고 샀는데 화분과 탈모관...  \n",
       "..                                                 ...  \n",
       "97   [완전조아요!!!! 제가딱원하는침대협탁이예여 만족해여 100프로, 조명과 함께 두었...  \n",
       "98   [분위기있고 예쁘고 좋아요! 견고하답니당, 잘 받았습니다....견고하고 이쁘네요.....  \n",
       "99   [잘쓸게요 조립 쉬운편이였고 기본 협탁 딱 가격에 합리적인 구매였습니다, 간이 협탁...  \n",
       "100  [클래식한 디자인이라 오래 쓸 수 있을 것 같아서 골랐어요 약간 촌스러울 수도 있을...  \n",
       "101  [색상도 크기도 딱이예요 ㅠㅠ 귀엽고 조립하기도 쉽습니당 ’◡‘, 색상도이쁘고맘에들...  \n",
       "\n",
       "[102 rows x 6 columns]"
      ]
     },
     "execution_count": 42,
     "metadata": {},
     "output_type": "execute_result"
    }
   ],
   "source": [
    "night_stand = pd.DataFrame(info, columns=['brand', 'item', 'price', 'image', 'link', 'review'])\n",
    "night_stand"
   ]
  },
  {
   "cell_type": "code",
   "execution_count": 43,
   "metadata": {},
   "outputs": [],
   "source": [
    "night_stand.to_csv('night_stand.csv')"
   ]
  },
  {
   "cell_type": "markdown",
   "metadata": {},
   "source": [
    "---"
   ]
  },
  {
   "cell_type": "markdown",
   "metadata": {},
   "source": [
    "### 3) 거울"
   ]
  },
  {
   "cell_type": "code",
   "execution_count": 44,
   "metadata": {},
   "outputs": [],
   "source": [
    "# 사이트 열기\n",
    "driver.get('https://ohou.se/store/category?category_id=10270017')\n",
    "driver.implicitly_wait(10)\n",
    "time.sleep(3)\n",
    "\n",
    "# 리뷰많은순으로 변경\n",
    "pre_order = driver.find_element(By.CLASS_NAME, \"category-filter-bar-order-button\").click()\n",
    "time.sleep(0.5+random.random())\n",
    "\n",
    "order_ = driver.find_elements(By.CLASS_NAME, \"property-filter-panel-entry-list__item__title\")\n",
    "order_[-3].click()\n",
    "time.sleep(0.5+random.random())"
   ]
  },
  {
   "cell_type": "code",
   "execution_count": 45,
   "metadata": {},
   "outputs": [
    {
     "name": "stderr",
     "output_type": "stream",
     "text": [
      "  0%|          | 0/20 [00:00<?, ?it/s]"
     ]
    },
    {
     "name": "stdout",
     "output_type": "stream",
     "text": [
      "15 개 데이터 가져옴....\n"
     ]
    },
    {
     "name": "stderr",
     "output_type": "stream",
     "text": [
      "  5%|▌         | 1/20 [00:05<01:43,  5.45s/it]"
     ]
    },
    {
     "name": "stdout",
     "output_type": "stream",
     "text": [
      "21 개 데이터 가져옴....\n"
     ]
    },
    {
     "name": "stderr",
     "output_type": "stream",
     "text": [
      " 10%|█         | 2/20 [00:11<01:39,  5.53s/it]"
     ]
    },
    {
     "name": "stdout",
     "output_type": "stream",
     "text": [
      "21 개 데이터 가져옴....\n"
     ]
    },
    {
     "name": "stderr",
     "output_type": "stream",
     "text": [
      " 15%|█▌        | 3/20 [00:16<01:34,  5.57s/it]"
     ]
    },
    {
     "name": "stdout",
     "output_type": "stream",
     "text": [
      "24 개 데이터 가져옴....\n"
     ]
    },
    {
     "name": "stderr",
     "output_type": "stream",
     "text": [
      " 20%|██        | 4/20 [00:22<01:29,  5.59s/it]"
     ]
    },
    {
     "name": "stdout",
     "output_type": "stream",
     "text": [
      "21 개 데이터 가져옴....\n"
     ]
    },
    {
     "name": "stderr",
     "output_type": "stream",
     "text": [
      " 25%|██▌       | 5/20 [00:27<01:23,  5.59s/it]"
     ]
    },
    {
     "name": "stdout",
     "output_type": "stream",
     "text": [
      "24 개 데이터 가져옴....\n"
     ]
    },
    {
     "name": "stderr",
     "output_type": "stream",
     "text": [
      " 30%|███       | 6/20 [00:33<01:18,  5.61s/it]"
     ]
    },
    {
     "name": "stdout",
     "output_type": "stream",
     "text": [
      "21 개 데이터 가져옴....\n"
     ]
    },
    {
     "name": "stderr",
     "output_type": "stream",
     "text": [
      " 35%|███▌      | 7/20 [00:39<01:12,  5.60s/it]"
     ]
    },
    {
     "name": "stdout",
     "output_type": "stream",
     "text": [
      "24 개 데이터 가져옴....\n"
     ]
    },
    {
     "name": "stderr",
     "output_type": "stream",
     "text": [
      " 40%|████      | 8/20 [00:44<01:07,  5.61s/it]"
     ]
    },
    {
     "name": "stdout",
     "output_type": "stream",
     "text": [
      "21 개 데이터 가져옴....\n"
     ]
    },
    {
     "name": "stderr",
     "output_type": "stream",
     "text": [
      " 45%|████▌     | 9/20 [00:50<01:01,  5.59s/it]"
     ]
    },
    {
     "name": "stdout",
     "output_type": "stream",
     "text": [
      "24 개 데이터 가져옴....\n"
     ]
    },
    {
     "name": "stderr",
     "output_type": "stream",
     "text": [
      " 50%|█████     | 10/20 [00:55<00:56,  5.61s/it]"
     ]
    },
    {
     "name": "stdout",
     "output_type": "stream",
     "text": [
      "21 개 데이터 가져옴....\n"
     ]
    },
    {
     "name": "stderr",
     "output_type": "stream",
     "text": [
      " 55%|█████▌    | 11/20 [01:01<00:50,  5.61s/it]"
     ]
    },
    {
     "name": "stdout",
     "output_type": "stream",
     "text": [
      "24 개 데이터 가져옴....\n"
     ]
    },
    {
     "name": "stderr",
     "output_type": "stream",
     "text": [
      " 60%|██████    | 12/20 [01:07<00:45,  5.63s/it]"
     ]
    },
    {
     "name": "stdout",
     "output_type": "stream",
     "text": [
      "21 개 데이터 가져옴....\n"
     ]
    },
    {
     "name": "stderr",
     "output_type": "stream",
     "text": [
      " 65%|██████▌   | 13/20 [01:12<00:39,  5.61s/it]"
     ]
    },
    {
     "name": "stdout",
     "output_type": "stream",
     "text": [
      "27 개 데이터 가져옴....\n"
     ]
    },
    {
     "name": "stderr",
     "output_type": "stream",
     "text": [
      " 70%|███████   | 14/20 [01:18<00:33,  5.65s/it]"
     ]
    },
    {
     "name": "stdout",
     "output_type": "stream",
     "text": [
      "24 개 데이터 가져옴....\n"
     ]
    },
    {
     "name": "stderr",
     "output_type": "stream",
     "text": [
      " 75%|███████▌  | 15/20 [01:24<00:28,  5.64s/it]"
     ]
    },
    {
     "name": "stdout",
     "output_type": "stream",
     "text": [
      "27 개 데이터 가져옴....\n"
     ]
    },
    {
     "name": "stderr",
     "output_type": "stream",
     "text": [
      " 80%|████████  | 16/20 [01:29<00:22,  5.67s/it]"
     ]
    },
    {
     "name": "stdout",
     "output_type": "stream",
     "text": [
      "24 개 데이터 가져옴....\n"
     ]
    },
    {
     "name": "stderr",
     "output_type": "stream",
     "text": [
      " 85%|████████▌ | 17/20 [01:35<00:17,  5.70s/it]"
     ]
    },
    {
     "name": "stdout",
     "output_type": "stream",
     "text": [
      "27 개 데이터 가져옴....\n"
     ]
    },
    {
     "name": "stderr",
     "output_type": "stream",
     "text": [
      " 90%|█████████ | 18/20 [01:41<00:11,  5.73s/it]"
     ]
    },
    {
     "name": "stdout",
     "output_type": "stream",
     "text": [
      "24 개 데이터 가져옴....\n"
     ]
    },
    {
     "name": "stderr",
     "output_type": "stream",
     "text": [
      " 95%|█████████▌| 19/20 [01:47<00:05,  5.72s/it]"
     ]
    },
    {
     "name": "stdout",
     "output_type": "stream",
     "text": [
      "27 개 데이터 가져옴....\n"
     ]
    },
    {
     "name": "stderr",
     "output_type": "stream",
     "text": [
      "100%|██████████| 20/20 [01:52<00:00,  5.64s/it]\n"
     ]
    }
   ],
   "source": [
    "info = []\n",
    "\n",
    "ffffa = 0\n",
    "# 스크롤 내리기\n",
    "def scroll():\n",
    "\n",
    "    global ffffa\n",
    "    ffffa += 600 \n",
    "    driver.execute_script(\"window.scrollTo(0, \"+ str(ffffa) + \")\")\n",
    "\n",
    "# 제목 : [브랜드, 제목, 가격, 이미지위치]\n",
    "# 스크롤을 조금씩 내리면서 가져오기 때문에 데이터 중복 가능\n",
    "# 데이터 중복 제거하기 위해 제목은 중복안되니까 제목을 key로 지정 \n",
    "data = {}\n",
    "\n",
    "# 스크롤 조금씩 내리면서 데이터 가져오기\n",
    "for page in tqdm(range(20)):\n",
    "    scroll()\n",
    "    time.sleep(5)\n",
    "\n",
    "    # 브랜드, 상품명, 가격, 이미지 경로, 제품 링크\n",
    "    brands =  driver.find_elements(By.CLASS_NAME, \"production-item__header__brand\")\n",
    "    names =  driver.find_elements(By.CLASS_NAME, \"production-item__header__name\")\n",
    "    prices = driver.find_elements(By.CLASS_NAME, \"production-item-price__price\")\n",
    "    srcs=  driver.find_elements(By.CLASS_NAME, \"image\")\n",
    "    links =  driver.find_elements(By.CLASS_NAME, \"production-item__overlay\")\n",
    "\n",
    "    amount= len(brands)\n",
    "    print(amount ,\"개 데이터 가져옴....\")\n",
    "    \n",
    "    for i in range(amount):\n",
    "        # 브랜드\n",
    "        brand = brands[i].text\n",
    "\n",
    "        # 상품명\n",
    "        name = names[i].text\n",
    "        name = re.sub(r'\\[.*?\\]', '', name)\n",
    "\n",
    "        # 가격\n",
    "        price = prices[i].text\n",
    "\n",
    "        # 이미지 경로\n",
    "        src = srcs[i].get_attribute('src')\n",
    "\n",
    "        # 제품 링크\n",
    "        link = links[i].get_attribute(\"href\")\n",
    "\n",
    "        data[name] = [brand, name, price, src, link]\n"
   ]
  },
  {
   "cell_type": "code",
   "execution_count": 46,
   "metadata": {},
   "outputs": [
    {
     "data": {
      "text/plain": [
       "101"
      ]
     },
     "execution_count": 46,
     "metadata": {},
     "output_type": "execute_result"
    }
   ],
   "source": [
    "result_amount = len(data.keys())\n",
    "result_amount"
   ]
  },
  {
   "cell_type": "code",
   "execution_count": 47,
   "metadata": {},
   "outputs": [
    {
     "name": "stderr",
     "output_type": "stream",
     "text": [
      "  1%|          | 1/101 [00:01<02:19,  1.40s/it]"
     ]
    },
    {
     "name": "stdout",
     "output_type": "stream",
     "text": [
      "https://image.ohou.se/i/bucketplace-v2-development/uploads/productions/167825809918046066.jpg?gif=1&w=360&h=360&c=c&q=0.8&webp=1\n"
     ]
    },
    {
     "name": "stderr",
     "output_type": "stream",
     "text": [
      "  2%|▏         | 2/101 [00:02<02:10,  1.32s/it]"
     ]
    },
    {
     "name": "stdout",
     "output_type": "stream",
     "text": [
      "https://image.ohou.se/i/bucketplace-v2-development/uploads/productions/168308246707664480.jpg?gif=1&w=360&h=360&c=c&q=0.8&webp=1\n"
     ]
    },
    {
     "name": "stderr",
     "output_type": "stream",
     "text": [
      "  3%|▎         | 3/101 [00:03<02:06,  1.29s/it]"
     ]
    },
    {
     "name": "stdout",
     "output_type": "stream",
     "text": [
      "https://image.ohou.se/i/bucketplace-v2-development/uploads/productions/168308203365571311.jpg?gif=1&w=360&h=360&c=c&q=0.8&webp=1\n"
     ]
    },
    {
     "name": "stderr",
     "output_type": "stream",
     "text": [
      "  4%|▍         | 4/101 [00:05<02:20,  1.45s/it]"
     ]
    },
    {
     "name": "stdout",
     "output_type": "stream",
     "text": [
      "https://image.ohou.se/i/bucketplace-v2-development/uploads/productions/101797_1.jpg?gif=1&w=360&h=360&c=c&q=0.8&webp=1\n"
     ]
    },
    {
     "name": "stderr",
     "output_type": "stream",
     "text": [
      "  5%|▍         | 5/101 [00:07<02:25,  1.52s/it]"
     ]
    },
    {
     "name": "stdout",
     "output_type": "stream",
     "text": [
      "https://image.ohou.se/i/bucketplace-v2-development/uploads/productions/165484262645266978.jpg?gif=1&w=360&h=360&c=c&q=0.8&webp=1\n"
     ]
    },
    {
     "name": "stderr",
     "output_type": "stream",
     "text": [
      "  6%|▌         | 6/101 [00:08<02:03,  1.30s/it]"
     ]
    },
    {
     "name": "stdout",
     "output_type": "stream",
     "text": [
      "https://image.ohou.se/i/bucketplace-v2-development/uploads/productions/167815251868871791.jpg?gif=1&w=360&h=360&c=c&q=0.8&webp=1\n"
     ]
    },
    {
     "name": "stderr",
     "output_type": "stream",
     "text": [
      "  7%|▋         | 7/101 [00:09<01:50,  1.18s/it]"
     ]
    },
    {
     "name": "stdout",
     "output_type": "stream",
     "text": [
      "https://image.ohou.se/i/bucketplace-v2-development/uploads/productions/163574159114711715.jpg?gif=1&w=360&h=360&c=c&q=0.8&webp=1\n"
     ]
    },
    {
     "name": "stderr",
     "output_type": "stream",
     "text": [
      "  8%|▊         | 8/101 [00:10<02:04,  1.34s/it]"
     ]
    },
    {
     "name": "stdout",
     "output_type": "stream",
     "text": [
      "https://image.ohou.se/i/bucketplace-v2-development/uploads/productions/1556806668188_Vq.jpg?gif=1&w=360&h=360&c=c&q=0.8&webp=1\n"
     ]
    },
    {
     "name": "stderr",
     "output_type": "stream",
     "text": [
      "  9%|▉         | 9/101 [00:12<02:17,  1.49s/it]"
     ]
    },
    {
     "name": "stdout",
     "output_type": "stream",
     "text": [
      "https://image.ohou.se/i/bucketplace-v2-development/uploads/productions/164197261524743667.jpg?gif=1&w=360&h=360&c=c&q=0.8&webp=1\n"
     ]
    },
    {
     "name": "stderr",
     "output_type": "stream",
     "text": [
      " 10%|▉         | 10/101 [00:14<02:20,  1.54s/it]"
     ]
    },
    {
     "name": "stdout",
     "output_type": "stream",
     "text": [
      "https://image.ohou.se/i/bucketplace-v2-development/uploads/productions/161517074824755275.jpeg?gif=1&w=360&h=360&c=c&q=0.8&webp=1\n"
     ]
    },
    {
     "name": "stderr",
     "output_type": "stream",
     "text": [
      " 11%|█         | 11/101 [00:15<02:14,  1.50s/it]"
     ]
    },
    {
     "name": "stdout",
     "output_type": "stream",
     "text": [
      "https://image.ohou.se/i/bucketplace-v2-development/uploads/productions/168508039179205329.jpg?gif=1&w=360&h=360&c=c&q=0.8&webp=1\n"
     ]
    },
    {
     "name": "stderr",
     "output_type": "stream",
     "text": [
      " 12%|█▏        | 12/101 [00:17<02:12,  1.49s/it]"
     ]
    },
    {
     "name": "stdout",
     "output_type": "stream",
     "text": [
      "https://image.ohou.se/i/bucketplace-v2-development/uploads/productions/167771909392135016.jpg?gif=1&w=360&h=360&c=c&q=0.8&webp=1\n"
     ]
    },
    {
     "name": "stderr",
     "output_type": "stream",
     "text": [
      " 13%|█▎        | 13/101 [00:18<01:56,  1.33s/it]"
     ]
    },
    {
     "name": "stdout",
     "output_type": "stream",
     "text": [
      "https://image.ohou.se/i/bucketplace-v2-development/uploads/productions/166424532281606001.jpg?gif=1&w=360&h=360&c=c&q=0.8&webp=1\n"
     ]
    },
    {
     "name": "stderr",
     "output_type": "stream",
     "text": [
      " 14%|█▍        | 14/101 [00:19<01:58,  1.36s/it]"
     ]
    },
    {
     "name": "stdout",
     "output_type": "stream",
     "text": [
      "https://image.ohou.se/i/bucketplace-v2-development/uploads/productions/159468983689980813.jpg?gif=1&w=360&h=360&c=c&q=0.8&webp=1\n"
     ]
    },
    {
     "name": "stderr",
     "output_type": "stream",
     "text": [
      " 15%|█▍        | 15/101 [00:21<02:15,  1.57s/it]"
     ]
    },
    {
     "name": "stdout",
     "output_type": "stream",
     "text": [
      "https://image.ohou.se/i/bucketplace-v2-development/uploads/productions/165509340324399671.jpg?gif=1&w=360&h=360&c=c&q=0.8&webp=1\n"
     ]
    },
    {
     "name": "stderr",
     "output_type": "stream",
     "text": [
      " 16%|█▌        | 16/101 [00:23<02:14,  1.58s/it]"
     ]
    },
    {
     "name": "stdout",
     "output_type": "stream",
     "text": [
      "https://image.ohou.se/i/bucketplace-v2-development/uploads/productions/162390763185925693.jpg?gif=1&w=360&h=360&c=c&q=0.8&webp=1\n"
     ]
    },
    {
     "name": "stderr",
     "output_type": "stream",
     "text": [
      " 17%|█▋        | 17/101 [00:25<02:21,  1.68s/it]"
     ]
    },
    {
     "name": "stdout",
     "output_type": "stream",
     "text": [
      "https://image.ohou.se/i/bucketplace-v2-development/uploads/productions/160586391533885971.jpg?gif=1&w=360&h=360&c=c&q=0.8&webp=1\n"
     ]
    },
    {
     "name": "stderr",
     "output_type": "stream",
     "text": [
      " 18%|█▊        | 18/101 [00:26<02:12,  1.60s/it]"
     ]
    },
    {
     "name": "stdout",
     "output_type": "stream",
     "text": [
      "https://image.ohou.se/i/bucketplace-v2-development/uploads/productions/1554958653746_TSK3.jpg?gif=1&w=360&h=360&c=c&q=0.8&webp=1\n"
     ]
    },
    {
     "name": "stderr",
     "output_type": "stream",
     "text": [
      " 19%|█▉        | 19/101 [00:27<02:00,  1.47s/it]"
     ]
    },
    {
     "name": "stdout",
     "output_type": "stream",
     "text": [
      "https://image.ohou.se/i/bucketplace-v2-development/uploads/productions/162485469775930066.jpg?gif=1&w=360&h=360&c=c&q=0.8&webp=1\n"
     ]
    },
    {
     "name": "stderr",
     "output_type": "stream",
     "text": [
      " 20%|█▉        | 20/101 [00:28<01:52,  1.38s/it]"
     ]
    },
    {
     "name": "stdout",
     "output_type": "stream",
     "text": [
      "https://image.ohou.se/i/bucketplace-v2-development/uploads/productions/167213115581394306.jpg?gif=1&w=360&h=360&c=c&q=0.8&webp=1\n"
     ]
    },
    {
     "name": "stderr",
     "output_type": "stream",
     "text": [
      " 21%|██        | 21/101 [00:32<02:33,  1.92s/it]"
     ]
    },
    {
     "name": "stdout",
     "output_type": "stream",
     "text": [
      "https://image.ohou.se/i/bucketplace-v2-development/uploads/productions/161413321750977375.jpg?gif=1&w=360&h=360&c=c&q=0.8&webp=1\n"
     ]
    },
    {
     "name": "stderr",
     "output_type": "stream",
     "text": [
      " 22%|██▏       | 22/101 [00:33<02:24,  1.83s/it]"
     ]
    },
    {
     "name": "stdout",
     "output_type": "stream",
     "text": [
      "https://image.ohou.se/i/bucketplace-v2-development/uploads/openapi/2948640/1675215245116.jpg?gif=1&w=360&h=360&c=c&q=0.8&webp=1\n"
     ]
    },
    {
     "name": "stderr",
     "output_type": "stream",
     "text": [
      " 23%|██▎       | 23/101 [00:34<02:11,  1.68s/it]"
     ]
    },
    {
     "name": "stdout",
     "output_type": "stream",
     "text": [
      "https://image.ohou.se/i/bucketplace-v2-development/uploads/productions/159126036107031504.jpg?gif=1&w=360&h=360&c=c&q=0.8&webp=1\n"
     ]
    },
    {
     "name": "stderr",
     "output_type": "stream",
     "text": [
      " 24%|██▍       | 24/101 [00:36<02:10,  1.69s/it]"
     ]
    },
    {
     "name": "stdout",
     "output_type": "stream",
     "text": [
      "https://image.ohou.se/i/bucketplace-v2-development/uploads/productions/163609474380342718.jpg?gif=1&w=360&h=360&c=c&q=0.8&webp=1\n"
     ]
    },
    {
     "name": "stderr",
     "output_type": "stream",
     "text": [
      " 25%|██▍       | 25/101 [00:37<01:59,  1.57s/it]"
     ]
    },
    {
     "name": "stdout",
     "output_type": "stream",
     "text": [
      "https://image.ohou.se/i/bucketplace-v2-development/uploads/productions/159126017589390281.jpg?gif=1&w=360&h=360&c=c&q=0.8&webp=1\n"
     ]
    },
    {
     "name": "stderr",
     "output_type": "stream",
     "text": [
      " 26%|██▌       | 26/101 [00:39<02:02,  1.63s/it]"
     ]
    },
    {
     "name": "stdout",
     "output_type": "stream",
     "text": [
      "https://image.ohou.se/i/bucketplace-v2-development/uploads/productions/169811092784637226.jpg?gif=1&w=360&h=360&c=c&q=0.8&webp=1\n"
     ]
    },
    {
     "name": "stderr",
     "output_type": "stream",
     "text": [
      " 27%|██▋       | 27/101 [00:41<01:59,  1.62s/it]"
     ]
    },
    {
     "name": "stdout",
     "output_type": "stream",
     "text": [
      "https://image.ohou.se/i/bucketplace-v2-development/uploads/productions/162253066841119953.jpg?gif=1&w=360&h=360&c=c&q=0.8&webp=1\n"
     ]
    },
    {
     "name": "stderr",
     "output_type": "stream",
     "text": [
      " 28%|██▊       | 28/101 [00:42<01:56,  1.60s/it]"
     ]
    },
    {
     "name": "stdout",
     "output_type": "stream",
     "text": [
      "https://image.ohou.se/i/bucketplace-v2-development/uploads/productions/164422507278356222.jpg?gif=1&w=360&h=360&c=c&q=0.8&webp=1\n"
     ]
    },
    {
     "name": "stderr",
     "output_type": "stream",
     "text": [
      " 29%|██▊       | 29/101 [00:45<02:17,  1.91s/it]"
     ]
    },
    {
     "name": "stdout",
     "output_type": "stream",
     "text": [
      "https://image.ohou.se/i/bucketplace-v2-development/uploads/productions/164549012250601194.jpg?gif=1&w=360&h=360&c=c&q=0.8&webp=1\n",
      "https://image.ohou.se/i/bucketplace-v2-development/uploads/productions/162847644046942695.jpg?gif=1&w=360&h=360&c=c&q=0.8&webp=1\n"
     ]
    },
    {
     "name": "stderr",
     "output_type": "stream",
     "text": [
      " 31%|███       | 31/101 [00:50<02:28,  2.12s/it]"
     ]
    },
    {
     "name": "stdout",
     "output_type": "stream",
     "text": [
      "https://image.ohou.se/i/bucketplace-v2-development/uploads/productions/162201766591721245.jpg?gif=1&w=360&h=360&c=c&q=0.8&webp=1\n"
     ]
    },
    {
     "name": "stderr",
     "output_type": "stream",
     "text": [
      " 32%|███▏      | 32/101 [00:51<02:11,  1.91s/it]"
     ]
    },
    {
     "name": "stdout",
     "output_type": "stream",
     "text": [
      "https://image.ohou.se/i/bucketplace-v2-development/uploads/productions/167771888099127938.jpg?gif=1&w=360&h=360&c=c&q=0.8&webp=1\n"
     ]
    },
    {
     "name": "stderr",
     "output_type": "stream",
     "text": [
      " 33%|███▎      | 33/101 [00:53<02:03,  1.82s/it]"
     ]
    },
    {
     "name": "stdout",
     "output_type": "stream",
     "text": [
      "https://image.ohou.se/i/bucketplace-v2-development/uploads/productions/163028013806004649.jpg?gif=1&w=360&h=360&c=c&q=0.8&webp=1\n"
     ]
    },
    {
     "name": "stderr",
     "output_type": "stream",
     "text": [
      " 34%|███▎      | 34/101 [00:55<02:00,  1.79s/it]"
     ]
    },
    {
     "name": "stdout",
     "output_type": "stream",
     "text": [
      "https://image.ohou.se/i/bucketplace-v2-development/uploads/productions/161277698691647824.jpg?gif=1&w=360&h=360&c=c&q=0.8&webp=1\n"
     ]
    },
    {
     "name": "stderr",
     "output_type": "stream",
     "text": [
      " 35%|███▍      | 35/101 [00:57<01:57,  1.78s/it]"
     ]
    },
    {
     "name": "stdout",
     "output_type": "stream",
     "text": [
      "https://image.ohou.se/i/bucketplace-v2-development/uploads/productions/162389519294008249.jpg?gif=1&w=360&h=360&c=c&q=0.8&webp=1\n",
      "https://image.ohou.se/i/bucketplace-v2-development/uploads/productions/167825775355905627.jpg?gif=1&w=360&h=360&c=c&q=0.8&webp=1\n"
     ]
    },
    {
     "name": "stderr",
     "output_type": "stream",
     "text": [
      " 37%|███▋      | 37/101 [01:01<02:05,  1.96s/it]"
     ]
    },
    {
     "name": "stdout",
     "output_type": "stream",
     "text": [
      "https://image.ohou.se/i/bucketplace-v2-development/uploads/productions/158761263239339590.jpg?gif=1&w=360&h=360&c=c&q=0.8&webp=1\n"
     ]
    },
    {
     "name": "stderr",
     "output_type": "stream",
     "text": [
      " 38%|███▊      | 38/101 [01:03<02:01,  1.92s/it]"
     ]
    },
    {
     "name": "stdout",
     "output_type": "stream",
     "text": [
      "https://image.ohou.se/i/bucketplace-v2-development/uploads/productions/1529597757811_pT.jpg?gif=1&w=360&h=360&c=c&q=0.8&webp=1\n"
     ]
    },
    {
     "name": "stderr",
     "output_type": "stream",
     "text": [
      " 39%|███▊      | 39/101 [01:04<01:47,  1.74s/it]"
     ]
    },
    {
     "name": "stdout",
     "output_type": "stream",
     "text": [
      "https://image.ohou.se/i/bucketplace-v2-development/uploads/productions/159711041982775987.jpg?gif=1&w=360&h=360&c=c&q=0.8&webp=1\n"
     ]
    },
    {
     "name": "stderr",
     "output_type": "stream",
     "text": [
      " 40%|███▉      | 40/101 [01:06<01:39,  1.64s/it]"
     ]
    },
    {
     "name": "stdout",
     "output_type": "stream",
     "text": [
      "https://image.ohou.se/i/bucketplace-v2-development/uploads/productions/1556805300681_jF.jpg?gif=1&w=360&h=360&c=c&q=0.8&webp=1\n"
     ]
    },
    {
     "name": "stderr",
     "output_type": "stream",
     "text": [
      " 41%|████      | 41/101 [01:07<01:26,  1.45s/it]"
     ]
    },
    {
     "name": "stdout",
     "output_type": "stream",
     "text": [
      "https://image.ohou.se/i/bucketplace-v2-development/uploads/productions/161119953138765395.jpg?gif=1&w=360&h=360&c=c&q=0.8&webp=1\n"
     ]
    },
    {
     "name": "stderr",
     "output_type": "stream",
     "text": [
      " 42%|████▏     | 42/101 [01:08<01:21,  1.38s/it]"
     ]
    },
    {
     "name": "stdout",
     "output_type": "stream",
     "text": [
      "https://image.ohou.se/i/bucketplace-v2-development/uploads/productions/164733927634517972.jpg?gif=1&w=360&h=360&c=c&q=0.8&webp=1\n"
     ]
    },
    {
     "name": "stderr",
     "output_type": "stream",
     "text": [
      " 43%|████▎     | 43/101 [01:10<01:33,  1.61s/it]"
     ]
    },
    {
     "name": "stdout",
     "output_type": "stream",
     "text": [
      "https://image.ohou.se/i/bucketplace-v2-development/uploads/productions/161293185766562881.jpg?gif=1&w=360&h=360&c=c&q=0.8&webp=1\n"
     ]
    },
    {
     "name": "stderr",
     "output_type": "stream",
     "text": [
      " 44%|████▎     | 44/101 [01:11<01:18,  1.38s/it]"
     ]
    },
    {
     "name": "stdout",
     "output_type": "stream",
     "text": [
      "https://image.ohou.se/i/bucketplace-v2-development/uploads/productions/15650448098069_buRqS.jpg?gif=1&w=360&h=360&c=c&q=0.8&webp=1\n"
     ]
    },
    {
     "name": "stderr",
     "output_type": "stream",
     "text": [
      " 45%|████▍     | 45/101 [01:13<01:35,  1.71s/it]"
     ]
    },
    {
     "name": "stdout",
     "output_type": "stream",
     "text": [
      "https://image.ohou.se/i/bucketplace-v2-development/uploads/productions/15650448018974_hFGCD.jpg?gif=1&w=360&h=360&c=c&q=0.8&webp=1\n"
     ]
    },
    {
     "name": "stderr",
     "output_type": "stream",
     "text": [
      " 46%|████▌     | 46/101 [01:14<01:23,  1.52s/it]"
     ]
    },
    {
     "name": "stdout",
     "output_type": "stream",
     "text": [
      "https://image.ohou.se/i/bucketplace-v2-development/uploads/productions/163581700064909501.jpg?gif=1&w=360&h=360&c=c&q=0.8&webp=1\n"
     ]
    },
    {
     "name": "stderr",
     "output_type": "stream",
     "text": [
      " 47%|████▋     | 47/101 [01:16<01:24,  1.56s/it]"
     ]
    },
    {
     "name": "stdout",
     "output_type": "stream",
     "text": [
      "https://image.ohou.se/i/bucketplace-v2-development/uploads/productions/165000100154471854.jpg?gif=1&w=360&h=360&c=c&q=0.8&webp=1\n"
     ]
    },
    {
     "name": "stderr",
     "output_type": "stream",
     "text": [
      " 48%|████▊     | 48/101 [01:20<01:57,  2.22s/it]"
     ]
    },
    {
     "name": "stdout",
     "output_type": "stream",
     "text": [
      "https://image.ohou.se/i/bucketplace-v2-development/uploads/productions/160586507684154851.jpg?gif=1&w=360&h=360&c=c&q=0.8&webp=1\n"
     ]
    },
    {
     "name": "stderr",
     "output_type": "stream",
     "text": [
      " 49%|████▊     | 49/101 [01:21<01:40,  1.92s/it]"
     ]
    },
    {
     "name": "stdout",
     "output_type": "stream",
     "text": [
      "https://image.ohou.se/i/bucketplace-v2-development/uploads/productions/159992867612708636.jpg?gif=1&w=360&h=360&c=c&q=0.8&webp=1\n"
     ]
    },
    {
     "name": "stderr",
     "output_type": "stream",
     "text": [
      " 50%|████▉     | 50/101 [01:23<01:42,  2.01s/it]"
     ]
    },
    {
     "name": "stdout",
     "output_type": "stream",
     "text": [
      "https://image.ohou.se/i/bucketplace-v2-development/uploads/productions/161553315411376065.jpg?gif=1&w=360&h=360&c=c&q=0.8&webp=1\n"
     ]
    },
    {
     "name": "stderr",
     "output_type": "stream",
     "text": [
      " 50%|█████     | 51/101 [01:25<01:38,  1.97s/it]"
     ]
    },
    {
     "name": "stdout",
     "output_type": "stream",
     "text": [
      "https://image.ohou.se/i/bucketplace-v2-development/uploads/productions/157535561675971821.jpg?gif=1&w=360&h=360&c=c&q=0.8&webp=1\n"
     ]
    },
    {
     "name": "stderr",
     "output_type": "stream",
     "text": [
      " 51%|█████▏    | 52/101 [01:26<01:25,  1.74s/it]"
     ]
    },
    {
     "name": "stdout",
     "output_type": "stream",
     "text": [
      "https://image.ohou.se/i/bucketplace-v2-development/uploads/productions/169762835180478576.jpg?gif=1&w=360&h=360&c=c&q=0.8&webp=1\n"
     ]
    },
    {
     "name": "stderr",
     "output_type": "stream",
     "text": [
      " 52%|█████▏    | 53/101 [01:28<01:19,  1.65s/it]"
     ]
    },
    {
     "name": "stdout",
     "output_type": "stream",
     "text": [
      "https://image.ohou.se/i/bucketplace-v2-development/uploads/productions/159341881328959518.jpg?gif=1&w=360&h=360&c=c&q=0.8&webp=1\n"
     ]
    },
    {
     "name": "stderr",
     "output_type": "stream",
     "text": [
      " 53%|█████▎    | 54/101 [01:28<01:05,  1.40s/it]"
     ]
    },
    {
     "name": "stdout",
     "output_type": "stream",
     "text": [
      "https://image.ohou.se/i/bucketplace-v2-development/uploads/productions/1567385313_103528_1.jpg?gif=1&w=360&h=360&c=c&q=0.8&webp=1\n",
      "https://image.ohou.se/i/bucketplace-v2-development/uploads/productions/158711063092412780.jpg?gif=1&w=360&h=360&c=c&q=0.8&webp=1\n"
     ]
    },
    {
     "name": "stderr",
     "output_type": "stream",
     "text": [
      " 55%|█████▌    | 56/101 [01:34<01:30,  2.02s/it]"
     ]
    },
    {
     "name": "stdout",
     "output_type": "stream",
     "text": [
      "https://image.ohou.se/i/bucketplace-v2-development/uploads/productions/159072578073510014.jpg?gif=1&w=360&h=360&c=c&q=0.8&webp=1\n"
     ]
    },
    {
     "name": "stderr",
     "output_type": "stream",
     "text": [
      " 56%|█████▋    | 57/101 [01:35<01:25,  1.95s/it]"
     ]
    },
    {
     "name": "stdout",
     "output_type": "stream",
     "text": [
      "https://image.ohou.se/i/bucketplace-v2-development/uploads/productions/162183271034800462.jpg?gif=1&w=360&h=360&c=c&q=0.8&webp=1\n"
     ]
    },
    {
     "name": "stderr",
     "output_type": "stream",
     "text": [
      " 57%|█████▋    | 58/101 [01:36<01:12,  1.69s/it]"
     ]
    },
    {
     "name": "stdout",
     "output_type": "stream",
     "text": [
      "https://image.ohou.se/i/bucketplace-v2-development/uploads/productions/159045788895944112.jpg?gif=1&w=360&h=360&c=c&q=0.8&webp=1\n"
     ]
    },
    {
     "name": "stderr",
     "output_type": "stream",
     "text": [
      " 58%|█████▊    | 59/101 [01:39<01:23,  1.99s/it]"
     ]
    },
    {
     "name": "stdout",
     "output_type": "stream",
     "text": [
      "https://image.ohou.se/i/bucketplace-v2-development/uploads/productions/1599118265_124100_1.jpg?gif=1&w=360&h=360&c=c&q=0.8&webp=1\n"
     ]
    },
    {
     "name": "stderr",
     "output_type": "stream",
     "text": [
      " 59%|█████▉    | 60/101 [01:40<01:09,  1.70s/it]"
     ]
    },
    {
     "name": "stdout",
     "output_type": "stream",
     "text": [
      "https://image.ohou.se/i/bucketplace-v2-development/uploads/productions/158942122744496763.jpg?gif=1&w=360&h=360&c=c&q=0.8&webp=1\n"
     ]
    },
    {
     "name": "stderr",
     "output_type": "stream",
     "text": [
      " 60%|██████    | 61/101 [01:41<01:00,  1.51s/it]"
     ]
    },
    {
     "name": "stdout",
     "output_type": "stream",
     "text": [
      "https://image.ohou.se/i/bucketplace-v2-development/uploads/productions/156651659042124219.jpg?gif=1&w=360&h=360&c=c&q=0.8&webp=1\n"
     ]
    },
    {
     "name": "stderr",
     "output_type": "stream",
     "text": [
      " 61%|██████▏   | 62/101 [01:43<01:04,  1.65s/it]"
     ]
    },
    {
     "name": "stdout",
     "output_type": "stream",
     "text": [
      "https://image.ohou.se/i/bucketplace-v2-development/uploads/productions/162867304069772690.jpg?gif=1&w=360&h=360&c=c&q=0.8&webp=1\n",
      "https://image.ohou.se/i/bucketplace-v2-development/uploads/productions/163823576945971915.jpg?gif=1&w=360&h=360&c=c&q=0.8&webp=1\n"
     ]
    },
    {
     "name": "stderr",
     "output_type": "stream",
     "text": [
      " 63%|██████▎   | 64/101 [01:48<01:06,  1.80s/it]"
     ]
    },
    {
     "name": "stdout",
     "output_type": "stream",
     "text": [
      "https://image.ohou.se/i/bucketplace-v2-development/uploads/productions/161277703383145860.jpg?gif=1&w=360&h=360&c=c&q=0.8&webp=1\n"
     ]
    },
    {
     "name": "stderr",
     "output_type": "stream",
     "text": [
      " 64%|██████▍   | 65/101 [01:49<01:01,  1.71s/it]"
     ]
    },
    {
     "name": "stdout",
     "output_type": "stream",
     "text": [
      "https://image.ohou.se/i/bucketplace-v2-development/uploads/productions/156255129524450590.jpg?gif=1&w=360&h=360&c=c&q=0.8&webp=1\n"
     ]
    },
    {
     "name": "stderr",
     "output_type": "stream",
     "text": [
      " 65%|██████▌   | 66/101 [01:51<01:00,  1.74s/it]"
     ]
    },
    {
     "name": "stdout",
     "output_type": "stream",
     "text": [
      "https://image.ohou.se/i/bucketplace-v2-development/uploads/productions/164343162704723835.jpg?gif=1&w=360&h=360&c=c&q=0.8&webp=1\n"
     ]
    },
    {
     "name": "stderr",
     "output_type": "stream",
     "text": [
      " 66%|██████▋   | 67/101 [01:52<00:52,  1.53s/it]"
     ]
    },
    {
     "name": "stdout",
     "output_type": "stream",
     "text": [
      "ERROR!!\n"
     ]
    },
    {
     "name": "stderr",
     "output_type": "stream",
     "text": [
      " 67%|██████▋   | 68/101 [01:53<00:43,  1.32s/it]"
     ]
    },
    {
     "name": "stdout",
     "output_type": "stream",
     "text": [
      "ERROR!!\n"
     ]
    },
    {
     "name": "stderr",
     "output_type": "stream",
     "text": [
      " 68%|██████▊   | 69/101 [01:54<00:43,  1.36s/it]"
     ]
    },
    {
     "name": "stdout",
     "output_type": "stream",
     "text": [
      "ERROR!!\n"
     ]
    },
    {
     "name": "stderr",
     "output_type": "stream",
     "text": [
      " 69%|██████▉   | 70/101 [01:56<00:42,  1.39s/it]"
     ]
    },
    {
     "name": "stdout",
     "output_type": "stream",
     "text": [
      "https://image.ohou.se/i/bucketplace-v2-development/uploads/productions/160453772895373886.jpg?gif=1&w=360&h=360&c=c&q=0.8&webp=1\n"
     ]
    },
    {
     "name": "stderr",
     "output_type": "stream",
     "text": [
      " 70%|███████   | 71/101 [01:59<00:59,  1.99s/it]"
     ]
    },
    {
     "name": "stdout",
     "output_type": "stream",
     "text": [
      "https://image.ohou.se/i/bucketplace-v2-development/uploads/productions/159010694081957550.jpg?gif=1&w=360&h=360&c=c&q=0.8&webp=1\n"
     ]
    },
    {
     "name": "stderr",
     "output_type": "stream",
     "text": [
      " 71%|███████▏  | 72/101 [02:00<00:51,  1.76s/it]"
     ]
    },
    {
     "name": "stdout",
     "output_type": "stream",
     "text": [
      "https://image.ohou.se/i/bucketplace-v2-development/uploads/productions/167287972424524369.jpg?gif=1&w=360&h=360&c=c&q=0.8&webp=1\n"
     ]
    },
    {
     "name": "stderr",
     "output_type": "stream",
     "text": [
      " 72%|███████▏  | 73/101 [02:01<00:41,  1.49s/it]"
     ]
    },
    {
     "name": "stdout",
     "output_type": "stream",
     "text": [
      "https://image.ohou.se/i/bucketplace-v2-development/uploads/productions/159901359314734875.jpg?gif=1&w=360&h=360&c=c&q=0.8&webp=1\n"
     ]
    },
    {
     "name": "stderr",
     "output_type": "stream",
     "text": [
      " 73%|███████▎  | 74/101 [02:03<00:42,  1.56s/it]"
     ]
    },
    {
     "name": "stdout",
     "output_type": "stream",
     "text": [
      "https://image.ohou.se/i/bucketplace-v2-development/uploads/productions/160644394451848600.jpg?gif=1&w=360&h=360&c=c&q=0.8&webp=1\n"
     ]
    },
    {
     "name": "stderr",
     "output_type": "stream",
     "text": [
      " 74%|███████▍  | 75/101 [02:04<00:40,  1.55s/it]"
     ]
    },
    {
     "name": "stdout",
     "output_type": "stream",
     "text": [
      "https://image.ohou.se/i/bucketplace-v2-development/uploads/productions/168715063728874695.jpg?gif=1&w=360&h=360&c=c&q=0.8&webp=1\n"
     ]
    },
    {
     "name": "stderr",
     "output_type": "stream",
     "text": [
      " 75%|███████▌  | 76/101 [02:06<00:37,  1.48s/it]"
     ]
    },
    {
     "name": "stdout",
     "output_type": "stream",
     "text": [
      "https://image.ohou.se/i/bucketplace-v2-development/uploads/productions/165302292725241712.jpg?gif=1&w=360&h=360&c=c&q=0.8&webp=1\n"
     ]
    },
    {
     "name": "stderr",
     "output_type": "stream",
     "text": [
      " 76%|███████▌  | 77/101 [02:09<00:45,  1.90s/it]"
     ]
    },
    {
     "name": "stdout",
     "output_type": "stream",
     "text": [
      "https://image.ohou.se/i/bucketplace-v2-development/uploads/productions/167771900913542302.jpg?gif=1&w=360&h=360&c=c&q=0.8&webp=1\n"
     ]
    },
    {
     "name": "stderr",
     "output_type": "stream",
     "text": [
      " 77%|███████▋  | 78/101 [02:10<00:40,  1.74s/it]"
     ]
    },
    {
     "name": "stdout",
     "output_type": "stream",
     "text": [
      "https://image.ohou.se/i/bucketplace-v2-development/uploads/productions/167574570253786652.jpg?gif=1&w=360&h=360&c=c&q=0.8&webp=1\n"
     ]
    },
    {
     "name": "stderr",
     "output_type": "stream",
     "text": [
      " 78%|███████▊  | 79/101 [02:12<00:39,  1.80s/it]"
     ]
    },
    {
     "name": "stdout",
     "output_type": "stream",
     "text": [
      "https://image.ohou.se/i/bucketplace-v2-development/uploads/productions/157492042283214957.png?gif=1&w=360&h=360&c=c&q=0.8&webp=1\n"
     ]
    },
    {
     "name": "stderr",
     "output_type": "stream",
     "text": [
      " 79%|███████▉  | 80/101 [02:14<00:36,  1.76s/it]"
     ]
    },
    {
     "name": "stdout",
     "output_type": "stream",
     "text": [
      "https://image.ohou.se/i/bucketplace-v2-development/uploads/productions/165509810881995050.jpg?gif=1&w=360&h=360&c=c&q=0.8&webp=1\n"
     ]
    },
    {
     "name": "stderr",
     "output_type": "stream",
     "text": [
      " 80%|████████  | 81/101 [02:16<00:39,  1.97s/it]"
     ]
    },
    {
     "name": "stdout",
     "output_type": "stream",
     "text": [
      "https://image.ohou.se/i/bucketplace-v2-development/uploads/productions/162351055156334936.jpg?gif=1&w=360&h=360&c=c&q=0.8&webp=1\n"
     ]
    },
    {
     "name": "stderr",
     "output_type": "stream",
     "text": [
      " 81%|████████  | 82/101 [02:17<00:31,  1.65s/it]"
     ]
    },
    {
     "name": "stdout",
     "output_type": "stream",
     "text": [
      "https://image.ohou.se/i/bucketplace-v2-development/uploads/productions/164934294252356001.jpg?gif=1&w=360&h=360&c=c&q=0.8&webp=1\n"
     ]
    },
    {
     "name": "stderr",
     "output_type": "stream",
     "text": [
      " 82%|████████▏ | 83/101 [02:18<00:26,  1.47s/it]"
     ]
    },
    {
     "name": "stdout",
     "output_type": "stream",
     "text": [
      "https://image.ohou.se/i/bucketplace-v2-development/uploads/productions/166787933282240487.jpg?gif=1&w=360&h=360&c=c&q=0.8&webp=1\n"
     ]
    },
    {
     "name": "stderr",
     "output_type": "stream",
     "text": [
      " 83%|████████▎ | 84/101 [02:19<00:22,  1.33s/it]"
     ]
    },
    {
     "name": "stdout",
     "output_type": "stream",
     "text": [
      "https://image.ohou.se/i/bucketplace-v2-development/uploads/productions/1545960910_115704_1.jpg?gif=1&w=360&h=360&c=c&q=0.8&webp=1\n"
     ]
    },
    {
     "name": "stderr",
     "output_type": "stream",
     "text": [
      " 84%|████████▍ | 85/101 [02:22<00:28,  1.77s/it]"
     ]
    },
    {
     "name": "stdout",
     "output_type": "stream",
     "text": [
      "https://image.ohou.se/i/bucketplace-v2-development/uploads/productions/162201777780122503.jpg?gif=1&w=360&h=360&c=c&q=0.8&webp=1\n"
     ]
    },
    {
     "name": "stderr",
     "output_type": "stream",
     "text": [
      " 85%|████████▌ | 86/101 [02:25<00:35,  2.34s/it]"
     ]
    },
    {
     "name": "stdout",
     "output_type": "stream",
     "text": [
      "https://image.ohou.se/i/bucketplace-v2-development/uploads/productions/167823264272797697.png?gif=1&w=360&h=360&c=c&q=0.8&webp=1\n"
     ]
    },
    {
     "name": "stderr",
     "output_type": "stream",
     "text": [
      " 86%|████████▌ | 87/101 [02:27<00:30,  2.15s/it]"
     ]
    },
    {
     "name": "stdout",
     "output_type": "stream",
     "text": [
      "https://image.ohou.se/i/bucketplace-v2-development/uploads/productions/158926504665132675.jpg?gif=1&w=360&h=360&c=c&q=0.8&webp=1\n"
     ]
    },
    {
     "name": "stderr",
     "output_type": "stream",
     "text": [
      " 87%|████████▋ | 88/101 [02:29<00:25,  1.95s/it]"
     ]
    },
    {
     "name": "stdout",
     "output_type": "stream",
     "text": [
      "https://image.ohou.se/i/bucketplace-v2-development/uploads/productions/162546417001983985.jpg?gif=1&w=360&h=360&c=c&q=0.8&webp=1\n"
     ]
    },
    {
     "name": "stderr",
     "output_type": "stream",
     "text": [
      " 88%|████████▊ | 89/101 [02:30<00:22,  1.88s/it]"
     ]
    },
    {
     "name": "stdout",
     "output_type": "stream",
     "text": [
      "https://image.ohou.se/i/bucketplace-v2-development/uploads/productions/165293674138818978.jpg?gif=1&w=360&h=360&c=c&q=0.8&webp=1\n"
     ]
    },
    {
     "name": "stderr",
     "output_type": "stream",
     "text": [
      " 89%|████████▉ | 90/101 [02:31<00:18,  1.65s/it]"
     ]
    },
    {
     "name": "stdout",
     "output_type": "stream",
     "text": [
      "https://image.ohou.se/i/bucketplace-v2-development/uploads/productions/160586385721963779.jpg?gif=1&w=360&h=360&c=c&q=0.8&webp=1\n"
     ]
    },
    {
     "name": "stderr",
     "output_type": "stream",
     "text": [
      " 90%|█████████ | 91/101 [02:33<00:16,  1.64s/it]"
     ]
    },
    {
     "name": "stdout",
     "output_type": "stream",
     "text": [
      "https://image.ohou.se/i/bucketplace-v2-development/uploads/productions/101798_1.jpg?gif=1&w=360&h=360&c=c&q=0.8&webp=1\n"
     ]
    },
    {
     "name": "stderr",
     "output_type": "stream",
     "text": [
      " 91%|█████████ | 92/101 [02:34<00:14,  1.58s/it]"
     ]
    },
    {
     "name": "stdout",
     "output_type": "stream",
     "text": [
      "https://image.ohou.se/i/bucketplace-v2-development/uploads/productions/159598113132172934.jpg?gif=1&w=360&h=360&c=c&q=0.8&webp=1\n"
     ]
    },
    {
     "name": "stderr",
     "output_type": "stream",
     "text": [
      " 92%|█████████▏| 93/101 [02:36<00:12,  1.52s/it]"
     ]
    },
    {
     "name": "stdout",
     "output_type": "stream",
     "text": [
      "https://image.ohou.se/i/bucketplace-v2-development/uploads/productions/163045726855884052.jpg?gif=1&w=360&h=360&c=c&q=0.8&webp=1\n"
     ]
    },
    {
     "name": "stderr",
     "output_type": "stream",
     "text": [
      " 93%|█████████▎| 94/101 [02:37<00:10,  1.49s/it]"
     ]
    },
    {
     "name": "stdout",
     "output_type": "stream",
     "text": [
      "https://image.ohou.se/i/bucketplace-v2-development/uploads/productions/1559897187606_bAyh.jpg?gif=1&w=360&h=360&c=c&q=0.8&webp=1\n"
     ]
    },
    {
     "name": "stderr",
     "output_type": "stream",
     "text": [
      " 94%|█████████▍| 95/101 [02:38<00:07,  1.27s/it]"
     ]
    },
    {
     "name": "stdout",
     "output_type": "stream",
     "text": [
      "https://image.ohou.se/i/bucketplace-v2-development/uploads/productions/166087152475254585.jpg?gif=1&w=360&h=360&c=c&q=0.8&webp=1\n"
     ]
    },
    {
     "name": "stderr",
     "output_type": "stream",
     "text": [
      " 95%|█████████▌| 96/101 [02:39<00:05,  1.13s/it]"
     ]
    },
    {
     "name": "stdout",
     "output_type": "stream",
     "text": [
      "https://image.ohou.se/i/bucketplace-v2-development/uploads/productions/163722778389990414.jpg?gif=1&w=360&h=360&c=c&q=0.8&webp=1\n"
     ]
    },
    {
     "name": "stderr",
     "output_type": "stream",
     "text": [
      " 96%|█████████▌| 97/101 [02:41<00:05,  1.31s/it]"
     ]
    },
    {
     "name": "stdout",
     "output_type": "stream",
     "text": [
      "https://image.ohou.se/i/bucketplace-v2-development/uploads/productions/162865355707708005.jpg?gif=1&w=360&h=360&c=c&q=0.8&webp=1\n"
     ]
    },
    {
     "name": "stderr",
     "output_type": "stream",
     "text": [
      " 97%|█████████▋| 98/101 [02:42<00:03,  1.28s/it]"
     ]
    },
    {
     "name": "stdout",
     "output_type": "stream",
     "text": [
      "https://image.ohou.se/i/bucketplace-v2-development/uploads/productions/167824275555729970.jpg?gif=1&w=360&h=360&c=c&q=0.8&webp=1\n"
     ]
    },
    {
     "name": "stderr",
     "output_type": "stream",
     "text": [
      " 98%|█████████▊| 99/101 [02:43<00:02,  1.34s/it]"
     ]
    },
    {
     "name": "stdout",
     "output_type": "stream",
     "text": [
      "https://image.ohou.se/i/bucketplace-v2-development/uploads/productions/165348008590283763.JPG?gif=1&w=360&h=360&c=c&q=0.8&webp=1\n"
     ]
    },
    {
     "name": "stderr",
     "output_type": "stream",
     "text": [
      " 99%|█████████▉| 100/101 [02:45<00:01,  1.47s/it]"
     ]
    },
    {
     "name": "stdout",
     "output_type": "stream",
     "text": [
      "https://image.ohou.se/i/bucketplace-v2-development/uploads/productions/1512541548471_LI4ZCGYp.jpg?gif=1&w=360&h=360&c=c&q=0.8&webp=1\n"
     ]
    },
    {
     "name": "stderr",
     "output_type": "stream",
     "text": [
      "100%|██████████| 101/101 [02:47<00:00,  1.65s/it]"
     ]
    },
    {
     "name": "stdout",
     "output_type": "stream",
     "text": [
      "https://image.ohou.se/i/bucketplace-v2-development/uploads/productions/169465873203181304.jpg?gif=1&w=360&h=360&c=c&q=0.8&webp=1\n"
     ]
    },
    {
     "name": "stderr",
     "output_type": "stream",
     "text": [
      "\n"
     ]
    }
   ],
   "source": [
    "i = 0\n",
    "info = []\n",
    "\n",
    "for key,value in tqdm(data.items()):\n",
    "    try:\n",
    "        brand = value[0]\n",
    "        name = value[1]\n",
    "        price = value[2]\n",
    "        src = value[3]\n",
    "        link = value[4]\n",
    "\n",
    "        i += 1\n",
    "        time.sleep(0.5 + random.random())\n",
    "        response = requests.get(src, stream=True)\n",
    "        print(src)\n",
    "\n",
    "        save_image_path = f'./static/img/bed/mirror/mirror{i}.png'\n",
    "        if response.status_code == 200:\n",
    "            # 응답 내용을 바이너리 파일로 저장하기\n",
    "            with open(save_image_path, 'wb') as out_file:\n",
    "                out_file.write(response.content)\n",
    "        \n",
    "        info.append([brand, name, price, save_image_path, link, None])\n",
    "\n",
    "    except:\n",
    "        print('ERROR!!')\n",
    "        pass"
   ]
  },
  {
   "cell_type": "code",
   "execution_count": 48,
   "metadata": {},
   "outputs": [
    {
     "data": {
      "text/plain": [
       "98"
      ]
     },
     "execution_count": 48,
     "metadata": {},
     "output_type": "execute_result"
    }
   ],
   "source": [
    "len(info)"
   ]
  },
  {
   "cell_type": "code",
   "execution_count": 49,
   "metadata": {},
   "outputs": [
    {
     "name": "stderr",
     "output_type": "stream",
     "text": [
      "100%|██████████| 98/98 [1:16:03<00:00, 46.56s/it]\n"
     ]
    }
   ],
   "source": [
    "# 제품 링크 접속하기\n",
    "# 회원만 구입할 수 있는 상품이 포함되어 있어 로그인 후 크롤링\n",
    "for i in tqdm(range(len(info))):\n",
    "    info_line = info[i]\n",
    "    link = info_line[4]\n",
    "\n",
    "    driver.get(link)\n",
    "    driver.implicitly_wait(4)\n",
    "    time.sleep(0.5+random.random())\n",
    "\n",
    "    re_ = driver.find_elements(By.CLASS_NAME, \"production-selling-navigation__item\")\n",
    "    re_[1].click()\n",
    "    time.sleep(0.5+random.random()) \n",
    "\n",
    "    # 한 페이지당 5개 리뷰 \n",
    "    # 20페이지 크롤링해서 총 100개 리뷰 가져오기\n",
    "    review = []\n",
    "    first = driver.find_elements(By.CLASS_NAME, \"production-review-item__description\")\n",
    "    for i in first:\n",
    "        review.append(i.text)\n",
    "\n",
    "    for i in range(19):\n",
    "        try:\n",
    "            driver.find_elements(By.CLASS_NAME, \"_2XI47._3I7ex\")[0].click()\n",
    "            time.sleep(1.5+random.random())\n",
    "            text = driver.find_elements(By.CLASS_NAME, \"production-review-item__description\")\n",
    "            for i in text:\n",
    "                review.append(i.text)\n",
    "        except:\n",
    "            print('ERROR!!')\n",
    "            pass\n",
    "\n",
    "    info_line[5] = review\n",
    "\n"
   ]
  },
  {
   "cell_type": "code",
   "execution_count": 50,
   "metadata": {},
   "outputs": [
    {
     "data": {
      "text/html": [
       "<div>\n",
       "<style scoped>\n",
       "    .dataframe tbody tr th:only-of-type {\n",
       "        vertical-align: middle;\n",
       "    }\n",
       "\n",
       "    .dataframe tbody tr th {\n",
       "        vertical-align: top;\n",
       "    }\n",
       "\n",
       "    .dataframe thead th {\n",
       "        text-align: right;\n",
       "    }\n",
       "</style>\n",
       "<table border=\"1\" class=\"dataframe\">\n",
       "  <thead>\n",
       "    <tr style=\"text-align: right;\">\n",
       "      <th></th>\n",
       "      <th>brand</th>\n",
       "      <th>item</th>\n",
       "      <th>price</th>\n",
       "      <th>image</th>\n",
       "      <th>link</th>\n",
       "      <th>review</th>\n",
       "    </tr>\n",
       "  </thead>\n",
       "  <tbody>\n",
       "    <tr>\n",
       "      <th>0</th>\n",
       "      <td>베스트리빙</td>\n",
       "      <td>애슐리 원목 전신거울 7colors</td>\n",
       "      <td>32,700</td>\n",
       "      <td>./static/img/bed/mirror/mirror1.png</td>\n",
       "      <td>https://ohou.se/productions/22282/selling?affe...</td>\n",
       "      <td>[노랑색을 좋아해서 5000원정도? 더 비쌋지만 고민하다 노랑으로 샀는데 색을 보고...</td>\n",
       "    </tr>\n",
       "    <tr>\n",
       "      <th>1</th>\n",
       "      <td>준우드</td>\n",
       "      <td>전신경 전신거울 3size 3colors (300/400/600)</td>\n",
       "      <td>17,800</td>\n",
       "      <td>./static/img/bed/mirror/mirror2.png</td>\n",
       "      <td>https://ohou.se/productions/343456/selling?aff...</td>\n",
       "      <td>[가격에 비해 너무 튼튼해보이고 가장자리라인도 촌스럽지 않은 나무재질이네요!! 방에...</td>\n",
       "    </tr>\n",
       "    <tr>\n",
       "      <th>2</th>\n",
       "      <td>준우드</td>\n",
       "      <td>거치경 전신거울 3size 3colors (300/400/600)</td>\n",
       "      <td>21,640</td>\n",
       "      <td>./static/img/bed/mirror/mirror3.png</td>\n",
       "      <td>https://ohou.se/productions/337570/selling?aff...</td>\n",
       "      <td>[딸아이 자취방에서 쓰려고 구매했어요 가격대비 훌륭합니다 배송상태도 좋았구요 추천합...</td>\n",
       "    </tr>\n",
       "    <tr>\n",
       "      <th>3</th>\n",
       "      <td>두닷</td>\n",
       "      <td>마리에 1500 스탠드 전신거울 4colors</td>\n",
       "      <td>37,900</td>\n",
       "      <td>./static/img/bed/mirror/mirror4.png</td>\n",
       "      <td>https://ohou.se/productions/14749/selling?affe...</td>\n",
       "      <td>[자취방에 하나씩 들여놓기 좋은 거울이에요 :) 화이트로 사서 자취방 분위기도 살리...</td>\n",
       "    </tr>\n",
       "    <tr>\n",
       "      <th>4</th>\n",
       "      <td>우드리퍼블릭</td>\n",
       "      <td>비산 파손방지 강화 안전 대형 전신거울 400/600/700</td>\n",
       "      <td>26,800</td>\n",
       "      <td>./static/img/bed/mirror/mirror5.png</td>\n",
       "      <td>https://ohou.se/productions/300123/selling?aff...</td>\n",
       "      <td>[부모님은 너무 큰거 아니냐고 하셨지만 만족도 최상이였습니다! 다만 많이 무거워서 ...</td>\n",
       "    </tr>\n",
       "    <tr>\n",
       "      <th>...</th>\n",
       "      <td>...</td>\n",
       "      <td>...</td>\n",
       "      <td>...</td>\n",
       "      <td>...</td>\n",
       "      <td>...</td>\n",
       "      <td>...</td>\n",
       "    </tr>\n",
       "    <tr>\n",
       "      <th>93</th>\n",
       "      <td>아트벨라</td>\n",
       "      <td>정팔각 거울 600x600 (골드/메탈)</td>\n",
       "      <td>96,900</td>\n",
       "      <td>./static/img/bed/mirror/mirror97.png</td>\n",
       "      <td>https://ohou.se/productions/189814/selling?aff...</td>\n",
       "      <td>[육각형 모양이 이쁘도 골드 테두리가 고급집니다, 배송도 빨랐고 거울이 크고 예뻐서...</td>\n",
       "    </tr>\n",
       "    <tr>\n",
       "      <th>94</th>\n",
       "      <td>인블루가구</td>\n",
       "      <td>스테인 볼 미러 M 메탈스탠드 거울 미드센추리 화장대 탁상거울 2colors</td>\n",
       "      <td>56,000</td>\n",
       "      <td>./static/img/bed/mirror/mirror98.png</td>\n",
       "      <td>https://ohou.se/productions/1573548/selling?af...</td>\n",
       "      <td>[생각보다 거울 크기가 커서 좋아요! 실버다리가 고급져보이고 우드와도 잘어울려서 좋...</td>\n",
       "    </tr>\n",
       "    <tr>\n",
       "      <th>95</th>\n",
       "      <td>권스</td>\n",
       "      <td>옷장과 벽에 붙이는 거울 접착식 유리 전신 거울</td>\n",
       "      <td>8,900</td>\n",
       "      <td>./static/img/bed/mirror/mirror99.png</td>\n",
       "      <td>https://ohou.se/productions/1394152/selling?af...</td>\n",
       "      <td>[좁은 현관에 거울이 없어서 외출할 때 옷과 어울리는 신발을 고르는게 어려웠는데요....</td>\n",
       "    </tr>\n",
       "    <tr>\n",
       "      <th>96</th>\n",
       "      <td>다니엘우드</td>\n",
       "      <td>원목 화장대거울 / 수납거울 (소/대)</td>\n",
       "      <td>29,900</td>\n",
       "      <td>./static/img/bed/mirror/mirror100.png</td>\n",
       "      <td>https://ohou.se/productions/38848/selling?affe...</td>\n",
       "      <td>[만족합니다.. 보내주신 사포로 사포질만 하면 될것 같아요.. 배송이 하루만에 되다...</td>\n",
       "    </tr>\n",
       "    <tr>\n",
       "      <th>97</th>\n",
       "      <td>postershopkr</td>\n",
       "      <td>poster-mirror 포레스트 인테리어 거울</td>\n",
       "      <td>34,400</td>\n",
       "      <td>./static/img/bed/mirror/mirror101.png</td>\n",
       "      <td>https://ohou.se/productions/1210489/selling?af...</td>\n",
       "      <td>[상세페이지 그대로입니다. 거울이 너무 마음에 들어요., 사진빨 너무 잘받는 거울!...</td>\n",
       "    </tr>\n",
       "  </tbody>\n",
       "</table>\n",
       "<p>98 rows × 6 columns</p>\n",
       "</div>"
      ],
      "text/plain": [
       "           brand                                        item   price  \\\n",
       "0          베스트리빙                         애슐리 원목 전신거울 7colors  32,700   \n",
       "1            준우드        전신경 전신거울 3size 3colors (300/400/600)  17,800   \n",
       "2            준우드        거치경 전신거울 3size 3colors (300/400/600)  21,640   \n",
       "3             두닷                   마리에 1500 스탠드 전신거울 4colors  37,900   \n",
       "4         우드리퍼블릭           비산 파손방지 강화 안전 대형 전신거울 400/600/700  26,800   \n",
       "..           ...                                         ...     ...   \n",
       "93          아트벨라                      정팔각 거울 600x600 (골드/메탈)  96,900   \n",
       "94         인블루가구  스테인 볼 미러 M 메탈스탠드 거울 미드센추리 화장대 탁상거울 2colors  56,000   \n",
       "95            권스                  옷장과 벽에 붙이는 거울 접착식 유리 전신 거울   8,900   \n",
       "96         다니엘우드                       원목 화장대거울 / 수납거울 (소/대)  29,900   \n",
       "97  postershopkr                  poster-mirror 포레스트 인테리어 거울  34,400   \n",
       "\n",
       "                                    image  \\\n",
       "0     ./static/img/bed/mirror/mirror1.png   \n",
       "1     ./static/img/bed/mirror/mirror2.png   \n",
       "2     ./static/img/bed/mirror/mirror3.png   \n",
       "3     ./static/img/bed/mirror/mirror4.png   \n",
       "4     ./static/img/bed/mirror/mirror5.png   \n",
       "..                                    ...   \n",
       "93   ./static/img/bed/mirror/mirror97.png   \n",
       "94   ./static/img/bed/mirror/mirror98.png   \n",
       "95   ./static/img/bed/mirror/mirror99.png   \n",
       "96  ./static/img/bed/mirror/mirror100.png   \n",
       "97  ./static/img/bed/mirror/mirror101.png   \n",
       "\n",
       "                                                 link  \\\n",
       "0   https://ohou.se/productions/22282/selling?affe...   \n",
       "1   https://ohou.se/productions/343456/selling?aff...   \n",
       "2   https://ohou.se/productions/337570/selling?aff...   \n",
       "3   https://ohou.se/productions/14749/selling?affe...   \n",
       "4   https://ohou.se/productions/300123/selling?aff...   \n",
       "..                                                ...   \n",
       "93  https://ohou.se/productions/189814/selling?aff...   \n",
       "94  https://ohou.se/productions/1573548/selling?af...   \n",
       "95  https://ohou.se/productions/1394152/selling?af...   \n",
       "96  https://ohou.se/productions/38848/selling?affe...   \n",
       "97  https://ohou.se/productions/1210489/selling?af...   \n",
       "\n",
       "                                               review  \n",
       "0   [노랑색을 좋아해서 5000원정도? 더 비쌋지만 고민하다 노랑으로 샀는데 색을 보고...  \n",
       "1   [가격에 비해 너무 튼튼해보이고 가장자리라인도 촌스럽지 않은 나무재질이네요!! 방에...  \n",
       "2   [딸아이 자취방에서 쓰려고 구매했어요 가격대비 훌륭합니다 배송상태도 좋았구요 추천합...  \n",
       "3   [자취방에 하나씩 들여놓기 좋은 거울이에요 :) 화이트로 사서 자취방 분위기도 살리...  \n",
       "4   [부모님은 너무 큰거 아니냐고 하셨지만 만족도 최상이였습니다! 다만 많이 무거워서 ...  \n",
       "..                                                ...  \n",
       "93  [육각형 모양이 이쁘도 골드 테두리가 고급집니다, 배송도 빨랐고 거울이 크고 예뻐서...  \n",
       "94  [생각보다 거울 크기가 커서 좋아요! 실버다리가 고급져보이고 우드와도 잘어울려서 좋...  \n",
       "95  [좁은 현관에 거울이 없어서 외출할 때 옷과 어울리는 신발을 고르는게 어려웠는데요....  \n",
       "96  [만족합니다.. 보내주신 사포로 사포질만 하면 될것 같아요.. 배송이 하루만에 되다...  \n",
       "97  [상세페이지 그대로입니다. 거울이 너무 마음에 들어요., 사진빨 너무 잘받는 거울!...  \n",
       "\n",
       "[98 rows x 6 columns]"
      ]
     },
     "execution_count": 50,
     "metadata": {},
     "output_type": "execute_result"
    }
   ],
   "source": [
    "mirror = pd.DataFrame(info, columns=['brand', 'item', 'price', 'image', 'link', 'review'])\n",
    "mirror"
   ]
  },
  {
   "cell_type": "code",
   "execution_count": 51,
   "metadata": {},
   "outputs": [],
   "source": [
    "mirror.to_csv('mirror.csv')"
   ]
  },
  {
   "cell_type": "markdown",
   "metadata": {},
   "source": [
    "---"
   ]
  },
  {
   "cell_type": "markdown",
   "metadata": {},
   "source": [
    "### 4) 수납장"
   ]
  },
  {
   "cell_type": "code",
   "execution_count": 52,
   "metadata": {},
   "outputs": [],
   "source": [
    "# 사이트 열기\n",
    "driver.get('https://ohou.se/store/category?category_id=10270051')\n",
    "driver.implicitly_wait(10)\n",
    "time.sleep(3)\n",
    "\n",
    "# 리뷰많은순으로 변경\n",
    "pre_order = driver.find_element(By.CLASS_NAME, \"category-filter-bar-order-button\").click()\n",
    "time.sleep(0.5+random.random())\n",
    "\n",
    "order_ = driver.find_elements(By.CLASS_NAME, \"property-filter-panel-entry-list__item__title\")\n",
    "order_[-3].click()\n",
    "time.sleep(0.5+random.random())"
   ]
  },
  {
   "cell_type": "code",
   "execution_count": 53,
   "metadata": {},
   "outputs": [
    {
     "name": "stderr",
     "output_type": "stream",
     "text": [
      "  0%|          | 0/20 [00:00<?, ?it/s]"
     ]
    },
    {
     "name": "stdout",
     "output_type": "stream",
     "text": [
      "15 개 데이터 가져옴....\n"
     ]
    },
    {
     "name": "stderr",
     "output_type": "stream",
     "text": [
      "  5%|▌         | 1/20 [00:05<01:43,  5.44s/it]"
     ]
    },
    {
     "name": "stdout",
     "output_type": "stream",
     "text": [
      "21 개 데이터 가져옴....\n"
     ]
    },
    {
     "name": "stderr",
     "output_type": "stream",
     "text": [
      " 10%|█         | 2/20 [00:11<01:39,  5.53s/it]"
     ]
    },
    {
     "name": "stdout",
     "output_type": "stream",
     "text": [
      "21 개 데이터 가져옴....\n"
     ]
    },
    {
     "name": "stderr",
     "output_type": "stream",
     "text": [
      " 15%|█▌        | 3/20 [00:16<01:34,  5.56s/it]"
     ]
    },
    {
     "name": "stdout",
     "output_type": "stream",
     "text": [
      "24 개 데이터 가져옴....\n"
     ]
    },
    {
     "name": "stderr",
     "output_type": "stream",
     "text": [
      " 20%|██        | 4/20 [00:22<01:29,  5.60s/it]"
     ]
    },
    {
     "name": "stdout",
     "output_type": "stream",
     "text": [
      "21 개 데이터 가져옴....\n"
     ]
    },
    {
     "name": "stderr",
     "output_type": "stream",
     "text": [
      " 25%|██▌       | 5/20 [00:27<01:24,  5.63s/it]"
     ]
    },
    {
     "name": "stdout",
     "output_type": "stream",
     "text": [
      "24 개 데이터 가져옴....\n"
     ]
    },
    {
     "name": "stderr",
     "output_type": "stream",
     "text": [
      " 30%|███       | 6/20 [00:33<01:18,  5.63s/it]"
     ]
    },
    {
     "name": "stdout",
     "output_type": "stream",
     "text": [
      "21 개 데이터 가져옴....\n"
     ]
    },
    {
     "name": "stderr",
     "output_type": "stream",
     "text": [
      " 35%|███▌      | 7/20 [00:39<01:13,  5.64s/it]"
     ]
    },
    {
     "name": "stdout",
     "output_type": "stream",
     "text": [
      "24 개 데이터 가져옴....\n"
     ]
    },
    {
     "name": "stderr",
     "output_type": "stream",
     "text": [
      " 40%|████      | 8/20 [00:45<01:08,  5.68s/it]"
     ]
    },
    {
     "name": "stdout",
     "output_type": "stream",
     "text": [
      "24 개 데이터 가져옴....\n"
     ]
    },
    {
     "name": "stderr",
     "output_type": "stream",
     "text": [
      " 45%|████▌     | 9/20 [00:50<01:02,  5.67s/it]"
     ]
    },
    {
     "name": "stdout",
     "output_type": "stream",
     "text": [
      "24 개 데이터 가져옴....\n"
     ]
    },
    {
     "name": "stderr",
     "output_type": "stream",
     "text": [
      " 50%|█████     | 10/20 [00:56<00:56,  5.69s/it]"
     ]
    },
    {
     "name": "stdout",
     "output_type": "stream",
     "text": [
      "24 개 데이터 가져옴....\n"
     ]
    },
    {
     "name": "stderr",
     "output_type": "stream",
     "text": [
      " 55%|█████▌    | 11/20 [01:02<00:51,  5.68s/it]"
     ]
    },
    {
     "name": "stdout",
     "output_type": "stream",
     "text": [
      "24 개 데이터 가져옴....\n"
     ]
    },
    {
     "name": "stderr",
     "output_type": "stream",
     "text": [
      " 60%|██████    | 12/20 [01:07<00:45,  5.66s/it]"
     ]
    },
    {
     "name": "stdout",
     "output_type": "stream",
     "text": [
      "21 개 데이터 가져옴....\n"
     ]
    },
    {
     "name": "stderr",
     "output_type": "stream",
     "text": [
      " 65%|██████▌   | 13/20 [01:13<00:39,  5.63s/it]"
     ]
    },
    {
     "name": "stdout",
     "output_type": "stream",
     "text": [
      "27 개 데이터 가져옴....\n"
     ]
    },
    {
     "name": "stderr",
     "output_type": "stream",
     "text": [
      " 70%|███████   | 14/20 [01:19<00:33,  5.67s/it]"
     ]
    },
    {
     "name": "stdout",
     "output_type": "stream",
     "text": [
      "24 개 데이터 가져옴....\n"
     ]
    },
    {
     "name": "stderr",
     "output_type": "stream",
     "text": [
      " 75%|███████▌  | 15/20 [01:24<00:28,  5.66s/it]"
     ]
    },
    {
     "name": "stdout",
     "output_type": "stream",
     "text": [
      "27 개 데이터 가져옴....\n"
     ]
    },
    {
     "name": "stderr",
     "output_type": "stream",
     "text": [
      " 80%|████████  | 16/20 [01:30<00:22,  5.71s/it]"
     ]
    },
    {
     "name": "stdout",
     "output_type": "stream",
     "text": [
      "24 개 데이터 가져옴....\n"
     ]
    },
    {
     "name": "stderr",
     "output_type": "stream",
     "text": [
      " 85%|████████▌ | 17/20 [01:36<00:17,  5.71s/it]"
     ]
    },
    {
     "name": "stdout",
     "output_type": "stream",
     "text": [
      "27 개 데이터 가져옴....\n"
     ]
    },
    {
     "name": "stderr",
     "output_type": "stream",
     "text": [
      " 90%|█████████ | 18/20 [01:41<00:11,  5.73s/it]"
     ]
    },
    {
     "name": "stdout",
     "output_type": "stream",
     "text": [
      "24 개 데이터 가져옴....\n"
     ]
    },
    {
     "name": "stderr",
     "output_type": "stream",
     "text": [
      " 95%|█████████▌| 19/20 [01:47<00:05,  5.71s/it]"
     ]
    },
    {
     "name": "stdout",
     "output_type": "stream",
     "text": [
      "27 개 데이터 가져옴....\n"
     ]
    },
    {
     "name": "stderr",
     "output_type": "stream",
     "text": [
      "100%|██████████| 20/20 [01:53<00:00,  5.67s/it]\n"
     ]
    }
   ],
   "source": [
    "info = []\n",
    "\n",
    "ffffa = 0\n",
    "# 스크롤 내리기\n",
    "def scroll():\n",
    "\n",
    "    global ffffa\n",
    "    ffffa += 600 \n",
    "    driver.execute_script(\"window.scrollTo(0, \"+ str(ffffa) + \")\")\n",
    "\n",
    "# 제목 : [브랜드, 제목, 가격, 이미지위치]\n",
    "# 스크롤을 조금씩 내리면서 가져오기 때문에 데이터 중복 가능\n",
    "# 데이터 중복 제거하기 위해 제목은 중복안되니까 제목을 key로 지정 \n",
    "data = {}\n",
    "\n",
    "# 스크롤 조금씩 내리면서 데이터 가져오기\n",
    "for page in tqdm(range(20)):\n",
    "    scroll()\n",
    "    time.sleep(5)\n",
    "\n",
    "    # 브랜드, 상품명, 가격, 이미지 경로, 제품 링크\n",
    "    brands =  driver.find_elements(By.CLASS_NAME, \"production-item__header__brand\")\n",
    "    names =  driver.find_elements(By.CLASS_NAME, \"production-item__header__name\")\n",
    "    prices = driver.find_elements(By.CLASS_NAME, \"production-item-price__price\")\n",
    "    srcs=  driver.find_elements(By.CLASS_NAME, \"image\")\n",
    "    links =  driver.find_elements(By.CLASS_NAME, \"production-item__overlay\")\n",
    "\n",
    "    amount= len(brands)\n",
    "    print(amount ,\"개 데이터 가져옴....\")\n",
    "    \n",
    "    for i in range(amount):\n",
    "        # 브랜드\n",
    "        brand = brands[i].text\n",
    "\n",
    "        # 상품명\n",
    "        name = names[i].text\n",
    "        name = re.sub(r'\\[.*?\\]', '', name)\n",
    "\n",
    "        # 가격\n",
    "        price = prices[i].text\n",
    "\n",
    "        # 이미지 경로\n",
    "        src = srcs[i].get_attribute('src')\n",
    "\n",
    "        # 제품 링크\n",
    "        link = links[i].get_attribute(\"href\")\n",
    "\n",
    "        data[name] = [brand, name, price, src, link]\n"
   ]
  },
  {
   "cell_type": "code",
   "execution_count": 54,
   "metadata": {},
   "outputs": [
    {
     "data": {
      "text/plain": [
       "102"
      ]
     },
     "execution_count": 54,
     "metadata": {},
     "output_type": "execute_result"
    }
   ],
   "source": [
    "result_amount = len(data.keys())\n",
    "result_amount"
   ]
  },
  {
   "cell_type": "code",
   "execution_count": 55,
   "metadata": {},
   "outputs": [
    {
     "name": "stderr",
     "output_type": "stream",
     "text": [
      "  1%|          | 1/102 [00:02<04:03,  2.41s/it]"
     ]
    },
    {
     "name": "stdout",
     "output_type": "stream",
     "text": [
      "https://image.ohou.se/i/bucketplace-v2-development/uploads/productions/168368527036786622.jpg?gif=1&w=360&h=360&c=c&q=0.8&webp=1\n"
     ]
    },
    {
     "name": "stderr",
     "output_type": "stream",
     "text": [
      "  2%|▏         | 2/102 [00:04<03:14,  1.94s/it]"
     ]
    },
    {
     "name": "stdout",
     "output_type": "stream",
     "text": [
      "https://image.ohou.se/i/bucketplace-v2-development/uploads/productions/168359923027238347.jpg?gif=1&w=360&h=360&c=c&q=0.8&webp=1\n"
     ]
    },
    {
     "name": "stderr",
     "output_type": "stream",
     "text": [
      "  3%|▎         | 3/102 [00:05<03:03,  1.85s/it]"
     ]
    },
    {
     "name": "stdout",
     "output_type": "stream",
     "text": [
      "https://image.ohou.se/i/bucketplace-v2-development/uploads/productions/165503856971938519.jpg?gif=1&w=360&h=360&c=c&q=0.8&webp=1\n"
     ]
    },
    {
     "name": "stderr",
     "output_type": "stream",
     "text": [
      "  4%|▍         | 4/102 [00:07<02:37,  1.61s/it]"
     ]
    },
    {
     "name": "stdout",
     "output_type": "stream",
     "text": [
      "https://image.ohou.se/i/bucketplace-v2-development/uploads/productions/167515555483818211.jpg?gif=1&w=360&h=360&c=c&q=0.8&webp=1\n"
     ]
    },
    {
     "name": "stderr",
     "output_type": "stream",
     "text": [
      "  5%|▍         | 5/102 [00:08<02:43,  1.68s/it]"
     ]
    },
    {
     "name": "stdout",
     "output_type": "stream",
     "text": [
      "https://image.ohou.se/i/bucketplace-v2-development/uploads/productions/169501714821289209.jpg?gif=1&w=360&h=360&c=c&q=0.8&webp=1\n"
     ]
    },
    {
     "name": "stderr",
     "output_type": "stream",
     "text": [
      "  6%|▌         | 6/102 [00:10<02:35,  1.62s/it]"
     ]
    },
    {
     "name": "stdout",
     "output_type": "stream",
     "text": [
      "https://image.ohou.se/i/bucketplace-v2-development/uploads/productions/164923323173358916.jpg?gif=1&w=360&h=360&c=c&q=0.8&webp=1\n"
     ]
    },
    {
     "name": "stderr",
     "output_type": "stream",
     "text": [
      "  7%|▋         | 7/102 [00:11<02:34,  1.63s/it]"
     ]
    },
    {
     "name": "stdout",
     "output_type": "stream",
     "text": [
      "https://image.ohou.se/i/bucketplace-v2-development/uploads/productions/168445668457783442.jpg?gif=1&w=360&h=360&c=c&q=0.8&webp=1\n"
     ]
    },
    {
     "name": "stderr",
     "output_type": "stream",
     "text": [
      "  8%|▊         | 8/102 [00:13<02:34,  1.65s/it]"
     ]
    },
    {
     "name": "stdout",
     "output_type": "stream",
     "text": [
      "https://image.ohou.se/i/bucketplace-v2-development/uploads/productions/163944985057083845.jpg?gif=1&w=360&h=360&c=c&q=0.8&webp=1\n"
     ]
    },
    {
     "name": "stderr",
     "output_type": "stream",
     "text": [
      "  9%|▉         | 9/102 [00:15<02:39,  1.72s/it]"
     ]
    },
    {
     "name": "stdout",
     "output_type": "stream",
     "text": [
      "https://image.ohou.se/i/bucketplace-v2-development/uploads/productions/168445643060594909.jpg?gif=1&w=360&h=360&c=c&q=0.8&webp=1\n"
     ]
    },
    {
     "name": "stderr",
     "output_type": "stream",
     "text": [
      " 10%|▉         | 10/102 [00:17<02:38,  1.73s/it]"
     ]
    },
    {
     "name": "stdout",
     "output_type": "stream",
     "text": [
      "https://image.ohou.se/i/bucketplace-v2-development/uploads/productions/167714298395978035.jpg?gif=1&w=360&h=360&c=c&q=0.8&webp=1\n"
     ]
    },
    {
     "name": "stderr",
     "output_type": "stream",
     "text": [
      " 11%|█         | 11/102 [00:18<02:24,  1.58s/it]"
     ]
    },
    {
     "name": "stdout",
     "output_type": "stream",
     "text": [
      "https://image.ohou.se/i/bucketplace-v2-development/uploads/productions/163996296567725049.jpg?gif=1&w=360&h=360&c=c&q=0.8&webp=1\n"
     ]
    },
    {
     "name": "stderr",
     "output_type": "stream",
     "text": [
      " 12%|█▏        | 12/102 [00:20<02:25,  1.61s/it]"
     ]
    },
    {
     "name": "stdout",
     "output_type": "stream",
     "text": [
      "https://image.ohou.se/i/bucketplace-v2-development/uploads/productions/164238089281033630.jpg?gif=1&w=360&h=360&c=c&q=0.8&webp=1\n"
     ]
    },
    {
     "name": "stderr",
     "output_type": "stream",
     "text": [
      " 13%|█▎        | 13/102 [00:21<02:16,  1.54s/it]"
     ]
    },
    {
     "name": "stdout",
     "output_type": "stream",
     "text": [
      "https://image.ohou.se/i/bucketplace-v2-development/uploads/productions/158951619952458653.jpg?gif=1&w=360&h=360&c=c&q=0.8&webp=1\n"
     ]
    },
    {
     "name": "stderr",
     "output_type": "stream",
     "text": [
      " 14%|█▎        | 14/102 [00:22<01:58,  1.34s/it]"
     ]
    },
    {
     "name": "stdout",
     "output_type": "stream",
     "text": [
      "https://image.ohou.se/i/bucketplace-v2-development/uploads/productions/164999249931970216.jpg?gif=1&w=360&h=360&c=c&q=0.8&webp=1\n"
     ]
    },
    {
     "name": "stderr",
     "output_type": "stream",
     "text": [
      " 15%|█▍        | 15/102 [00:23<01:44,  1.20s/it]"
     ]
    },
    {
     "name": "stdout",
     "output_type": "stream",
     "text": [
      "https://image.ohou.se/i/bucketplace-v2-development/uploads/productions/165292182752832208.jpg?gif=1&w=360&h=360&c=c&q=0.8&webp=1\n"
     ]
    },
    {
     "name": "stderr",
     "output_type": "stream",
     "text": [
      " 16%|█▌        | 16/102 [00:24<01:33,  1.08s/it]"
     ]
    },
    {
     "name": "stdout",
     "output_type": "stream",
     "text": [
      "https://image.ohou.se/i/bucketplace-v2-development/uploads/productions/167469895757100258.jpg?gif=1&w=360&h=360&c=c&q=0.8&webp=1\n"
     ]
    },
    {
     "name": "stderr",
     "output_type": "stream",
     "text": [
      " 17%|█▋        | 17/102 [00:25<01:36,  1.14s/it]"
     ]
    },
    {
     "name": "stdout",
     "output_type": "stream",
     "text": [
      "https://image.ohou.se/i/bucketplace-v2-development/uploads/productions/165503854173956202.jpg?gif=1&w=360&h=360&c=c&q=0.8&webp=1\n"
     ]
    },
    {
     "name": "stderr",
     "output_type": "stream",
     "text": [
      " 18%|█▊        | 18/102 [00:26<01:38,  1.17s/it]"
     ]
    },
    {
     "name": "stdout",
     "output_type": "stream",
     "text": [
      "https://image.ohou.se/i/bucketplace-v2-development/uploads/productions/169534346846707722.jpg?gif=1&w=360&h=360&c=c&q=0.8&webp=1\n"
     ]
    },
    {
     "name": "stderr",
     "output_type": "stream",
     "text": [
      " 19%|█▊        | 19/102 [00:28<01:48,  1.31s/it]"
     ]
    },
    {
     "name": "stdout",
     "output_type": "stream",
     "text": [
      "https://image.ohou.se/i/bucketplace-v2-development/uploads/productions/159857948473517903.jpg?gif=1&w=360&h=360&c=c&q=0.8&webp=1\n"
     ]
    },
    {
     "name": "stderr",
     "output_type": "stream",
     "text": [
      " 20%|█▉        | 20/102 [00:29<01:56,  1.43s/it]"
     ]
    },
    {
     "name": "stdout",
     "output_type": "stream",
     "text": [
      "https://image.ohou.se/i/bucketplace-v2-development/uploads/productions/163591674743136463.jpg?gif=1&w=360&h=360&c=c&q=0.8&webp=1\n"
     ]
    },
    {
     "name": "stderr",
     "output_type": "stream",
     "text": [
      " 21%|██        | 21/102 [00:31<01:54,  1.41s/it]"
     ]
    },
    {
     "name": "stdout",
     "output_type": "stream",
     "text": [
      "https://image.ohou.se/i/bucketplace-v2-development/uploads/productions/169085622442658947.jpg?gif=1&w=360&h=360&c=c&q=0.8&webp=1\n"
     ]
    },
    {
     "name": "stderr",
     "output_type": "stream",
     "text": [
      " 22%|██▏       | 22/102 [00:32<01:46,  1.34s/it]"
     ]
    },
    {
     "name": "stdout",
     "output_type": "stream",
     "text": [
      "https://image.ohou.se/i/bucketplace-v2-development/uploads/productions/168447504251823804.jpg?gif=1&w=360&h=360&c=c&q=0.8&webp=1\n"
     ]
    },
    {
     "name": "stderr",
     "output_type": "stream",
     "text": [
      " 23%|██▎       | 23/102 [00:33<01:42,  1.30s/it]"
     ]
    },
    {
     "name": "stdout",
     "output_type": "stream",
     "text": [
      "https://image.ohou.se/i/bucketplace-v2-development/uploads/productions/169139154951797386.jpg?gif=1&w=360&h=360&c=c&q=0.8&webp=1\n"
     ]
    },
    {
     "name": "stderr",
     "output_type": "stream",
     "text": [
      " 24%|██▎       | 24/102 [00:35<01:46,  1.36s/it]"
     ]
    },
    {
     "name": "stdout",
     "output_type": "stream",
     "text": [
      "https://image.ohou.se/i/bucketplace-v2-development/uploads/productions/1558333425308_gABHm5p1W.jpg?gif=1&w=360&h=360&c=c&q=0.8&webp=1\n"
     ]
    },
    {
     "name": "stderr",
     "output_type": "stream",
     "text": [
      " 25%|██▍       | 25/102 [00:36<01:39,  1.29s/it]"
     ]
    },
    {
     "name": "stdout",
     "output_type": "stream",
     "text": [
      "https://image.ohou.se/i/bucketplace-v2-development/uploads/productions/163591634685932753.jpg?gif=1&w=360&h=360&c=c&q=0.8&webp=1\n"
     ]
    },
    {
     "name": "stderr",
     "output_type": "stream",
     "text": [
      " 25%|██▌       | 26/102 [00:38<01:48,  1.43s/it]"
     ]
    },
    {
     "name": "stdout",
     "output_type": "stream",
     "text": [
      "https://image.ohou.se/i/bucketplace-v2-development/uploads/productions/163340792711224012.jpg?gif=1&w=360&h=360&c=c&q=0.8&webp=1\n"
     ]
    },
    {
     "name": "stderr",
     "output_type": "stream",
     "text": [
      " 26%|██▋       | 27/102 [00:39<01:46,  1.42s/it]"
     ]
    },
    {
     "name": "stdout",
     "output_type": "stream",
     "text": [
      "https://image.ohou.se/i/bucketplace-v2-development/uploads/productions/162554661649811197.jpg?gif=1&w=360&h=360&c=c&q=0.8&webp=1\n"
     ]
    },
    {
     "name": "stderr",
     "output_type": "stream",
     "text": [
      " 27%|██▋       | 28/102 [00:40<01:31,  1.24s/it]"
     ]
    },
    {
     "name": "stdout",
     "output_type": "stream",
     "text": [
      "https://image.ohou.se/i/bucketplace-v2-development/uploads/productions/168231971441896607.jpg?gif=1&w=360&h=360&c=c&q=0.8&webp=1\n"
     ]
    },
    {
     "name": "stderr",
     "output_type": "stream",
     "text": [
      " 28%|██▊       | 29/102 [00:41<01:24,  1.15s/it]"
     ]
    },
    {
     "name": "stdout",
     "output_type": "stream",
     "text": [
      "https://image.ohou.se/i/bucketplace-v2-development/uploads/productions/164056518996234988.jpg?gif=1&w=360&h=360&c=c&q=0.8&webp=1\n"
     ]
    },
    {
     "name": "stderr",
     "output_type": "stream",
     "text": [
      " 29%|██▉       | 30/102 [00:42<01:27,  1.21s/it]"
     ]
    },
    {
     "name": "stdout",
     "output_type": "stream",
     "text": [
      "https://image.ohou.se/i/bucketplace-v2-development/uploads/productions/169778239710276846.jpg?gif=1&w=360&h=360&c=c&q=0.8&webp=1\n"
     ]
    },
    {
     "name": "stderr",
     "output_type": "stream",
     "text": [
      " 30%|███       | 31/102 [00:43<01:23,  1.17s/it]"
     ]
    },
    {
     "name": "stdout",
     "output_type": "stream",
     "text": [
      "https://image.ohou.se/i/bucketplace-v2-development/uploads/productions/168232096860105016.jpg?gif=1&w=360&h=360&c=c&q=0.8&webp=1\n"
     ]
    },
    {
     "name": "stderr",
     "output_type": "stream",
     "text": [
      " 31%|███▏      | 32/102 [00:44<01:20,  1.14s/it]"
     ]
    },
    {
     "name": "stdout",
     "output_type": "stream",
     "text": [
      "https://image.ohou.se/i/bucketplace-v2-development/uploads/productions/158951609956149136.jpg?gif=1&w=360&h=360&c=c&q=0.8&webp=1\n"
     ]
    },
    {
     "name": "stderr",
     "output_type": "stream",
     "text": [
      " 32%|███▏      | 33/102 [00:46<01:28,  1.28s/it]"
     ]
    },
    {
     "name": "stdout",
     "output_type": "stream",
     "text": [
      "https://image.ohou.se/i/bucketplace-v2-development/uploads/productions/163591670839366732.jpg?gif=1&w=360&h=360&c=c&q=0.8&webp=1\n"
     ]
    },
    {
     "name": "stderr",
     "output_type": "stream",
     "text": [
      " 33%|███▎      | 34/102 [00:47<01:21,  1.20s/it]"
     ]
    },
    {
     "name": "stdout",
     "output_type": "stream",
     "text": [
      "https://image.ohou.se/i/bucketplace-v2-development/uploads/productions/163996284350932837.jpg?gif=1&w=360&h=360&c=c&q=0.8&webp=1\n"
     ]
    },
    {
     "name": "stderr",
     "output_type": "stream",
     "text": [
      " 34%|███▍      | 35/102 [00:48<01:16,  1.14s/it]"
     ]
    },
    {
     "name": "stdout",
     "output_type": "stream",
     "text": [
      "https://image.ohou.se/i/bucketplace-v2-development/uploads/openapi/3886323/1691463003423.jpg?gif=1&w=360&h=360&c=c&q=0.8&webp=1\n"
     ]
    },
    {
     "name": "stderr",
     "output_type": "stream",
     "text": [
      " 35%|███▌      | 36/102 [00:49<01:13,  1.11s/it]"
     ]
    },
    {
     "name": "stdout",
     "output_type": "stream",
     "text": [
      "https://image.ohou.se/i/bucketplace-v2-development/uploads/productions/167929841045772505.jpg?gif=1&w=360&h=360&c=c&q=0.8&webp=1\n"
     ]
    },
    {
     "name": "stderr",
     "output_type": "stream",
     "text": [
      " 36%|███▋      | 37/102 [00:50<01:20,  1.23s/it]"
     ]
    },
    {
     "name": "stdout",
     "output_type": "stream",
     "text": [
      "https://image.ohou.se/i/bucketplace-v2-development/uploads/productions/163591607803843223.jpg?gif=1&w=360&h=360&c=c&q=0.8&webp=1\n"
     ]
    },
    {
     "name": "stderr",
     "output_type": "stream",
     "text": [
      " 37%|███▋      | 38/102 [00:52<01:27,  1.37s/it]"
     ]
    },
    {
     "name": "stdout",
     "output_type": "stream",
     "text": [
      "https://image.ohou.se/i/bucketplace-v2-development/uploads/productions/165000966994572149.jpg?gif=1&w=360&h=360&c=c&q=0.8&webp=1\n"
     ]
    },
    {
     "name": "stderr",
     "output_type": "stream",
     "text": [
      " 38%|███▊      | 39/102 [00:54<01:36,  1.53s/it]"
     ]
    },
    {
     "name": "stdout",
     "output_type": "stream",
     "text": [
      "https://image.ohou.se/i/bucketplace-v2-development/uploads/productions/167401900669680009.jpg?gif=1&w=360&h=360&c=c&q=0.8&webp=1\n"
     ]
    },
    {
     "name": "stderr",
     "output_type": "stream",
     "text": [
      " 39%|███▉      | 40/102 [00:55<01:23,  1.34s/it]"
     ]
    },
    {
     "name": "stdout",
     "output_type": "stream",
     "text": [
      "https://image.ohou.se/i/bucketplace-v2-development/uploads/productions/159945203457973399.JPG?gif=1&w=360&h=360&c=c&q=0.8&webp=1\n"
     ]
    },
    {
     "name": "stderr",
     "output_type": "stream",
     "text": [
      " 40%|████      | 41/102 [00:56<01:24,  1.38s/it]"
     ]
    },
    {
     "name": "stdout",
     "output_type": "stream",
     "text": [
      "https://image.ohou.se/i/bucketplace-v2-development/uploads/productions/168445652188781809.jpg?gif=1&w=360&h=360&c=c&q=0.8&webp=1\n"
     ]
    },
    {
     "name": "stderr",
     "output_type": "stream",
     "text": [
      " 41%|████      | 42/102 [00:58<01:26,  1.44s/it]"
     ]
    },
    {
     "name": "stdout",
     "output_type": "stream",
     "text": [
      "https://image.ohou.se/i/bucketplace-v2-development/uploads/productions/160488724948903551.jpg?gif=1&w=360&h=360&c=c&q=0.8&webp=1\n"
     ]
    },
    {
     "name": "stderr",
     "output_type": "stream",
     "text": [
      " 42%|████▏     | 43/102 [00:59<01:20,  1.37s/it]"
     ]
    },
    {
     "name": "stdout",
     "output_type": "stream",
     "text": [
      "https://image.ohou.se/i/bucketplace-v2-development/uploads/productions/164075834418311323.jpg?gif=1&w=360&h=360&c=c&q=0.8&webp=1\n"
     ]
    },
    {
     "name": "stderr",
     "output_type": "stream",
     "text": [
      " 43%|████▎     | 44/102 [01:00<01:15,  1.31s/it]"
     ]
    },
    {
     "name": "stdout",
     "output_type": "stream",
     "text": [
      "https://image.ohou.se/i/bucketplace-v2-development/uploads/productions/167694618531967555.jpg?gif=1&w=360&h=360&c=c&q=0.8&webp=1\n"
     ]
    },
    {
     "name": "stderr",
     "output_type": "stream",
     "text": [
      " 44%|████▍     | 45/102 [01:03<01:31,  1.61s/it]"
     ]
    },
    {
     "name": "stdout",
     "output_type": "stream",
     "text": [
      "https://image.ohou.se/i/bucketplace-v2-development/uploads/productions/165000968943675055.jpg?gif=1&w=360&h=360&c=c&q=0.8&webp=1\n"
     ]
    },
    {
     "name": "stderr",
     "output_type": "stream",
     "text": [
      " 45%|████▌     | 46/102 [01:04<01:28,  1.57s/it]"
     ]
    },
    {
     "name": "stdout",
     "output_type": "stream",
     "text": [
      "https://image.ohou.se/i/bucketplace-v2-development/uploads/productions/162562027214961437.jpg?gif=1&w=360&h=360&c=c&q=0.8&webp=1\n"
     ]
    },
    {
     "name": "stderr",
     "output_type": "stream",
     "text": [
      " 46%|████▌     | 47/102 [01:06<01:31,  1.66s/it]"
     ]
    },
    {
     "name": "stdout",
     "output_type": "stream",
     "text": [
      "https://image.ohou.se/i/bucketplace-v2-development/uploads/productions/165043793195025388.jpg?gif=1&w=360&h=360&c=c&q=0.8&webp=1\n"
     ]
    },
    {
     "name": "stderr",
     "output_type": "stream",
     "text": [
      " 47%|████▋     | 48/102 [01:08<01:31,  1.69s/it]"
     ]
    },
    {
     "name": "stdout",
     "output_type": "stream",
     "text": [
      "https://image.ohou.se/i/bucketplace-v2-development/uploads/productions/165043799515960869.jpg?gif=1&w=360&h=360&c=c&q=0.8&webp=1\n"
     ]
    },
    {
     "name": "stderr",
     "output_type": "stream",
     "text": [
      " 48%|████▊     | 49/102 [01:09<01:28,  1.67s/it]"
     ]
    },
    {
     "name": "stdout",
     "output_type": "stream",
     "text": [
      "https://image.ohou.se/i/bucketplace-v2-development/uploads/productions/161172886268251712.jpg?gif=1&w=360&h=360&c=c&q=0.8&webp=1\n"
     ]
    },
    {
     "name": "stderr",
     "output_type": "stream",
     "text": [
      " 49%|████▉     | 50/102 [01:11<01:27,  1.69s/it]"
     ]
    },
    {
     "name": "stdout",
     "output_type": "stream",
     "text": [
      "https://image.ohou.se/i/bucketplace-v2-development/uploads/productions/168489248810282883.jpg?gif=1&w=360&h=360&c=c&q=0.8&webp=1\n"
     ]
    },
    {
     "name": "stderr",
     "output_type": "stream",
     "text": [
      " 50%|█████     | 51/102 [01:12<01:12,  1.43s/it]"
     ]
    },
    {
     "name": "stdout",
     "output_type": "stream",
     "text": [
      "https://image.ohou.se/i/bucketplace-v2-development/uploads%2Fproductions%2F1490754893_100096_1.jpg?gif=1&w=360&h=360&c=c&q=0.8&webp=1\n"
     ]
    },
    {
     "name": "stderr",
     "output_type": "stream",
     "text": [
      " 51%|█████     | 52/102 [01:14<01:15,  1.51s/it]"
     ]
    },
    {
     "name": "stdout",
     "output_type": "stream",
     "text": [
      "https://image.ohou.se/i/bucketplace-v2-development/uploads/productions/167409301255167286.jpg?gif=1&w=360&h=360&c=c&q=0.8&webp=1\n"
     ]
    },
    {
     "name": "stderr",
     "output_type": "stream",
     "text": [
      " 52%|█████▏    | 53/102 [01:15<01:14,  1.52s/it]"
     ]
    },
    {
     "name": "stdout",
     "output_type": "stream",
     "text": [
      "https://image.ohou.se/i/bucketplace-v2-development/uploads/productions/1591769225_117399_1.jpg?gif=1&w=360&h=360&c=c&q=0.8&webp=1\n"
     ]
    },
    {
     "name": "stderr",
     "output_type": "stream",
     "text": [
      " 53%|█████▎    | 54/102 [01:17<01:15,  1.57s/it]"
     ]
    },
    {
     "name": "stdout",
     "output_type": "stream",
     "text": [
      "https://image.ohou.se/i/bucketplace-v2-development/uploads/productions/160308736740743322.jpg?gif=1&w=360&h=360&c=c&q=0.8&webp=1\n"
     ]
    },
    {
     "name": "stderr",
     "output_type": "stream",
     "text": [
      " 54%|█████▍    | 55/102 [01:19<01:18,  1.68s/it]"
     ]
    },
    {
     "name": "stdout",
     "output_type": "stream",
     "text": [
      "https://image.ohou.se/i/bucketplace-v2-development/uploads/productions/165043807963096854.jpg?gif=1&w=360&h=360&c=c&q=0.8&webp=1\n"
     ]
    },
    {
     "name": "stderr",
     "output_type": "stream",
     "text": [
      " 55%|█████▍    | 56/102 [01:20<01:10,  1.53s/it]"
     ]
    },
    {
     "name": "stdout",
     "output_type": "stream",
     "text": [
      "https://image.ohou.se/i/bucketplace-v2-development/uploads/productions/168923614480672316.jpg?gif=1&w=360&h=360&c=c&q=0.8&webp=1\n"
     ]
    },
    {
     "name": "stderr",
     "output_type": "stream",
     "text": [
      " 56%|█████▌    | 57/102 [01:23<01:23,  1.86s/it]"
     ]
    },
    {
     "name": "stdout",
     "output_type": "stream",
     "text": [
      "https://image.ohou.se/i/bucketplace-v2-development/uploads/productions/166028415942964717.png?gif=1&w=360&h=360&c=c&q=0.8&webp=1\n"
     ]
    },
    {
     "name": "stderr",
     "output_type": "stream",
     "text": [
      " 57%|█████▋    | 58/102 [01:24<01:10,  1.61s/it]"
     ]
    },
    {
     "name": "stdout",
     "output_type": "stream",
     "text": [
      "https://image.ohou.se/i/bucketplace-v2-development/uploads/productions/168852051368194642.jpg?gif=1&w=360&h=360&c=c&q=0.8&webp=1\n"
     ]
    },
    {
     "name": "stderr",
     "output_type": "stream",
     "text": [
      " 58%|█████▊    | 59/102 [01:25<01:04,  1.49s/it]"
     ]
    },
    {
     "name": "stdout",
     "output_type": "stream",
     "text": [
      "https://image.ohou.se/i/bucketplace-v2-development/uploads/productions/165043790056415444.jpg?gif=1&w=360&h=360&c=c&q=0.8&webp=1\n"
     ]
    },
    {
     "name": "stderr",
     "output_type": "stream",
     "text": [
      " 59%|█████▉    | 60/102 [01:27<01:05,  1.57s/it]"
     ]
    },
    {
     "name": "stdout",
     "output_type": "stream",
     "text": [
      "https://image.ohou.se/i/bucketplace-v2-development/uploads/productions/167481214188706807.jpg?gif=1&w=360&h=360&c=c&q=0.8&webp=1\n"
     ]
    },
    {
     "name": "stderr",
     "output_type": "stream",
     "text": [
      " 60%|█████▉    | 61/102 [01:29<01:08,  1.67s/it]"
     ]
    },
    {
     "name": "stdout",
     "output_type": "stream",
     "text": [
      "https://image.ohou.se/i/bucketplace-v2-development/uploads/productions/165119412938938867.jpg?gif=1&w=360&h=360&c=c&q=0.8&webp=1\n"
     ]
    },
    {
     "name": "stderr",
     "output_type": "stream",
     "text": [
      " 61%|██████    | 62/102 [01:30<01:06,  1.66s/it]"
     ]
    },
    {
     "name": "stdout",
     "output_type": "stream",
     "text": [
      "https://image.ohou.se/i/bucketplace-v2-development/uploads/productions/165528135446890800.jpg?gif=1&w=360&h=360&c=c&q=0.8&webp=1\n"
     ]
    },
    {
     "name": "stderr",
     "output_type": "stream",
     "text": [
      " 62%|██████▏   | 63/102 [01:32<01:01,  1.58s/it]"
     ]
    },
    {
     "name": "stdout",
     "output_type": "stream",
     "text": [
      "https://image.ohou.se/i/bucketplace-v2-development/uploads/productions/160497597415181205.jpg?gif=1&w=360&h=360&c=c&q=0.8&webp=1\n"
     ]
    },
    {
     "name": "stderr",
     "output_type": "stream",
     "text": [
      " 63%|██████▎   | 64/102 [01:33<00:59,  1.56s/it]"
     ]
    },
    {
     "name": "stdout",
     "output_type": "stream",
     "text": [
      "https://image.ohou.se/i/bucketplace-v2-development/uploads/productions/167469956712170718.jpg?gif=1&w=360&h=360&c=c&q=0.8&webp=1\n"
     ]
    },
    {
     "name": "stderr",
     "output_type": "stream",
     "text": [
      " 64%|██████▎   | 65/102 [01:34<00:49,  1.34s/it]"
     ]
    },
    {
     "name": "stdout",
     "output_type": "stream",
     "text": [
      "https://image.ohou.se/i/bucketplace-v2-development/uploads/productions/168232014039997530.jpg?gif=1&w=360&h=360&c=c&q=0.8&webp=1\n"
     ]
    },
    {
     "name": "stderr",
     "output_type": "stream",
     "text": [
      " 65%|██████▍   | 66/102 [01:35<00:44,  1.24s/it]"
     ]
    },
    {
     "name": "stdout",
     "output_type": "stream",
     "text": [
      "https://image.ohou.se/i/bucketplace-v2-development/uploads/productions/163895413335231190.jpg?gif=1&w=360&h=360&c=c&q=0.8&webp=1\n"
     ]
    },
    {
     "name": "stderr",
     "output_type": "stream",
     "text": [
      " 66%|██████▌   | 67/102 [01:35<00:36,  1.03s/it]"
     ]
    },
    {
     "name": "stdout",
     "output_type": "stream",
     "text": [
      "ERROR!!\n"
     ]
    },
    {
     "name": "stderr",
     "output_type": "stream",
     "text": [
      " 67%|██████▋   | 68/102 [01:37<00:38,  1.12s/it]"
     ]
    },
    {
     "name": "stdout",
     "output_type": "stream",
     "text": [
      "ERROR!!\n"
     ]
    },
    {
     "name": "stderr",
     "output_type": "stream",
     "text": [
      " 68%|██████▊   | 69/102 [01:38<00:34,  1.03s/it]"
     ]
    },
    {
     "name": "stdout",
     "output_type": "stream",
     "text": [
      "ERROR!!\n"
     ]
    },
    {
     "name": "stderr",
     "output_type": "stream",
     "text": [
      " 69%|██████▊   | 70/102 [01:39<00:35,  1.09s/it]"
     ]
    },
    {
     "name": "stdout",
     "output_type": "stream",
     "text": [
      "https://image.ohou.se/i/bucketplace-v2-development/uploads/productions/156203598619400295.jpg?gif=1&w=360&h=360&c=c&q=0.8&webp=1\n"
     ]
    },
    {
     "name": "stderr",
     "output_type": "stream",
     "text": [
      " 70%|██████▉   | 71/102 [01:40<00:38,  1.25s/it]"
     ]
    },
    {
     "name": "stdout",
     "output_type": "stream",
     "text": [
      "https://image.ohou.se/i/bucketplace-v2-development/uploads/productions/159479013632430049.jpg?gif=1&w=360&h=360&c=c&q=0.8&webp=1\n"
     ]
    },
    {
     "name": "stderr",
     "output_type": "stream",
     "text": [
      " 71%|███████   | 72/102 [01:42<00:42,  1.43s/it]"
     ]
    },
    {
     "name": "stdout",
     "output_type": "stream",
     "text": [
      "https://image.ohou.se/i/bucketplace-v2-development/uploads/productions/1547183600_106777_1.jpg?gif=1&w=360&h=360&c=c&q=0.8&webp=1\n"
     ]
    },
    {
     "name": "stderr",
     "output_type": "stream",
     "text": [
      " 72%|███████▏  | 73/102 [01:44<00:46,  1.62s/it]"
     ]
    },
    {
     "name": "stdout",
     "output_type": "stream",
     "text": [
      "https://image.ohou.se/i/bucketplace-v2-development/uploads/productions/161172755443348037.jpg?gif=1&w=360&h=360&c=c&q=0.8&webp=1\n"
     ]
    },
    {
     "name": "stderr",
     "output_type": "stream",
     "text": [
      " 73%|███████▎  | 74/102 [01:46<00:45,  1.64s/it]"
     ]
    },
    {
     "name": "stdout",
     "output_type": "stream",
     "text": [
      "https://image.ohou.se/i/bucketplace-v2-development/uploads/productions/159652669522606070.jpg?gif=1&w=360&h=360&c=c&q=0.8&webp=1\n"
     ]
    },
    {
     "name": "stderr",
     "output_type": "stream",
     "text": [
      " 74%|███████▎  | 75/102 [01:47<00:40,  1.50s/it]"
     ]
    },
    {
     "name": "stdout",
     "output_type": "stream",
     "text": [
      "https://image.ohou.se/i/bucketplace-v2-development/uploads/productions/159652227417328891.jpg?gif=1&w=360&h=360&c=c&q=0.8&webp=1\n"
     ]
    },
    {
     "name": "stderr",
     "output_type": "stream",
     "text": [
      " 75%|███████▍  | 76/102 [01:49<00:41,  1.60s/it]"
     ]
    },
    {
     "name": "stdout",
     "output_type": "stream",
     "text": [
      "https://image.ohou.se/i/bucketplace-v2-development/uploads/productions/162001994253234226.jpg?gif=1&w=360&h=360&c=c&q=0.8&webp=1\n"
     ]
    },
    {
     "name": "stderr",
     "output_type": "stream",
     "text": [
      " 75%|███████▌  | 77/102 [01:51<00:41,  1.65s/it]"
     ]
    },
    {
     "name": "stdout",
     "output_type": "stream",
     "text": [
      "https://image.ohou.se/i/bucketplace-v2-development/uploads/productions/159479055541260913.jpg?gif=1&w=360&h=360&c=c&q=0.8&webp=1\n"
     ]
    },
    {
     "name": "stderr",
     "output_type": "stream",
     "text": [
      " 76%|███████▋  | 78/102 [01:53<00:43,  1.79s/it]"
     ]
    },
    {
     "name": "stdout",
     "output_type": "stream",
     "text": [
      "https://image.ohou.se/i/bucketplace-v2-development/uploads/productions/162555870693894837.jpg?gif=1&w=360&h=360&c=c&q=0.8&webp=1\n"
     ]
    },
    {
     "name": "stderr",
     "output_type": "stream",
     "text": [
      " 77%|███████▋  | 79/102 [01:54<00:37,  1.63s/it]"
     ]
    },
    {
     "name": "stdout",
     "output_type": "stream",
     "text": [
      "https://image.ohou.se/i/bucketplace-v2-development/uploads/productions/1593512969_102086_1.jpg?gif=1&w=360&h=360&c=c&q=0.8&webp=1\n"
     ]
    },
    {
     "name": "stderr",
     "output_type": "stream",
     "text": [
      " 78%|███████▊  | 80/102 [01:56<00:37,  1.69s/it]"
     ]
    },
    {
     "name": "stdout",
     "output_type": "stream",
     "text": [
      "https://image.ohou.se/i/bucketplace-v2-development/uploads/productions/163523257047693177.jpg?gif=1&w=360&h=360&c=c&q=0.8&webp=1\n"
     ]
    },
    {
     "name": "stderr",
     "output_type": "stream",
     "text": [
      " 79%|███████▉  | 81/102 [01:58<00:38,  1.85s/it]"
     ]
    },
    {
     "name": "stdout",
     "output_type": "stream",
     "text": [
      "https://image.ohou.se/i/bucketplace-v2-development/uploads/productions/164085792738861181.jpg?gif=1&w=360&h=360&c=c&q=0.8&webp=1\n"
     ]
    },
    {
     "name": "stderr",
     "output_type": "stream",
     "text": [
      " 80%|████████  | 82/102 [02:00<00:35,  1.78s/it]"
     ]
    },
    {
     "name": "stdout",
     "output_type": "stream",
     "text": [
      "https://image.ohou.se/i/bucketplace-v2-development/uploads/productions/162691985608162791.jpg?gif=1&w=360&h=360&c=c&q=0.8&webp=1\n"
     ]
    },
    {
     "name": "stderr",
     "output_type": "stream",
     "text": [
      " 81%|████████▏ | 83/102 [02:01<00:31,  1.65s/it]"
     ]
    },
    {
     "name": "stdout",
     "output_type": "stream",
     "text": [
      "https://image.ohou.se/i/bucketplace-v2-development/uploads/productions/167600604869986912.jpg?gif=1&w=360&h=360&c=c&q=0.8&webp=1\n"
     ]
    },
    {
     "name": "stderr",
     "output_type": "stream",
     "text": [
      " 82%|████████▏ | 84/102 [02:02<00:27,  1.53s/it]"
     ]
    },
    {
     "name": "stdout",
     "output_type": "stream",
     "text": [
      "https://image.ohou.se/i/bucketplace-v2-development/uploads/productions/160039042372092819.jpg?gif=1&w=360&h=360&c=c&q=0.8&webp=1\n"
     ]
    },
    {
     "name": "stderr",
     "output_type": "stream",
     "text": [
      " 83%|████████▎ | 85/102 [02:04<00:27,  1.63s/it]"
     ]
    },
    {
     "name": "stdout",
     "output_type": "stream",
     "text": [
      "https://image.ohou.se/i/bucketplace-v2-development/uploads/productions/164447690435198771.jpg?gif=1&w=360&h=360&c=c&q=0.8&webp=1\n"
     ]
    },
    {
     "name": "stderr",
     "output_type": "stream",
     "text": [
      " 84%|████████▍ | 86/102 [02:06<00:26,  1.67s/it]"
     ]
    },
    {
     "name": "stdout",
     "output_type": "stream",
     "text": [
      "https://image.ohou.se/i/bucketplace-v2-development/uploads/productions/168636688022691191.jpg?gif=1&w=360&h=360&c=c&q=0.8&webp=1\n"
     ]
    },
    {
     "name": "stderr",
     "output_type": "stream",
     "text": [
      " 85%|████████▌ | 87/102 [02:08<00:26,  1.77s/it]"
     ]
    },
    {
     "name": "stdout",
     "output_type": "stream",
     "text": [
      "https://image.ohou.se/i/bucketplace-v2-development/uploads/productions/168232297438033584.jpg?gif=1&w=360&h=360&c=c&q=0.8&webp=1\n"
     ]
    },
    {
     "name": "stderr",
     "output_type": "stream",
     "text": [
      " 86%|████████▋ | 88/102 [02:09<00:23,  1.66s/it]"
     ]
    },
    {
     "name": "stdout",
     "output_type": "stream",
     "text": [
      "https://image.ohou.se/i/bucketplace-v2-development/uploads/productions/168267513353743055.jpg?gif=1&w=360&h=360&c=c&q=0.8&webp=1\n"
     ]
    },
    {
     "name": "stderr",
     "output_type": "stream",
     "text": [
      " 87%|████████▋ | 89/102 [02:11<00:20,  1.56s/it]"
     ]
    },
    {
     "name": "stdout",
     "output_type": "stream",
     "text": [
      "https://image.ohou.se/i/bucketplace-v2-development/uploads/productions/166260556083159288.jpg?gif=1&w=360&h=360&c=c&q=0.8&webp=1\n"
     ]
    },
    {
     "name": "stderr",
     "output_type": "stream",
     "text": [
      " 88%|████████▊ | 90/102 [02:13<00:19,  1.60s/it]"
     ]
    },
    {
     "name": "stdout",
     "output_type": "stream",
     "text": [
      "https://image.ohou.se/i/bucketplace-v2-development/uploads/productions/169501665455465948.jpg?gif=1&w=360&h=360&c=c&q=0.8&webp=1\n"
     ]
    },
    {
     "name": "stderr",
     "output_type": "stream",
     "text": [
      " 89%|████████▉ | 91/102 [02:14<00:17,  1.60s/it]"
     ]
    },
    {
     "name": "stdout",
     "output_type": "stream",
     "text": [
      "https://image.ohou.se/i/bucketplace-v2-development/uploads/productions/166910389061348828.jpg?gif=1&w=360&h=360&c=c&q=0.8&webp=1\n"
     ]
    },
    {
     "name": "stderr",
     "output_type": "stream",
     "text": [
      " 90%|█████████ | 92/102 [02:16<00:15,  1.54s/it]"
     ]
    },
    {
     "name": "stdout",
     "output_type": "stream",
     "text": [
      "https://image.ohou.se/i/bucketplace-v2-development/uploads/productions/160488700955884307.jpg?gif=1&w=360&h=360&c=c&q=0.8&webp=1\n"
     ]
    },
    {
     "name": "stderr",
     "output_type": "stream",
     "text": [
      " 91%|█████████ | 93/102 [02:17<00:12,  1.43s/it]"
     ]
    },
    {
     "name": "stdout",
     "output_type": "stream",
     "text": [
      "https://image.ohou.se/i/bucketplace-v2-development/uploads/productions/1545958598825_Hrvn45.jpg?gif=1&w=360&h=360&c=c&q=0.8&webp=1\n"
     ]
    },
    {
     "name": "stderr",
     "output_type": "stream",
     "text": [
      " 92%|█████████▏| 94/102 [02:18<00:11,  1.38s/it]"
     ]
    },
    {
     "name": "stdout",
     "output_type": "stream",
     "text": [
      "https://image.ohou.se/i/bucketplace-v2-development/uploads/productions/167409312911466633.jpg?gif=1&w=360&h=360&c=c&q=0.8&webp=1\n"
     ]
    },
    {
     "name": "stderr",
     "output_type": "stream",
     "text": [
      " 93%|█████████▎| 95/102 [02:20<00:10,  1.44s/it]"
     ]
    },
    {
     "name": "stdout",
     "output_type": "stream",
     "text": [
      "https://image.ohou.se/i/bucketplace-v2-development/uploads/productions/157728548654904523.jpg?gif=1&w=360&h=360&c=c&q=0.8&webp=1\n"
     ]
    },
    {
     "name": "stderr",
     "output_type": "stream",
     "text": [
      " 94%|█████████▍| 96/102 [02:21<00:09,  1.58s/it]"
     ]
    },
    {
     "name": "stdout",
     "output_type": "stream",
     "text": [
      "https://image.ohou.se/i/bucketplace-v2-development/uploads/productions/162573083887021041.jpg?gif=1&w=360&h=360&c=c&q=0.8&webp=1\n"
     ]
    },
    {
     "name": "stderr",
     "output_type": "stream",
     "text": [
      " 95%|█████████▌| 97/102 [02:23<00:07,  1.57s/it]"
     ]
    },
    {
     "name": "stdout",
     "output_type": "stream",
     "text": [
      "https://image.ohou.se/i/bucketplace-v2-development/uploads/productions/169743667736309621.jpg?gif=1&w=360&h=360&c=c&q=0.8&webp=1\n"
     ]
    },
    {
     "name": "stderr",
     "output_type": "stream",
     "text": [
      " 96%|█████████▌| 98/102 [02:24<00:05,  1.49s/it]"
     ]
    },
    {
     "name": "stdout",
     "output_type": "stream",
     "text": [
      "https://image.ohou.se/i/bucketplace-v2-development/uploads/productions/168180367488249342.jpg?gif=1&w=360&h=360&c=c&q=0.8&webp=1\n"
     ]
    },
    {
     "name": "stderr",
     "output_type": "stream",
     "text": [
      " 97%|█████████▋| 99/102 [02:26<00:04,  1.58s/it]"
     ]
    },
    {
     "name": "stdout",
     "output_type": "stream",
     "text": [
      "https://image.ohou.se/i/bucketplace-v2-development/uploads/productions/166615853178647431.jpg?gif=1&w=360&h=360&c=c&q=0.8&webp=1\n"
     ]
    },
    {
     "name": "stderr",
     "output_type": "stream",
     "text": [
      " 98%|█████████▊| 100/102 [02:28<00:03,  1.61s/it]"
     ]
    },
    {
     "name": "stdout",
     "output_type": "stream",
     "text": [
      "https://image.ohou.se/i/bucketplace-v2-development/uploads/productions/168231880192767808.jpg?gif=1&w=360&h=360&c=c&q=0.8&webp=1\n"
     ]
    },
    {
     "name": "stderr",
     "output_type": "stream",
     "text": [
      " 99%|█████████▉| 101/102 [02:29<00:01,  1.57s/it]"
     ]
    },
    {
     "name": "stdout",
     "output_type": "stream",
     "text": [
      "https://image.ohou.se/i/bucketplace-v2-development/uploads/productions/164999265803613719.jpg?gif=1&w=360&h=360&c=c&q=0.8&webp=1\n"
     ]
    },
    {
     "name": "stderr",
     "output_type": "stream",
     "text": [
      "100%|██████████| 102/102 [02:30<00:00,  1.48s/it]"
     ]
    },
    {
     "name": "stdout",
     "output_type": "stream",
     "text": [
      "https://image.ohou.se/i/bucketplace-v2-development/uploads/productions/169561929336807093.jpg?gif=1&w=360&h=360&c=c&q=0.8&webp=1\n"
     ]
    },
    {
     "name": "stderr",
     "output_type": "stream",
     "text": [
      "\n"
     ]
    }
   ],
   "source": [
    "i = 0\n",
    "info = []\n",
    "\n",
    "for key,value in tqdm(data.items()):\n",
    "    try:\n",
    "        brand = value[0]\n",
    "        name = value[1]\n",
    "        price = value[2]\n",
    "        src = value[3]\n",
    "        link = value[4]\n",
    "\n",
    "        i += 1\n",
    "        time.sleep(0.5 + random.random())\n",
    "        response = requests.get(src, stream=True)\n",
    "        print(src)\n",
    "\n",
    "        save_image_path = f'./static/img/bed/drawer/drawer{i}.png'\n",
    "        if response.status_code == 200:\n",
    "            # 응답 내용을 바이너리 파일로 저장하기\n",
    "            with open(save_image_path, 'wb') as out_file:\n",
    "                out_file.write(response.content)\n",
    "        \n",
    "        info.append([brand, name, price, save_image_path, link, None])\n",
    "\n",
    "    except:\n",
    "        print('ERROR!!')\n",
    "        pass"
   ]
  },
  {
   "cell_type": "code",
   "execution_count": 56,
   "metadata": {},
   "outputs": [
    {
     "data": {
      "text/plain": [
       "99"
      ]
     },
     "execution_count": 56,
     "metadata": {},
     "output_type": "execute_result"
    }
   ],
   "source": [
    "len(info)"
   ]
  },
  {
   "cell_type": "code",
   "execution_count": 57,
   "metadata": {},
   "outputs": [
    {
     "name": "stderr",
     "output_type": "stream",
     "text": [
      "100%|██████████| 99/99 [1:16:31<00:00, 46.38s/it]\n"
     ]
    }
   ],
   "source": [
    "# 제품 링크 접속하기\n",
    "# 회원만 구입할 수 있는 상품이 포함되어 있어 로그인 후 크롤링\n",
    "for i in tqdm(range(len(info))):\n",
    "    info_line = info[i]\n",
    "    link = info_line[4]\n",
    "\n",
    "    driver.get(link)\n",
    "    driver.implicitly_wait(4)\n",
    "    time.sleep(0.5+random.random())\n",
    "\n",
    "    re_ = driver.find_elements(By.CLASS_NAME, \"production-selling-navigation__item\")\n",
    "    re_[1].click()\n",
    "    time.sleep(0.5+random.random()) \n",
    "\n",
    "    # 한 페이지당 5개 리뷰 \n",
    "    # 20페이지 크롤링해서 총 100개 리뷰 가져오기\n",
    "    review = []\n",
    "    first = driver.find_elements(By.CLASS_NAME, \"production-review-item__description\")\n",
    "    for i in first:\n",
    "        review.append(i.text)\n",
    "\n",
    "    for i in range(19):\n",
    "        try:\n",
    "            driver.find_elements(By.CLASS_NAME, \"_2XI47._3I7ex\")[0].click()\n",
    "            time.sleep(1.5+random.random())\n",
    "            text = driver.find_elements(By.CLASS_NAME, \"production-review-item__description\")\n",
    "            for i in text:\n",
    "                review.append(i.text)\n",
    "        except:\n",
    "            print('ERROR!!')\n",
    "            pass\n",
    "\n",
    "    info_line[5] = review\n",
    "\n"
   ]
  },
  {
   "cell_type": "code",
   "execution_count": 58,
   "metadata": {},
   "outputs": [
    {
     "data": {
      "text/html": [
       "<div>\n",
       "<style scoped>\n",
       "    .dataframe tbody tr th:only-of-type {\n",
       "        vertical-align: middle;\n",
       "    }\n",
       "\n",
       "    .dataframe tbody tr th {\n",
       "        vertical-align: top;\n",
       "    }\n",
       "\n",
       "    .dataframe thead th {\n",
       "        text-align: right;\n",
       "    }\n",
       "</style>\n",
       "<table border=\"1\" class=\"dataframe\">\n",
       "  <thead>\n",
       "    <tr style=\"text-align: right;\">\n",
       "      <th></th>\n",
       "      <th>brand</th>\n",
       "      <th>item</th>\n",
       "      <th>price</th>\n",
       "      <th>image</th>\n",
       "      <th>link</th>\n",
       "      <th>review</th>\n",
       "    </tr>\n",
       "  </thead>\n",
       "  <tbody>\n",
       "    <tr>\n",
       "      <th>0</th>\n",
       "      <td>마켓비</td>\n",
       "      <td>FIHA 서랍장 4.1단</td>\n",
       "      <td>38,900</td>\n",
       "      <td>./static/img/bed/drawer/drawer1.png</td>\n",
       "      <td>https://ohou.se/productions/307306/selling?aff...</td>\n",
       "      <td>[이 제품 검정으로 먼저 샀었는데 잘 썼어서 흰색으로 이사 겸 샀어용ㅋㅋㅋ 제 책상...</td>\n",
       "    </tr>\n",
       "    <tr>\n",
       "      <th>1</th>\n",
       "      <td>마켓비</td>\n",
       "      <td>FIHA 서랍장 5단</td>\n",
       "      <td>38,900</td>\n",
       "      <td>./static/img/bed/drawer/drawer2.png</td>\n",
       "      <td>https://ohou.se/productions/307305/selling?aff...</td>\n",
       "      <td>[사용하고 있는 데스크탑 책상 밑에 넣어 둘 서랍이 필요해서 구배하게 되었는데 조립...</td>\n",
       "    </tr>\n",
       "    <tr>\n",
       "      <th>2</th>\n",
       "      <td>어라운드화이트</td>\n",
       "      <td>루시 E0 1200 높은 선반 수납장</td>\n",
       "      <td>158,900</td>\n",
       "      <td>./static/img/bed/drawer/drawer3.png</td>\n",
       "      <td>https://ohou.se/productions/1318267/selling?af...</td>\n",
       "      <td>[소형가전도 올리고, 수납공간도 필요해서 구입했습니다. 높이가 씽그태랑 같아서 깔끔...</td>\n",
       "    </tr>\n",
       "    <tr>\n",
       "      <th>3</th>\n",
       "      <td>아리아퍼니쳐</td>\n",
       "      <td>STB 다용도 수납벤치 수납함 2size 3colors (벤치쿠션추가구매)</td>\n",
       "      <td>48,900</td>\n",
       "      <td>./static/img/bed/drawer/drawer4.png</td>\n",
       "      <td>https://ohou.se/productions/71236/selling?affe...</td>\n",
       "      <td>[베란다 인테리어용으로 쓰고있습니다 안에 수납공간도있고 의자로사용해서 편하고 좋습니...</td>\n",
       "    </tr>\n",
       "    <tr>\n",
       "      <th>4</th>\n",
       "      <td>플라망</td>\n",
       "      <td>E0등급 파인 3도어 수납장 1200 높은수납장</td>\n",
       "      <td>90,900</td>\n",
       "      <td>./static/img/bed/drawer/drawer5.png</td>\n",
       "      <td>https://ohou.se/productions/612933/selling?aff...</td>\n",
       "      <td>[월룸에 옷정리를 할 수 있는 수납공간이 부족했는데 옷장을 넣기에는 공간이 부족한 ...</td>\n",
       "    </tr>\n",
       "    <tr>\n",
       "      <th>...</th>\n",
       "      <td>...</td>\n",
       "      <td>...</td>\n",
       "      <td>...</td>\n",
       "      <td>...</td>\n",
       "      <td>...</td>\n",
       "      <td>...</td>\n",
       "    </tr>\n",
       "    <tr>\n",
       "      <th>94</th>\n",
       "      <td>아늑</td>\n",
       "      <td>소울 캐비넷 오픈선반형 높은 수납장 (600/800 2size)</td>\n",
       "      <td>129,000</td>\n",
       "      <td>./static/img/bed/drawer/drawer98.png</td>\n",
       "      <td>https://ohou.se/productions/1566708/selling?af...</td>\n",
       "      <td>[모던하면서도 감각적인 디자인이 맘에 들어요. 도어가 있어 안쪽에 물건을 감출 수 ...</td>\n",
       "    </tr>\n",
       "    <tr>\n",
       "      <th>95</th>\n",
       "      <td>아이엔지홈</td>\n",
       "      <td>킨포 3단 서랍장 4 colors (거울/스툴 추가선택)</td>\n",
       "      <td>154,000</td>\n",
       "      <td>./static/img/bed/drawer/drawer99.png</td>\n",
       "      <td>https://ohou.se/productions/128864/selling?aff...</td>\n",
       "      <td>[사이즈도 딱 좋고 실물이 더 이뻐요 감사합니다, 완전 튼튼하고 예뻐요 ❤️❤️ 잘...</td>\n",
       "    </tr>\n",
       "    <tr>\n",
       "      <th>96</th>\n",
       "      <td>아이리스코리아</td>\n",
       "      <td>3단 책장 인테리어 선반 공간박스 책꽂이 수납장</td>\n",
       "      <td>35,800</td>\n",
       "      <td>./static/img/bed/drawer/drawer100.png</td>\n",
       "      <td>https://ohou.se/productions/1290604/selling?af...</td>\n",
       "      <td>[음 두개중에 하나는 흔들거리더라고요.. 아는오빠는 싼티 겁나난다 오늘의집에서 사지...</td>\n",
       "    </tr>\n",
       "    <tr>\n",
       "      <th>97</th>\n",
       "      <td>모노폴리오</td>\n",
       "      <td>헤이 매거진랙 2단 수납장 2colors</td>\n",
       "      <td>79,000</td>\n",
       "      <td>./static/img/bed/drawer/drawer101.png</td>\n",
       "      <td>https://ohou.se/productions/518832/selling?aff...</td>\n",
       "      <td>[생각보다 마감도 좋고 저렴하다는 느낌없이 만족스럽습니다., 재 구매했습니당! 생각...</td>\n",
       "    </tr>\n",
       "    <tr>\n",
       "      <th>98</th>\n",
       "      <td>아이엔지홈</td>\n",
       "      <td>알렉스 1200 높은 수납장 ALEX</td>\n",
       "      <td>125,000</td>\n",
       "      <td>./static/img/bed/drawer/drawer102.png</td>\n",
       "      <td>https://ohou.se/productions/1426849/selling?af...</td>\n",
       "      <td>[공방에 원단 정리하랴고 구매했어요~ 깔끔하고 예쁘네용, 고급지고 튼튼해여 이 가격...</td>\n",
       "    </tr>\n",
       "  </tbody>\n",
       "</table>\n",
       "<p>99 rows × 6 columns</p>\n",
       "</div>"
      ],
      "text/plain": [
       "      brand                                       item    price  \\\n",
       "0       마켓비                              FIHA 서랍장 4.1단   38,900   \n",
       "1       마켓비                                FIHA 서랍장 5단   38,900   \n",
       "2   어라운드화이트                       루시 E0 1200 높은 선반 수납장  158,900   \n",
       "3    아리아퍼니쳐  STB 다용도 수납벤치 수납함 2size 3colors (벤치쿠션추가구매)   48,900   \n",
       "4       플라망                 E0등급 파인 3도어 수납장 1200 높은수납장   90,900   \n",
       "..      ...                                        ...      ...   \n",
       "94       아늑        소울 캐비넷 오픈선반형 높은 수납장 (600/800 2size)  129,000   \n",
       "95    아이엔지홈            킨포 3단 서랍장 4 colors (거울/스툴 추가선택)  154,000   \n",
       "96  아이리스코리아                 3단 책장 인테리어 선반 공간박스 책꽂이 수납장   35,800   \n",
       "97    모노폴리오                     헤이 매거진랙 2단 수납장 2colors   79,000   \n",
       "98    아이엔지홈                       알렉스 1200 높은 수납장 ALEX  125,000   \n",
       "\n",
       "                                    image  \\\n",
       "0     ./static/img/bed/drawer/drawer1.png   \n",
       "1     ./static/img/bed/drawer/drawer2.png   \n",
       "2     ./static/img/bed/drawer/drawer3.png   \n",
       "3     ./static/img/bed/drawer/drawer4.png   \n",
       "4     ./static/img/bed/drawer/drawer5.png   \n",
       "..                                    ...   \n",
       "94   ./static/img/bed/drawer/drawer98.png   \n",
       "95   ./static/img/bed/drawer/drawer99.png   \n",
       "96  ./static/img/bed/drawer/drawer100.png   \n",
       "97  ./static/img/bed/drawer/drawer101.png   \n",
       "98  ./static/img/bed/drawer/drawer102.png   \n",
       "\n",
       "                                                 link  \\\n",
       "0   https://ohou.se/productions/307306/selling?aff...   \n",
       "1   https://ohou.se/productions/307305/selling?aff...   \n",
       "2   https://ohou.se/productions/1318267/selling?af...   \n",
       "3   https://ohou.se/productions/71236/selling?affe...   \n",
       "4   https://ohou.se/productions/612933/selling?aff...   \n",
       "..                                                ...   \n",
       "94  https://ohou.se/productions/1566708/selling?af...   \n",
       "95  https://ohou.se/productions/128864/selling?aff...   \n",
       "96  https://ohou.se/productions/1290604/selling?af...   \n",
       "97  https://ohou.se/productions/518832/selling?aff...   \n",
       "98  https://ohou.se/productions/1426849/selling?af...   \n",
       "\n",
       "                                               review  \n",
       "0   [이 제품 검정으로 먼저 샀었는데 잘 썼어서 흰색으로 이사 겸 샀어용ㅋㅋㅋ 제 책상...  \n",
       "1   [사용하고 있는 데스크탑 책상 밑에 넣어 둘 서랍이 필요해서 구배하게 되었는데 조립...  \n",
       "2   [소형가전도 올리고, 수납공간도 필요해서 구입했습니다. 높이가 씽그태랑 같아서 깔끔...  \n",
       "3   [베란다 인테리어용으로 쓰고있습니다 안에 수납공간도있고 의자로사용해서 편하고 좋습니...  \n",
       "4   [월룸에 옷정리를 할 수 있는 수납공간이 부족했는데 옷장을 넣기에는 공간이 부족한 ...  \n",
       "..                                                ...  \n",
       "94  [모던하면서도 감각적인 디자인이 맘에 들어요. 도어가 있어 안쪽에 물건을 감출 수 ...  \n",
       "95  [사이즈도 딱 좋고 실물이 더 이뻐요 감사합니다, 완전 튼튼하고 예뻐요 ❤️❤️ 잘...  \n",
       "96  [음 두개중에 하나는 흔들거리더라고요.. 아는오빠는 싼티 겁나난다 오늘의집에서 사지...  \n",
       "97  [생각보다 마감도 좋고 저렴하다는 느낌없이 만족스럽습니다., 재 구매했습니당! 생각...  \n",
       "98  [공방에 원단 정리하랴고 구매했어요~ 깔끔하고 예쁘네용, 고급지고 튼튼해여 이 가격...  \n",
       "\n",
       "[99 rows x 6 columns]"
      ]
     },
     "execution_count": 58,
     "metadata": {},
     "output_type": "execute_result"
    }
   ],
   "source": [
    "drawer = pd.DataFrame(info, columns=['brand', 'item', 'price', 'image', 'link', 'review'])\n",
    "drawer"
   ]
  },
  {
   "cell_type": "code",
   "execution_count": 59,
   "metadata": {},
   "outputs": [],
   "source": [
    "drawer.to_csv('drawer.csv')"
   ]
  },
  {
   "cell_type": "code",
   "execution_count": null,
   "metadata": {},
   "outputs": [],
   "source": []
  },
  {
   "cell_type": "code",
   "execution_count": null,
   "metadata": {},
   "outputs": [],
   "source": []
  },
  {
   "cell_type": "code",
   "execution_count": null,
   "metadata": {},
   "outputs": [],
   "source": []
  },
  {
   "cell_type": "code",
   "execution_count": null,
   "metadata": {},
   "outputs": [],
   "source": []
  }
 ],
 "metadata": {
  "kernelspec": {
   "display_name": "learning",
   "language": "python",
   "name": "python3"
  },
  "language_info": {
   "codemirror_mode": {
    "name": "ipython",
    "version": 3
   },
   "file_extension": ".py",
   "mimetype": "text/x-python",
   "name": "python",
   "nbconvert_exporter": "python",
   "pygments_lexer": "ipython3",
   "version": "3.10.13"
  }
 },
 "nbformat": 4,
 "nbformat_minor": 2
}
