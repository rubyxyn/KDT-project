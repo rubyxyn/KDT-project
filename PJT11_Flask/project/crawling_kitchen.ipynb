{
 "cells": [
  {
   "cell_type": "code",
   "execution_count": 2,
   "metadata": {},
   "outputs": [],
   "source": [
    "import requests\n",
    "from bs4 import BeautifulSoup\n",
    "from tqdm import tqdm\n",
    "\n",
    "import pandas as pd\n",
    "import random\n",
    "import time\n",
    "import re\n",
    "from selenium import webdriver\n",
    "from selenium.webdriver.chrome.service import Service\n",
    "from selenium.webdriver.common.keys import Keys\n",
    "from selenium.webdriver.common.by import By "
   ]
  },
  {
   "cell_type": "code",
   "execution_count": 3,
   "metadata": {},
   "outputs": [],
   "source": [
    "# 창 열기\n",
    "driver = webdriver.Chrome()"
   ]
  },
  {
   "cell_type": "markdown",
   "metadata": {},
   "source": [
    "## 주방"
   ]
  },
  {
   "cell_type": "markdown",
   "metadata": {},
   "source": [
    "### 1) 식탁 테이블"
   ]
  },
  {
   "cell_type": "code",
   "execution_count": 4,
   "metadata": {},
   "outputs": [],
   "source": [
    "# 사이트 열기\n",
    "driver.get('https://ohou.se/store/category?category_id=10270018')\n",
    "driver.implicitly_wait(10)\n",
    "time.sleep(3)\n",
    "\n",
    "# 리뷰많은순으로 변경\n",
    "pre_order = driver.find_element(By.CLASS_NAME, \"category-filter-bar-order-button\").click()\n",
    "time.sleep(0.5+random.random())\n",
    "\n",
    "order_ = driver.find_elements(By.CLASS_NAME, \"property-filter-panel-entry-list__item__title\")\n",
    "order_[-3].click()\n",
    "time.sleep(0.5+random.random())"
   ]
  },
  {
   "cell_type": "code",
   "execution_count": 5,
   "metadata": {},
   "outputs": [
    {
     "name": "stderr",
     "output_type": "stream",
     "text": [
      "  0%|          | 0/20 [00:00<?, ?it/s]"
     ]
    },
    {
     "name": "stdout",
     "output_type": "stream",
     "text": [
      "15 개 데이터 가져옴....\n"
     ]
    },
    {
     "name": "stderr",
     "output_type": "stream",
     "text": [
      "  5%|▌         | 1/20 [00:05<01:43,  5.45s/it]"
     ]
    },
    {
     "name": "stdout",
     "output_type": "stream",
     "text": [
      "21 개 데이터 가져옴....\n"
     ]
    },
    {
     "name": "stderr",
     "output_type": "stream",
     "text": [
      " 10%|█         | 2/20 [00:11<01:39,  5.53s/it]"
     ]
    },
    {
     "name": "stdout",
     "output_type": "stream",
     "text": [
      "21 개 데이터 가져옴....\n"
     ]
    },
    {
     "name": "stderr",
     "output_type": "stream",
     "text": [
      " 15%|█▌        | 3/20 [00:16<01:34,  5.56s/it]"
     ]
    },
    {
     "name": "stdout",
     "output_type": "stream",
     "text": [
      "24 개 데이터 가져옴....\n"
     ]
    },
    {
     "name": "stderr",
     "output_type": "stream",
     "text": [
      " 20%|██        | 4/20 [00:22<01:29,  5.59s/it]"
     ]
    },
    {
     "name": "stdout",
     "output_type": "stream",
     "text": [
      "21 개 데이터 가져옴....\n"
     ]
    },
    {
     "name": "stderr",
     "output_type": "stream",
     "text": [
      " 25%|██▌       | 5/20 [00:27<01:23,  5.58s/it]"
     ]
    },
    {
     "name": "stdout",
     "output_type": "stream",
     "text": [
      "24 개 데이터 가져옴....\n"
     ]
    },
    {
     "name": "stderr",
     "output_type": "stream",
     "text": [
      " 30%|███       | 6/20 [00:33<01:18,  5.61s/it]"
     ]
    },
    {
     "name": "stdout",
     "output_type": "stream",
     "text": [
      "21 개 데이터 가져옴....\n"
     ]
    },
    {
     "name": "stderr",
     "output_type": "stream",
     "text": [
      " 35%|███▌      | 7/20 [00:39<01:12,  5.59s/it]"
     ]
    },
    {
     "name": "stdout",
     "output_type": "stream",
     "text": [
      "24 개 데이터 가져옴....\n"
     ]
    },
    {
     "name": "stderr",
     "output_type": "stream",
     "text": [
      " 40%|████      | 8/20 [00:44<01:07,  5.61s/it]"
     ]
    },
    {
     "name": "stdout",
     "output_type": "stream",
     "text": [
      "21 개 데이터 가져옴....\n"
     ]
    },
    {
     "name": "stderr",
     "output_type": "stream",
     "text": [
      " 45%|████▌     | 9/20 [00:50<01:01,  5.59s/it]"
     ]
    },
    {
     "name": "stdout",
     "output_type": "stream",
     "text": [
      "24 개 데이터 가져옴....\n"
     ]
    },
    {
     "name": "stderr",
     "output_type": "stream",
     "text": [
      " 50%|█████     | 10/20 [00:55<00:56,  5.61s/it]"
     ]
    },
    {
     "name": "stdout",
     "output_type": "stream",
     "text": [
      "21 개 데이터 가져옴....\n"
     ]
    },
    {
     "name": "stderr",
     "output_type": "stream",
     "text": [
      " 55%|█████▌    | 11/20 [01:01<00:50,  5.59s/it]"
     ]
    },
    {
     "name": "stdout",
     "output_type": "stream",
     "text": [
      "24 개 데이터 가져옴....\n"
     ]
    },
    {
     "name": "stderr",
     "output_type": "stream",
     "text": [
      " 60%|██████    | 12/20 [01:07<00:44,  5.60s/it]"
     ]
    },
    {
     "name": "stdout",
     "output_type": "stream",
     "text": [
      "21 개 데이터 가져옴....\n"
     ]
    },
    {
     "name": "stderr",
     "output_type": "stream",
     "text": [
      " 65%|██████▌   | 13/20 [01:12<00:39,  5.60s/it]"
     ]
    },
    {
     "name": "stdout",
     "output_type": "stream",
     "text": [
      "27 개 데이터 가져옴....\n"
     ]
    },
    {
     "name": "stderr",
     "output_type": "stream",
     "text": [
      " 70%|███████   | 14/20 [01:18<00:33,  5.62s/it]"
     ]
    },
    {
     "name": "stdout",
     "output_type": "stream",
     "text": [
      "24 개 데이터 가져옴....\n"
     ]
    },
    {
     "name": "stderr",
     "output_type": "stream",
     "text": [
      " 75%|███████▌  | 15/20 [01:23<00:28,  5.62s/it]"
     ]
    },
    {
     "name": "stdout",
     "output_type": "stream",
     "text": [
      "27 개 데이터 가져옴....\n"
     ]
    },
    {
     "name": "stderr",
     "output_type": "stream",
     "text": [
      " 80%|████████  | 16/20 [01:29<00:22,  5.64s/it]"
     ]
    },
    {
     "name": "stdout",
     "output_type": "stream",
     "text": [
      "24 개 데이터 가져옴....\n"
     ]
    },
    {
     "name": "stderr",
     "output_type": "stream",
     "text": [
      " 85%|████████▌ | 17/20 [01:35<00:16,  5.65s/it]"
     ]
    },
    {
     "name": "stdout",
     "output_type": "stream",
     "text": [
      "27 개 데이터 가져옴....\n"
     ]
    },
    {
     "name": "stderr",
     "output_type": "stream",
     "text": [
      " 90%|█████████ | 18/20 [01:41<00:11,  5.66s/it]"
     ]
    },
    {
     "name": "stdout",
     "output_type": "stream",
     "text": [
      "24 개 데이터 가져옴....\n"
     ]
    },
    {
     "name": "stderr",
     "output_type": "stream",
     "text": [
      " 95%|█████████▌| 19/20 [01:46<00:05,  5.65s/it]"
     ]
    },
    {
     "name": "stdout",
     "output_type": "stream",
     "text": [
      "27 개 데이터 가져옴....\n"
     ]
    },
    {
     "name": "stderr",
     "output_type": "stream",
     "text": [
      "100%|██████████| 20/20 [01:52<00:00,  5.62s/it]\n"
     ]
    }
   ],
   "source": [
    "info = []\n",
    "\n",
    "ffffa = 0\n",
    "# 스크롤 내리기\n",
    "def scroll():\n",
    "\n",
    "    global ffffa\n",
    "    ffffa += 600 \n",
    "    driver.execute_script(\"window.scrollTo(0, \"+ str(ffffa) + \")\")\n",
    "\n",
    "# 제목 : [브랜드, 제목, 가격, 이미지위치]\n",
    "# 스크롤을 조금씩 내리면서 가져오기 때문에 데이터 중복 가능\n",
    "# 데이터 중복 제거하기 위해 제목은 중복안되니까 제목을 key로 지정 \n",
    "data = {}\n",
    "\n",
    "# 스크롤 조금씩 내리면서 데이터 가져오기\n",
    "for page in tqdm(range(20)):\n",
    "    scroll()\n",
    "    time.sleep(5)\n",
    "\n",
    "    # 브랜드, 상품명, 가격, 이미지 경로, 제품 링크\n",
    "    brands =  driver.find_elements(By.CLASS_NAME, \"production-item__header__brand\")\n",
    "    names =  driver.find_elements(By.CLASS_NAME, \"production-item__header__name\")\n",
    "    prices = driver.find_elements(By.CLASS_NAME, \"production-item-price__price\")\n",
    "    srcs=  driver.find_elements(By.CLASS_NAME, \"image\")\n",
    "    links =  driver.find_elements(By.CLASS_NAME, \"production-item__overlay\")\n",
    "\n",
    "    amount= len(brands)\n",
    "    print(amount ,\"개 데이터 가져옴....\")\n",
    "    \n",
    "    for i in range(amount):\n",
    "        # 브랜드\n",
    "        brand = brands[i].text\n",
    "\n",
    "        # 상품명\n",
    "        name = names[i].text\n",
    "        name = re.sub(r'\\[.*?\\]', '', name)\n",
    "\n",
    "        # 가격\n",
    "        price = prices[i].text\n",
    "\n",
    "        # 이미지 경로\n",
    "        src = srcs[i].get_attribute('src')\n",
    "\n",
    "        # 제품 링크\n",
    "        link = links[i].get_attribute(\"href\")\n",
    "\n",
    "        data[name] = [brand, name, price, src, link]\n"
   ]
  },
  {
   "cell_type": "code",
   "execution_count": 6,
   "metadata": {},
   "outputs": [
    {
     "data": {
      "text/plain": [
       "102"
      ]
     },
     "execution_count": 6,
     "metadata": {},
     "output_type": "execute_result"
    }
   ],
   "source": [
    "result_amount = len(data.keys())\n",
    "result_amount"
   ]
  },
  {
   "cell_type": "code",
   "execution_count": 7,
   "metadata": {},
   "outputs": [
    {
     "name": "stderr",
     "output_type": "stream",
     "text": [
      "  1%|          | 1/102 [00:01<01:49,  1.08s/it]"
     ]
    },
    {
     "name": "stdout",
     "output_type": "stream",
     "text": [
      "https://image.ohou.se/i/bucketplace-v2-development/uploads/productions/1557909311160_Hw9mBQUpIR.jpg?gif=1&w=360&h=360&c=c&q=0.8&webp=1\n"
     ]
    },
    {
     "name": "stderr",
     "output_type": "stream",
     "text": [
      "  2%|▏         | 2/102 [00:02<02:08,  1.29s/it]"
     ]
    },
    {
     "name": "stdout",
     "output_type": "stream",
     "text": [
      "https://image.ohou.se/i/bucketplace-v2-development/uploads/productions/165838354735796647.png?gif=1&w=360&h=360&c=c&q=0.8&webp=1\n"
     ]
    },
    {
     "name": "stderr",
     "output_type": "stream",
     "text": [
      "  3%|▎         | 3/102 [00:03<01:46,  1.08s/it]"
     ]
    },
    {
     "name": "stdout",
     "output_type": "stream",
     "text": [
      "https://image.ohou.se/i/bucketplace-v2-development/uploads/productions/162675561580408252.jpg?gif=1&w=360&h=360&c=c&q=0.8&webp=1\n"
     ]
    },
    {
     "name": "stderr",
     "output_type": "stream",
     "text": [
      "  4%|▍         | 4/102 [00:05<02:10,  1.33s/it]"
     ]
    },
    {
     "name": "stdout",
     "output_type": "stream",
     "text": [
      "https://image.ohou.se/i/bucketplace-v2-development/uploads/productions/162675768379089638.jpg?gif=1&w=360&h=360&c=c&q=0.8&webp=1\n"
     ]
    },
    {
     "name": "stderr",
     "output_type": "stream",
     "text": [
      "  5%|▍         | 5/102 [00:06<02:10,  1.35s/it]"
     ]
    },
    {
     "name": "stdout",
     "output_type": "stream",
     "text": [
      "https://image.ohou.se/i/bucketplace-v2-development/uploads/productions/165837979276054821.png?gif=1&w=360&h=360&c=c&q=0.8&webp=1\n"
     ]
    },
    {
     "name": "stderr",
     "output_type": "stream",
     "text": [
      "  6%|▌         | 6/102 [00:07<02:09,  1.34s/it]"
     ]
    },
    {
     "name": "stdout",
     "output_type": "stream",
     "text": [
      "https://image.ohou.se/i/bucketplace-v2-development/uploads/productions/168187849140963892.jpg?gif=1&w=360&h=360&c=c&q=0.8&webp=1\n"
     ]
    },
    {
     "name": "stderr",
     "output_type": "stream",
     "text": [
      "  7%|▋         | 7/102 [00:09<02:11,  1.38s/it]"
     ]
    },
    {
     "name": "stdout",
     "output_type": "stream",
     "text": [
      "https://image.ohou.se/i/bucketplace-v2-development/uploads/productions/164247062473408385.jpg?gif=1&w=360&h=360&c=c&q=0.8&webp=1\n"
     ]
    },
    {
     "name": "stderr",
     "output_type": "stream",
     "text": [
      "  8%|▊         | 8/102 [00:12<02:51,  1.82s/it]"
     ]
    },
    {
     "name": "stdout",
     "output_type": "stream",
     "text": [
      "https://image.ohou.se/i/bucketplace-v2-development/uploads/productions/165838023034391972.png?gif=1&w=360&h=360&c=c&q=0.8&webp=1\n"
     ]
    },
    {
     "name": "stderr",
     "output_type": "stream",
     "text": [
      "  9%|▉         | 9/102 [00:13<02:42,  1.75s/it]"
     ]
    },
    {
     "name": "stdout",
     "output_type": "stream",
     "text": [
      "https://image.ohou.se/i/bucketplace-v2-development/uploads/productions/160438049356214666.jpg?gif=1&w=360&h=360&c=c&q=0.8&webp=1\n"
     ]
    },
    {
     "name": "stderr",
     "output_type": "stream",
     "text": [
      " 10%|▉         | 10/102 [00:15<02:38,  1.72s/it]"
     ]
    },
    {
     "name": "stdout",
     "output_type": "stream",
     "text": [
      "https://image.ohou.se/i/bucketplace-v2-development/uploads/productions/167782096908477418.jpg?gif=1&w=360&h=360&c=c&q=0.8&webp=1\n"
     ]
    },
    {
     "name": "stderr",
     "output_type": "stream",
     "text": [
      " 11%|█         | 11/102 [00:16<02:16,  1.50s/it]"
     ]
    },
    {
     "name": "stdout",
     "output_type": "stream",
     "text": [
      "https://image.ohou.se/i/bucketplace-v2-development/uploads/productions/159049963168980829.jpg?gif=1&w=360&h=360&c=c&q=0.8&webp=1\n"
     ]
    },
    {
     "name": "stderr",
     "output_type": "stream",
     "text": [
      " 12%|█▏        | 12/102 [00:18<02:23,  1.60s/it]"
     ]
    },
    {
     "name": "stdout",
     "output_type": "stream",
     "text": [
      "https://image.ohou.se/i/bucketplace-v2-development/uploads/productions/165838416707949206.png?gif=1&w=360&h=360&c=c&q=0.8&webp=1\n"
     ]
    },
    {
     "name": "stderr",
     "output_type": "stream",
     "text": [
      " 13%|█▎        | 13/102 [00:19<02:14,  1.51s/it]"
     ]
    },
    {
     "name": "stdout",
     "output_type": "stream",
     "text": [
      "https://image.ohou.se/i/bucketplace-v2-development/uploads/productions/167643075876773833.jpg?gif=1&w=360&h=360&c=c&q=0.8&webp=1\n"
     ]
    },
    {
     "name": "stderr",
     "output_type": "stream",
     "text": [
      " 14%|█▎        | 14/102 [00:20<02:05,  1.43s/it]"
     ]
    },
    {
     "name": "stdout",
     "output_type": "stream",
     "text": [
      "https://image.ohou.se/i/bucketplace-v2-development/uploads/productions/160750129708235811.jpg?gif=1&w=360&h=360&c=c&q=0.8&webp=1\n"
     ]
    },
    {
     "name": "stderr",
     "output_type": "stream",
     "text": [
      " 15%|█▍        | 15/102 [00:22<02:09,  1.49s/it]"
     ]
    },
    {
     "name": "stdout",
     "output_type": "stream",
     "text": [
      "https://image.ohou.se/i/bucketplace-v2-development/uploads/productions/168075632824334157.jpg?gif=1&w=360&h=360&c=c&q=0.8&webp=1\n"
     ]
    },
    {
     "name": "stderr",
     "output_type": "stream",
     "text": [
      " 16%|█▌        | 16/102 [00:23<02:00,  1.41s/it]"
     ]
    },
    {
     "name": "stdout",
     "output_type": "stream",
     "text": [
      "https://image.ohou.se/i/bucketplace-v2-development/uploads/productions/167349100027658377.jpg?gif=1&w=360&h=360&c=c&q=0.8&webp=1\n"
     ]
    },
    {
     "name": "stderr",
     "output_type": "stream",
     "text": [
      " 17%|█▋        | 17/102 [00:25<02:03,  1.45s/it]"
     ]
    },
    {
     "name": "stdout",
     "output_type": "stream",
     "text": [
      "https://image.ohou.se/i/bucketplace-v2-development/uploads/productions/163781692536266579.jpg?gif=1&w=360&h=360&c=c&q=0.8&webp=1\n"
     ]
    },
    {
     "name": "stderr",
     "output_type": "stream",
     "text": [
      " 18%|█▊        | 18/102 [00:26<02:09,  1.55s/it]"
     ]
    },
    {
     "name": "stdout",
     "output_type": "stream",
     "text": [
      "https://image.ohou.se/i/bucketplace-v2-development/uploads/productions/162704150859126553.jpg?gif=1&w=360&h=360&c=c&q=0.8&webp=1\n"
     ]
    },
    {
     "name": "stderr",
     "output_type": "stream",
     "text": [
      " 19%|█▊        | 19/102 [00:28<01:59,  1.44s/it]"
     ]
    },
    {
     "name": "stdout",
     "output_type": "stream",
     "text": [
      "https://image.ohou.se/i/bucketplace-v2-development/uploads/productions/163661187620047901.jpg?gif=1&w=360&h=360&c=c&q=0.8&webp=1\n"
     ]
    },
    {
     "name": "stderr",
     "output_type": "stream",
     "text": [
      " 20%|█▉        | 20/102 [00:29<02:04,  1.52s/it]"
     ]
    },
    {
     "name": "stdout",
     "output_type": "stream",
     "text": [
      "https://image.ohou.se/i/bucketplace-v2-development/uploads/productions/164870796811363789.jpg?gif=1&w=360&h=360&c=c&q=0.8&webp=1\n"
     ]
    },
    {
     "name": "stderr",
     "output_type": "stream",
     "text": [
      " 21%|██        | 21/102 [00:30<01:44,  1.29s/it]"
     ]
    },
    {
     "name": "stdout",
     "output_type": "stream",
     "text": [
      "https://image.ohou.se/i/bucketplace-v2-development/uploads/productions/163781894441373104.jpg?gif=1&w=360&h=360&c=c&q=0.8&webp=1\n"
     ]
    },
    {
     "name": "stderr",
     "output_type": "stream",
     "text": [
      " 22%|██▏       | 22/102 [00:32<01:53,  1.42s/it]"
     ]
    },
    {
     "name": "stdout",
     "output_type": "stream",
     "text": [
      "https://image.ohou.se/i/bucketplace-v2-development/uploads/productions/162675917274742832.jpg?gif=1&w=360&h=360&c=c&q=0.8&webp=1\n"
     ]
    },
    {
     "name": "stderr",
     "output_type": "stream",
     "text": [
      " 23%|██▎       | 23/102 [00:32<01:38,  1.24s/it]"
     ]
    },
    {
     "name": "stdout",
     "output_type": "stream",
     "text": [
      "https://image.ohou.se/i/bucketplace-v2-development/uploads/productions/164868407407239875.jpg?gif=1&w=360&h=360&c=c&q=0.8&webp=1\n"
     ]
    },
    {
     "name": "stderr",
     "output_type": "stream",
     "text": [
      " 24%|██▎       | 24/102 [00:34<01:32,  1.18s/it]"
     ]
    },
    {
     "name": "stdout",
     "output_type": "stream",
     "text": [
      "https://image.ohou.se/i/bucketplace-v2-development/uploads/productions/168923467722860518.jpg?gif=1&w=360&h=360&c=c&q=0.8&webp=1\n"
     ]
    },
    {
     "name": "stderr",
     "output_type": "stream",
     "text": [
      " 25%|██▍       | 25/102 [00:34<01:22,  1.08s/it]"
     ]
    },
    {
     "name": "stdout",
     "output_type": "stream",
     "text": [
      "https://image.ohou.se/i/bucketplace-v2-development/uploads/productions/166122634162088245.jpg?gif=1&w=360&h=360&c=c&q=0.8&webp=1\n"
     ]
    },
    {
     "name": "stderr",
     "output_type": "stream",
     "text": [
      " 25%|██▌       | 26/102 [00:36<01:27,  1.16s/it]"
     ]
    },
    {
     "name": "stdout",
     "output_type": "stream",
     "text": [
      "https://image.ohou.se/i/bucketplace-v2-development/uploads/productions/165708848534971520.jpg?gif=1&w=360&h=360&c=c&q=0.8&webp=1\n"
     ]
    },
    {
     "name": "stderr",
     "output_type": "stream",
     "text": [
      " 26%|██▋       | 27/102 [00:37<01:39,  1.33s/it]"
     ]
    },
    {
     "name": "stdout",
     "output_type": "stream",
     "text": [
      "https://image.ohou.se/i/bucketplace-v2-development/uploads/productions/166130634768313901.jpg?gif=1&w=360&h=360&c=c&q=0.8&webp=1\n"
     ]
    },
    {
     "name": "stderr",
     "output_type": "stream",
     "text": [
      " 27%|██▋       | 28/102 [00:38<01:28,  1.20s/it]"
     ]
    },
    {
     "name": "stdout",
     "output_type": "stream",
     "text": [
      "https://image.ohou.se/i/bucketplace-v2-development/uploads/productions/159971854278699652.jpg?gif=1&w=360&h=360&c=c&q=0.8&webp=1\n"
     ]
    },
    {
     "name": "stderr",
     "output_type": "stream",
     "text": [
      " 28%|██▊       | 29/102 [00:40<01:38,  1.35s/it]"
     ]
    },
    {
     "name": "stdout",
     "output_type": "stream",
     "text": [
      "https://image.ohou.se/i/bucketplace-v2-development/uploads/productions/167349170589642724.jpg?gif=1&w=360&h=360&c=c&q=0.8&webp=1\n"
     ]
    },
    {
     "name": "stderr",
     "output_type": "stream",
     "text": [
      " 29%|██▉       | 30/102 [00:41<01:26,  1.20s/it]"
     ]
    },
    {
     "name": "stdout",
     "output_type": "stream",
     "text": [
      "https://image.ohou.se/i/bucketplace-v2-development/uploads/productions/159954239935230222.jpg?gif=1&w=360&h=360&c=c&q=0.8&webp=1\n"
     ]
    },
    {
     "name": "stderr",
     "output_type": "stream",
     "text": [
      " 30%|███       | 31/102 [00:42<01:19,  1.12s/it]"
     ]
    },
    {
     "name": "stdout",
     "output_type": "stream",
     "text": [
      "https://image.ohou.se/i/bucketplace-v2-development/uploads/productions/163004283830845896.jpg?gif=1&w=360&h=360&c=c&q=0.8&webp=1\n"
     ]
    },
    {
     "name": "stderr",
     "output_type": "stream",
     "text": [
      " 31%|███▏      | 32/102 [00:43<01:24,  1.21s/it]"
     ]
    },
    {
     "name": "stdout",
     "output_type": "stream",
     "text": [
      "https://image.ohou.se/i/bucketplace-v2-development/uploads/productions/167349118323584079.jpg?gif=1&w=360&h=360&c=c&q=0.8&webp=1\n"
     ]
    },
    {
     "name": "stderr",
     "output_type": "stream",
     "text": [
      " 32%|███▏      | 33/102 [00:44<01:23,  1.21s/it]"
     ]
    },
    {
     "name": "stdout",
     "output_type": "stream",
     "text": [
      "https://image.ohou.se/i/bucketplace-v2-development/uploads/productions/164275617968920118.jpg?gif=1&w=360&h=360&c=c&q=0.8&webp=1\n"
     ]
    },
    {
     "name": "stderr",
     "output_type": "stream",
     "text": [
      " 33%|███▎      | 34/102 [00:46<01:33,  1.37s/it]"
     ]
    },
    {
     "name": "stdout",
     "output_type": "stream",
     "text": [
      "https://image.ohou.se/i/bucketplace-v2-development/uploads/productions/1509078344199_MEV4B44.jpg?gif=1&w=360&h=360&c=c&q=0.8&webp=1\n"
     ]
    },
    {
     "name": "stderr",
     "output_type": "stream",
     "text": [
      " 34%|███▍      | 35/102 [00:48<01:35,  1.43s/it]"
     ]
    },
    {
     "name": "stdout",
     "output_type": "stream",
     "text": [
      "https://image.ohou.se/i/bucketplace-v2-development/uploads/productions/166130649915148494.jpg?gif=1&w=360&h=360&c=c&q=0.8&webp=1\n"
     ]
    },
    {
     "name": "stderr",
     "output_type": "stream",
     "text": [
      " 35%|███▌      | 36/102 [00:49<01:22,  1.26s/it]"
     ]
    },
    {
     "name": "stdout",
     "output_type": "stream",
     "text": [
      "https://image.ohou.se/i/bucketplace-v2-development/uploads/productions/167853836298261685.jpg?gif=1&w=360&h=360&c=c&q=0.8&webp=1\n"
     ]
    },
    {
     "name": "stderr",
     "output_type": "stream",
     "text": [
      " 36%|███▋      | 37/102 [00:50<01:29,  1.38s/it]"
     ]
    },
    {
     "name": "stdout",
     "output_type": "stream",
     "text": [
      "https://image.ohou.se/i/bucketplace-v2-development/uploads/productions/162694729791692425.jpg?gif=1&w=360&h=360&c=c&q=0.8&webp=1\n"
     ]
    },
    {
     "name": "stderr",
     "output_type": "stream",
     "text": [
      " 37%|███▋      | 38/102 [00:52<01:26,  1.36s/it]"
     ]
    },
    {
     "name": "stdout",
     "output_type": "stream",
     "text": [
      "https://image.ohou.se/i/bucketplace-v2-development/uploads/productions/162944018656076550.jpg?gif=1&w=360&h=360&c=c&q=0.8&webp=1\n"
     ]
    },
    {
     "name": "stderr",
     "output_type": "stream",
     "text": [
      " 38%|███▊      | 39/102 [00:53<01:30,  1.43s/it]"
     ]
    },
    {
     "name": "stdout",
     "output_type": "stream",
     "text": [
      "https://image.ohou.se/i/bucketplace-v2-development/uploads/productions/168067494867042182.jpg?gif=1&w=360&h=360&c=c&q=0.8&webp=1\n",
      "https://image.ohou.se/i/bucketplace-v2-development/uploads/productions/164024087620307722.jpg?gif=1&w=360&h=360&c=c&q=0.8&webp=1\n"
     ]
    },
    {
     "name": "stderr",
     "output_type": "stream",
     "text": [
      " 40%|████      | 41/102 [00:58<01:44,  1.72s/it]"
     ]
    },
    {
     "name": "stdout",
     "output_type": "stream",
     "text": [
      "https://image.ohou.se/i/bucketplace-v2-development/uploads/productions/164793860403492251.jpg?gif=1&w=360&h=360&c=c&q=0.8&webp=1\n"
     ]
    },
    {
     "name": "stderr",
     "output_type": "stream",
     "text": [
      " 41%|████      | 42/102 [00:59<01:32,  1.55s/it]"
     ]
    },
    {
     "name": "stdout",
     "output_type": "stream",
     "text": [
      "https://image.ohou.se/i/bucketplace-v2-development/uploads/productions/169197673696514870.png?gif=1&w=360&h=360&c=c&q=0.8&webp=1\n"
     ]
    },
    {
     "name": "stderr",
     "output_type": "stream",
     "text": [
      " 42%|████▏     | 43/102 [01:00<01:34,  1.61s/it]"
     ]
    },
    {
     "name": "stdout",
     "output_type": "stream",
     "text": [
      "https://image.ohou.se/i/bucketplace-v2-development/uploads/productions/165657253613333498.jpg?gif=1&w=360&h=360&c=c&q=0.8&webp=1\n"
     ]
    },
    {
     "name": "stderr",
     "output_type": "stream",
     "text": [
      " 43%|████▎     | 44/102 [01:02<01:37,  1.68s/it]"
     ]
    },
    {
     "name": "stdout",
     "output_type": "stream",
     "text": [
      "https://image.ohou.se/i/bucketplace-v2-development/uploads/productions/164870783105264241.jpg?gif=1&w=360&h=360&c=c&q=0.8&webp=1\n"
     ]
    },
    {
     "name": "stderr",
     "output_type": "stream",
     "text": [
      " 44%|████▍     | 45/102 [01:04<01:34,  1.65s/it]"
     ]
    },
    {
     "name": "stdout",
     "output_type": "stream",
     "text": [
      "https://image.ohou.se/i/bucketplace-v2-development/uploads/productions/167349259454007018.jpg?gif=1&w=360&h=360&c=c&q=0.8&webp=1\n"
     ]
    },
    {
     "name": "stderr",
     "output_type": "stream",
     "text": [
      " 45%|████▌     | 46/102 [01:06<01:41,  1.81s/it]"
     ]
    },
    {
     "name": "stdout",
     "output_type": "stream",
     "text": [
      "https://image.ohou.se/i/bucketplace-v2-development/uploads/productions/167349249669153064.jpg?gif=1&w=360&h=360&c=c&q=0.8&webp=1\n"
     ]
    },
    {
     "name": "stderr",
     "output_type": "stream",
     "text": [
      " 46%|████▌     | 47/102 [01:07<01:28,  1.61s/it]"
     ]
    },
    {
     "name": "stdout",
     "output_type": "stream",
     "text": [
      "https://image.ohou.se/i/bucketplace-v2-development/uploads/productions/165655290566677585.jpg?gif=1&w=360&h=360&c=c&q=0.8&webp=1\n"
     ]
    },
    {
     "name": "stderr",
     "output_type": "stream",
     "text": [
      " 47%|████▋     | 48/102 [01:11<01:55,  2.15s/it]"
     ]
    },
    {
     "name": "stdout",
     "output_type": "stream",
     "text": [
      "https://image.ohou.se/i/bucketplace-v2-development/uploads/productions/164247320456547830.jpg?gif=1&w=360&h=360&c=c&q=0.8&webp=1\n"
     ]
    },
    {
     "name": "stderr",
     "output_type": "stream",
     "text": [
      " 48%|████▊     | 49/102 [01:12<01:45,  1.99s/it]"
     ]
    },
    {
     "name": "stdout",
     "output_type": "stream",
     "text": [
      "https://image.ohou.se/i/bucketplace-v2-development/uploads/productions/167349156530970144.jpg?gif=1&w=360&h=360&c=c&q=0.8&webp=1\n"
     ]
    },
    {
     "name": "stderr",
     "output_type": "stream",
     "text": [
      " 49%|████▉     | 50/102 [01:13<01:26,  1.66s/it]"
     ]
    },
    {
     "name": "stdout",
     "output_type": "stream",
     "text": [
      "https://image.ohou.se/i/bucketplace-v2-development/uploads/productions/163281772922590082.jpg?gif=1&w=360&h=360&c=c&q=0.8&webp=1\n"
     ]
    },
    {
     "name": "stderr",
     "output_type": "stream",
     "text": [
      " 50%|█████     | 51/102 [01:14<01:14,  1.46s/it]"
     ]
    },
    {
     "name": "stdout",
     "output_type": "stream",
     "text": [
      "https://image.ohou.se/i/bucketplace-v2-development/uploads/productions/166130640995026414.jpg?gif=1&w=360&h=360&c=c&q=0.8&webp=1\n"
     ]
    },
    {
     "name": "stderr",
     "output_type": "stream",
     "text": [
      " 51%|█████     | 52/102 [01:16<01:16,  1.52s/it]"
     ]
    },
    {
     "name": "stdout",
     "output_type": "stream",
     "text": [
      "https://image.ohou.se/i/bucketplace-v2-development/uploads/productions/168447580377509040.JPG?gif=1&w=360&h=360&c=c&q=0.8&webp=1\n"
     ]
    },
    {
     "name": "stderr",
     "output_type": "stream",
     "text": [
      " 52%|█████▏    | 53/102 [01:17<01:15,  1.55s/it]"
     ]
    },
    {
     "name": "stdout",
     "output_type": "stream",
     "text": [
      "https://image.ohou.se/i/bucketplace-v2-development/uploads/productions/169026797003364988.png?gif=1&w=360&h=360&c=c&q=0.8&webp=1\n"
     ]
    },
    {
     "name": "stderr",
     "output_type": "stream",
     "text": [
      " 53%|█████▎    | 54/102 [01:19<01:08,  1.43s/it]"
     ]
    },
    {
     "name": "stdout",
     "output_type": "stream",
     "text": [
      "https://image.ohou.se/i/bucketplace-v2-development/uploads/productions/165760046992986434.jpg?gif=1&w=360&h=360&c=c&q=0.8&webp=1\n"
     ]
    },
    {
     "name": "stderr",
     "output_type": "stream",
     "text": [
      " 54%|█████▍    | 55/102 [01:22<01:38,  2.10s/it]"
     ]
    },
    {
     "name": "stdout",
     "output_type": "stream",
     "text": [
      "https://image.ohou.se/i/bucketplace-v2-development/uploads/productions/168793451829000734.jpg?gif=1&w=360&h=360&c=c&q=0.8&webp=1\n"
     ]
    },
    {
     "name": "stderr",
     "output_type": "stream",
     "text": [
      " 55%|█████▍    | 56/102 [01:24<01:27,  1.90s/it]"
     ]
    },
    {
     "name": "stdout",
     "output_type": "stream",
     "text": [
      "https://image.ohou.se/i/bucketplace-v2-development/uploads/productions/165344278517857377.jpg?gif=1&w=360&h=360&c=c&q=0.8&webp=1\n"
     ]
    },
    {
     "name": "stderr",
     "output_type": "stream",
     "text": [
      " 56%|█████▌    | 57/102 [01:25<01:23,  1.85s/it]"
     ]
    },
    {
     "name": "stdout",
     "output_type": "stream",
     "text": [
      "https://image.ohou.se/i/bucketplace-v2-development/uploads/productions/161000551559723610.jpg?gif=1&w=360&h=360&c=c&q=0.8&webp=1\n"
     ]
    },
    {
     "name": "stderr",
     "output_type": "stream",
     "text": [
      " 57%|█████▋    | 58/102 [01:27<01:16,  1.73s/it]"
     ]
    },
    {
     "name": "stdout",
     "output_type": "stream",
     "text": [
      "https://image.ohou.se/i/bucketplace-v2-development/uploads/productions/158615587470881213.jpg?gif=1&w=360&h=360&c=c&q=0.8&webp=1\n"
     ]
    },
    {
     "name": "stderr",
     "output_type": "stream",
     "text": [
      " 58%|█████▊    | 59/102 [01:29<01:14,  1.73s/it]"
     ]
    },
    {
     "name": "stdout",
     "output_type": "stream",
     "text": [
      "https://image.ohou.se/i/bucketplace-v2-development/uploads/productions/164741488721963669.webp?gif=1&w=360&h=360&c=c&q=0.8&webp=1\n"
     ]
    },
    {
     "name": "stderr",
     "output_type": "stream",
     "text": [
      " 59%|█████▉    | 60/102 [01:30<01:11,  1.70s/it]"
     ]
    },
    {
     "name": "stdout",
     "output_type": "stream",
     "text": [
      "https://image.ohou.se/i/bucketplace-v2-development/uploads/productions/162487772437337063.jpg?gif=1&w=360&h=360&c=c&q=0.8&webp=1\n"
     ]
    },
    {
     "name": "stderr",
     "output_type": "stream",
     "text": [
      " 60%|█████▉    | 61/102 [01:31<01:03,  1.54s/it]"
     ]
    },
    {
     "name": "stdout",
     "output_type": "stream",
     "text": [
      "https://image.ohou.se/i/bucketplace-v2-development/uploads/productions/164144412095982641.jpg?gif=1&w=360&h=360&c=c&q=0.8&webp=1\n"
     ]
    },
    {
     "name": "stderr",
     "output_type": "stream",
     "text": [
      " 61%|██████    | 62/102 [01:33<00:57,  1.45s/it]"
     ]
    },
    {
     "name": "stdout",
     "output_type": "stream",
     "text": [
      "https://image.ohou.se/i/bucketplace-v2-development/uploads/productions/166184667371809435.jpg?gif=1&w=360&h=360&c=c&q=0.8&webp=1\n"
     ]
    },
    {
     "name": "stderr",
     "output_type": "stream",
     "text": [
      " 62%|██████▏   | 63/102 [01:34<00:53,  1.37s/it]"
     ]
    },
    {
     "name": "stdout",
     "output_type": "stream",
     "text": [
      "https://image.ohou.se/i/bucketplace-v2-development/uploads/productions/162683158459398374.jpg?gif=1&w=360&h=360&c=c&q=0.8&webp=1\n"
     ]
    },
    {
     "name": "stderr",
     "output_type": "stream",
     "text": [
      " 63%|██████▎   | 64/102 [01:35<00:52,  1.37s/it]"
     ]
    },
    {
     "name": "stdout",
     "output_type": "stream",
     "text": [
      "https://image.ohou.se/i/bucketplace-v2-development/uploads/productions/167884507227764431.jpg?gif=1&w=360&h=360&c=c&q=0.8&webp=1\n"
     ]
    },
    {
     "name": "stderr",
     "output_type": "stream",
     "text": [
      " 64%|██████▎   | 65/102 [01:37<00:55,  1.51s/it]"
     ]
    },
    {
     "name": "stdout",
     "output_type": "stream",
     "text": [
      "https://image.ohou.se/i/bucketplace-v2-development/uploads/productions/160041100995177667.jpg?gif=1&w=360&h=360&c=c&q=0.8&webp=1\n"
     ]
    },
    {
     "name": "stderr",
     "output_type": "stream",
     "text": [
      " 65%|██████▍   | 66/102 [01:38<00:50,  1.40s/it]"
     ]
    },
    {
     "name": "stdout",
     "output_type": "stream",
     "text": [
      "https://image.ohou.se/i/bucketplace-v2-development/uploads/productions/167349205243622248.jpg?gif=1&w=360&h=360&c=c&q=0.8&webp=1\n"
     ]
    },
    {
     "name": "stderr",
     "output_type": "stream",
     "text": [
      " 66%|██████▌   | 67/102 [01:39<00:40,  1.17s/it]"
     ]
    },
    {
     "name": "stdout",
     "output_type": "stream",
     "text": [
      "ERROR!!\n"
     ]
    },
    {
     "name": "stderr",
     "output_type": "stream",
     "text": [
      " 67%|██████▋   | 68/102 [01:39<00:33,  1.02it/s]"
     ]
    },
    {
     "name": "stdout",
     "output_type": "stream",
     "text": [
      "ERROR!!\n"
     ]
    },
    {
     "name": "stderr",
     "output_type": "stream",
     "text": [
      " 68%|██████▊   | 69/102 [01:41<00:37,  1.12s/it]"
     ]
    },
    {
     "name": "stdout",
     "output_type": "stream",
     "text": [
      "ERROR!!\n"
     ]
    },
    {
     "name": "stderr",
     "output_type": "stream",
     "text": [
      " 69%|██████▊   | 70/102 [01:42<00:36,  1.13s/it]"
     ]
    },
    {
     "name": "stdout",
     "output_type": "stream",
     "text": [
      "https://image.ohou.se/i/bucketplace-v2-development/uploads/productions/167693607783425997.jpg?gif=1&w=360&h=360&c=c&q=0.8&webp=1\n"
     ]
    },
    {
     "name": "stderr",
     "output_type": "stream",
     "text": [
      " 70%|██████▉   | 71/102 [01:43<00:32,  1.04s/it]"
     ]
    },
    {
     "name": "stdout",
     "output_type": "stream",
     "text": [
      "https://image.ohou.se/i/bucketplace-v2-development/uploads/productions/162694661350119055.jpg?gif=1&w=360&h=360&c=c&q=0.8&webp=1\n"
     ]
    },
    {
     "name": "stderr",
     "output_type": "stream",
     "text": [
      " 71%|███████   | 72/102 [01:44<00:35,  1.20s/it]"
     ]
    },
    {
     "name": "stdout",
     "output_type": "stream",
     "text": [
      "https://image.ohou.se/i/bucketplace-v2-development/uploads/productions/164144443352442911.jpg?gif=1&w=360&h=360&c=c&q=0.8&webp=1\n"
     ]
    },
    {
     "name": "stderr",
     "output_type": "stream",
     "text": [
      " 72%|███████▏  | 73/102 [01:46<00:36,  1.25s/it]"
     ]
    },
    {
     "name": "stdout",
     "output_type": "stream",
     "text": [
      "https://image.ohou.se/i/bucketplace-v2-development/uploads/productions/159954384251509438.jpg?gif=1&w=360&h=360&c=c&q=0.8&webp=1\n"
     ]
    },
    {
     "name": "stderr",
     "output_type": "stream",
     "text": [
      " 73%|███████▎  | 74/102 [01:47<00:33,  1.18s/it]"
     ]
    },
    {
     "name": "stdout",
     "output_type": "stream",
     "text": [
      "https://image.ohou.se/i/bucketplace-v2-development/uploads/productions/165501036139186912.jpg?gif=1&w=360&h=360&c=c&q=0.8&webp=1\n"
     ]
    },
    {
     "name": "stderr",
     "output_type": "stream",
     "text": [
      " 74%|███████▎  | 75/102 [01:48<00:36,  1.36s/it]"
     ]
    },
    {
     "name": "stdout",
     "output_type": "stream",
     "text": [
      "https://image.ohou.se/i/bucketplace-v2-development/uploads/productions/168662241467729667.jpg?gif=1&w=360&h=360&c=c&q=0.8&webp=1\n"
     ]
    },
    {
     "name": "stderr",
     "output_type": "stream",
     "text": [
      " 75%|███████▍  | 76/102 [01:50<00:36,  1.42s/it]"
     ]
    },
    {
     "name": "stdout",
     "output_type": "stream",
     "text": [
      "https://image.ohou.se/i/bucketplace-v2-development/uploads/productions/1552270119054_GJlO.jpg?gif=1&w=360&h=360&c=c&q=0.8&webp=1\n"
     ]
    },
    {
     "name": "stderr",
     "output_type": "stream",
     "text": [
      " 75%|███████▌  | 77/102 [01:52<00:37,  1.50s/it]"
     ]
    },
    {
     "name": "stdout",
     "output_type": "stream",
     "text": [
      "https://image.ohou.se/i/bucketplace-v2-development/uploads/productions/166262640289598373.webp?gif=1&w=360&h=360&c=c&q=0.8&webp=1\n"
     ]
    },
    {
     "name": "stderr",
     "output_type": "stream",
     "text": [
      " 76%|███████▋  | 78/102 [01:53<00:35,  1.49s/it]"
     ]
    },
    {
     "name": "stdout",
     "output_type": "stream",
     "text": [
      "https://image.ohou.se/i/bucketplace-v2-development/uploads/productions/165344285308249723.jpg?gif=1&w=360&h=360&c=c&q=0.8&webp=1\n"
     ]
    },
    {
     "name": "stderr",
     "output_type": "stream",
     "text": [
      " 77%|███████▋  | 79/102 [01:57<00:48,  2.10s/it]"
     ]
    },
    {
     "name": "stdout",
     "output_type": "stream",
     "text": [
      "https://image.ohou.se/i/bucketplace-v2-development/uploads/productions/168921142579319448.jpg?gif=1&w=360&h=360&c=c&q=0.8&webp=1\n"
     ]
    },
    {
     "name": "stderr",
     "output_type": "stream",
     "text": [
      " 78%|███████▊  | 80/102 [01:58<00:39,  1.79s/it]"
     ]
    },
    {
     "name": "stdout",
     "output_type": "stream",
     "text": [
      "https://image.ohou.se/i/bucketplace-v2-development/uploads/productions/167349045727953700.jpg?gif=1&w=360&h=360&c=c&q=0.8&webp=1\n"
     ]
    },
    {
     "name": "stderr",
     "output_type": "stream",
     "text": [
      " 79%|███████▉  | 81/102 [02:01<00:46,  2.22s/it]"
     ]
    },
    {
     "name": "stdout",
     "output_type": "stream",
     "text": [
      "https://image.ohou.se/i/bucketplace-v2-development/uploads/productions/168186472283356105.jpg?gif=1&w=360&h=360&c=c&q=0.8&webp=1\n"
     ]
    },
    {
     "name": "stderr",
     "output_type": "stream",
     "text": [
      " 80%|████████  | 82/102 [02:02<00:39,  1.99s/it]"
     ]
    },
    {
     "name": "stdout",
     "output_type": "stream",
     "text": [
      "https://image.ohou.se/i/bucketplace-v2-development/uploads/productions/167349130600289098.jpg?gif=1&w=360&h=360&c=c&q=0.8&webp=1\n"
     ]
    },
    {
     "name": "stderr",
     "output_type": "stream",
     "text": [
      " 81%|████████▏ | 83/102 [02:04<00:37,  2.00s/it]"
     ]
    },
    {
     "name": "stdout",
     "output_type": "stream",
     "text": [
      "https://image.ohou.se/i/bucketplace-v2-development/uploads/productions/167030214067012828.jpg?gif=1&w=360&h=360&c=c&q=0.8&webp=1\n"
     ]
    },
    {
     "name": "stderr",
     "output_type": "stream",
     "text": [
      " 82%|████████▏ | 84/102 [02:06<00:33,  1.84s/it]"
     ]
    },
    {
     "name": "stdout",
     "output_type": "stream",
     "text": [
      "https://image.ohou.se/i/bucketplace-v2-development/uploads/productions/162615058774757651.jpg?gif=1&w=360&h=360&c=c&q=0.8&webp=1\n"
     ]
    },
    {
     "name": "stderr",
     "output_type": "stream",
     "text": [
      " 83%|████████▎ | 85/102 [02:07<00:28,  1.68s/it]"
     ]
    },
    {
     "name": "stdout",
     "output_type": "stream",
     "text": [
      "https://image.ohou.se/i/bucketplace-v2-development/uploads/productions/168921004629546371.jpg?gif=1&w=360&h=360&c=c&q=0.8&webp=1\n"
     ]
    },
    {
     "name": "stderr",
     "output_type": "stream",
     "text": [
      " 84%|████████▍ | 86/102 [02:08<00:24,  1.50s/it]"
     ]
    },
    {
     "name": "stdout",
     "output_type": "stream",
     "text": [
      "https://image.ohou.se/i/bucketplace-v2-development/uploads/productions/165640125921440863.jpg?gif=1&w=360&h=360&c=c&q=0.8&webp=1\n"
     ]
    },
    {
     "name": "stderr",
     "output_type": "stream",
     "text": [
      " 85%|████████▌ | 87/102 [02:10<00:24,  1.66s/it]"
     ]
    },
    {
     "name": "stdout",
     "output_type": "stream",
     "text": [
      "https://image.ohou.se/i/bucketplace-v2-development/uploads/productions/165084853386311365.png?gif=1&w=360&h=360&c=c&q=0.8&webp=1\n"
     ]
    },
    {
     "name": "stderr",
     "output_type": "stream",
     "text": [
      " 86%|████████▋ | 88/102 [02:12<00:24,  1.78s/it]"
     ]
    },
    {
     "name": "stdout",
     "output_type": "stream",
     "text": [
      "https://image.ohou.se/i/bucketplace-v2-development/uploads/productions/160696295325496780.jpg?gif=1&w=360&h=360&c=c&q=0.8&webp=1\n"
     ]
    },
    {
     "name": "stderr",
     "output_type": "stream",
     "text": [
      " 87%|████████▋ | 89/102 [02:14<00:22,  1.71s/it]"
     ]
    },
    {
     "name": "stdout",
     "output_type": "stream",
     "text": [
      "https://image.ohou.se/i/bucketplace-v2-development/uploads/productions/162683120971635707.jpg?gif=1&w=360&h=360&c=c&q=0.8&webp=1\n"
     ]
    },
    {
     "name": "stderr",
     "output_type": "stream",
     "text": [
      " 88%|████████▊ | 90/102 [02:15<00:19,  1.64s/it]"
     ]
    },
    {
     "name": "stdout",
     "output_type": "stream",
     "text": [
      "https://image.ohou.se/i/bucketplace-v2-development/uploads/productions/164247330538947478.jpg?gif=1&w=360&h=360&c=c&q=0.8&webp=1\n"
     ]
    },
    {
     "name": "stderr",
     "output_type": "stream",
     "text": [
      " 89%|████████▉ | 91/102 [02:17<00:17,  1.57s/it]"
     ]
    },
    {
     "name": "stdout",
     "output_type": "stream",
     "text": [
      "https://image.ohou.se/i/bucketplace-v2-development/uploads/productions/164275595170450903.jpg?gif=1&w=360&h=360&c=c&q=0.8&webp=1\n"
     ]
    },
    {
     "name": "stderr",
     "output_type": "stream",
     "text": [
      " 90%|█████████ | 92/102 [02:19<00:16,  1.63s/it]"
     ]
    },
    {
     "name": "stdout",
     "output_type": "stream",
     "text": [
      "https://image.ohou.se/i/bucketplace-v2-development/uploads/productions/168750954502157927.jpg?gif=1&w=360&h=360&c=c&q=0.8&webp=1\n"
     ]
    },
    {
     "name": "stderr",
     "output_type": "stream",
     "text": [
      " 91%|█████████ | 93/102 [02:21<00:15,  1.73s/it]"
     ]
    },
    {
     "name": "stdout",
     "output_type": "stream",
     "text": [
      "https://image.ohou.se/i/bucketplace-v2-development/uploads/productions/156557476904763090.jpg?gif=1&w=360&h=360&c=c&q=0.8&webp=1\n"
     ]
    },
    {
     "name": "stderr",
     "output_type": "stream",
     "text": [
      " 92%|█████████▏| 94/102 [02:22<00:13,  1.65s/it]"
     ]
    },
    {
     "name": "stdout",
     "output_type": "stream",
     "text": [
      "https://image.ohou.se/i/bucketplace-v2-development/uploads/productions/156756786299166766.jpg?gif=1&w=360&h=360&c=c&q=0.8&webp=1\n"
     ]
    },
    {
     "name": "stderr",
     "output_type": "stream",
     "text": [
      " 93%|█████████▎| 95/102 [02:25<00:13,  1.89s/it]"
     ]
    },
    {
     "name": "stdout",
     "output_type": "stream",
     "text": [
      "https://image.ohou.se/i/bucketplace-v2-development/uploads/productions/162737380673430271.jpg?gif=1&w=360&h=360&c=c&q=0.8&webp=1\n"
     ]
    },
    {
     "name": "stderr",
     "output_type": "stream",
     "text": [
      " 94%|█████████▍| 96/102 [02:26<00:11,  1.86s/it]"
     ]
    },
    {
     "name": "stdout",
     "output_type": "stream",
     "text": [
      "https://image.ohou.se/i/bucketplace-v2-development/uploads/productions/168793450367766204.jpg?gif=1&w=360&h=360&c=c&q=0.8&webp=1\n"
     ]
    },
    {
     "name": "stderr",
     "output_type": "stream",
     "text": [
      " 95%|█████████▌| 97/102 [02:28<00:09,  1.85s/it]"
     ]
    },
    {
     "name": "stdout",
     "output_type": "stream",
     "text": [
      "https://image.ohou.se/i/bucketplace-v2-development/uploads/productions/161665037651124587.jpg?gif=1&w=360&h=360&c=c&q=0.8&webp=1\n"
     ]
    },
    {
     "name": "stderr",
     "output_type": "stream",
     "text": [
      " 96%|█████████▌| 98/102 [02:29<00:06,  1.64s/it]"
     ]
    },
    {
     "name": "stdout",
     "output_type": "stream",
     "text": [
      "https://image.ohou.se/i/bucketplace-v2-development/uploads/productions/167203145711256487.jpg?gif=1&w=360&h=360&c=c&q=0.8&webp=1\n"
     ]
    },
    {
     "name": "stderr",
     "output_type": "stream",
     "text": [
      " 97%|█████████▋| 99/102 [02:32<00:05,  1.86s/it]"
     ]
    },
    {
     "name": "stdout",
     "output_type": "stream",
     "text": [
      "https://image.ohou.se/i/bucketplace-v2-development/uploads/productions/168119920644678785.jpg?gif=1&w=360&h=360&c=c&q=0.8&webp=1\n"
     ]
    },
    {
     "name": "stderr",
     "output_type": "stream",
     "text": [
      " 98%|█████████▊| 100/102 [02:33<00:03,  1.75s/it]"
     ]
    },
    {
     "name": "stdout",
     "output_type": "stream",
     "text": [
      "https://image.ohou.se/i/bucketplace-v2-development/uploads/productions/168955604020927106.jpg?gif=1&w=360&h=360&c=c&q=0.8&webp=1\n"
     ]
    },
    {
     "name": "stderr",
     "output_type": "stream",
     "text": [
      " 99%|█████████▉| 101/102 [02:36<00:02,  2.00s/it]"
     ]
    },
    {
     "name": "stdout",
     "output_type": "stream",
     "text": [
      "https://image.ohou.se/i/bucketplace-v2-development/uploads/productions/168750944442185707.jpg?gif=1&w=360&h=360&c=c&q=0.8&webp=1\n"
     ]
    },
    {
     "name": "stderr",
     "output_type": "stream",
     "text": [
      "100%|██████████| 102/102 [02:37<00:00,  1.55s/it]"
     ]
    },
    {
     "name": "stdout",
     "output_type": "stream",
     "text": [
      "https://image.ohou.se/i/bucketplace-v2-development/uploads/productions/167693602190744947.jpg?gif=1&w=360&h=360&c=c&q=0.8&webp=1\n"
     ]
    },
    {
     "name": "stderr",
     "output_type": "stream",
     "text": [
      "\n"
     ]
    }
   ],
   "source": [
    "i = 0\n",
    "info = []\n",
    "\n",
    "for key,value in tqdm(data.items()):\n",
    "    try:\n",
    "        brand = value[0]\n",
    "        name = value[1]\n",
    "        price = value[2]\n",
    "        src = value[3]\n",
    "        link = value[4]\n",
    "\n",
    "        i += 1\n",
    "        time.sleep(0.5 + random.random())\n",
    "        response = requests.get(src, stream=True)\n",
    "        print(src)\n",
    "\n",
    "        save_image_path = f'./static/img/kitchen/table/table{i}.png'\n",
    "        if response.status_code == 200:\n",
    "            # 응답 내용을 바이너리 파일로 저장하기\n",
    "            with open(save_image_path, 'wb') as out_file:\n",
    "                out_file.write(response.content)\n",
    "        \n",
    "        info.append([brand, name, price, save_image_path, link, None])\n",
    "\n",
    "    except:\n",
    "        print('ERROR!!')\n",
    "        pass"
   ]
  },
  {
   "cell_type": "code",
   "execution_count": 8,
   "metadata": {},
   "outputs": [
    {
     "data": {
      "text/plain": [
       "99"
      ]
     },
     "execution_count": 8,
     "metadata": {},
     "output_type": "execute_result"
    }
   ],
   "source": [
    "len(info)"
   ]
  },
  {
   "cell_type": "code",
   "execution_count": 9,
   "metadata": {},
   "outputs": [
    {
     "name": "stderr",
     "output_type": "stream",
     "text": [
      "100%|██████████| 99/99 [1:16:35<00:00, 46.42s/it]\n"
     ]
    }
   ],
   "source": [
    "# 제품 링크 접속하기\n",
    "for i in tqdm(range(len(info))):\n",
    "    info_line = info[i]\n",
    "    link = info_line[4]\n",
    "\n",
    "    driver.get(link)\n",
    "    driver.implicitly_wait(4)\n",
    "    time.sleep(0.5+random.random())\n",
    "\n",
    "    re_ = driver.find_elements(By.CLASS_NAME, \"production-selling-navigation__item\")\n",
    "    re_[1].click()\n",
    "    time.sleep(0.5+random.random()) \n",
    "\n",
    "    # 한 페이지당 5개 리뷰 \n",
    "    # 20페이지 크롤링해서 총 100개 리뷰 가져오기\n",
    "    review = []\n",
    "    first = driver.find_elements(By.CLASS_NAME, \"production-review-item__description\")\n",
    "    for i in first:\n",
    "        review.append(i.text)\n",
    "\n",
    "    for i in range(19):\n",
    "        try:\n",
    "            driver.find_elements(By.CLASS_NAME, \"_2XI47._3I7ex\")[0].click()\n",
    "            time.sleep(1.5+random.random())\n",
    "            text = driver.find_elements(By.CLASS_NAME, \"production-review-item__description\")\n",
    "            for i in text:\n",
    "                review.append(i.text)\n",
    "        except:\n",
    "            print('ERROR!!')\n",
    "            pass\n",
    "\n",
    "    info_line[5] = review\n",
    "\n"
   ]
  },
  {
   "cell_type": "code",
   "execution_count": 10,
   "metadata": {},
   "outputs": [
    {
     "data": {
      "text/html": [
       "<div>\n",
       "<style scoped>\n",
       "    .dataframe tbody tr th:only-of-type {\n",
       "        vertical-align: middle;\n",
       "    }\n",
       "\n",
       "    .dataframe tbody tr th {\n",
       "        vertical-align: top;\n",
       "    }\n",
       "\n",
       "    .dataframe thead th {\n",
       "        text-align: right;\n",
       "    }\n",
       "</style>\n",
       "<table border=\"1\" class=\"dataframe\">\n",
       "  <thead>\n",
       "    <tr style=\"text-align: right;\">\n",
       "      <th></th>\n",
       "      <th>brand</th>\n",
       "      <th>item</th>\n",
       "      <th>price</th>\n",
       "      <th>image</th>\n",
       "      <th>link</th>\n",
       "      <th>review</th>\n",
       "    </tr>\n",
       "  </thead>\n",
       "  <tbody>\n",
       "    <tr>\n",
       "      <th>0</th>\n",
       "      <td>프리메이드</td>\n",
       "      <td>원형 티 카페 테이블 2size</td>\n",
       "      <td>39,900</td>\n",
       "      <td>./static/img/kitchen/table/table1.png</td>\n",
       "      <td>https://ohou.se/productions/123785/selling?aff...</td>\n",
       "      <td>[몇달 사용하고 올립니다~ 싸이즈도 혼자 또는 둘이 밥먹고 술마시기 너무 좋고 튼튼...</td>\n",
       "    </tr>\n",
       "    <tr>\n",
       "      <th>1</th>\n",
       "      <td>오트밀하우스</td>\n",
       "      <td>로지 원형 카페 테이블 800 3colors</td>\n",
       "      <td>78,900</td>\n",
       "      <td>./static/img/kitchen/table/table2.png</td>\n",
       "      <td>https://ohou.se/productions/1241971/selling?af...</td>\n",
       "      <td>[이 가격에 이 정도 품질이라니 놀랍네요. 꺼떡거림 없이 안정적이라 팔을 올려두고 ...</td>\n",
       "    </tr>\n",
       "    <tr>\n",
       "      <th>2</th>\n",
       "      <td>비알프렌드</td>\n",
       "      <td>디디테이블 반타원 라미네이트 화이트식탁 1000(2size)</td>\n",
       "      <td>97,580</td>\n",
       "      <td>./static/img/kitchen/table/table3.png</td>\n",
       "      <td>https://ohou.se/productions/933994/selling?aff...</td>\n",
       "      <td>[딸 자취방에 선물로 사줬답니다 바닥에 상펴고 먹을꺼 생각하니 신경쓰여서 구입해줬어...</td>\n",
       "    </tr>\n",
       "    <tr>\n",
       "      <th>3</th>\n",
       "      <td>비알프렌드</td>\n",
       "      <td>디디테이블 반타원 라미네이트 화이트식탁 1200(2size)</td>\n",
       "      <td>109,880</td>\n",
       "      <td>./static/img/kitchen/table/table4.png</td>\n",
       "      <td>https://ohou.se/productions/934051/selling?aff...</td>\n",
       "      <td>[조리대에 딱맞는 테이블이라 구매했어요! 이전엔 5센티 넓어서 툭튀였는데 이젠 딱맞...</td>\n",
       "    </tr>\n",
       "    <tr>\n",
       "      <th>4</th>\n",
       "      <td>오트밀하우스</td>\n",
       "      <td>로지 원형 카페 테이블 700 3colors</td>\n",
       "      <td>72,900</td>\n",
       "      <td>./static/img/kitchen/table/table5.png</td>\n",
       "      <td>https://ohou.se/productions/1241968/selling?af...</td>\n",
       "      <td>[구매해서 잘쓰고있습니당 !추천드립니다, 그냥 흰색을 살까 고심하다가 골랐는데 적당...</td>\n",
       "    </tr>\n",
       "    <tr>\n",
       "      <th>...</th>\n",
       "      <td>...</td>\n",
       "      <td>...</td>\n",
       "      <td>...</td>\n",
       "      <td>...</td>\n",
       "      <td>...</td>\n",
       "      <td>...</td>\n",
       "    </tr>\n",
       "    <tr>\n",
       "      <th>94</th>\n",
       "      <td>소프시스</td>\n",
       "      <td>올리브 접이식 테이블 1000x600</td>\n",
       "      <td>45,900</td>\n",
       "      <td>./static/img/kitchen/table/table98.png</td>\n",
       "      <td>https://ohou.se/productions/1742932/selling?af...</td>\n",
       "      <td>[바닥에 앉아서 낮은테이블만 쓰다가 소파에 앉아 높은 테이블 쓰니싸 편하고 좋네요 ...</td>\n",
       "    </tr>\n",
       "    <tr>\n",
       "      <th>95</th>\n",
       "      <td>폴앤코코</td>\n",
       "      <td>플랜비 실버 타원형 식탁 테이블 1600 화이트 다이닝</td>\n",
       "      <td>198,000</td>\n",
       "      <td>./static/img/kitchen/table/table99.png</td>\n",
       "      <td>https://ohou.se/productions/1416023/selling?af...</td>\n",
       "      <td>[배송 왕 빠르고, 식탁도 오셔서 잘 조립해주셨습니다! 마감처리도 너무 훌륭하고, ...</td>\n",
       "    </tr>\n",
       "    <tr>\n",
       "      <th>96</th>\n",
       "      <td>모노폴리오</td>\n",
       "      <td>헤이 매거진랙 반타원 식탁 화이트 책상 카페 테이블 1000 2colors</td>\n",
       "      <td>114,900</td>\n",
       "      <td>./static/img/kitchen/table/table100.png</td>\n",
       "      <td>https://ohou.se/productions/2125262/selling?af...</td>\n",
       "      <td>[몇주 전 수령 후 이제 조립했는데 생각했던것 만큼 예쁘고 실용적입니다 여성이라면 ...</td>\n",
       "    </tr>\n",
       "    <tr>\n",
       "      <th>97</th>\n",
       "      <td>폴인퍼니</td>\n",
       "      <td>베네치아 4인용 12T 타원 포세린 세라믹 식탁테이블 세트 1600</td>\n",
       "      <td>299,000</td>\n",
       "      <td>./static/img/kitchen/table/table101.png</td>\n",
       "      <td>https://ohou.se/productions/871179/selling?aff...</td>\n",
       "      <td>[딱 기본 느낌의 화이트 식탁이에요. 세라믹 식탁이라 좀 시끄럽긴 한데 잘 닦이고 ...</td>\n",
       "    </tr>\n",
       "    <tr>\n",
       "      <th>98</th>\n",
       "      <td>한샘</td>\n",
       "      <td>한샘몰pick 보니애 모먼트 포세린 세라믹 식탁 6인용 1800</td>\n",
       "      <td>213,800</td>\n",
       "      <td>./static/img/kitchen/table/table102.png</td>\n",
       "      <td>https://ohou.se/productions/1880794/selling?af...</td>\n",
       "      <td>[1800 사이즈에 깔끔하고 튼튼한 식탁이에요 6인용 좋아요, 디자인도 깔끔하고 딱...</td>\n",
       "    </tr>\n",
       "  </tbody>\n",
       "</table>\n",
       "<p>99 rows × 6 columns</p>\n",
       "</div>"
      ],
      "text/plain": [
       "     brand                                       item    price  \\\n",
       "0    프리메이드                          원형 티 카페 테이블 2size   39,900   \n",
       "1   오트밀하우스                   로지 원형 카페 테이블 800 3colors   78,900   \n",
       "2    비알프렌드          디디테이블 반타원 라미네이트 화이트식탁 1000(2size)   97,580   \n",
       "3    비알프렌드          디디테이블 반타원 라미네이트 화이트식탁 1200(2size)  109,880   \n",
       "4   오트밀하우스                   로지 원형 카페 테이블 700 3colors   72,900   \n",
       "..     ...                                        ...      ...   \n",
       "94    소프시스                       올리브 접이식 테이블 1000x600   45,900   \n",
       "95    폴앤코코             플랜비 실버 타원형 식탁 테이블 1600 화이트 다이닝  198,000   \n",
       "96   모노폴리오  헤이 매거진랙 반타원 식탁 화이트 책상 카페 테이블 1000 2colors  114,900   \n",
       "97    폴인퍼니      베네치아 4인용 12T 타원 포세린 세라믹 식탁테이블 세트 1600  299,000   \n",
       "98      한샘        한샘몰pick 보니애 모먼트 포세린 세라믹 식탁 6인용 1800  213,800   \n",
       "\n",
       "                                      image  \\\n",
       "0     ./static/img/kitchen/table/table1.png   \n",
       "1     ./static/img/kitchen/table/table2.png   \n",
       "2     ./static/img/kitchen/table/table3.png   \n",
       "3     ./static/img/kitchen/table/table4.png   \n",
       "4     ./static/img/kitchen/table/table5.png   \n",
       "..                                      ...   \n",
       "94   ./static/img/kitchen/table/table98.png   \n",
       "95   ./static/img/kitchen/table/table99.png   \n",
       "96  ./static/img/kitchen/table/table100.png   \n",
       "97  ./static/img/kitchen/table/table101.png   \n",
       "98  ./static/img/kitchen/table/table102.png   \n",
       "\n",
       "                                                 link  \\\n",
       "0   https://ohou.se/productions/123785/selling?aff...   \n",
       "1   https://ohou.se/productions/1241971/selling?af...   \n",
       "2   https://ohou.se/productions/933994/selling?aff...   \n",
       "3   https://ohou.se/productions/934051/selling?aff...   \n",
       "4   https://ohou.se/productions/1241968/selling?af...   \n",
       "..                                                ...   \n",
       "94  https://ohou.se/productions/1742932/selling?af...   \n",
       "95  https://ohou.se/productions/1416023/selling?af...   \n",
       "96  https://ohou.se/productions/2125262/selling?af...   \n",
       "97  https://ohou.se/productions/871179/selling?aff...   \n",
       "98  https://ohou.se/productions/1880794/selling?af...   \n",
       "\n",
       "                                               review  \n",
       "0   [몇달 사용하고 올립니다~ 싸이즈도 혼자 또는 둘이 밥먹고 술마시기 너무 좋고 튼튼...  \n",
       "1   [이 가격에 이 정도 품질이라니 놀랍네요. 꺼떡거림 없이 안정적이라 팔을 올려두고 ...  \n",
       "2   [딸 자취방에 선물로 사줬답니다 바닥에 상펴고 먹을꺼 생각하니 신경쓰여서 구입해줬어...  \n",
       "3   [조리대에 딱맞는 테이블이라 구매했어요! 이전엔 5센티 넓어서 툭튀였는데 이젠 딱맞...  \n",
       "4   [구매해서 잘쓰고있습니당 !추천드립니다, 그냥 흰색을 살까 고심하다가 골랐는데 적당...  \n",
       "..                                                ...  \n",
       "94  [바닥에 앉아서 낮은테이블만 쓰다가 소파에 앉아 높은 테이블 쓰니싸 편하고 좋네요 ...  \n",
       "95  [배송 왕 빠르고, 식탁도 오셔서 잘 조립해주셨습니다! 마감처리도 너무 훌륭하고, ...  \n",
       "96  [몇주 전 수령 후 이제 조립했는데 생각했던것 만큼 예쁘고 실용적입니다 여성이라면 ...  \n",
       "97  [딱 기본 느낌의 화이트 식탁이에요. 세라믹 식탁이라 좀 시끄럽긴 한데 잘 닦이고 ...  \n",
       "98  [1800 사이즈에 깔끔하고 튼튼한 식탁이에요 6인용 좋아요, 디자인도 깔끔하고 딱...  \n",
       "\n",
       "[99 rows x 6 columns]"
      ]
     },
     "execution_count": 10,
     "metadata": {},
     "output_type": "execute_result"
    }
   ],
   "source": [
    "dining_table = pd.DataFrame(info, columns=['brand', 'item', 'price', 'image', 'link', 'review'])\n",
    "dining_table"
   ]
  },
  {
   "cell_type": "code",
   "execution_count": 11,
   "metadata": {},
   "outputs": [],
   "source": [
    "dining_table.to_csv('dining_table.csv')"
   ]
  },
  {
   "cell_type": "markdown",
   "metadata": {},
   "source": [
    "---"
   ]
  },
  {
   "cell_type": "markdown",
   "metadata": {},
   "source": [
    "### 2) 식탁의자"
   ]
  },
  {
   "cell_type": "code",
   "execution_count": 12,
   "metadata": {},
   "outputs": [],
   "source": [
    "# 사이트 열기\n",
    "driver.get('https://ohou.se/store/category?category_id=10270021')\n",
    "driver.implicitly_wait(10)\n",
    "time.sleep(3)\n",
    "\n",
    "# 리뷰많은순으로 변경\n",
    "pre_order = driver.find_element(By.CLASS_NAME, \"category-filter-bar-order-button\").click()\n",
    "time.sleep(0.5+random.random())\n",
    "\n",
    "order_ = driver.find_elements(By.CLASS_NAME, \"property-filter-panel-entry-list__item__title\")\n",
    "order_[-3].click()\n",
    "time.sleep(0.5+random.random())"
   ]
  },
  {
   "cell_type": "code",
   "execution_count": 13,
   "metadata": {},
   "outputs": [
    {
     "name": "stderr",
     "output_type": "stream",
     "text": [
      "  0%|          | 0/20 [00:00<?, ?it/s]"
     ]
    },
    {
     "name": "stdout",
     "output_type": "stream",
     "text": [
      "15 개 데이터 가져옴....\n"
     ]
    },
    {
     "name": "stderr",
     "output_type": "stream",
     "text": [
      "  5%|▌         | 1/20 [00:06<01:56,  6.14s/it]"
     ]
    },
    {
     "name": "stdout",
     "output_type": "stream",
     "text": [
      "21 개 데이터 가져옴....\n"
     ]
    },
    {
     "name": "stderr",
     "output_type": "stream",
     "text": [
      " 10%|█         | 2/20 [00:12<01:54,  6.39s/it]"
     ]
    },
    {
     "name": "stdout",
     "output_type": "stream",
     "text": [
      "21 개 데이터 가져옴....\n"
     ]
    },
    {
     "name": "stderr",
     "output_type": "stream",
     "text": [
      " 15%|█▌        | 3/20 [00:19<01:49,  6.45s/it]"
     ]
    },
    {
     "name": "stdout",
     "output_type": "stream",
     "text": [
      "24 개 데이터 가져옴....\n"
     ]
    },
    {
     "name": "stderr",
     "output_type": "stream",
     "text": [
      " 20%|██        | 4/20 [00:25<01:45,  6.56s/it]"
     ]
    },
    {
     "name": "stdout",
     "output_type": "stream",
     "text": [
      "27 개 데이터 가져옴....\n"
     ]
    },
    {
     "name": "stderr",
     "output_type": "stream",
     "text": [
      " 25%|██▌       | 5/20 [00:32<01:40,  6.71s/it]"
     ]
    },
    {
     "name": "stdout",
     "output_type": "stream",
     "text": [
      "24 개 데이터 가져옴....\n"
     ]
    },
    {
     "name": "stderr",
     "output_type": "stream",
     "text": [
      " 30%|███       | 6/20 [00:39<01:33,  6.65s/it]"
     ]
    },
    {
     "name": "stdout",
     "output_type": "stream",
     "text": [
      "27 개 데이터 가져옴....\n"
     ]
    },
    {
     "name": "stderr",
     "output_type": "stream",
     "text": [
      " 35%|███▌      | 7/20 [00:46<01:27,  6.74s/it]"
     ]
    },
    {
     "name": "stdout",
     "output_type": "stream",
     "text": [
      "21 개 데이터 가져옴....\n"
     ]
    },
    {
     "name": "stderr",
     "output_type": "stream",
     "text": [
      " 40%|████      | 8/20 [00:52<01:19,  6.63s/it]"
     ]
    },
    {
     "name": "stdout",
     "output_type": "stream",
     "text": [
      "24 개 데이터 가져옴....\n"
     ]
    },
    {
     "name": "stderr",
     "output_type": "stream",
     "text": [
      " 45%|████▌     | 9/20 [01:00<01:15,  6.89s/it]"
     ]
    },
    {
     "name": "stdout",
     "output_type": "stream",
     "text": [
      "21 개 데이터 가져옴....\n"
     ]
    },
    {
     "name": "stderr",
     "output_type": "stream",
     "text": [
      " 50%|█████     | 10/20 [01:06<01:07,  6.75s/it]"
     ]
    },
    {
     "name": "stdout",
     "output_type": "stream",
     "text": [
      "24 개 데이터 가져옴....\n"
     ]
    },
    {
     "name": "stderr",
     "output_type": "stream",
     "text": [
      " 55%|█████▌    | 11/20 [01:13<01:00,  6.73s/it]"
     ]
    },
    {
     "name": "stdout",
     "output_type": "stream",
     "text": [
      "21 개 데이터 가져옴....\n"
     ]
    },
    {
     "name": "stderr",
     "output_type": "stream",
     "text": [
      " 60%|██████    | 12/20 [01:19<00:53,  6.64s/it]"
     ]
    },
    {
     "name": "stdout",
     "output_type": "stream",
     "text": [
      "24 개 데이터 가져옴....\n"
     ]
    },
    {
     "name": "stderr",
     "output_type": "stream",
     "text": [
      " 65%|██████▌   | 13/20 [01:26<00:46,  6.64s/it]"
     ]
    },
    {
     "name": "stdout",
     "output_type": "stream",
     "text": [
      "24 개 데이터 가져옴....\n"
     ]
    },
    {
     "name": "stderr",
     "output_type": "stream",
     "text": [
      " 70%|███████   | 14/20 [01:33<00:39,  6.62s/it]"
     ]
    },
    {
     "name": "stdout",
     "output_type": "stream",
     "text": [
      "21 개 데이터 가져옴....\n"
     ]
    },
    {
     "name": "stderr",
     "output_type": "stream",
     "text": [
      " 75%|███████▌  | 15/20 [01:39<00:32,  6.56s/it]"
     ]
    },
    {
     "name": "stdout",
     "output_type": "stream",
     "text": [
      "27 개 데이터 가져옴....\n"
     ]
    },
    {
     "name": "stderr",
     "output_type": "stream",
     "text": [
      " 80%|████████  | 16/20 [01:46<00:26,  6.71s/it]"
     ]
    },
    {
     "name": "stdout",
     "output_type": "stream",
     "text": [
      "21 개 데이터 가져옴....\n"
     ]
    },
    {
     "name": "stderr",
     "output_type": "stream",
     "text": [
      " 85%|████████▌ | 17/20 [01:53<00:20,  6.76s/it]"
     ]
    },
    {
     "name": "stdout",
     "output_type": "stream",
     "text": [
      "24 개 데이터 가져옴....\n"
     ]
    },
    {
     "name": "stderr",
     "output_type": "stream",
     "text": [
      " 90%|█████████ | 18/20 [02:00<00:13,  6.81s/it]"
     ]
    },
    {
     "name": "stdout",
     "output_type": "stream",
     "text": [
      "27 개 데이터 가져옴....\n"
     ]
    },
    {
     "name": "stderr",
     "output_type": "stream",
     "text": [
      " 95%|█████████▌| 19/20 [02:07<00:06,  6.84s/it]"
     ]
    },
    {
     "name": "stdout",
     "output_type": "stream",
     "text": [
      "24 개 데이터 가져옴....\n"
     ]
    },
    {
     "name": "stderr",
     "output_type": "stream",
     "text": [
      "100%|██████████| 20/20 [02:13<00:00,  6.69s/it]\n"
     ]
    }
   ],
   "source": [
    "info = []\n",
    "\n",
    "ffffa = 0\n",
    "# 스크롤 내리기\n",
    "def scroll():\n",
    "\n",
    "    global ffffa\n",
    "    ffffa += 600 \n",
    "    driver.execute_script(\"window.scrollTo(0, \"+ str(ffffa) + \")\")\n",
    "\n",
    "# 제목 : [브랜드, 제목, 가격, 이미지위치]\n",
    "# 스크롤을 조금씩 내리면서 가져오기 때문에 데이터 중복 가능\n",
    "# 데이터 중복 제거하기 위해 제목은 중복안되니까 제목을 key로 지정 \n",
    "data = {}\n",
    "\n",
    "# 스크롤 조금씩 내리면서 데이터 가져오기\n",
    "for page in tqdm(range(20)):\n",
    "    scroll()\n",
    "    time.sleep(5)\n",
    "\n",
    "    # 브랜드, 상품명, 가격, 이미지 경로, 제품 링크\n",
    "    brands =  driver.find_elements(By.CLASS_NAME, \"production-item__header__brand\")\n",
    "    names =  driver.find_elements(By.CLASS_NAME, \"production-item__header__name\")\n",
    "    prices = driver.find_elements(By.CLASS_NAME, \"production-item-price__price\")\n",
    "    srcs=  driver.find_elements(By.CLASS_NAME, \"image\")\n",
    "    links =  driver.find_elements(By.CLASS_NAME, \"production-item__overlay\")\n",
    "\n",
    "    amount= len(brands)\n",
    "    print(amount ,\"개 데이터 가져옴....\")\n",
    "    \n",
    "    for i in range(amount):\n",
    "        # 브랜드\n",
    "        brand = brands[i].text\n",
    "\n",
    "        # 상품명\n",
    "        name = names[i].text\n",
    "        name = re.sub(r'\\[.*?\\]', '', name)\n",
    "\n",
    "        # 가격\n",
    "        price = prices[i].text\n",
    "\n",
    "        # 이미지 경로\n",
    "        src = srcs[i].get_attribute('src')\n",
    "\n",
    "        # 제품 링크\n",
    "        link = links[i].get_attribute(\"href\")\n",
    "\n",
    "        data[name] = [brand, name, price, src, link]\n"
   ]
  },
  {
   "cell_type": "code",
   "execution_count": 14,
   "metadata": {},
   "outputs": [
    {
     "data": {
      "text/plain": [
       "96"
      ]
     },
     "execution_count": 14,
     "metadata": {},
     "output_type": "execute_result"
    }
   ],
   "source": [
    "result_amount = len(data.keys())\n",
    "result_amount"
   ]
  },
  {
   "cell_type": "code",
   "execution_count": 15,
   "metadata": {},
   "outputs": [
    {
     "name": "stderr",
     "output_type": "stream",
     "text": [
      "  1%|          | 1/96 [00:01<02:44,  1.73s/it]"
     ]
    },
    {
     "name": "stdout",
     "output_type": "stream",
     "text": [
      "https://image.ohou.se/i/bucketplace-v2-development/uploads/productions/164325182439107818.jpg?gif=1&w=360&h=360&c=c&q=0.8&webp=1\n"
     ]
    },
    {
     "name": "stderr",
     "output_type": "stream",
     "text": [
      "  2%|▏         | 2/96 [00:02<02:11,  1.40s/it]"
     ]
    },
    {
     "name": "stdout",
     "output_type": "stream",
     "text": [
      "https://image.ohou.se/i/bucketplace-v2-development/uploads/productions/162748750075449137.jpeg?gif=1&w=360&h=360&c=c&q=0.8&webp=1\n"
     ]
    },
    {
     "name": "stderr",
     "output_type": "stream",
     "text": [
      "  3%|▎         | 3/96 [00:03<01:48,  1.17s/it]"
     ]
    },
    {
     "name": "stdout",
     "output_type": "stream",
     "text": [
      "https://image.ohou.se/i/bucketplace-v2-development/uploads/productions/164992746130907043.jpg?gif=1&w=360&h=360&c=c&q=0.8&webp=1\n"
     ]
    },
    {
     "name": "stderr",
     "output_type": "stream",
     "text": [
      "  4%|▍         | 4/96 [00:05<02:07,  1.39s/it]"
     ]
    },
    {
     "name": "stdout",
     "output_type": "stream",
     "text": [
      "https://image.ohou.se/i/bucketplace-v2-development/uploads/productions/162623710608730309.jpg?gif=1&w=360&h=360&c=c&q=0.8&webp=1\n"
     ]
    },
    {
     "name": "stderr",
     "output_type": "stream",
     "text": [
      "  5%|▌         | 5/96 [00:06<01:46,  1.17s/it]"
     ]
    },
    {
     "name": "stdout",
     "output_type": "stream",
     "text": [
      "https://image.ohou.se/i/bucketplace-v2-development/uploads/productions/169199629631216459.jpg?gif=1&w=360&h=360&c=c&q=0.8&webp=1\n"
     ]
    },
    {
     "name": "stderr",
     "output_type": "stream",
     "text": [
      "  6%|▋         | 6/96 [00:08<02:12,  1.47s/it]"
     ]
    },
    {
     "name": "stdout",
     "output_type": "stream",
     "text": [
      "https://image.ohou.se/i/bucketplace-v2-development/uploads/productions/162573326981796162.jpg?gif=1&w=360&h=360&c=c&q=0.8&webp=1\n"
     ]
    },
    {
     "name": "stderr",
     "output_type": "stream",
     "text": [
      "  7%|▋         | 7/96 [00:10<02:19,  1.57s/it]"
     ]
    },
    {
     "name": "stdout",
     "output_type": "stream",
     "text": [
      "https://image.ohou.se/i/bucketplace-v2-development/uploads/productions/166546601093699228.jpg?gif=1&w=360&h=360&c=c&q=0.8&webp=1\n"
     ]
    },
    {
     "name": "stderr",
     "output_type": "stream",
     "text": [
      "  8%|▊         | 8/96 [00:11<02:17,  1.56s/it]"
     ]
    },
    {
     "name": "stdout",
     "output_type": "stream",
     "text": [
      "https://image.ohou.se/i/bucketplace-v2-development/uploads/productions/1558339600299_D3hRuf.jpg?gif=1&w=360&h=360&c=c&q=0.8&webp=1\n"
     ]
    },
    {
     "name": "stderr",
     "output_type": "stream",
     "text": [
      "  9%|▉         | 9/96 [00:12<01:59,  1.38s/it]"
     ]
    },
    {
     "name": "stdout",
     "output_type": "stream",
     "text": [
      "https://image.ohou.se/i/bucketplace-v2-development/uploads/productions/159116463735234453.jpg?gif=1&w=360&h=360&c=c&q=0.8&webp=1\n"
     ]
    },
    {
     "name": "stderr",
     "output_type": "stream",
     "text": [
      " 10%|█         | 10/96 [00:13<01:42,  1.19s/it]"
     ]
    },
    {
     "name": "stdout",
     "output_type": "stream",
     "text": [
      "https://image.ohou.se/i/bucketplace-v2-development/uploads/productions/167712580238216214.jpg?gif=1&w=360&h=360&c=c&q=0.8&webp=1\n"
     ]
    },
    {
     "name": "stderr",
     "output_type": "stream",
     "text": [
      " 11%|█▏        | 11/96 [00:14<01:50,  1.30s/it]"
     ]
    },
    {
     "name": "stdout",
     "output_type": "stream",
     "text": [
      "https://image.ohou.se/i/bucketplace-v2-development/uploads/productions/168446424645358433.jpg?gif=1&w=360&h=360&c=c&q=0.8&webp=1\n"
     ]
    },
    {
     "name": "stderr",
     "output_type": "stream",
     "text": [
      " 12%|█▎        | 12/96 [00:16<01:58,  1.41s/it]"
     ]
    },
    {
     "name": "stdout",
     "output_type": "stream",
     "text": [
      "https://image.ohou.se/i/bucketplace-v2-development/uploads/productions/165344308571749241.jpg?gif=1&w=360&h=360&c=c&q=0.8&webp=1\n"
     ]
    },
    {
     "name": "stderr",
     "output_type": "stream",
     "text": [
      " 14%|█▎        | 13/96 [00:17<01:53,  1.36s/it]"
     ]
    },
    {
     "name": "stdout",
     "output_type": "stream",
     "text": [
      "https://image.ohou.se/i/bucketplace-v2-development/uploads/productions/159229290425459066.jpg?gif=1&w=360&h=360&c=c&q=0.8&webp=1\n"
     ]
    },
    {
     "name": "stderr",
     "output_type": "stream",
     "text": [
      " 15%|█▍        | 14/96 [00:18<01:43,  1.26s/it]"
     ]
    },
    {
     "name": "stdout",
     "output_type": "stream",
     "text": [
      "https://image.ohou.se/i/bucketplace-v2-development/uploads/productions/163359309036791434.jpg?gif=1&w=360&h=360&c=c&q=0.8&webp=1\n"
     ]
    },
    {
     "name": "stderr",
     "output_type": "stream",
     "text": [
      " 16%|█▌        | 15/96 [00:21<02:08,  1.59s/it]"
     ]
    },
    {
     "name": "stdout",
     "output_type": "stream",
     "text": [
      "https://image.ohou.se/i/bucketplace-v2-development/uploads/productions/159013044085233085.jpg?gif=1&w=360&h=360&c=c&q=0.8&webp=1\n"
     ]
    },
    {
     "name": "stderr",
     "output_type": "stream",
     "text": [
      " 17%|█▋        | 16/96 [00:22<01:54,  1.43s/it]"
     ]
    },
    {
     "name": "stdout",
     "output_type": "stream",
     "text": [
      "https://image.ohou.se/i/bucketplace-v2-development/uploads/productions/159376117430043340.jpg?gif=1&w=360&h=360&c=c&q=0.8&webp=1\n"
     ]
    },
    {
     "name": "stderr",
     "output_type": "stream",
     "text": [
      " 18%|█▊        | 17/96 [00:23<01:51,  1.41s/it]"
     ]
    },
    {
     "name": "stdout",
     "output_type": "stream",
     "text": [
      "https://image.ohou.se/i/bucketplace-v2-development/uploads/productions/161594310608424381.jpg?gif=1&w=360&h=360&c=c&q=0.8&webp=1\n"
     ]
    },
    {
     "name": "stderr",
     "output_type": "stream",
     "text": [
      " 19%|█▉        | 18/96 [00:24<01:37,  1.25s/it]"
     ]
    },
    {
     "name": "stdout",
     "output_type": "stream",
     "text": [
      "https://image.ohou.se/i/bucketplace-v2-development/uploads/productions/158796965770215972.jpg?gif=1&w=360&h=360&c=c&q=0.8&webp=1\n"
     ]
    },
    {
     "name": "stderr",
     "output_type": "stream",
     "text": [
      " 20%|█▉        | 19/96 [00:25<01:35,  1.24s/it]"
     ]
    },
    {
     "name": "stdout",
     "output_type": "stream",
     "text": [
      "https://image.ohou.se/i/bucketplace-v2-development/uploads/productions/159013028694459340.jpg?gif=1&w=360&h=360&c=c&q=0.8&webp=1\n"
     ]
    },
    {
     "name": "stderr",
     "output_type": "stream",
     "text": [
      " 21%|██        | 20/96 [00:26<01:26,  1.14s/it]"
     ]
    },
    {
     "name": "stdout",
     "output_type": "stream",
     "text": [
      "https://image.ohou.se/i/bucketplace-v2-development/uploads/productions/158570757903558586.jpg?gif=1&w=360&h=360&c=c&q=0.8&webp=1\n"
     ]
    },
    {
     "name": "stderr",
     "output_type": "stream",
     "text": [
      " 22%|██▏       | 21/96 [00:28<01:38,  1.32s/it]"
     ]
    },
    {
     "name": "stdout",
     "output_type": "stream",
     "text": [
      "https://image.ohou.se/i/bucketplace-v2-development/uploads/productions/168497965057838962.jpg?gif=1&w=360&h=360&c=c&q=0.8&webp=1\n"
     ]
    },
    {
     "name": "stderr",
     "output_type": "stream",
     "text": [
      " 23%|██▎       | 22/96 [00:30<01:45,  1.43s/it]"
     ]
    },
    {
     "name": "stdout",
     "output_type": "stream",
     "text": [
      "https://image.ohou.se/i/bucketplace-v2-development/uploads/productions/166817088073690560.jpg?gif=1&w=360&h=360&c=c&q=0.8&webp=1\n"
     ]
    },
    {
     "name": "stderr",
     "output_type": "stream",
     "text": [
      " 24%|██▍       | 23/96 [00:30<01:31,  1.25s/it]"
     ]
    },
    {
     "name": "stdout",
     "output_type": "stream",
     "text": [
      "https://image.ohou.se/i/bucketplace-v2-development/uploads/productions/163093198048857716.jpg?gif=1&w=360&h=360&c=c&q=0.8&webp=1\n"
     ]
    },
    {
     "name": "stderr",
     "output_type": "stream",
     "text": [
      " 25%|██▌       | 24/96 [00:31<01:20,  1.12s/it]"
     ]
    },
    {
     "name": "stdout",
     "output_type": "stream",
     "text": [
      "https://image.ohou.se/i/bucketplace-v2-development/uploads/productions/168543428317114906.jpg?gif=1&w=360&h=360&c=c&q=0.8&webp=1\n"
     ]
    },
    {
     "name": "stderr",
     "output_type": "stream",
     "text": [
      " 26%|██▌       | 25/96 [00:32<01:21,  1.15s/it]"
     ]
    },
    {
     "name": "stdout",
     "output_type": "stream",
     "text": [
      "https://image.ohou.se/i/bucketplace-v2-development/uploads/productions/162518909273356834.jpg?gif=1&w=360&h=360&c=c&q=0.8&webp=1\n"
     ]
    },
    {
     "name": "stderr",
     "output_type": "stream",
     "text": [
      " 27%|██▋       | 26/96 [00:34<01:30,  1.30s/it]"
     ]
    },
    {
     "name": "stdout",
     "output_type": "stream",
     "text": [
      "https://image.ohou.se/i/bucketplace-v2-development/uploads/productions/162745871947999224.jpg?gif=1&w=360&h=360&c=c&q=0.8&webp=1\n"
     ]
    },
    {
     "name": "stderr",
     "output_type": "stream",
     "text": [
      " 28%|██▊       | 27/96 [00:36<01:38,  1.43s/it]"
     ]
    },
    {
     "name": "stdout",
     "output_type": "stream",
     "text": [
      "https://image.ohou.se/i/bucketplace-v2-development/uploads/productions/157905848170053430.jpg?gif=1&w=360&h=360&c=c&q=0.8&webp=1\n"
     ]
    },
    {
     "name": "stderr",
     "output_type": "stream",
     "text": [
      " 29%|██▉       | 28/96 [00:38<01:47,  1.58s/it]"
     ]
    },
    {
     "name": "stdout",
     "output_type": "stream",
     "text": [
      "https://image.ohou.se/i/bucketplace-v2-development/uploads/productions/164965319539370864.jpg?gif=1&w=360&h=360&c=c&q=0.8&webp=1\n"
     ]
    },
    {
     "name": "stderr",
     "output_type": "stream",
     "text": [
      " 30%|███       | 29/96 [00:40<02:02,  1.82s/it]"
     ]
    },
    {
     "name": "stdout",
     "output_type": "stream",
     "text": [
      "https://image.ohou.se/i/bucketplace-v2-development/uploads/productions/166795886996299450.jpg?gif=1&w=360&h=360&c=c&q=0.8&webp=1\n"
     ]
    },
    {
     "name": "stderr",
     "output_type": "stream",
     "text": [
      " 31%|███▏      | 30/96 [00:42<01:57,  1.78s/it]"
     ]
    },
    {
     "name": "stdout",
     "output_type": "stream",
     "text": [
      "https://image.ohou.se/i/bucketplace-v2-development/uploads/productions/166069805505252024.jpg?gif=1&w=360&h=360&c=c&q=0.8&webp=1\n"
     ]
    },
    {
     "name": "stderr",
     "output_type": "stream",
     "text": [
      " 32%|███▏      | 31/96 [00:43<01:49,  1.69s/it]"
     ]
    },
    {
     "name": "stdout",
     "output_type": "stream",
     "text": [
      "https://image.ohou.se/i/bucketplace-v2-development/uploads/productions/162425664735997741.jpg?gif=1&w=360&h=360&c=c&q=0.8&webp=1\n"
     ]
    },
    {
     "name": "stderr",
     "output_type": "stream",
     "text": [
      " 33%|███▎      | 32/96 [00:45<01:40,  1.58s/it]"
     ]
    },
    {
     "name": "stdout",
     "output_type": "stream",
     "text": [
      "https://image.ohou.se/i/bucketplace-v2-development/uploads/productions/161415186393498336.jpg?gif=1&w=360&h=360&c=c&q=0.8&webp=1\n"
     ]
    },
    {
     "name": "stderr",
     "output_type": "stream",
     "text": [
      " 34%|███▍      | 33/96 [00:46<01:29,  1.42s/it]"
     ]
    },
    {
     "name": "stdout",
     "output_type": "stream",
     "text": [
      "https://image.ohou.se/i/bucketplace-v2-development/uploads/productions/163694363266353989.jpg?gif=1&w=360&h=360&c=c&q=0.8&webp=1\n"
     ]
    },
    {
     "name": "stderr",
     "output_type": "stream",
     "text": [
      " 35%|███▌      | 34/96 [00:47<01:20,  1.30s/it]"
     ]
    },
    {
     "name": "stdout",
     "output_type": "stream",
     "text": [
      "https://image.ohou.se/i/bucketplace-v2-development/uploads/productions/168680268824612191.jpg?gif=1&w=360&h=360&c=c&q=0.8&webp=1\n"
     ]
    },
    {
     "name": "stderr",
     "output_type": "stream",
     "text": [
      " 36%|███▋      | 35/96 [00:50<01:51,  1.83s/it]"
     ]
    },
    {
     "name": "stdout",
     "output_type": "stream",
     "text": [
      "https://image.ohou.se/i/bucketplace-v2-development/uploads/productions/156447175039391136.jpg?gif=1&w=360&h=360&c=c&q=0.8&webp=1\n"
     ]
    },
    {
     "name": "stderr",
     "output_type": "stream",
     "text": [
      " 38%|███▊      | 36/96 [00:51<01:40,  1.68s/it]"
     ]
    },
    {
     "name": "stdout",
     "output_type": "stream",
     "text": [
      "https://image.ohou.se/i/bucketplace-v2-development/uploads/productions/168791223576424884.jpg?gif=1&w=360&h=360&c=c&q=0.8&webp=1\n"
     ]
    },
    {
     "name": "stderr",
     "output_type": "stream",
     "text": [
      " 39%|███▊      | 37/96 [00:53<01:43,  1.76s/it]"
     ]
    },
    {
     "name": "stdout",
     "output_type": "stream",
     "text": [
      "https://image.ohou.se/i/bucketplace-v2-development/uploads/productions/168421225022397772.jpg?gif=1&w=360&h=360&c=c&q=0.8&webp=1\n"
     ]
    },
    {
     "name": "stderr",
     "output_type": "stream",
     "text": [
      " 40%|███▉      | 38/96 [00:54<01:28,  1.52s/it]"
     ]
    },
    {
     "name": "stdout",
     "output_type": "stream",
     "text": [
      "https://image.ohou.se/i/bucketplace-v2-development/uploads/productions/1528356553396_9.jpg?gif=1&w=360&h=360&c=c&q=0.8&webp=1\n"
     ]
    },
    {
     "name": "stderr",
     "output_type": "stream",
     "text": [
      " 41%|████      | 39/96 [00:55<01:16,  1.33s/it]"
     ]
    },
    {
     "name": "stdout",
     "output_type": "stream",
     "text": [
      "https://image.ohou.se/i/bucketplace-v2-development/uploads/productions/167325390970361808.jpg?gif=1&w=360&h=360&c=c&q=0.8&webp=1\n"
     ]
    },
    {
     "name": "stderr",
     "output_type": "stream",
     "text": [
      " 42%|████▏     | 40/96 [00:56<01:14,  1.32s/it]"
     ]
    },
    {
     "name": "stdout",
     "output_type": "stream",
     "text": [
      "https://image.ohou.se/i/bucketplace-v2-development/uploads/productions/166114768229304181.jpg?gif=1&w=360&h=360&c=c&q=0.8&webp=1\n"
     ]
    },
    {
     "name": "stderr",
     "output_type": "stream",
     "text": [
      " 43%|████▎     | 41/96 [00:58<01:14,  1.35s/it]"
     ]
    },
    {
     "name": "stdout",
     "output_type": "stream",
     "text": [
      "https://image.ohou.se/i/bucketplace-v2-development/uploads/productions/167099351247625702.jpg?gif=1&w=360&h=360&c=c&q=0.8&webp=1\n"
     ]
    },
    {
     "name": "stderr",
     "output_type": "stream",
     "text": [
      " 44%|████▍     | 42/96 [01:01<01:51,  2.06s/it]"
     ]
    },
    {
     "name": "stdout",
     "output_type": "stream",
     "text": [
      "https://image.ohou.se/i/bucketplace-v2-development/uploads/productions/166795877770402678.jpg?gif=1&w=360&h=360&c=c&q=0.8&webp=1\n"
     ]
    },
    {
     "name": "stderr",
     "output_type": "stream",
     "text": [
      " 45%|████▍     | 43/96 [01:03<01:50,  2.08s/it]"
     ]
    },
    {
     "name": "stdout",
     "output_type": "stream",
     "text": [
      "https://image.ohou.se/i/bucketplace-v2-development/uploads/productions/163116764139422275.jpg?gif=1&w=360&h=360&c=c&q=0.8&webp=1\n",
      "https://image.ohou.se/i/bucketplace-v2-development/uploads/productions/163093213161156852.jpg?gif=1&w=360&h=360&c=c&q=0.8&webp=1\n"
     ]
    },
    {
     "name": "stderr",
     "output_type": "stream",
     "text": [
      " 47%|████▋     | 45/96 [01:11<02:23,  2.81s/it]"
     ]
    },
    {
     "name": "stdout",
     "output_type": "stream",
     "text": [
      "https://image.ohou.se/i/bucketplace-v2-development/uploads/productions/165026759343852149.jpg?gif=1&w=360&h=360&c=c&q=0.8&webp=1\n"
     ]
    },
    {
     "name": "stderr",
     "output_type": "stream",
     "text": [
      " 48%|████▊     | 46/96 [01:12<01:57,  2.35s/it]"
     ]
    },
    {
     "name": "stdout",
     "output_type": "stream",
     "text": [
      "https://image.ohou.se/i/bucketplace-v2-development/uploads/productions/162807137166265140.jpg?gif=1&w=360&h=360&c=c&q=0.8&webp=1\n"
     ]
    },
    {
     "name": "stderr",
     "output_type": "stream",
     "text": [
      " 49%|████▉     | 47/96 [01:14<01:45,  2.16s/it]"
     ]
    },
    {
     "name": "stdout",
     "output_type": "stream",
     "text": [
      "https://image.ohou.se/i/bucketplace-v2-development/uploads/openapi/862316/1671678049729.jpg?gif=1&w=360&h=360&c=c&q=0.8&webp=1\n"
     ]
    },
    {
     "name": "stderr",
     "output_type": "stream",
     "text": [
      " 50%|█████     | 48/96 [01:15<01:32,  1.92s/it]"
     ]
    },
    {
     "name": "stdout",
     "output_type": "stream",
     "text": [
      "https://image.ohou.se/i/bucketplace-v2-development/uploads/productions/158814571216643062.jpg?gif=1&w=360&h=360&c=c&q=0.8&webp=1\n"
     ]
    },
    {
     "name": "stderr",
     "output_type": "stream",
     "text": [
      " 51%|█████     | 49/96 [01:16<01:18,  1.67s/it]"
     ]
    },
    {
     "name": "stdout",
     "output_type": "stream",
     "text": [
      "https://image.ohou.se/i/bucketplace-v2-development/uploads/productions/168957842220651891.jpg?gif=1&w=360&h=360&c=c&q=0.8&webp=1\n"
     ]
    },
    {
     "name": "stderr",
     "output_type": "stream",
     "text": [
      " 52%|█████▏    | 50/96 [01:18<01:19,  1.73s/it]"
     ]
    },
    {
     "name": "stdout",
     "output_type": "stream",
     "text": [
      "https://image.ohou.se/i/bucketplace-v2-development/uploads/productions/159980312293024852.jpg?gif=1&w=360&h=360&c=c&q=0.8&webp=1\n"
     ]
    },
    {
     "name": "stderr",
     "output_type": "stream",
     "text": [
      " 53%|█████▎    | 51/96 [01:20<01:23,  1.85s/it]"
     ]
    },
    {
     "name": "stdout",
     "output_type": "stream",
     "text": [
      "https://image.ohou.se/i/bucketplace-v2-development/uploads/productions/160038785391235427.jpg?gif=1&w=360&h=360&c=c&q=0.8&webp=1\n"
     ]
    },
    {
     "name": "stderr",
     "output_type": "stream",
     "text": [
      " 54%|█████▍    | 52/96 [01:22<01:17,  1.76s/it]"
     ]
    },
    {
     "name": "stdout",
     "output_type": "stream",
     "text": [
      "https://image.ohou.se/i/bucketplace-v2-development/uploads/productions/1518507533305_o.jpg?gif=1&w=360&h=360&c=c&q=0.8&webp=1\n"
     ]
    },
    {
     "name": "stderr",
     "output_type": "stream",
     "text": [
      " 55%|█████▌    | 53/96 [01:22<01:04,  1.50s/it]"
     ]
    },
    {
     "name": "stdout",
     "output_type": "stream",
     "text": [
      "https://image.ohou.se/i/bucketplace-v2-development/uploads/productions/163028780470835584.jpg?gif=1&w=360&h=360&c=c&q=0.8&webp=1\n"
     ]
    },
    {
     "name": "stderr",
     "output_type": "stream",
     "text": [
      " 56%|█████▋    | 54/96 [01:24<01:03,  1.51s/it]"
     ]
    },
    {
     "name": "stdout",
     "output_type": "stream",
     "text": [
      "https://image.ohou.se/i/bucketplace-v2-development/uploads/productions/160126737171193331.jpg?gif=1&w=360&h=360&c=c&q=0.8&webp=1\n"
     ]
    },
    {
     "name": "stderr",
     "output_type": "stream",
     "text": [
      " 57%|█████▋    | 55/96 [01:25<01:00,  1.49s/it]"
     ]
    },
    {
     "name": "stdout",
     "output_type": "stream",
     "text": [
      "https://image.ohou.se/i/bucketplace-v2-development/uploads/productions/168317496243568919.jpg?gif=1&w=360&h=360&c=c&q=0.8&webp=1\n"
     ]
    },
    {
     "name": "stderr",
     "output_type": "stream",
     "text": [
      " 58%|█████▊    | 56/96 [01:27<00:59,  1.49s/it]"
     ]
    },
    {
     "name": "stdout",
     "output_type": "stream",
     "text": [
      "https://image.ohou.se/i/bucketplace-v2-development/uploads/productions/166660301522414336.jpg?gif=1&w=360&h=360&c=c&q=0.8&webp=1\n"
     ]
    },
    {
     "name": "stderr",
     "output_type": "stream",
     "text": [
      " 59%|█████▉    | 57/96 [01:29<01:05,  1.67s/it]"
     ]
    },
    {
     "name": "stdout",
     "output_type": "stream",
     "text": [
      "https://image.ohou.se/i/bucketplace-v2-development/uploads/productions/160678885480167439.jpg?gif=1&w=360&h=360&c=c&q=0.8&webp=1\n",
      "https://image.ohou.se/i/bucketplace-v2-development/uploads/productions/168317485851344933.jpg?gif=1&w=360&h=360&c=c&q=0.8&webp=1\n"
     ]
    },
    {
     "name": "stderr",
     "output_type": "stream",
     "text": [
      " 61%|██████▏   | 59/96 [01:34<01:14,  2.00s/it]"
     ]
    },
    {
     "name": "stdout",
     "output_type": "stream",
     "text": [
      "https://image.ohou.se/i/bucketplace-v2-development/uploads/productions/1546821609030_dyk.jpg?gif=1&w=360&h=360&c=c&q=0.8&webp=1\n"
     ]
    },
    {
     "name": "stderr",
     "output_type": "stream",
     "text": [
      " 62%|██████▎   | 60/96 [01:38<01:28,  2.46s/it]"
     ]
    },
    {
     "name": "stdout",
     "output_type": "stream",
     "text": [
      "https://image.ohou.se/i/bucketplace-v2-development/uploads/productions/157353841291035973.jpg?gif=1&w=360&h=360&c=c&q=0.8&webp=1\n"
     ]
    },
    {
     "name": "stderr",
     "output_type": "stream",
     "text": [
      " 64%|██████▎   | 61/96 [01:39<01:15,  2.16s/it]"
     ]
    },
    {
     "name": "stdout",
     "output_type": "stream",
     "text": [
      "https://image.ohou.se/i/bucketplace-v2-development/uploads/productions/168014416954582002.jpg?gif=1&w=360&h=360&c=c&q=0.8&webp=1\n"
     ]
    },
    {
     "name": "stderr",
     "output_type": "stream",
     "text": [
      " 65%|██████▍   | 62/96 [01:40<01:01,  1.82s/it]"
     ]
    },
    {
     "name": "stdout",
     "output_type": "stream",
     "text": [
      "https://image.ohou.se/i/bucketplace-v2-development/uploads/productions/157821350402836148.jpg?gif=1&w=360&h=360&c=c&q=0.8&webp=1\n"
     ]
    },
    {
     "name": "stderr",
     "output_type": "stream",
     "text": [
      " 66%|██████▌   | 63/96 [01:41<00:55,  1.67s/it]"
     ]
    },
    {
     "name": "stdout",
     "output_type": "stream",
     "text": [
      "https://image.ohou.se/i/bucketplace-v2-development/uploads/productions/1499320241828_0iVk.jpg?gif=1&w=360&h=360&c=c&q=0.8&webp=1\n"
     ]
    },
    {
     "name": "stderr",
     "output_type": "stream",
     "text": [
      " 67%|██████▋   | 64/96 [01:44<00:59,  1.85s/it]"
     ]
    },
    {
     "name": "stdout",
     "output_type": "stream",
     "text": [
      "https://image.ohou.se/i/bucketplace-v2-development/uploads/productions/168317469129835095.jpg?gif=1&w=360&h=360&c=c&q=0.8&webp=1\n"
     ]
    },
    {
     "name": "stderr",
     "output_type": "stream",
     "text": [
      " 68%|██████▊   | 65/96 [01:45<00:57,  1.84s/it]"
     ]
    },
    {
     "name": "stdout",
     "output_type": "stream",
     "text": [
      "https://image.ohou.se/i/bucketplace-v2-development/uploads/productions/167961916100923869.jpg?gif=1&w=360&h=360&c=c&q=0.8&webp=1\n"
     ]
    },
    {
     "name": "stderr",
     "output_type": "stream",
     "text": [
      " 69%|██████▉   | 66/96 [01:48<01:00,  2.02s/it]"
     ]
    },
    {
     "name": "stdout",
     "output_type": "stream",
     "text": [
      "https://image.ohou.se/i/bucketplace-v2-development/uploads/productions/162312455893829135.jpg?gif=1&w=360&h=360&c=c&q=0.8&webp=1\n"
     ]
    },
    {
     "name": "stderr",
     "output_type": "stream",
     "text": [
      " 70%|██████▉   | 67/96 [01:49<00:49,  1.69s/it]"
     ]
    },
    {
     "name": "stdout",
     "output_type": "stream",
     "text": [
      "ERROR!!\n"
     ]
    },
    {
     "name": "stderr",
     "output_type": "stream",
     "text": [
      " 71%|███████   | 68/96 [01:50<00:45,  1.61s/it]"
     ]
    },
    {
     "name": "stdout",
     "output_type": "stream",
     "text": [
      "ERROR!!\n"
     ]
    },
    {
     "name": "stderr",
     "output_type": "stream",
     "text": [
      " 72%|███████▏  | 69/96 [01:52<00:42,  1.56s/it]"
     ]
    },
    {
     "name": "stdout",
     "output_type": "stream",
     "text": [
      "ERROR!!\n"
     ]
    },
    {
     "name": "stderr",
     "output_type": "stream",
     "text": [
      " 73%|███████▎  | 70/96 [01:53<00:36,  1.42s/it]"
     ]
    },
    {
     "name": "stdout",
     "output_type": "stream",
     "text": [
      "https://image.ohou.se/i/bucketplace-v2-development/uploads/productions/160126759312980479.jpg?gif=1&w=360&h=360&c=c&q=0.8&webp=1\n"
     ]
    },
    {
     "name": "stderr",
     "output_type": "stream",
     "text": [
      " 74%|███████▍  | 71/96 [01:54<00:34,  1.38s/it]"
     ]
    },
    {
     "name": "stdout",
     "output_type": "stream",
     "text": [
      "https://image.ohou.se/i/bucketplace-v2-development/uploads/productions/1552973622980_beVmoR.jpg?gif=1&w=360&h=360&c=c&q=0.8&webp=1\n"
     ]
    },
    {
     "name": "stderr",
     "output_type": "stream",
     "text": [
      " 75%|███████▌  | 72/96 [01:56<00:35,  1.47s/it]"
     ]
    },
    {
     "name": "stdout",
     "output_type": "stream",
     "text": [
      "https://image.ohou.se/i/bucketplace-v2-development/uploads/productions/169770431568453704.jpg?gif=1&w=360&h=360&c=c&q=0.8&webp=1\n"
     ]
    },
    {
     "name": "stderr",
     "output_type": "stream",
     "text": [
      " 76%|███████▌  | 73/96 [01:59<00:46,  2.02s/it]"
     ]
    },
    {
     "name": "stdout",
     "output_type": "stream",
     "text": [
      "https://image.ohou.se/i/bucketplace-v2-development/uploads/productions/168317490650867762.jpg?gif=1&w=360&h=360&c=c&q=0.8&webp=1\n"
     ]
    },
    {
     "name": "stderr",
     "output_type": "stream",
     "text": [
      " 77%|███████▋  | 74/96 [02:01<00:44,  2.04s/it]"
     ]
    },
    {
     "name": "stdout",
     "output_type": "stream",
     "text": [
      "https://image.ohou.se/i/bucketplace-v2-development/uploads/productions/15650448005763_gbK1O.jpg?gif=1&w=360&h=360&c=c&q=0.8&webp=1\n"
     ]
    },
    {
     "name": "stderr",
     "output_type": "stream",
     "text": [
      " 78%|███████▊  | 75/96 [02:03<00:41,  1.99s/it]"
     ]
    },
    {
     "name": "stdout",
     "output_type": "stream",
     "text": [
      "https://image.ohou.se/i/bucketplace-v2-development/uploads/productions/163905775703982501.jpg?gif=1&w=360&h=360&c=c&q=0.8&webp=1\n"
     ]
    },
    {
     "name": "stderr",
     "output_type": "stream",
     "text": [
      " 79%|███████▉  | 76/96 [02:05<00:38,  1.92s/it]"
     ]
    },
    {
     "name": "stdout",
     "output_type": "stream",
     "text": [
      "https://image.ohou.se/i/bucketplace-v2-development/uploads/productions/169328587094089534.jpg?gif=1&w=360&h=360&c=c&q=0.8&webp=1\n"
     ]
    },
    {
     "name": "stderr",
     "output_type": "stream",
     "text": [
      " 80%|████████  | 77/96 [02:06<00:33,  1.78s/it]"
     ]
    },
    {
     "name": "stdout",
     "output_type": "stream",
     "text": [
      "https://image.ohou.se/i/bucketplace-v2-development/uploads/productions/1597217831_101414_1.jpg?gif=1&w=360&h=360&c=c&q=0.8&webp=1\n"
     ]
    },
    {
     "name": "stderr",
     "output_type": "stream",
     "text": [
      " 81%|████████▏ | 78/96 [02:08<00:31,  1.73s/it]"
     ]
    },
    {
     "name": "stdout",
     "output_type": "stream",
     "text": [
      "https://image.ohou.se/i/bucketplace-v2-development/uploads/productions/163961119744179264.jpg?gif=1&w=360&h=360&c=c&q=0.8&webp=1\n"
     ]
    },
    {
     "name": "stderr",
     "output_type": "stream",
     "text": [
      " 82%|████████▏ | 79/96 [02:10<00:32,  1.88s/it]"
     ]
    },
    {
     "name": "stdout",
     "output_type": "stream",
     "text": [
      "https://image.ohou.se/i/bucketplace-v2-development/uploads/productions/169044569434907505.jpg?gif=1&w=360&h=360&c=c&q=0.8&webp=1\n"
     ]
    },
    {
     "name": "stderr",
     "output_type": "stream",
     "text": [
      " 83%|████████▎ | 80/96 [02:13<00:32,  2.04s/it]"
     ]
    },
    {
     "name": "stdout",
     "output_type": "stream",
     "text": [
      "https://image.ohou.se/i/bucketplace-v2-development/uploads/productions/169044546365272802.jpg?gif=1&w=360&h=360&c=c&q=0.8&webp=1\n"
     ]
    },
    {
     "name": "stderr",
     "output_type": "stream",
     "text": [
      " 84%|████████▍ | 81/96 [02:14<00:29,  1.96s/it]"
     ]
    },
    {
     "name": "stdout",
     "output_type": "stream",
     "text": [
      "https://image.ohou.se/i/bucketplace-v2-development/uploads/productions/166693351156433201.jpg?gif=1&w=360&h=360&c=c&q=0.8&webp=1\n"
     ]
    },
    {
     "name": "stderr",
     "output_type": "stream",
     "text": [
      " 85%|████████▌ | 82/96 [02:17<00:28,  2.07s/it]"
     ]
    },
    {
     "name": "stdout",
     "output_type": "stream",
     "text": [
      "https://image.ohou.se/i/bucketplace-v2-development/uploads/productions/166847987937790482.jpg?gif=1&w=360&h=360&c=c&q=0.8&webp=1\n",
      "https://image.ohou.se/i/bucketplace-v2-development/uploads/productions/169700048526818320.jpg?gif=1&w=360&h=360&c=c&q=0.8&webp=1\n"
     ]
    },
    {
     "name": "stderr",
     "output_type": "stream",
     "text": [
      " 88%|████████▊ | 84/96 [02:21<00:25,  2.13s/it]"
     ]
    },
    {
     "name": "stdout",
     "output_type": "stream",
     "text": [
      "https://image.ohou.se/i/bucketplace-v2-development/uploads/productions/169274643117288964.jpg?gif=1&w=360&h=360&c=c&q=0.8&webp=1\n"
     ]
    },
    {
     "name": "stderr",
     "output_type": "stream",
     "text": [
      " 89%|████████▊ | 85/96 [02:23<00:21,  1.94s/it]"
     ]
    },
    {
     "name": "stdout",
     "output_type": "stream",
     "text": [
      "https://image.ohou.se/i/bucketplace-v2-development/uploads/productions/166434615422216016.jpg?gif=1&w=360&h=360&c=c&q=0.8&webp=1\n"
     ]
    },
    {
     "name": "stderr",
     "output_type": "stream",
     "text": [
      " 90%|████████▉ | 86/96 [02:26<00:22,  2.25s/it]"
     ]
    },
    {
     "name": "stdout",
     "output_type": "stream",
     "text": [
      "https://image.ohou.se/i/bucketplace-v2-development/uploads/productions/158641431426304279.jpg?gif=1&w=360&h=360&c=c&q=0.8&webp=1\n"
     ]
    },
    {
     "name": "stderr",
     "output_type": "stream",
     "text": [
      " 91%|█████████ | 87/96 [02:27<00:18,  2.04s/it]"
     ]
    },
    {
     "name": "stdout",
     "output_type": "stream",
     "text": [
      "https://image.ohou.se/i/bucketplace-v2-development/uploads/productions/165536690294960302.jpg?gif=1&w=360&h=360&c=c&q=0.8&webp=1\n"
     ]
    },
    {
     "name": "stderr",
     "output_type": "stream",
     "text": [
      " 92%|█████████▏| 88/96 [02:29<00:14,  1.85s/it]"
     ]
    },
    {
     "name": "stdout",
     "output_type": "stream",
     "text": [
      "https://image.ohou.se/i/bucketplace-v2-development/uploads/productions/162503682193344528.jpg?gif=1&w=360&h=360&c=c&q=0.8&webp=1\n"
     ]
    },
    {
     "name": "stderr",
     "output_type": "stream",
     "text": [
      " 93%|█████████▎| 89/96 [02:30<00:12,  1.80s/it]"
     ]
    },
    {
     "name": "stdout",
     "output_type": "stream",
     "text": [
      "https://image.ohou.se/i/bucketplace-v2-development/uploads/productions/1546934262558_HBsgf.jpg?gif=1&w=360&h=360&c=c&q=0.8&webp=1\n"
     ]
    },
    {
     "name": "stderr",
     "output_type": "stream",
     "text": [
      " 94%|█████████▍| 90/96 [02:31<00:09,  1.51s/it]"
     ]
    },
    {
     "name": "stdout",
     "output_type": "stream",
     "text": [
      "https://image.ohou.se/i/bucketplace-v2-development/uploads/productions/168385716466500787.jpg?gif=1&w=360&h=360&c=c&q=0.8&webp=1\n"
     ]
    },
    {
     "name": "stderr",
     "output_type": "stream",
     "text": [
      " 95%|█████████▍| 91/96 [02:33<00:07,  1.49s/it]"
     ]
    },
    {
     "name": "stdout",
     "output_type": "stream",
     "text": [
      "https://image.ohou.se/i/bucketplace-v2-development/uploads/productions/1539774483733_CQNM51T1.jpg?gif=1&w=360&h=360&c=c&q=0.8&webp=1\n"
     ]
    },
    {
     "name": "stderr",
     "output_type": "stream",
     "text": [
      " 96%|█████████▌| 92/96 [02:37<00:09,  2.26s/it]"
     ]
    },
    {
     "name": "stdout",
     "output_type": "stream",
     "text": [
      "https://image.ohou.se/i/bucketplace-v2-development/uploads/productions/1528332995896_R5pdYd.jpg?gif=1&w=360&h=360&c=c&q=0.8&webp=1\n"
     ]
    },
    {
     "name": "stderr",
     "output_type": "stream",
     "text": [
      " 97%|█████████▋| 93/96 [02:39<00:06,  2.13s/it]"
     ]
    },
    {
     "name": "stdout",
     "output_type": "stream",
     "text": [
      "https://image.ohou.se/i/bucketplace-v2-development/uploads/productions/168664334631993308.jpg?gif=1&w=360&h=360&c=c&q=0.8&webp=1\n"
     ]
    },
    {
     "name": "stderr",
     "output_type": "stream",
     "text": [
      " 98%|█████████▊| 94/96 [02:40<00:03,  1.92s/it]"
     ]
    },
    {
     "name": "stdout",
     "output_type": "stream",
     "text": [
      "https://image.ohou.se/i/bucketplace-v2-development/uploads/productions/168117318543679779.jpg?gif=1&w=360&h=360&c=c&q=0.8&webp=1\n"
     ]
    },
    {
     "name": "stderr",
     "output_type": "stream",
     "text": [
      " 99%|█████████▉| 95/96 [02:42<00:01,  1.81s/it]"
     ]
    },
    {
     "name": "stdout",
     "output_type": "stream",
     "text": [
      "https://image.ohou.se/i/bucketplace-v2-development/uploads/productions/168551339956958842.jpg?gif=1&w=360&h=360&c=c&q=0.8&webp=1\n"
     ]
    },
    {
     "name": "stderr",
     "output_type": "stream",
     "text": [
      "100%|██████████| 96/96 [02:43<00:00,  1.70s/it]"
     ]
    },
    {
     "name": "stdout",
     "output_type": "stream",
     "text": [
      "https://image.ohou.se/i/bucketplace-v2-development/uploads/productions/162738839999955418.jpg?gif=1&w=360&h=360&c=c&q=0.8&webp=1\n"
     ]
    },
    {
     "name": "stderr",
     "output_type": "stream",
     "text": [
      "\n"
     ]
    }
   ],
   "source": [
    "i = 0\n",
    "info = []\n",
    "\n",
    "for key,value in tqdm(data.items()):\n",
    "    try:\n",
    "        brand = value[0]\n",
    "        name = value[1]\n",
    "        price = value[2]\n",
    "        src = value[3]\n",
    "        link = value[4]\n",
    "\n",
    "        i += 1\n",
    "        time.sleep(0.5 + random.random())\n",
    "        response = requests.get(src, stream=True)\n",
    "        print(src)\n",
    "\n",
    "        save_image_path = f'./static/img/kitchen/chair/chair{i}.png'\n",
    "        if response.status_code == 200:\n",
    "            # 응답 내용을 바이너리 파일로 저장하기\n",
    "            with open(save_image_path, 'wb') as out_file:\n",
    "                out_file.write(response.content)\n",
    "        \n",
    "        info.append([brand, name, price, save_image_path, link, None])\n",
    "\n",
    "    except:\n",
    "        print('ERROR!!')\n",
    "        pass"
   ]
  },
  {
   "cell_type": "code",
   "execution_count": 16,
   "metadata": {},
   "outputs": [
    {
     "data": {
      "text/plain": [
       "93"
      ]
     },
     "execution_count": 16,
     "metadata": {},
     "output_type": "execute_result"
    }
   ],
   "source": [
    "len(info)"
   ]
  },
  {
   "cell_type": "code",
   "execution_count": 17,
   "metadata": {},
   "outputs": [
    {
     "name": "stderr",
     "output_type": "stream",
     "text": [
      "100%|██████████| 93/93 [1:16:49<00:00, 49.56s/it]\n"
     ]
    }
   ],
   "source": [
    "# 제품 링크 접속하기\n",
    "# 회원만 구입할 수 있는 상품이 포함되어 있어 로그인 후 크롤링\n",
    "for i in tqdm(range(len(info))):\n",
    "    info_line = info[i]\n",
    "    link = info_line[4]\n",
    "\n",
    "    driver.get(link)\n",
    "    driver.implicitly_wait(4)\n",
    "    time.sleep(0.5+random.random())\n",
    "\n",
    "    re_ = driver.find_elements(By.CLASS_NAME, \"production-selling-navigation__item\")\n",
    "    re_[1].click()\n",
    "    time.sleep(0.5+random.random()) \n",
    "\n",
    "    # 한 페이지당 5개 리뷰 \n",
    "    # 20페이지 크롤링해서 총 100개 리뷰 가져오기\n",
    "    review = []\n",
    "    first = driver.find_elements(By.CLASS_NAME, \"production-review-item__description\")\n",
    "    for i in first:\n",
    "        review.append(i.text)\n",
    "\n",
    "    for i in range(19):\n",
    "        try:\n",
    "            driver.find_elements(By.CLASS_NAME, \"_2XI47._3I7ex\")[0].click()\n",
    "            time.sleep(1.5+random.random())\n",
    "            text = driver.find_elements(By.CLASS_NAME, \"production-review-item__description\")\n",
    "            for i in text:\n",
    "                review.append(i.text)\n",
    "        except:\n",
    "            print('ERROR!!')\n",
    "            pass\n",
    "\n",
    "    info_line[5] = review\n",
    "\n"
   ]
  },
  {
   "cell_type": "code",
   "execution_count": 18,
   "metadata": {},
   "outputs": [
    {
     "data": {
      "text/html": [
       "<div>\n",
       "<style scoped>\n",
       "    .dataframe tbody tr th:only-of-type {\n",
       "        vertical-align: middle;\n",
       "    }\n",
       "\n",
       "    .dataframe tbody tr th {\n",
       "        vertical-align: top;\n",
       "    }\n",
       "\n",
       "    .dataframe thead th {\n",
       "        text-align: right;\n",
       "    }\n",
       "</style>\n",
       "<table border=\"1\" class=\"dataframe\">\n",
       "  <thead>\n",
       "    <tr style=\"text-align: right;\">\n",
       "      <th></th>\n",
       "      <th>brand</th>\n",
       "      <th>item</th>\n",
       "      <th>price</th>\n",
       "      <th>image</th>\n",
       "      <th>link</th>\n",
       "      <th>review</th>\n",
       "    </tr>\n",
       "  </thead>\n",
       "  <tbody>\n",
       "    <tr>\n",
       "      <th>0</th>\n",
       "      <td>영가구</td>\n",
       "      <td>베가 폴라 투명 접이식의자 17colors 대량구매추가할인</td>\n",
       "      <td>25,600</td>\n",
       "      <td>./static/img/kitchen/chair/chair1.png</td>\n",
       "      <td>https://ohou.se/productions/354736/selling?aff...</td>\n",
       "      <td>[자취방에 의자가 없었어서 옛날부터 사고싶던 투명의자 드디어 샀는데 이뻐요 집 꾸미...</td>\n",
       "    </tr>\n",
       "    <tr>\n",
       "      <th>1</th>\n",
       "      <td>프리메이드</td>\n",
       "      <td>에펠의자 고급형 4colors</td>\n",
       "      <td>29,900</td>\n",
       "      <td>./static/img/kitchen/chair/chair2.png</td>\n",
       "      <td>https://ohou.se/productions/125457/selling?aff...</td>\n",
       "      <td>[이사와서 베란다에 배치했는데, 사이즈도 의자 무게도 적당해서 너무 좋아요. 약하면...</td>\n",
       "    </tr>\n",
       "    <tr>\n",
       "      <th>2</th>\n",
       "      <td>끌레오</td>\n",
       "      <td>위니 식탁 의자 인테리어 포인트 카페 체어 SL084</td>\n",
       "      <td>14,600</td>\n",
       "      <td>./static/img/kitchen/chair/chair3.png</td>\n",
       "      <td>https://ohou.se/productions/201149/selling?aff...</td>\n",
       "      <td>[이사진 찾으려고 인스타 스토리 뒤졌네요ㅋㅋㅋ인테리어 넘 좋아하지만 감각은 없는1인...</td>\n",
       "    </tr>\n",
       "    <tr>\n",
       "      <th>3</th>\n",
       "      <td>로제까사</td>\n",
       "      <td>국민 에펠체어 7colors</td>\n",
       "      <td>19,500</td>\n",
       "      <td>./static/img/kitchen/chair/chair4.png</td>\n",
       "      <td>https://ohou.se/productions/24381/selling?affe...</td>\n",
       "      <td>[저는 화장대 의자로 쓰고 있어요 ㅎㅎ 좋습니당! 3년째 튼튼, 사람들이 에펠체어를...</td>\n",
       "    </tr>\n",
       "    <tr>\n",
       "      <th>4</th>\n",
       "      <td>에코상사</td>\n",
       "      <td>감성 인테리어 원목 원목 미니 원형스툴</td>\n",
       "      <td>19,900</td>\n",
       "      <td>./static/img/kitchen/chair/chair5.png</td>\n",
       "      <td>https://ohou.se/productions/343687/selling?aff...</td>\n",
       "      <td>[아기가 이제 집을 열심히 돌아다녀서 안전 고려해서 구매했어요. 아무 생각없이 상부...</td>\n",
       "    </tr>\n",
       "    <tr>\n",
       "      <th>...</th>\n",
       "      <td>...</td>\n",
       "      <td>...</td>\n",
       "      <td>...</td>\n",
       "      <td>...</td>\n",
       "      <td>...</td>\n",
       "      <td>...</td>\n",
       "    </tr>\n",
       "    <tr>\n",
       "      <th>88</th>\n",
       "      <td>보니애가구</td>\n",
       "      <td>비올렛 디자인체어 2colors</td>\n",
       "      <td>58,700</td>\n",
       "      <td>./static/img/kitchen/chair/chair92.png</td>\n",
       "      <td>https://ohou.se/productions/49198/selling?affe...</td>\n",
       "      <td>[편하고 고급스럽습니다. 완제품이라 더 맘에 들어요., 앉으면 폭,길이 다 작은 느...</td>\n",
       "    </tr>\n",
       "    <tr>\n",
       "      <th>89</th>\n",
       "      <td>로포텐</td>\n",
       "      <td>빙글빙글 원목 화장대의자 회전 화장대스툴 의자</td>\n",
       "      <td>29,800</td>\n",
       "      <td>./static/img/kitchen/chair/chair93.png</td>\n",
       "      <td>https://ohou.se/productions/182021/selling?aff...</td>\n",
       "      <td>[가격대비 너무 좋아용 바닥 끌리는 소리도 잘 안나기도하고 귀엽고 사용하는 화장대랑...</td>\n",
       "    </tr>\n",
       "    <tr>\n",
       "      <th>90</th>\n",
       "      <td>인블루가구</td>\n",
       "      <td>메탈 스툴 보조 화장대의자 부클레 디자인 체어 8colors</td>\n",
       "      <td>42,000</td>\n",
       "      <td>./static/img/kitchen/chair/chair94.png</td>\n",
       "      <td>https://ohou.se/productions/1060390/selling?af...</td>\n",
       "      <td>[생각보다 검수가 별로 안되어 오네요. 의자 바닥면에 표시위해 써놓은 분필? 같은 ...</td>\n",
       "    </tr>\n",
       "    <tr>\n",
       "      <th>91</th>\n",
       "      <td>피카소가구</td>\n",
       "      <td>(고급형) 체코 디자인 원목 카페 식탁 의자 3colors</td>\n",
       "      <td>59,500</td>\n",
       "      <td>./static/img/kitchen/chair/chair95.png</td>\n",
       "      <td>https://ohou.se/productions/279977/selling?aff...</td>\n",
       "      <td>[식탁의자 바꿨는데 상품평들이 너무 좋아서 구매했습니다. 식탁이랑 완전세트 입니다....</td>\n",
       "    </tr>\n",
       "    <tr>\n",
       "      <th>92</th>\n",
       "      <td>먼데이하우스</td>\n",
       "      <td>B체어 인테리어 식탁의자 4colors</td>\n",
       "      <td>29,900</td>\n",
       "      <td>./static/img/kitchen/chair/chair96.png</td>\n",
       "      <td>https://ohou.se/productions/945767/selling?aff...</td>\n",
       "      <td>[빠른 배송 해주셔서 감사합니다 잘 쓸게요, 앉으면 딱딱해요ㅠ 하지만 식탁과 셋트로...</td>\n",
       "    </tr>\n",
       "  </tbody>\n",
       "</table>\n",
       "<p>93 rows × 6 columns</p>\n",
       "</div>"
      ],
      "text/plain": [
       "     brand                               item   price  \\\n",
       "0      영가구   베가 폴라 투명 접이식의자 17colors 대량구매추가할인  25,600   \n",
       "1    프리메이드                   에펠의자 고급형 4colors  29,900   \n",
       "2      끌레오      위니 식탁 의자 인테리어 포인트 카페 체어 SL084  14,600   \n",
       "3     로제까사                    국민 에펠체어 7colors  19,500   \n",
       "4     에코상사              감성 인테리어 원목 원목 미니 원형스툴  19,900   \n",
       "..     ...                                ...     ...   \n",
       "88   보니애가구                  비올렛 디자인체어 2colors  58,700   \n",
       "89     로포텐          빙글빙글 원목 화장대의자 회전 화장대스툴 의자  29,800   \n",
       "90   인블루가구  메탈 스툴 보조 화장대의자 부클레 디자인 체어 8colors  42,000   \n",
       "91   피카소가구   (고급형) 체코 디자인 원목 카페 식탁 의자 3colors  59,500   \n",
       "92  먼데이하우스              B체어 인테리어 식탁의자 4colors  29,900   \n",
       "\n",
       "                                     image  \\\n",
       "0    ./static/img/kitchen/chair/chair1.png   \n",
       "1    ./static/img/kitchen/chair/chair2.png   \n",
       "2    ./static/img/kitchen/chair/chair3.png   \n",
       "3    ./static/img/kitchen/chair/chair4.png   \n",
       "4    ./static/img/kitchen/chair/chair5.png   \n",
       "..                                     ...   \n",
       "88  ./static/img/kitchen/chair/chair92.png   \n",
       "89  ./static/img/kitchen/chair/chair93.png   \n",
       "90  ./static/img/kitchen/chair/chair94.png   \n",
       "91  ./static/img/kitchen/chair/chair95.png   \n",
       "92  ./static/img/kitchen/chair/chair96.png   \n",
       "\n",
       "                                                 link  \\\n",
       "0   https://ohou.se/productions/354736/selling?aff...   \n",
       "1   https://ohou.se/productions/125457/selling?aff...   \n",
       "2   https://ohou.se/productions/201149/selling?aff...   \n",
       "3   https://ohou.se/productions/24381/selling?affe...   \n",
       "4   https://ohou.se/productions/343687/selling?aff...   \n",
       "..                                                ...   \n",
       "88  https://ohou.se/productions/49198/selling?affe...   \n",
       "89  https://ohou.se/productions/182021/selling?aff...   \n",
       "90  https://ohou.se/productions/1060390/selling?af...   \n",
       "91  https://ohou.se/productions/279977/selling?aff...   \n",
       "92  https://ohou.se/productions/945767/selling?aff...   \n",
       "\n",
       "                                               review  \n",
       "0   [자취방에 의자가 없었어서 옛날부터 사고싶던 투명의자 드디어 샀는데 이뻐요 집 꾸미...  \n",
       "1   [이사와서 베란다에 배치했는데, 사이즈도 의자 무게도 적당해서 너무 좋아요. 약하면...  \n",
       "2   [이사진 찾으려고 인스타 스토리 뒤졌네요ㅋㅋㅋ인테리어 넘 좋아하지만 감각은 없는1인...  \n",
       "3   [저는 화장대 의자로 쓰고 있어요 ㅎㅎ 좋습니당! 3년째 튼튼, 사람들이 에펠체어를...  \n",
       "4   [아기가 이제 집을 열심히 돌아다녀서 안전 고려해서 구매했어요. 아무 생각없이 상부...  \n",
       "..                                                ...  \n",
       "88  [편하고 고급스럽습니다. 완제품이라 더 맘에 들어요., 앉으면 폭,길이 다 작은 느...  \n",
       "89  [가격대비 너무 좋아용 바닥 끌리는 소리도 잘 안나기도하고 귀엽고 사용하는 화장대랑...  \n",
       "90  [생각보다 검수가 별로 안되어 오네요. 의자 바닥면에 표시위해 써놓은 분필? 같은 ...  \n",
       "91  [식탁의자 바꿨는데 상품평들이 너무 좋아서 구매했습니다. 식탁이랑 완전세트 입니다....  \n",
       "92  [빠른 배송 해주셔서 감사합니다 잘 쓸게요, 앉으면 딱딱해요ㅠ 하지만 식탁과 셋트로...  \n",
       "\n",
       "[93 rows x 6 columns]"
      ]
     },
     "execution_count": 18,
     "metadata": {},
     "output_type": "execute_result"
    }
   ],
   "source": [
    "chair = pd.DataFrame(info, columns=['brand', 'item', 'price', 'image', 'link', 'review'])\n",
    "chair"
   ]
  },
  {
   "cell_type": "code",
   "execution_count": 19,
   "metadata": {},
   "outputs": [],
   "source": [
    "chair.to_csv('chair.csv')"
   ]
  },
  {
   "cell_type": "markdown",
   "metadata": {},
   "source": [
    "---"
   ]
  },
  {
   "cell_type": "markdown",
   "metadata": {},
   "source": [
    "### 3) 렌지대"
   ]
  },
  {
   "cell_type": "code",
   "execution_count": 20,
   "metadata": {},
   "outputs": [],
   "source": [
    "# 사이트 열기\n",
    "driver.get('https://ohou.se/store/category?category_id=10270022')\n",
    "driver.implicitly_wait(10)\n",
    "time.sleep(3)\n",
    "\n",
    "# 리뷰많은순으로 변경\n",
    "pre_order = driver.find_element(By.CLASS_NAME, \"category-filter-bar-order-button\").click()\n",
    "time.sleep(0.5+random.random())\n",
    "\n",
    "order_ = driver.find_elements(By.CLASS_NAME, \"property-filter-panel-entry-list__item__title\")\n",
    "order_[-3].click()\n",
    "time.sleep(0.5+random.random())"
   ]
  },
  {
   "cell_type": "code",
   "execution_count": 21,
   "metadata": {},
   "outputs": [
    {
     "name": "stderr",
     "output_type": "stream",
     "text": [
      "  0%|          | 0/20 [00:00<?, ?it/s]"
     ]
    },
    {
     "name": "stdout",
     "output_type": "stream",
     "text": [
      "15 개 데이터 가져옴....\n"
     ]
    },
    {
     "name": "stderr",
     "output_type": "stream",
     "text": [
      "  5%|▌         | 1/20 [00:06<01:57,  6.20s/it]"
     ]
    },
    {
     "name": "stdout",
     "output_type": "stream",
     "text": [
      "21 개 데이터 가져옴....\n"
     ]
    },
    {
     "name": "stderr",
     "output_type": "stream",
     "text": [
      " 10%|█         | 2/20 [00:12<01:55,  6.41s/it]"
     ]
    },
    {
     "name": "stdout",
     "output_type": "stream",
     "text": [
      "21 개 데이터 가져옴....\n"
     ]
    },
    {
     "name": "stderr",
     "output_type": "stream",
     "text": [
      " 15%|█▌        | 3/20 [00:19<01:49,  6.45s/it]"
     ]
    },
    {
     "name": "stdout",
     "output_type": "stream",
     "text": [
      "24 개 데이터 가져옴....\n"
     ]
    },
    {
     "name": "stderr",
     "output_type": "stream",
     "text": [
      " 20%|██        | 4/20 [00:26<01:45,  6.61s/it]"
     ]
    },
    {
     "name": "stdout",
     "output_type": "stream",
     "text": [
      "24 개 데이터 가져옴....\n"
     ]
    },
    {
     "name": "stderr",
     "output_type": "stream",
     "text": [
      " 25%|██▌       | 5/20 [00:32<01:37,  6.49s/it]"
     ]
    },
    {
     "name": "stdout",
     "output_type": "stream",
     "text": [
      "24 개 데이터 가져옴....\n"
     ]
    },
    {
     "name": "stderr",
     "output_type": "stream",
     "text": [
      " 30%|███       | 6/20 [00:38<01:29,  6.43s/it]"
     ]
    },
    {
     "name": "stdout",
     "output_type": "stream",
     "text": [
      "24 개 데이터 가져옴....\n"
     ]
    },
    {
     "name": "stderr",
     "output_type": "stream",
     "text": [
      " 35%|███▌      | 7/20 [00:45<01:23,  6.40s/it]"
     ]
    },
    {
     "name": "stdout",
     "output_type": "stream",
     "text": [
      "24 개 데이터 가져옴....\n"
     ]
    },
    {
     "name": "stderr",
     "output_type": "stream",
     "text": [
      " 40%|████      | 8/20 [00:51<01:15,  6.32s/it]"
     ]
    },
    {
     "name": "stdout",
     "output_type": "stream",
     "text": [
      "24 개 데이터 가져옴....\n"
     ]
    },
    {
     "name": "stderr",
     "output_type": "stream",
     "text": [
      " 45%|████▌     | 9/20 [00:58<01:12,  6.62s/it]"
     ]
    },
    {
     "name": "stdout",
     "output_type": "stream",
     "text": [
      "21 개 데이터 가져옴....\n"
     ]
    },
    {
     "name": "stderr",
     "output_type": "stream",
     "text": [
      " 50%|█████     | 10/20 [01:05<01:07,  6.72s/it]"
     ]
    },
    {
     "name": "stdout",
     "output_type": "stream",
     "text": [
      "24 개 데이터 가져옴....\n"
     ]
    },
    {
     "name": "stderr",
     "output_type": "stream",
     "text": [
      " 55%|█████▌    | 11/20 [01:12<01:02,  6.91s/it]"
     ]
    },
    {
     "name": "stdout",
     "output_type": "stream",
     "text": [
      "27 개 데이터 가져옴....\n"
     ]
    },
    {
     "name": "stderr",
     "output_type": "stream",
     "text": [
      " 60%|██████    | 12/20 [01:20<00:56,  7.11s/it]"
     ]
    },
    {
     "name": "stdout",
     "output_type": "stream",
     "text": [
      "24 개 데이터 가져옴....\n"
     ]
    },
    {
     "name": "stderr",
     "output_type": "stream",
     "text": [
      " 65%|██████▌   | 13/20 [01:27<00:50,  7.17s/it]"
     ]
    },
    {
     "name": "stdout",
     "output_type": "stream",
     "text": [
      "24 개 데이터 가져옴....\n"
     ]
    },
    {
     "name": "stderr",
     "output_type": "stream",
     "text": [
      " 70%|███████   | 14/20 [01:34<00:42,  7.14s/it]"
     ]
    },
    {
     "name": "stdout",
     "output_type": "stream",
     "text": [
      "27 개 데이터 가져옴....\n"
     ]
    },
    {
     "name": "stderr",
     "output_type": "stream",
     "text": [
      " 75%|███████▌  | 15/20 [01:41<00:35,  7.07s/it]"
     ]
    },
    {
     "name": "stdout",
     "output_type": "stream",
     "text": [
      "24 개 데이터 가져옴....\n"
     ]
    },
    {
     "name": "stderr",
     "output_type": "stream",
     "text": [
      " 80%|████████  | 16/20 [01:48<00:28,  7.15s/it]"
     ]
    },
    {
     "name": "stdout",
     "output_type": "stream",
     "text": [
      "21 개 데이터 가져옴....\n"
     ]
    },
    {
     "name": "stderr",
     "output_type": "stream",
     "text": [
      " 85%|████████▌ | 17/20 [01:55<00:21,  7.10s/it]"
     ]
    },
    {
     "name": "stdout",
     "output_type": "stream",
     "text": [
      "24 개 데이터 가져옴....\n"
     ]
    },
    {
     "name": "stderr",
     "output_type": "stream",
     "text": [
      " 90%|█████████ | 18/20 [02:03<00:14,  7.18s/it]"
     ]
    },
    {
     "name": "stdout",
     "output_type": "stream",
     "text": [
      "27 개 데이터 가져옴....\n"
     ]
    },
    {
     "name": "stderr",
     "output_type": "stream",
     "text": [
      " 95%|█████████▌| 19/20 [02:10<00:07,  7.30s/it]"
     ]
    },
    {
     "name": "stdout",
     "output_type": "stream",
     "text": [
      "24 개 데이터 가져옴....\n"
     ]
    },
    {
     "name": "stderr",
     "output_type": "stream",
     "text": [
      "100%|██████████| 20/20 [02:18<00:00,  6.92s/it]\n"
     ]
    }
   ],
   "source": [
    "info = []\n",
    "\n",
    "ffffa = 0\n",
    "# 스크롤 내리기\n",
    "def scroll():\n",
    "\n",
    "    global ffffa\n",
    "    ffffa += 600 \n",
    "    driver.execute_script(\"window.scrollTo(0, \"+ str(ffffa) + \")\")\n",
    "\n",
    "# 제목 : [브랜드, 제목, 가격, 이미지위치]\n",
    "# 스크롤을 조금씩 내리면서 가져오기 때문에 데이터 중복 가능\n",
    "# 데이터 중복 제거하기 위해 제목은 중복안되니까 제목을 key로 지정 \n",
    "data = {}\n",
    "\n",
    "# 스크롤 조금씩 내리면서 데이터 가져오기\n",
    "for page in tqdm(range(20)):\n",
    "    scroll()\n",
    "    time.sleep(5)\n",
    "\n",
    "    # 브랜드, 상품명, 가격, 이미지 경로, 제품 링크\n",
    "    brands =  driver.find_elements(By.CLASS_NAME, \"production-item__header__brand\")\n",
    "    names =  driver.find_elements(By.CLASS_NAME, \"production-item__header__name\")\n",
    "    prices = driver.find_elements(By.CLASS_NAME, \"production-item-price__price\")\n",
    "    srcs=  driver.find_elements(By.CLASS_NAME, \"image\")\n",
    "    links =  driver.find_elements(By.CLASS_NAME, \"production-item__overlay\")\n",
    "\n",
    "    amount= len(brands)\n",
    "    print(amount ,\"개 데이터 가져옴....\")\n",
    "    \n",
    "    for i in range(amount):\n",
    "        # 브랜드\n",
    "        brand = brands[i].text\n",
    "\n",
    "        # 상품명\n",
    "        name = names[i].text\n",
    "        name = re.sub(r'\\[.*?\\]', '', name)\n",
    "\n",
    "        # 가격\n",
    "        price = prices[i].text\n",
    "\n",
    "        # 이미지 경로\n",
    "        src = srcs[i].get_attribute('src')\n",
    "\n",
    "        # 제품 링크\n",
    "        link = links[i].get_attribute(\"href\")\n",
    "\n",
    "        data[name] = [brand, name, price, src, link]\n"
   ]
  },
  {
   "cell_type": "code",
   "execution_count": 22,
   "metadata": {},
   "outputs": [
    {
     "data": {
      "text/plain": [
       "105"
      ]
     },
     "execution_count": 22,
     "metadata": {},
     "output_type": "execute_result"
    }
   ],
   "source": [
    "result_amount = len(data.keys())\n",
    "result_amount"
   ]
  },
  {
   "cell_type": "code",
   "execution_count": 23,
   "metadata": {},
   "outputs": [
    {
     "name": "stderr",
     "output_type": "stream",
     "text": [
      "  1%|          | 1/105 [00:01<03:16,  1.89s/it]"
     ]
    },
    {
     "name": "stdout",
     "output_type": "stream",
     "text": [
      "https://image.ohou.se/i/bucketplace-v2-development/uploads/productions/165478976553242384.jpg?gif=1&w=360&h=360&c=c&q=0.8&webp=1\n"
     ]
    },
    {
     "name": "stderr",
     "output_type": "stream",
     "text": [
      "  2%|▏         | 2/105 [00:03<03:14,  1.89s/it]"
     ]
    },
    {
     "name": "stdout",
     "output_type": "stream",
     "text": [
      "https://image.ohou.se/i/bucketplace-v2-development/uploads/productions/169452302913657911.jpg?gif=1&w=360&h=360&c=c&q=0.8&webp=1\n"
     ]
    },
    {
     "name": "stderr",
     "output_type": "stream",
     "text": [
      "  3%|▎         | 3/105 [00:05<03:26,  2.02s/it]"
     ]
    },
    {
     "name": "stdout",
     "output_type": "stream",
     "text": [
      "https://image.ohou.se/i/bucketplace-v2-development/uploads/productions/169452172924477985.jpg?gif=1&w=360&h=360&c=c&q=0.8&webp=1\n"
     ]
    },
    {
     "name": "stderr",
     "output_type": "stream",
     "text": [
      "  4%|▍         | 4/105 [00:08<03:26,  2.04s/it]"
     ]
    },
    {
     "name": "stdout",
     "output_type": "stream",
     "text": [
      "https://image.ohou.se/i/bucketplace-v2-development/uploads/productions/169452233299414279.jpg?gif=1&w=360&h=360&c=c&q=0.8&webp=1\n",
      "https://image.ohou.se/i/bucketplace-v2-development/uploads/productions/1527233957703_wra2Gzk.jpg?gif=1&w=360&h=360&c=c&q=0.8&webp=1\n"
     ]
    },
    {
     "name": "stderr",
     "output_type": "stream",
     "text": [
      "  6%|▌         | 6/105 [00:13<04:00,  2.43s/it]"
     ]
    },
    {
     "name": "stdout",
     "output_type": "stream",
     "text": [
      "https://image.ohou.se/i/bucketplace-v2-development/uploads/productions/166624234077164330.jpg?gif=1&w=360&h=360&c=c&q=0.8&webp=1\n"
     ]
    },
    {
     "name": "stderr",
     "output_type": "stream",
     "text": [
      "  7%|▋         | 7/105 [00:16<03:54,  2.39s/it]"
     ]
    },
    {
     "name": "stdout",
     "output_type": "stream",
     "text": [
      "https://image.ohou.se/i/bucketplace-v2-development/uploads/productions/163645080631325511.jpg?gif=1&w=360&h=360&c=c&q=0.8&webp=1\n"
     ]
    },
    {
     "name": "stderr",
     "output_type": "stream",
     "text": [
      "  8%|▊         | 8/105 [00:19<04:29,  2.78s/it]"
     ]
    },
    {
     "name": "stdout",
     "output_type": "stream",
     "text": [
      "https://image.ohou.se/i/bucketplace-v2-development/uploads/productions/1551855488300_UIeXGlvX.jpg?gif=1&w=360&h=360&c=c&q=0.8&webp=1\n"
     ]
    },
    {
     "name": "stderr",
     "output_type": "stream",
     "text": [
      "  9%|▊         | 9/105 [00:21<03:55,  2.45s/it]"
     ]
    },
    {
     "name": "stdout",
     "output_type": "stream",
     "text": [
      "https://image.ohou.se/i/bucketplace-v2-development/uploads/openapi/814499/1657786018375.jpg?gif=1&w=360&h=360&c=c&q=0.8&webp=1\n"
     ]
    },
    {
     "name": "stderr",
     "output_type": "stream",
     "text": [
      " 10%|▉         | 10/105 [00:23<03:26,  2.17s/it]"
     ]
    },
    {
     "name": "stdout",
     "output_type": "stream",
     "text": [
      "https://image.ohou.se/i/bucketplace-v2-development/uploads/productions/156453754953379638.jpg?gif=1&w=360&h=360&c=c&q=0.8&webp=1\n"
     ]
    },
    {
     "name": "stderr",
     "output_type": "stream",
     "text": [
      " 10%|█         | 11/105 [00:24<03:18,  2.11s/it]"
     ]
    },
    {
     "name": "stdout",
     "output_type": "stream",
     "text": [
      "https://image.ohou.se/i/bucketplace-v2-development/uploads/productions/1530774696932_GAxfeuO.jpg?gif=1&w=360&h=360&c=c&q=0.8&webp=1\n"
     ]
    },
    {
     "name": "stderr",
     "output_type": "stream",
     "text": [
      " 11%|█▏        | 12/105 [00:25<02:40,  1.73s/it]"
     ]
    },
    {
     "name": "stdout",
     "output_type": "stream",
     "text": [
      "https://image.ohou.se/i/bucketplace-v2-development/uploads/productions/168627042774691046.jpg?gif=1&w=360&h=360&c=c&q=0.8&webp=1\n"
     ]
    },
    {
     "name": "stderr",
     "output_type": "stream",
     "text": [
      " 12%|█▏        | 13/105 [00:27<02:33,  1.67s/it]"
     ]
    },
    {
     "name": "stdout",
     "output_type": "stream",
     "text": [
      "https://image.ohou.se/i/bucketplace-v2-development/uploads/productions/169277100573594052.jpg?gif=1&w=360&h=360&c=c&q=0.8&webp=1\n"
     ]
    },
    {
     "name": "stderr",
     "output_type": "stream",
     "text": [
      " 13%|█▎        | 14/105 [00:29<02:35,  1.71s/it]"
     ]
    },
    {
     "name": "stdout",
     "output_type": "stream",
     "text": [
      "https://image.ohou.se/i/bucketplace-v2-development/uploads/openapi/814499/1657785442989.jpg?gif=1&w=360&h=360&c=c&q=0.8&webp=1\n"
     ]
    },
    {
     "name": "stderr",
     "output_type": "stream",
     "text": [
      " 14%|█▍        | 15/105 [00:30<02:11,  1.46s/it]"
     ]
    },
    {
     "name": "stdout",
     "output_type": "stream",
     "text": [
      "https://image.ohou.se/i/bucketplace-v2-development/uploads/productions/1589274422_115040_1.jpg?gif=1&w=360&h=360&c=c&q=0.8&webp=1\n"
     ]
    },
    {
     "name": "stderr",
     "output_type": "stream",
     "text": [
      " 15%|█▌        | 16/105 [00:31<02:10,  1.46s/it]"
     ]
    },
    {
     "name": "stdout",
     "output_type": "stream",
     "text": [
      "https://image.ohou.se/i/bucketplace-v2-development/uploads/productions/160438330565866444.jpg?gif=1&w=360&h=360&c=c&q=0.8&webp=1\n"
     ]
    },
    {
     "name": "stderr",
     "output_type": "stream",
     "text": [
      " 16%|█▌        | 17/105 [00:33<02:21,  1.61s/it]"
     ]
    },
    {
     "name": "stdout",
     "output_type": "stream",
     "text": [
      "https://image.ohou.se/i/bucketplace-v2-development/uploads/productions/163696644941861915.jpg?gif=1&w=360&h=360&c=c&q=0.8&webp=1\n"
     ]
    },
    {
     "name": "stderr",
     "output_type": "stream",
     "text": [
      " 17%|█▋        | 18/105 [00:34<02:07,  1.46s/it]"
     ]
    },
    {
     "name": "stdout",
     "output_type": "stream",
     "text": [
      "https://image.ohou.se/i/bucketplace-v2-development/uploads/productions/165479251973166393.jpg?gif=1&w=360&h=360&c=c&q=0.8&webp=1\n"
     ]
    },
    {
     "name": "stderr",
     "output_type": "stream",
     "text": [
      " 18%|█▊        | 19/105 [00:36<02:05,  1.45s/it]"
     ]
    },
    {
     "name": "stdout",
     "output_type": "stream",
     "text": [
      "https://image.ohou.se/i/bucketplace-v2-development/uploads/productions/1544143601580_E.jpg?gif=1&w=360&h=360&c=c&q=0.8&webp=1\n"
     ]
    },
    {
     "name": "stderr",
     "output_type": "stream",
     "text": [
      " 19%|█▉        | 20/105 [00:37<02:12,  1.56s/it]"
     ]
    },
    {
     "name": "stdout",
     "output_type": "stream",
     "text": [
      "https://image.ohou.se/i/bucketplace-v2-development/uploads/productions/163548853154227918.jpg?gif=1&w=360&h=360&c=c&q=0.8&webp=1\n"
     ]
    },
    {
     "name": "stderr",
     "output_type": "stream",
     "text": [
      " 20%|██        | 21/105 [00:39<02:10,  1.56s/it]"
     ]
    },
    {
     "name": "stdout",
     "output_type": "stream",
     "text": [
      "https://image.ohou.se/i/bucketplace-v2-development/uploads/productions/158986918186195559.jpg?gif=1&w=360&h=360&c=c&q=0.8&webp=1\n"
     ]
    },
    {
     "name": "stderr",
     "output_type": "stream",
     "text": [
      " 21%|██        | 22/105 [00:40<01:51,  1.34s/it]"
     ]
    },
    {
     "name": "stdout",
     "output_type": "stream",
     "text": [
      "https://image.ohou.se/i/bucketplace-v2-development/uploads/productions/167419611847158996.jpg?gif=1&w=360&h=360&c=c&q=0.8&webp=1\n"
     ]
    },
    {
     "name": "stderr",
     "output_type": "stream",
     "text": [
      " 22%|██▏       | 23/105 [00:41<01:39,  1.22s/it]"
     ]
    },
    {
     "name": "stdout",
     "output_type": "stream",
     "text": [
      "https://image.ohou.se/i/bucketplace-v2-development/uploads/productions/162312738496775918.jpg?gif=1&w=360&h=360&c=c&q=0.8&webp=1\n"
     ]
    },
    {
     "name": "stderr",
     "output_type": "stream",
     "text": [
      " 23%|██▎       | 24/105 [00:42<01:46,  1.31s/it]"
     ]
    },
    {
     "name": "stdout",
     "output_type": "stream",
     "text": [
      "https://image.ohou.se/i/bucketplace-v2-development/uploads/productions/158711609184598935.jpg?gif=1&w=360&h=360&c=c&q=0.8&webp=1\n"
     ]
    },
    {
     "name": "stderr",
     "output_type": "stream",
     "text": [
      " 24%|██▍       | 25/105 [00:44<01:52,  1.41s/it]"
     ]
    },
    {
     "name": "stdout",
     "output_type": "stream",
     "text": [
      "https://image.ohou.se/i/bucketplace-v2-development/uploads/productions/162495356195132903.jpg?gif=1&w=360&h=360&c=c&q=0.8&webp=1\n"
     ]
    },
    {
     "name": "stderr",
     "output_type": "stream",
     "text": [
      " 25%|██▍       | 26/105 [00:47<02:30,  1.91s/it]"
     ]
    },
    {
     "name": "stdout",
     "output_type": "stream",
     "text": [
      "https://image.ohou.se/i/bucketplace-v2-development/uploads%2Fproductions%2F1490595809280_mTmUOmUOAt.jpg?gif=1&w=360&h=360&c=c&q=0.8&webp=1\n"
     ]
    },
    {
     "name": "stderr",
     "output_type": "stream",
     "text": [
      " 26%|██▌       | 27/105 [00:48<02:19,  1.79s/it]"
     ]
    },
    {
     "name": "stdout",
     "output_type": "stream",
     "text": [
      "https://image.ohou.se/i/bucketplace-v2-development/uploads/productions/159659441476188585.jpeg?gif=1&w=360&h=360&c=c&q=0.8&webp=1\n"
     ]
    },
    {
     "name": "stderr",
     "output_type": "stream",
     "text": [
      " 27%|██▋       | 28/105 [00:49<01:57,  1.52s/it]"
     ]
    },
    {
     "name": "stdout",
     "output_type": "stream",
     "text": [
      "https://image.ohou.se/i/bucketplace-v2-development/uploads/productions/162259998193107122.jpg?gif=1&w=360&h=360&c=c&q=0.8&webp=1\n"
     ]
    },
    {
     "name": "stderr",
     "output_type": "stream",
     "text": [
      " 28%|██▊       | 29/105 [00:51<01:52,  1.48s/it]"
     ]
    },
    {
     "name": "stdout",
     "output_type": "stream",
     "text": [
      "https://image.ohou.se/i/bucketplace-v2-development/uploads/productions/166209402421491681.jpg?gif=1&w=360&h=360&c=c&q=0.8&webp=1\n"
     ]
    },
    {
     "name": "stderr",
     "output_type": "stream",
     "text": [
      " 29%|██▊       | 30/105 [00:52<01:58,  1.57s/it]"
     ]
    },
    {
     "name": "stdout",
     "output_type": "stream",
     "text": [
      "https://image.ohou.se/i/bucketplace-v2-development/uploads/productions/161466888239484871.jpg?gif=1&w=360&h=360&c=c&q=0.8&webp=1\n"
     ]
    },
    {
     "name": "stderr",
     "output_type": "stream",
     "text": [
      " 30%|██▉       | 31/105 [00:54<01:56,  1.57s/it]"
     ]
    },
    {
     "name": "stdout",
     "output_type": "stream",
     "text": [
      "https://image.ohou.se/i/bucketplace-v2-development/uploads/openapi/814499/1657786011838.jpg?gif=1&w=360&h=360&c=c&q=0.8&webp=1\n"
     ]
    },
    {
     "name": "stderr",
     "output_type": "stream",
     "text": [
      " 30%|███       | 32/105 [00:58<02:40,  2.20s/it]"
     ]
    },
    {
     "name": "stdout",
     "output_type": "stream",
     "text": [
      "https://image.ohou.se/i/bucketplace-v2-development/uploads/openapi/814499/1667970168023.jpg?gif=1&w=360&h=360&c=c&q=0.8&webp=1\n"
     ]
    },
    {
     "name": "stderr",
     "output_type": "stream",
     "text": [
      " 31%|███▏      | 33/105 [01:00<02:48,  2.34s/it]"
     ]
    },
    {
     "name": "stdout",
     "output_type": "stream",
     "text": [
      "https://image.ohou.se/i/bucketplace-v2-development/uploads/openapi/814499/1667974879608.jpg?gif=1&w=360&h=360&c=c&q=0.8&webp=1\n"
     ]
    },
    {
     "name": "stderr",
     "output_type": "stream",
     "text": [
      " 32%|███▏      | 34/105 [01:03<02:48,  2.38s/it]"
     ]
    },
    {
     "name": "stdout",
     "output_type": "stream",
     "text": [
      "https://image.ohou.se/i/bucketplace-v2-development/uploads/productions/166140608226510490.jpg?gif=1&w=360&h=360&c=c&q=0.8&webp=1\n"
     ]
    },
    {
     "name": "stderr",
     "output_type": "stream",
     "text": [
      " 33%|███▎      | 35/105 [01:05<02:33,  2.19s/it]"
     ]
    },
    {
     "name": "stdout",
     "output_type": "stream",
     "text": [
      "https://image.ohou.se/i/bucketplace-v2-development/uploads/productions/164868560081655871.jpg?gif=1&w=360&h=360&c=c&q=0.8&webp=1\n"
     ]
    },
    {
     "name": "stderr",
     "output_type": "stream",
     "text": [
      " 34%|███▍      | 36/105 [01:07<02:34,  2.24s/it]"
     ]
    },
    {
     "name": "stdout",
     "output_type": "stream",
     "text": [
      "https://image.ohou.se/i/bucketplace-v2-development/uploads/productions/168188376077488346.jpg?gif=1&w=360&h=360&c=c&q=0.8&webp=1\n"
     ]
    },
    {
     "name": "stderr",
     "output_type": "stream",
     "text": [
      " 35%|███▌      | 37/105 [01:10<02:40,  2.37s/it]"
     ]
    },
    {
     "name": "stdout",
     "output_type": "stream",
     "text": [
      "https://image.ohou.se/i/bucketplace-v2-development/uploads/productions/169277087783652561.jpg?gif=1&w=360&h=360&c=c&q=0.8&webp=1\n"
     ]
    },
    {
     "name": "stderr",
     "output_type": "stream",
     "text": [
      " 36%|███▌      | 38/105 [01:11<02:21,  2.11s/it]"
     ]
    },
    {
     "name": "stdout",
     "output_type": "stream",
     "text": [
      "https://image.ohou.se/i/bucketplace-v2-development/uploads/productions/162121908399135726.jpg?gif=1&w=360&h=360&c=c&q=0.8&webp=1\n"
     ]
    },
    {
     "name": "stderr",
     "output_type": "stream",
     "text": [
      " 37%|███▋      | 39/105 [01:13<02:18,  2.09s/it]"
     ]
    },
    {
     "name": "stdout",
     "output_type": "stream",
     "text": [
      "https://image.ohou.se/i/bucketplace-v2-development/uploads/productions/160082646040137992.jpg?gif=1&w=360&h=360&c=c&q=0.8&webp=1\n"
     ]
    },
    {
     "name": "stderr",
     "output_type": "stream",
     "text": [
      " 38%|███▊      | 40/105 [01:16<02:37,  2.43s/it]"
     ]
    },
    {
     "name": "stdout",
     "output_type": "stream",
     "text": [
      "https://image.ohou.se/i/bucketplace-v2-development/uploads/productions/159063125477617973.jpg?gif=1&w=360&h=360&c=c&q=0.8&webp=1\n"
     ]
    },
    {
     "name": "stderr",
     "output_type": "stream",
     "text": [
      " 39%|███▉      | 41/105 [01:18<02:25,  2.27s/it]"
     ]
    },
    {
     "name": "stdout",
     "output_type": "stream",
     "text": [
      "https://image.ohou.se/i/bucketplace-v2-development/uploads/productions/163298079639985667.jpg?gif=1&w=360&h=360&c=c&q=0.8&webp=1\n"
     ]
    },
    {
     "name": "stderr",
     "output_type": "stream",
     "text": [
      " 40%|████      | 42/105 [01:20<02:09,  2.05s/it]"
     ]
    },
    {
     "name": "stdout",
     "output_type": "stream",
     "text": [
      "https://image.ohou.se/i/bucketplace-v2-development/uploads/productions/164333930514226842.jpg?gif=1&w=360&h=360&c=c&q=0.8&webp=1\n"
     ]
    },
    {
     "name": "stderr",
     "output_type": "stream",
     "text": [
      " 41%|████      | 43/105 [01:22<02:01,  1.96s/it]"
     ]
    },
    {
     "name": "stdout",
     "output_type": "stream",
     "text": [
      "https://image.ohou.se/i/bucketplace-v2-development/uploads/productions/159099622981395007.jpg?gif=1&w=360&h=360&c=c&q=0.8&webp=1\n"
     ]
    },
    {
     "name": "stderr",
     "output_type": "stream",
     "text": [
      " 42%|████▏     | 44/105 [01:24<02:01,  1.99s/it]"
     ]
    },
    {
     "name": "stdout",
     "output_type": "stream",
     "text": [
      "https://image.ohou.se/i/bucketplace-v2-development/uploads/openapi/814499/1657785437982.jpg?gif=1&w=360&h=360&c=c&q=0.8&webp=1\n"
     ]
    },
    {
     "name": "stderr",
     "output_type": "stream",
     "text": [
      " 43%|████▎     | 45/105 [01:26<01:58,  1.98s/it]"
     ]
    },
    {
     "name": "stdout",
     "output_type": "stream",
     "text": [
      "https://image.ohou.se/i/bucketplace-v2-development/uploads/productions/159900585132640310.jpg?gif=1&w=360&h=360&c=c&q=0.8&webp=1\n"
     ]
    },
    {
     "name": "stderr",
     "output_type": "stream",
     "text": [
      " 44%|████▍     | 46/105 [01:27<01:46,  1.80s/it]"
     ]
    },
    {
     "name": "stdout",
     "output_type": "stream",
     "text": [
      "https://image.ohou.se/i/bucketplace-v2-development/uploads/openapi/3886323/1687856531391.jpg?gif=1&w=360&h=360&c=c&q=0.8&webp=1\n"
     ]
    },
    {
     "name": "stderr",
     "output_type": "stream",
     "text": [
      " 45%|████▍     | 47/105 [01:29<01:48,  1.88s/it]"
     ]
    },
    {
     "name": "stdout",
     "output_type": "stream",
     "text": [
      "https://image.ohou.se/i/bucketplace-v2-development/uploads/productions/162373294314283598.jpg?gif=1&w=360&h=360&c=c&q=0.8&webp=1\n"
     ]
    },
    {
     "name": "stderr",
     "output_type": "stream",
     "text": [
      " 46%|████▌     | 48/105 [01:31<01:40,  1.76s/it]"
     ]
    },
    {
     "name": "stdout",
     "output_type": "stream",
     "text": [
      "https://image.ohou.se/i/bucketplace-v2-development/uploads/productions/164057329676515797.jpg?gif=1&w=360&h=360&c=c&q=0.8&webp=1\n"
     ]
    },
    {
     "name": "stderr",
     "output_type": "stream",
     "text": [
      " 47%|████▋     | 49/105 [01:33<01:45,  1.88s/it]"
     ]
    },
    {
     "name": "stdout",
     "output_type": "stream",
     "text": [
      "https://image.ohou.se/i/bucketplace-v2-development/uploads/productions/161951304691500152.jpg?gif=1&w=360&h=360&c=c&q=0.8&webp=1\n"
     ]
    },
    {
     "name": "stderr",
     "output_type": "stream",
     "text": [
      " 48%|████▊     | 50/105 [01:35<01:43,  1.89s/it]"
     ]
    },
    {
     "name": "stdout",
     "output_type": "stream",
     "text": [
      "https://image.ohou.se/i/bucketplace-v2-development/uploads/productions/166329513116862083.jpg?gif=1&w=360&h=360&c=c&q=0.8&webp=1\n"
     ]
    },
    {
     "name": "stderr",
     "output_type": "stream",
     "text": [
      " 49%|████▊     | 51/105 [01:36<01:32,  1.71s/it]"
     ]
    },
    {
     "name": "stdout",
     "output_type": "stream",
     "text": [
      "https://image.ohou.se/i/bucketplace-v2-development/uploads/productions/168732711437603212.jpg?gif=1&w=360&h=360&c=c&q=0.8&webp=1\n"
     ]
    },
    {
     "name": "stderr",
     "output_type": "stream",
     "text": [
      " 50%|████▉     | 52/105 [01:38<01:35,  1.80s/it]"
     ]
    },
    {
     "name": "stdout",
     "output_type": "stream",
     "text": [
      "https://image.ohou.se/i/bucketplace-v2-development/uploads/productions/1601212507_118525_1.jpg?gif=1&w=360&h=360&c=c&q=0.8&webp=1\n"
     ]
    },
    {
     "name": "stderr",
     "output_type": "stream",
     "text": [
      " 50%|█████     | 53/105 [01:39<01:29,  1.72s/it]"
     ]
    },
    {
     "name": "stdout",
     "output_type": "stream",
     "text": [
      "https://image.ohou.se/i/bucketplace-v2-development/uploads/productions/1589374751_116349_1.jpg?gif=1&w=360&h=360&c=c&q=0.8&webp=1\n"
     ]
    },
    {
     "name": "stderr",
     "output_type": "stream",
     "text": [
      " 51%|█████▏    | 54/105 [01:41<01:27,  1.71s/it]"
     ]
    },
    {
     "name": "stdout",
     "output_type": "stream",
     "text": [
      "https://image.ohou.se/i/bucketplace-v2-development/uploads/productions/169113770524581088.jpg?gif=1&w=360&h=360&c=c&q=0.8&webp=1\n"
     ]
    },
    {
     "name": "stderr",
     "output_type": "stream",
     "text": [
      " 52%|█████▏    | 55/105 [01:43<01:24,  1.68s/it]"
     ]
    },
    {
     "name": "stdout",
     "output_type": "stream",
     "text": [
      "https://image.ohou.se/i/bucketplace-v2-development/uploads/productions/1589274416_115143_1.jpg?gif=1&w=360&h=360&c=c&q=0.8&webp=1\n"
     ]
    },
    {
     "name": "stderr",
     "output_type": "stream",
     "text": [
      " 53%|█████▎    | 56/105 [01:45<01:25,  1.74s/it]"
     ]
    },
    {
     "name": "stdout",
     "output_type": "stream",
     "text": [
      "https://image.ohou.se/i/bucketplace-v2-development/uploads/productions/161164392895416252.jpg?gif=1&w=360&h=360&c=c&q=0.8&webp=1\n"
     ]
    },
    {
     "name": "stderr",
     "output_type": "stream",
     "text": [
      " 54%|█████▍    | 57/105 [01:47<01:32,  1.92s/it]"
     ]
    },
    {
     "name": "stdout",
     "output_type": "stream",
     "text": [
      "https://image.ohou.se/i/bucketplace-v2-development/uploads/productions/1589274430_115037_1.jpg?gif=1&w=360&h=360&c=c&q=0.8&webp=1\n"
     ]
    },
    {
     "name": "stderr",
     "output_type": "stream",
     "text": [
      " 55%|█████▌    | 58/105 [01:49<01:29,  1.90s/it]"
     ]
    },
    {
     "name": "stdout",
     "output_type": "stream",
     "text": [
      "https://image.ohou.se/i/bucketplace-v2-development/uploads/productions/165001838523383846.jpg?gif=1&w=360&h=360&c=c&q=0.8&webp=1\n"
     ]
    },
    {
     "name": "stderr",
     "output_type": "stream",
     "text": [
      " 56%|█████▌    | 59/105 [01:51<01:27,  1.91s/it]"
     ]
    },
    {
     "name": "stdout",
     "output_type": "stream",
     "text": [
      "https://image.ohou.se/i/bucketplace-v2-development/uploads/productions/167513805986495380.jpg?gif=1&w=360&h=360&c=c&q=0.8&webp=1\n"
     ]
    },
    {
     "name": "stderr",
     "output_type": "stream",
     "text": [
      " 57%|█████▋    | 60/105 [01:53<01:27,  1.95s/it]"
     ]
    },
    {
     "name": "stdout",
     "output_type": "stream",
     "text": [
      "https://image.ohou.se/i/bucketplace-v2-development/uploads/productions/165596288914347650.jpg?gif=1&w=360&h=360&c=c&q=0.8&webp=1\n"
     ]
    },
    {
     "name": "stderr",
     "output_type": "stream",
     "text": [
      " 58%|█████▊    | 61/105 [01:55<01:31,  2.07s/it]"
     ]
    },
    {
     "name": "stdout",
     "output_type": "stream",
     "text": [
      "https://image.ohou.se/i/bucketplace-v2-development/uploads/productions/1559894031141_JFfLkwFXv.jpg?gif=1&w=360&h=360&c=c&q=0.8&webp=1\n"
     ]
    },
    {
     "name": "stderr",
     "output_type": "stream",
     "text": [
      " 59%|█████▉    | 62/105 [01:58<01:43,  2.40s/it]"
     ]
    },
    {
     "name": "stdout",
     "output_type": "stream",
     "text": [
      "https://image.ohou.se/i/bucketplace-v2-development/uploads/productions/164862402514749207.jpg?gif=1&w=360&h=360&c=c&q=0.8&webp=1\n"
     ]
    },
    {
     "name": "stderr",
     "output_type": "stream",
     "text": [
      " 60%|██████    | 63/105 [02:01<01:37,  2.33s/it]"
     ]
    },
    {
     "name": "stdout",
     "output_type": "stream",
     "text": [
      "https://image.ohou.se/i/bucketplace-v2-development/uploads/productions/165001223105405343.jpg?gif=1&w=360&h=360&c=c&q=0.8&webp=1\n"
     ]
    },
    {
     "name": "stderr",
     "output_type": "stream",
     "text": [
      " 61%|██████    | 64/105 [02:02<01:23,  2.03s/it]"
     ]
    },
    {
     "name": "stdout",
     "output_type": "stream",
     "text": [
      "https://image.ohou.se/i/bucketplace-v2-development/uploads/productions/166140635802870319.jpg?gif=1&w=360&h=360&c=c&q=0.8&webp=1\n"
     ]
    },
    {
     "name": "stderr",
     "output_type": "stream",
     "text": [
      " 62%|██████▏   | 65/105 [02:03<01:11,  1.79s/it]"
     ]
    },
    {
     "name": "stdout",
     "output_type": "stream",
     "text": [
      "https://image.ohou.se/i/bucketplace-v2-development/uploads/productions/169387497665339260.jpg?gif=1&w=360&h=360&c=c&q=0.8&webp=1\n"
     ]
    },
    {
     "name": "stderr",
     "output_type": "stream",
     "text": [
      " 63%|██████▎   | 66/105 [02:05<01:06,  1.72s/it]"
     ]
    },
    {
     "name": "stdout",
     "output_type": "stream",
     "text": [
      "https://image.ohou.se/i/bucketplace-v2-development/uploads/productions/158943747955352594.jpg?gif=1&w=360&h=360&c=c&q=0.8&webp=1\n"
     ]
    },
    {
     "name": "stderr",
     "output_type": "stream",
     "text": [
      " 64%|██████▍   | 67/105 [02:06<00:57,  1.51s/it]"
     ]
    },
    {
     "name": "stdout",
     "output_type": "stream",
     "text": [
      "https://image.ohou.se/i/bucketplace-v2-development/uploads/productions/164877392821081649.jpg?gif=1&w=360&h=360&c=c&q=0.8&webp=1\n"
     ]
    },
    {
     "name": "stderr",
     "output_type": "stream",
     "text": [
      " 65%|██████▍   | 68/105 [02:07<00:56,  1.52s/it]"
     ]
    },
    {
     "name": "stdout",
     "output_type": "stream",
     "text": [
      "https://image.ohou.se/i/bucketplace-v2-development/uploads/productions/164117862553974677.jpg?gif=1&w=360&h=360&c=c&q=0.8&webp=1\n"
     ]
    },
    {
     "name": "stderr",
     "output_type": "stream",
     "text": [
      " 66%|██████▌   | 69/105 [02:10<01:13,  2.04s/it]"
     ]
    },
    {
     "name": "stdout",
     "output_type": "stream",
     "text": [
      "https://image.ohou.se/i/bucketplace-v2-development/uploads/productions/163645106564812075.jpg?gif=1&w=360&h=360&c=c&q=0.8&webp=1\n"
     ]
    },
    {
     "name": "stderr",
     "output_type": "stream",
     "text": [
      " 67%|██████▋   | 70/105 [02:12<01:09,  1.98s/it]"
     ]
    },
    {
     "name": "stdout",
     "output_type": "stream",
     "text": [
      "https://image.ohou.se/i/bucketplace-v2-development/uploads/productions/159702462071879913.jpg?gif=1&w=360&h=360&c=c&q=0.8&webp=1\n"
     ]
    },
    {
     "name": "stderr",
     "output_type": "stream",
     "text": [
      " 68%|██████▊   | 71/105 [02:15<01:15,  2.21s/it]"
     ]
    },
    {
     "name": "stdout",
     "output_type": "stream",
     "text": [
      "https://image.ohou.se/i/bucketplace-v2-development/uploads/productions/1590047105_124574_23.jpg?gif=1&w=360&h=360&c=c&q=0.8&webp=1\n"
     ]
    },
    {
     "name": "stderr",
     "output_type": "stream",
     "text": [
      " 69%|██████▊   | 72/105 [02:17<01:10,  2.13s/it]"
     ]
    },
    {
     "name": "stdout",
     "output_type": "stream",
     "text": [
      "https://image.ohou.se/i/bucketplace-v2-development/uploads/productions/163532445835527372.jpg?gif=1&w=360&h=360&c=c&q=0.8&webp=1\n"
     ]
    },
    {
     "name": "stderr",
     "output_type": "stream",
     "text": [
      " 70%|██████▉   | 73/105 [02:18<01:02,  1.94s/it]"
     ]
    },
    {
     "name": "stdout",
     "output_type": "stream",
     "text": [
      "https://image.ohou.se/i/bucketplace-v2-development/uploads/productions/159004705738283101.jpg?gif=1&w=360&h=360&c=c&q=0.8&webp=1\n"
     ]
    },
    {
     "name": "stderr",
     "output_type": "stream",
     "text": [
      " 70%|███████   | 74/105 [02:20<00:57,  1.87s/it]"
     ]
    },
    {
     "name": "stdout",
     "output_type": "stream",
     "text": [
      "https://image.ohou.se/i/bucketplace-v2-development/uploads/productions/159782399934936541.jpg?gif=1&w=360&h=360&c=c&q=0.8&webp=1\n"
     ]
    },
    {
     "name": "stderr",
     "output_type": "stream",
     "text": [
      " 71%|███████▏  | 75/105 [02:21<00:49,  1.65s/it]"
     ]
    },
    {
     "name": "stdout",
     "output_type": "stream",
     "text": [
      "https://image.ohou.se/i/bucketplace-v2-development/uploads/productions/159289337054679144.jpg?gif=1&w=360&h=360&c=c&q=0.8&webp=1\n"
     ]
    },
    {
     "name": "stderr",
     "output_type": "stream",
     "text": [
      " 72%|███████▏  | 76/105 [02:23<00:46,  1.60s/it]"
     ]
    },
    {
     "name": "stdout",
     "output_type": "stream",
     "text": [
      "https://image.ohou.se/i/bucketplace-v2-development/uploads/productions/162319638310402043.jpg?gif=1&w=360&h=360&c=c&q=0.8&webp=1\n"
     ]
    },
    {
     "name": "stderr",
     "output_type": "stream",
     "text": [
      " 73%|███████▎  | 77/105 [02:25<00:50,  1.81s/it]"
     ]
    },
    {
     "name": "stdout",
     "output_type": "stream",
     "text": [
      "https://image.ohou.se/i/bucketplace-v2-development/uploads/productions/159227511750786818.jpg?gif=1&w=360&h=360&c=c&q=0.8&webp=1\n"
     ]
    },
    {
     "name": "stderr",
     "output_type": "stream",
     "text": [
      " 74%|███████▍  | 78/105 [02:27<00:45,  1.69s/it]"
     ]
    },
    {
     "name": "stdout",
     "output_type": "stream",
     "text": [
      "https://image.ohou.se/i/bucketplace-v2-development/uploads/productions/165000365652532435.jpg?gif=1&w=360&h=360&c=c&q=0.8&webp=1\n"
     ]
    },
    {
     "name": "stderr",
     "output_type": "stream",
     "text": [
      " 75%|███████▌  | 79/105 [02:28<00:38,  1.49s/it]"
     ]
    },
    {
     "name": "stdout",
     "output_type": "stream",
     "text": [
      "https://image.ohou.se/i/bucketplace-v2-development/uploads/productions/1592548055_102736_20.jpg?gif=1&w=360&h=360&c=c&q=0.8&webp=1\n"
     ]
    },
    {
     "name": "stderr",
     "output_type": "stream",
     "text": [
      " 76%|███████▌  | 80/105 [02:29<00:38,  1.54s/it]"
     ]
    },
    {
     "name": "stdout",
     "output_type": "stream",
     "text": [
      "https://image.ohou.se/i/bucketplace-v2-development/uploads/productions/158986942600131435.jpg?gif=1&w=360&h=360&c=c&q=0.8&webp=1\n"
     ]
    },
    {
     "name": "stderr",
     "output_type": "stream",
     "text": [
      " 77%|███████▋  | 81/105 [02:32<00:42,  1.79s/it]"
     ]
    },
    {
     "name": "stdout",
     "output_type": "stream",
     "text": [
      "https://image.ohou.se/i/bucketplace-v2-development/uploads/productions/165717010341092080.jpg?gif=1&w=360&h=360&c=c&q=0.8&webp=1\n"
     ]
    },
    {
     "name": "stderr",
     "output_type": "stream",
     "text": [
      " 78%|███████▊  | 82/105 [02:33<00:35,  1.55s/it]"
     ]
    },
    {
     "name": "stdout",
     "output_type": "stream",
     "text": [
      "https://image.ohou.se/i/bucketplace-v2-development/uploads/productions/165060694772811978.jpg?gif=1&w=360&h=360&c=c&q=0.8&webp=1\n"
     ]
    },
    {
     "name": "stderr",
     "output_type": "stream",
     "text": [
      " 79%|███████▉  | 83/105 [02:34<00:34,  1.56s/it]"
     ]
    },
    {
     "name": "stdout",
     "output_type": "stream",
     "text": [
      "https://image.ohou.se/i/bucketplace-v2-development/uploads/productions/168188365957440713.jpg?gif=1&w=360&h=360&c=c&q=0.8&webp=1\n"
     ]
    },
    {
     "name": "stderr",
     "output_type": "stream",
     "text": [
      " 80%|████████  | 84/105 [02:35<00:31,  1.49s/it]"
     ]
    },
    {
     "name": "stdout",
     "output_type": "stream",
     "text": [
      "https://image.ohou.se/i/bucketplace-v2-development/uploads/productions/158986898376009546.jpg?gif=1&w=360&h=360&c=c&q=0.8&webp=1\n"
     ]
    },
    {
     "name": "stderr",
     "output_type": "stream",
     "text": [
      " 81%|████████  | 85/105 [02:37<00:30,  1.55s/it]"
     ]
    },
    {
     "name": "stdout",
     "output_type": "stream",
     "text": [
      "https://image.ohou.se/i/bucketplace-v2-development/uploads/productions/15650448086155_0yskr.jpg?gif=1&w=360&h=360&c=c&q=0.8&webp=1\n"
     ]
    },
    {
     "name": "stderr",
     "output_type": "stream",
     "text": [
      " 82%|████████▏ | 86/105 [02:39<00:34,  1.79s/it]"
     ]
    },
    {
     "name": "stdout",
     "output_type": "stream",
     "text": [
      "https://image.ohou.se/i/bucketplace-v2-development/uploads/openapi/3886323/1687855660228.jpg?gif=1&w=360&h=360&c=c&q=0.8&webp=1\n"
     ]
    },
    {
     "name": "stderr",
     "output_type": "stream",
     "text": [
      " 83%|████████▎ | 87/105 [02:41<00:29,  1.62s/it]"
     ]
    },
    {
     "name": "stdout",
     "output_type": "stream",
     "text": [
      "https://image.ohou.se/i/bucketplace-v2-development/uploads/productions/160066799826884547.jpg?gif=1&w=360&h=360&c=c&q=0.8&webp=1\n"
     ]
    },
    {
     "name": "stderr",
     "output_type": "stream",
     "text": [
      " 84%|████████▍ | 88/105 [02:43<00:30,  1.80s/it]"
     ]
    },
    {
     "name": "stdout",
     "output_type": "stream",
     "text": [
      "https://image.ohou.se/i/bucketplace-v2-development/uploads/productions/1593475089_100880_1.jpg?gif=1&w=360&h=360&c=c&q=0.8&webp=1\n"
     ]
    },
    {
     "name": "stderr",
     "output_type": "stream",
     "text": [
      " 85%|████████▍ | 89/105 [02:44<00:27,  1.73s/it]"
     ]
    },
    {
     "name": "stdout",
     "output_type": "stream",
     "text": [
      "https://image.ohou.se/i/bucketplace-v2-development/uploads/productions/159791180913702642.jpg?gif=1&w=360&h=360&c=c&q=0.8&webp=1\n"
     ]
    },
    {
     "name": "stderr",
     "output_type": "stream",
     "text": [
      " 86%|████████▌ | 90/105 [02:46<00:26,  1.75s/it]"
     ]
    },
    {
     "name": "stdout",
     "output_type": "stream",
     "text": [
      "https://image.ohou.se/i/bucketplace-v2-development/uploads/productions/1559551245893_MPzmy.jpg?gif=1&w=360&h=360&c=c&q=0.8&webp=1\n"
     ]
    },
    {
     "name": "stderr",
     "output_type": "stream",
     "text": [
      " 87%|████████▋ | 91/105 [02:48<00:22,  1.61s/it]"
     ]
    },
    {
     "name": "stdout",
     "output_type": "stream",
     "text": [
      "https://image.ohou.se/i/bucketplace-v2-development/uploads/productions/160317051555341831.jpg?gif=1&w=360&h=360&c=c&q=0.8&webp=1\n"
     ]
    },
    {
     "name": "stderr",
     "output_type": "stream",
     "text": [
      " 88%|████████▊ | 92/105 [02:49<00:20,  1.61s/it]"
     ]
    },
    {
     "name": "stdout",
     "output_type": "stream",
     "text": [
      "https://image.ohou.se/i/bucketplace-v2-development/uploads/productions/160092628187569200.jpg?gif=1&w=360&h=360&c=c&q=0.8&webp=1\n"
     ]
    },
    {
     "name": "stderr",
     "output_type": "stream",
     "text": [
      " 89%|████████▊ | 93/105 [02:51<00:19,  1.64s/it]"
     ]
    },
    {
     "name": "stdout",
     "output_type": "stream",
     "text": [
      "https://image.ohou.se/i/bucketplace-v2-development/uploads/productions/163487971621870648.jpg?gif=1&w=360&h=360&c=c&q=0.8&webp=1\n"
     ]
    },
    {
     "name": "stderr",
     "output_type": "stream",
     "text": [
      " 90%|████████▉ | 94/105 [02:53<00:18,  1.64s/it]"
     ]
    },
    {
     "name": "stdout",
     "output_type": "stream",
     "text": [
      "https://image.ohou.se/i/bucketplace-v2-development/uploads/productions/161432948033813113.jpg?gif=1&w=360&h=360&c=c&q=0.8&webp=1\n"
     ]
    },
    {
     "name": "stderr",
     "output_type": "stream",
     "text": [
      " 90%|█████████ | 95/105 [02:54<00:16,  1.66s/it]"
     ]
    },
    {
     "name": "stdout",
     "output_type": "stream",
     "text": [
      "https://image.ohou.se/i/bucketplace-v2-development/uploads/productions/169318772545522953.jpg?gif=1&w=360&h=360&c=c&q=0.8&webp=1\n"
     ]
    },
    {
     "name": "stderr",
     "output_type": "stream",
     "text": [
      " 91%|█████████▏| 96/105 [02:56<00:15,  1.68s/it]"
     ]
    },
    {
     "name": "stdout",
     "output_type": "stream",
     "text": [
      "https://image.ohou.se/i/bucketplace-v2-development/uploads/productions/162270995859704385.jpg?gif=1&w=360&h=360&c=c&q=0.8&webp=1\n"
     ]
    },
    {
     "name": "stderr",
     "output_type": "stream",
     "text": [
      " 92%|█████████▏| 97/105 [02:57<00:12,  1.56s/it]"
     ]
    },
    {
     "name": "stdout",
     "output_type": "stream",
     "text": [
      "https://image.ohou.se/i/bucketplace-v2-development/uploads/productions/1589275717_116801_1.jpg?gif=1&w=360&h=360&c=c&q=0.8&webp=1\n"
     ]
    },
    {
     "name": "stderr",
     "output_type": "stream",
     "text": [
      " 93%|█████████▎| 98/105 [02:59<00:11,  1.58s/it]"
     ]
    },
    {
     "name": "stdout",
     "output_type": "stream",
     "text": [
      "https://image.ohou.se/i/bucketplace-v2-development/uploads/productions/162382177707717262.jpg?gif=1&w=360&h=360&c=c&q=0.8&webp=1\n"
     ]
    },
    {
     "name": "stderr",
     "output_type": "stream",
     "text": [
      " 94%|█████████▍| 99/105 [03:02<00:12,  2.12s/it]"
     ]
    },
    {
     "name": "stdout",
     "output_type": "stream",
     "text": [
      "https://image.ohou.se/i/bucketplace-v2-development/uploads/productions/159106508626447620.jpg?gif=1&w=360&h=360&c=c&q=0.8&webp=1\n"
     ]
    },
    {
     "name": "stderr",
     "output_type": "stream",
     "text": [
      " 95%|█████████▌| 100/105 [03:04<00:09,  1.91s/it]"
     ]
    },
    {
     "name": "stdout",
     "output_type": "stream",
     "text": [
      "https://image.ohou.se/i/bucketplace-v2-development/uploads/productions/165060980760658445.jpg?gif=1&w=360&h=360&c=c&q=0.8&webp=1\n"
     ]
    },
    {
     "name": "stderr",
     "output_type": "stream",
     "text": [
      " 96%|█████████▌| 101/105 [03:05<00:06,  1.74s/it]"
     ]
    },
    {
     "name": "stdout",
     "output_type": "stream",
     "text": [
      "https://image.ohou.se/i/bucketplace-v2-development/uploads/openapi/7662120/1674610639430.jpg?gif=1&w=360&h=360&c=c&q=0.8&webp=1\n"
     ]
    },
    {
     "name": "stderr",
     "output_type": "stream",
     "text": [
      " 97%|█████████▋| 102/105 [03:07<00:05,  1.74s/it]"
     ]
    },
    {
     "name": "stdout",
     "output_type": "stream",
     "text": [
      "https://image.ohou.se/i/bucketplace-v2-development/uploads/productions/162944033153300120.jpg?gif=1&w=360&h=360&c=c&q=0.8&webp=1\n",
      "https://image.ohou.se/i/bucketplace-v2-development/uploads%2Fproductions%2F1486088535911_b1.jpg?gif=1&w=360&h=360&c=c&q=0.8&webp=1\n"
     ]
    },
    {
     "name": "stderr",
     "output_type": "stream",
     "text": [
      " 99%|█████████▉| 104/105 [03:12<00:02,  2.24s/it]"
     ]
    },
    {
     "name": "stdout",
     "output_type": "stream",
     "text": [
      "https://image.ohou.se/i/bucketplace-v2-development/uploads/productions/162674406530078967.jpg?gif=1&w=360&h=360&c=c&q=0.8&webp=1\n"
     ]
    },
    {
     "name": "stderr",
     "output_type": "stream",
     "text": [
      "100%|██████████| 105/105 [03:14<00:00,  1.85s/it]"
     ]
    },
    {
     "name": "stdout",
     "output_type": "stream",
     "text": [
      "https://image.ohou.se/i/bucketplace-v2-development/uploads/openapi/814499/1667974874552.jpg?gif=1&w=360&h=360&c=c&q=0.8&webp=1\n"
     ]
    },
    {
     "name": "stderr",
     "output_type": "stream",
     "text": [
      "\n"
     ]
    }
   ],
   "source": [
    "i = 0\n",
    "info = []\n",
    "\n",
    "for key,value in tqdm(data.items()):\n",
    "    try:\n",
    "        brand = value[0]\n",
    "        name = value[1]\n",
    "        price = value[2]\n",
    "        src = value[3]\n",
    "        link = value[4]\n",
    "\n",
    "        i += 1\n",
    "        time.sleep(0.5 + random.random())\n",
    "        response = requests.get(src, stream=True)\n",
    "        print(src)\n",
    "\n",
    "        save_image_path = f'./static/img/kitchen/oven_stand/ovst{i}.png'\n",
    "        if response.status_code == 200:\n",
    "            # 응답 내용을 바이너리 파일로 저장하기\n",
    "            with open(save_image_path, 'wb') as out_file:\n",
    "                out_file.write(response.content)\n",
    "        \n",
    "        info.append([brand, name, price, save_image_path, link, None])\n",
    "\n",
    "    except:\n",
    "        print('ERROR!!')\n",
    "        pass"
   ]
  },
  {
   "cell_type": "code",
   "execution_count": 24,
   "metadata": {},
   "outputs": [
    {
     "data": {
      "text/plain": [
       "105"
      ]
     },
     "execution_count": 24,
     "metadata": {},
     "output_type": "execute_result"
    }
   ],
   "source": [
    "len(info)"
   ]
  },
  {
   "cell_type": "code",
   "execution_count": 25,
   "metadata": {},
   "outputs": [
    {
     "name": "stderr",
     "output_type": "stream",
     "text": [
      "100%|██████████| 105/105 [1:30:10<00:00, 51.53s/it]"
     ]
    },
    {
     "name": "stdout",
     "output_type": "stream",
     "text": [
      "ERROR!!\n"
     ]
    },
    {
     "name": "stderr",
     "output_type": "stream",
     "text": [
      "\n"
     ]
    }
   ],
   "source": [
    "# 제품 링크 접속하기\n",
    "# 회원만 구입할 수 있는 상품이 포함되어 있어 로그인 후 크롤링\n",
    "for i in tqdm(range(len(info))):\n",
    "    info_line = info[i]\n",
    "    link = info_line[4]\n",
    "\n",
    "    driver.get(link)\n",
    "    driver.implicitly_wait(4)\n",
    "    time.sleep(0.5+random.random())\n",
    "\n",
    "    re_ = driver.find_elements(By.CLASS_NAME, \"production-selling-navigation__item\")\n",
    "    re_[1].click()\n",
    "    time.sleep(0.5+random.random()) \n",
    "\n",
    "    # 한 페이지당 5개 리뷰 \n",
    "    # 20페이지 크롤링해서 총 100개 리뷰 가져오기\n",
    "    review = []\n",
    "    first = driver.find_elements(By.CLASS_NAME, \"production-review-item__description\")\n",
    "    for i in first:\n",
    "        review.append(i.text)\n",
    "\n",
    "    for i in range(19):\n",
    "        try:\n",
    "            driver.find_elements(By.CLASS_NAME, \"_2XI47._3I7ex\")[0].click()\n",
    "            time.sleep(1.5+random.random())\n",
    "            text = driver.find_elements(By.CLASS_NAME, \"production-review-item__description\")\n",
    "            for i in text:\n",
    "                review.append(i.text)\n",
    "        except:\n",
    "            print('ERROR!!')\n",
    "            pass\n",
    "\n",
    "    info_line[5] = review\n",
    "\n"
   ]
  },
  {
   "cell_type": "code",
   "execution_count": 26,
   "metadata": {},
   "outputs": [
    {
     "data": {
      "text/html": [
       "<div>\n",
       "<style scoped>\n",
       "    .dataframe tbody tr th:only-of-type {\n",
       "        vertical-align: middle;\n",
       "    }\n",
       "\n",
       "    .dataframe tbody tr th {\n",
       "        vertical-align: top;\n",
       "    }\n",
       "\n",
       "    .dataframe thead th {\n",
       "        text-align: right;\n",
       "    }\n",
       "</style>\n",
       "<table border=\"1\" class=\"dataframe\">\n",
       "  <thead>\n",
       "    <tr style=\"text-align: right;\">\n",
       "      <th></th>\n",
       "      <th>brand</th>\n",
       "      <th>item</th>\n",
       "      <th>price</th>\n",
       "      <th>image</th>\n",
       "      <th>link</th>\n",
       "      <th>review</th>\n",
       "    </tr>\n",
       "  </thead>\n",
       "  <tbody>\n",
       "    <tr>\n",
       "      <th>0</th>\n",
       "      <td>가구레시피</td>\n",
       "      <td>국내생산 조립식 시그니처 진열장형 3단 전자렌지대 다용도수납장 밥솥다이</td>\n",
       "      <td>27,100</td>\n",
       "      <td>./static/img/kitchen/oven_stand/ovst1.png</td>\n",
       "      <td>https://ohou.se/productions/258147/selling?aff...</td>\n",
       "      <td>[전자레인지 놓기에 딱이에요! 주방 공간이 협소해서 전자레인지 따로 놓을 거치대로 ...</td>\n",
       "    </tr>\n",
       "    <tr>\n",
       "      <th>1</th>\n",
       "      <td>가구레시피</td>\n",
       "      <td>국내생산 조립식 시그니처 진열장형 4단 전자렌지대 다용도수납장 밥솥다이</td>\n",
       "      <td>36,900</td>\n",
       "      <td>./static/img/kitchen/oven_stand/ovst2.png</td>\n",
       "      <td>https://ohou.se/productions/388291/selling?aff...</td>\n",
       "      <td>[이사하고 짐 정리 덜됫을때여서 지져분한점 양해해주세용!! 전자레인지 에어프라이기 ...</td>\n",
       "    </tr>\n",
       "    <tr>\n",
       "      <th>2</th>\n",
       "      <td>가구레시피</td>\n",
       "      <td>국내생산 조립식 시그니처 렌지대형 4단 전자렌지대 다용도수납장 주방선반</td>\n",
       "      <td>47,600</td>\n",
       "      <td>./static/img/kitchen/oven_stand/ovst3.png</td>\n",
       "      <td>https://ohou.se/productions/388334/selling?aff...</td>\n",
       "      <td>[원래 주방수납장 칸 높이가 높지 않아 밥솥만 따로 스툴 위에 놓았었는데, 그게 불...</td>\n",
       "    </tr>\n",
       "    <tr>\n",
       "      <th>3</th>\n",
       "      <td>가구레시피</td>\n",
       "      <td>국내생산 조립식 시그니처 렌지대형 3단 전자렌지대 다용도수납장 주방선반</td>\n",
       "      <td>37,600</td>\n",
       "      <td>./static/img/kitchen/oven_stand/ovst4.png</td>\n",
       "      <td>https://ohou.se/productions/388323/selling?aff...</td>\n",
       "      <td>[기존엔 렌지와 밥솥 거치대로 사용했다가 옵션 있는 집으로 이사하게 되었는데도 수납...</td>\n",
       "    </tr>\n",
       "    <tr>\n",
       "      <th>4</th>\n",
       "      <td>블루밍홈</td>\n",
       "      <td>잭 스틸렌지대 3colors</td>\n",
       "      <td>32,900</td>\n",
       "      <td>./static/img/kitchen/oven_stand/ovst5.png</td>\n",
       "      <td>https://ohou.se/productions/48363/selling?affe...</td>\n",
       "      <td>[하나 사고 하나 더 사서 아주 잘 쓰고 있습니다, 튼튼하고 사이즈도 너무 좋고 집...</td>\n",
       "    </tr>\n",
       "    <tr>\n",
       "      <th>...</th>\n",
       "      <td>...</td>\n",
       "      <td>...</td>\n",
       "      <td>...</td>\n",
       "      <td>...</td>\n",
       "      <td>...</td>\n",
       "      <td>...</td>\n",
       "    </tr>\n",
       "    <tr>\n",
       "      <th>100</th>\n",
       "      <td>바로방가구</td>\n",
       "      <td>시크 전자레인지 수납 렌지대 6colors</td>\n",
       "      <td>34,900</td>\n",
       "      <td>./static/img/kitchen/oven_stand/ovst101.png</td>\n",
       "      <td>https://ohou.se/productions/390654/selling?aff...</td>\n",
       "      <td>[저자리 다 들어내고 설치했는데 만족!, 싸제불량품질 배보다 배꼽이더비싼 배송비, ...</td>\n",
       "    </tr>\n",
       "    <tr>\n",
       "      <th>101</th>\n",
       "      <td>하우스팡</td>\n",
       "      <td>높이조절 넓이조절 전자레인지 선반 3단</td>\n",
       "      <td>36,700</td>\n",
       "      <td>./static/img/kitchen/oven_stand/ovst102.png</td>\n",
       "      <td>https://ohou.se/productions/980290/selling?aff...</td>\n",
       "      <td>[1. 길이 조절하기 마음에 듭니다 2. 색상 블랙 마음에 쏙 듭니다 3. 튼튼합니...</td>\n",
       "    </tr>\n",
       "    <tr>\n",
       "      <th>102</th>\n",
       "      <td>데코라인</td>\n",
       "      <td>시크 렌지대 겸 식탁세트 오리지널</td>\n",
       "      <td>129,000</td>\n",
       "      <td>./static/img/kitchen/oven_stand/ovst103.png</td>\n",
       "      <td>https://ohou.se/productions/23476/selling?affe...</td>\n",
       "      <td>[깔끔하고 설치도 잘 맞읏우요 재가 사용하는 렌지랑은 사이즈가 안맞아수 아쉬웠지만 ...</td>\n",
       "    </tr>\n",
       "    <tr>\n",
       "      <th>103</th>\n",
       "      <td>나무숲</td>\n",
       "      <td>베이크 800 틈새장 전자렌지수납장 렌지대 밥솥수납장 3colors</td>\n",
       "      <td>51,900</td>\n",
       "      <td>./static/img/kitchen/oven_stand/ovst104.png</td>\n",
       "      <td>https://ohou.se/productions/933408/selling?aff...</td>\n",
       "      <td>[사이즈 딱 맞게 구매했어요! 가격 저렴하고 좋네요^^, 크기가 완전 딱맞아서 기부...</td>\n",
       "    </tr>\n",
       "    <tr>\n",
       "      <th>104</th>\n",
       "      <td>필웰</td>\n",
       "      <td>RZ8541 쿠엔코 광파오븐 렌지대 (서랍둘) DVX</td>\n",
       "      <td>169,000</td>\n",
       "      <td>./static/img/kitchen/oven_stand/ovst105.png</td>\n",
       "      <td>https://ohou.se/productions/377279/selling?aff...</td>\n",
       "      <td>[광파오븐이 들어가는 랜지대를 찾다가 찰떡! 근데 뒤에 구멍이 더 크게 뚫렸음 하는...</td>\n",
       "    </tr>\n",
       "  </tbody>\n",
       "</table>\n",
       "<p>105 rows × 6 columns</p>\n",
       "</div>"
      ],
      "text/plain": [
       "     brand                                      item    price  \\\n",
       "0    가구레시피   국내생산 조립식 시그니처 진열장형 3단 전자렌지대 다용도수납장 밥솥다이   27,100   \n",
       "1    가구레시피   국내생산 조립식 시그니처 진열장형 4단 전자렌지대 다용도수납장 밥솥다이   36,900   \n",
       "2    가구레시피   국내생산 조립식 시그니처 렌지대형 4단 전자렌지대 다용도수납장 주방선반   47,600   \n",
       "3    가구레시피   국내생산 조립식 시그니처 렌지대형 3단 전자렌지대 다용도수납장 주방선반   37,600   \n",
       "4     블루밍홈                           잭 스틸렌지대 3colors   32,900   \n",
       "..     ...                                       ...      ...   \n",
       "100  바로방가구                   시크 전자레인지 수납 렌지대 6colors   34,900   \n",
       "101   하우스팡                     높이조절 넓이조절 전자레인지 선반 3단   36,700   \n",
       "102   데코라인                        시크 렌지대 겸 식탁세트 오리지널  129,000   \n",
       "103    나무숲     베이크 800 틈새장 전자렌지수납장 렌지대 밥솥수납장 3colors   51,900   \n",
       "104     필웰             RZ8541 쿠엔코 광파오븐 렌지대 (서랍둘) DVX  169,000   \n",
       "\n",
       "                                           image  \\\n",
       "0      ./static/img/kitchen/oven_stand/ovst1.png   \n",
       "1      ./static/img/kitchen/oven_stand/ovst2.png   \n",
       "2      ./static/img/kitchen/oven_stand/ovst3.png   \n",
       "3      ./static/img/kitchen/oven_stand/ovst4.png   \n",
       "4      ./static/img/kitchen/oven_stand/ovst5.png   \n",
       "..                                           ...   \n",
       "100  ./static/img/kitchen/oven_stand/ovst101.png   \n",
       "101  ./static/img/kitchen/oven_stand/ovst102.png   \n",
       "102  ./static/img/kitchen/oven_stand/ovst103.png   \n",
       "103  ./static/img/kitchen/oven_stand/ovst104.png   \n",
       "104  ./static/img/kitchen/oven_stand/ovst105.png   \n",
       "\n",
       "                                                  link  \\\n",
       "0    https://ohou.se/productions/258147/selling?aff...   \n",
       "1    https://ohou.se/productions/388291/selling?aff...   \n",
       "2    https://ohou.se/productions/388334/selling?aff...   \n",
       "3    https://ohou.se/productions/388323/selling?aff...   \n",
       "4    https://ohou.se/productions/48363/selling?affe...   \n",
       "..                                                 ...   \n",
       "100  https://ohou.se/productions/390654/selling?aff...   \n",
       "101  https://ohou.se/productions/980290/selling?aff...   \n",
       "102  https://ohou.se/productions/23476/selling?affe...   \n",
       "103  https://ohou.se/productions/933408/selling?aff...   \n",
       "104  https://ohou.se/productions/377279/selling?aff...   \n",
       "\n",
       "                                                review  \n",
       "0    [전자레인지 놓기에 딱이에요! 주방 공간이 협소해서 전자레인지 따로 놓을 거치대로 ...  \n",
       "1    [이사하고 짐 정리 덜됫을때여서 지져분한점 양해해주세용!! 전자레인지 에어프라이기 ...  \n",
       "2    [원래 주방수납장 칸 높이가 높지 않아 밥솥만 따로 스툴 위에 놓았었는데, 그게 불...  \n",
       "3    [기존엔 렌지와 밥솥 거치대로 사용했다가 옵션 있는 집으로 이사하게 되었는데도 수납...  \n",
       "4    [하나 사고 하나 더 사서 아주 잘 쓰고 있습니다, 튼튼하고 사이즈도 너무 좋고 집...  \n",
       "..                                                 ...  \n",
       "100  [저자리 다 들어내고 설치했는데 만족!, 싸제불량품질 배보다 배꼽이더비싼 배송비, ...  \n",
       "101  [1. 길이 조절하기 마음에 듭니다 2. 색상 블랙 마음에 쏙 듭니다 3. 튼튼합니...  \n",
       "102  [깔끔하고 설치도 잘 맞읏우요 재가 사용하는 렌지랑은 사이즈가 안맞아수 아쉬웠지만 ...  \n",
       "103  [사이즈 딱 맞게 구매했어요! 가격 저렴하고 좋네요^^, 크기가 완전 딱맞아서 기부...  \n",
       "104  [광파오븐이 들어가는 랜지대를 찾다가 찰떡! 근데 뒤에 구멍이 더 크게 뚫렸음 하는...  \n",
       "\n",
       "[105 rows x 6 columns]"
      ]
     },
     "execution_count": 26,
     "metadata": {},
     "output_type": "execute_result"
    }
   ],
   "source": [
    "oven_stand = pd.DataFrame(info, columns=['brand', 'item', 'price', 'image', 'link', 'review'])\n",
    "oven_stand"
   ]
  },
  {
   "cell_type": "code",
   "execution_count": 27,
   "metadata": {},
   "outputs": [],
   "source": [
    "oven_stand.to_csv('oven_stand.csv')"
   ]
  },
  {
   "cell_type": "markdown",
   "metadata": {},
   "source": [
    "---"
   ]
  },
  {
   "cell_type": "markdown",
   "metadata": {},
   "source": [
    "### 4) 수납장"
   ]
  },
  {
   "cell_type": "code",
   "execution_count": 28,
   "metadata": {},
   "outputs": [],
   "source": [
    "# 사이트 열기\n",
    "driver.get('https://ohou.se/store/category?category_id=10270052')\n",
    "driver.implicitly_wait(10)\n",
    "time.sleep(3)\n",
    "\n",
    "# 리뷰많은순으로 변경\n",
    "pre_order = driver.find_element(By.CLASS_NAME, \"category-filter-bar-order-button\").click()\n",
    "time.sleep(0.5+random.random())\n",
    "\n",
    "order_ = driver.find_elements(By.CLASS_NAME, \"property-filter-panel-entry-list__item__title\")\n",
    "order_[-3].click()\n",
    "time.sleep(0.5+random.random())"
   ]
  },
  {
   "cell_type": "code",
   "execution_count": 29,
   "metadata": {},
   "outputs": [
    {
     "name": "stderr",
     "output_type": "stream",
     "text": [
      "  0%|          | 0/20 [00:00<?, ?it/s]"
     ]
    },
    {
     "name": "stdout",
     "output_type": "stream",
     "text": [
      "15 개 데이터 가져옴....\n"
     ]
    },
    {
     "name": "stderr",
     "output_type": "stream",
     "text": [
      "  5%|▌         | 1/20 [00:05<01:44,  5.50s/it]"
     ]
    },
    {
     "name": "stdout",
     "output_type": "stream",
     "text": [
      "21 개 데이터 가져옴....\n"
     ]
    },
    {
     "name": "stderr",
     "output_type": "stream",
     "text": [
      " 10%|█         | 2/20 [00:11<01:39,  5.54s/it]"
     ]
    },
    {
     "name": "stdout",
     "output_type": "stream",
     "text": [
      "21 개 데이터 가져옴....\n"
     ]
    },
    {
     "name": "stderr",
     "output_type": "stream",
     "text": [
      " 15%|█▌        | 3/20 [00:16<01:34,  5.54s/it]"
     ]
    },
    {
     "name": "stdout",
     "output_type": "stream",
     "text": [
      "24 개 데이터 가져옴....\n"
     ]
    },
    {
     "name": "stderr",
     "output_type": "stream",
     "text": [
      " 20%|██        | 4/20 [00:22<01:29,  5.56s/it]"
     ]
    },
    {
     "name": "stdout",
     "output_type": "stream",
     "text": [
      "27 개 데이터 가져옴....\n"
     ]
    },
    {
     "name": "stderr",
     "output_type": "stream",
     "text": [
      " 25%|██▌       | 5/20 [00:27<01:24,  5.62s/it]"
     ]
    },
    {
     "name": "stdout",
     "output_type": "stream",
     "text": [
      "24 개 데이터 가져옴....\n"
     ]
    },
    {
     "name": "stderr",
     "output_type": "stream",
     "text": [
      " 30%|███       | 6/20 [00:33<01:18,  5.63s/it]"
     ]
    },
    {
     "name": "stdout",
     "output_type": "stream",
     "text": [
      "24 개 데이터 가져옴....\n"
     ]
    },
    {
     "name": "stderr",
     "output_type": "stream",
     "text": [
      " 35%|███▌      | 7/20 [00:39<01:13,  5.64s/it]"
     ]
    },
    {
     "name": "stdout",
     "output_type": "stream",
     "text": [
      "24 개 데이터 가져옴....\n"
     ]
    },
    {
     "name": "stderr",
     "output_type": "stream",
     "text": [
      " 40%|████      | 8/20 [00:44<01:07,  5.65s/it]"
     ]
    },
    {
     "name": "stdout",
     "output_type": "stream",
     "text": [
      "24 개 데이터 가져옴....\n"
     ]
    },
    {
     "name": "stderr",
     "output_type": "stream",
     "text": [
      " 45%|████▌     | 9/20 [00:50<01:02,  5.66s/it]"
     ]
    },
    {
     "name": "stdout",
     "output_type": "stream",
     "text": [
      "24 개 데이터 가져옴....\n"
     ]
    },
    {
     "name": "stderr",
     "output_type": "stream",
     "text": [
      " 50%|█████     | 10/20 [00:56<00:56,  5.65s/it]"
     ]
    },
    {
     "name": "stdout",
     "output_type": "stream",
     "text": [
      "24 개 데이터 가져옴....\n"
     ]
    },
    {
     "name": "stderr",
     "output_type": "stream",
     "text": [
      " 55%|█████▌    | 11/20 [01:01<00:50,  5.64s/it]"
     ]
    },
    {
     "name": "stdout",
     "output_type": "stream",
     "text": [
      "27 개 데이터 가져옴....\n"
     ]
    },
    {
     "name": "stderr",
     "output_type": "stream",
     "text": [
      " 60%|██████    | 12/20 [01:07<00:45,  5.66s/it]"
     ]
    },
    {
     "name": "stdout",
     "output_type": "stream",
     "text": [
      "24 개 데이터 가져옴....\n"
     ]
    },
    {
     "name": "stderr",
     "output_type": "stream",
     "text": [
      " 65%|██████▌   | 13/20 [01:13<00:39,  5.65s/it]"
     ]
    },
    {
     "name": "stdout",
     "output_type": "stream",
     "text": [
      "24 개 데이터 가져옴....\n"
     ]
    },
    {
     "name": "stderr",
     "output_type": "stream",
     "text": [
      " 70%|███████   | 14/20 [01:18<00:33,  5.64s/it]"
     ]
    },
    {
     "name": "stdout",
     "output_type": "stream",
     "text": [
      "30 개 데이터 가져옴....\n"
     ]
    },
    {
     "name": "stderr",
     "output_type": "stream",
     "text": [
      " 75%|███████▌  | 15/20 [01:24<00:28,  5.69s/it]"
     ]
    },
    {
     "name": "stdout",
     "output_type": "stream",
     "text": [
      "24 개 데이터 가져옴....\n"
     ]
    },
    {
     "name": "stderr",
     "output_type": "stream",
     "text": [
      " 80%|████████  | 16/20 [01:30<00:22,  5.68s/it]"
     ]
    },
    {
     "name": "stdout",
     "output_type": "stream",
     "text": [
      "27 개 데이터 가져옴....\n"
     ]
    },
    {
     "name": "stderr",
     "output_type": "stream",
     "text": [
      " 85%|████████▌ | 17/20 [01:35<00:17,  5.68s/it]"
     ]
    },
    {
     "name": "stdout",
     "output_type": "stream",
     "text": [
      "24 개 데이터 가져옴....\n"
     ]
    },
    {
     "name": "stderr",
     "output_type": "stream",
     "text": [
      " 90%|█████████ | 18/20 [01:41<00:11,  5.66s/it]"
     ]
    },
    {
     "name": "stdout",
     "output_type": "stream",
     "text": [
      "27 개 데이터 가져옴....\n"
     ]
    },
    {
     "name": "stderr",
     "output_type": "stream",
     "text": [
      " 95%|█████████▌| 19/20 [01:47<00:05,  5.68s/it]"
     ]
    },
    {
     "name": "stdout",
     "output_type": "stream",
     "text": [
      "27 개 데이터 가져옴....\n"
     ]
    },
    {
     "name": "stderr",
     "output_type": "stream",
     "text": [
      "100%|██████████| 20/20 [01:53<00:00,  5.65s/it]\n"
     ]
    }
   ],
   "source": [
    "info = []\n",
    "\n",
    "ffffa = 0\n",
    "# 스크롤 내리기\n",
    "def scroll():\n",
    "\n",
    "    global ffffa\n",
    "    ffffa += 600 \n",
    "    driver.execute_script(\"window.scrollTo(0, \"+ str(ffffa) + \")\")\n",
    "\n",
    "# 제목 : [브랜드, 제목, 가격, 이미지위치]\n",
    "# 스크롤을 조금씩 내리면서 가져오기 때문에 데이터 중복 가능\n",
    "# 데이터 중복 제거하기 위해 제목은 중복안되니까 제목을 key로 지정 \n",
    "data = {}\n",
    "\n",
    "# 스크롤 조금씩 내리면서 데이터 가져오기\n",
    "for page in tqdm(range(20)):\n",
    "    scroll()\n",
    "    time.sleep(5)\n",
    "\n",
    "    # 브랜드, 상품명, 가격, 이미지 경로, 제품 링크\n",
    "    brands =  driver.find_elements(By.CLASS_NAME, \"production-item__header__brand\")\n",
    "    names =  driver.find_elements(By.CLASS_NAME, \"production-item__header__name\")\n",
    "    prices = driver.find_elements(By.CLASS_NAME, \"production-item-price__price\")\n",
    "    srcs=  driver.find_elements(By.CLASS_NAME, \"image\")\n",
    "    links =  driver.find_elements(By.CLASS_NAME, \"production-item__overlay\")\n",
    "\n",
    "    amount= len(brands)\n",
    "    print(amount ,\"개 데이터 가져옴....\")\n",
    "    \n",
    "    for i in range(amount):\n",
    "        # 브랜드\n",
    "        brand = brands[i].text\n",
    "\n",
    "        # 상품명\n",
    "        name = names[i].text\n",
    "        name = re.sub(r'\\[.*?\\]', '', name)\n",
    "\n",
    "        # 가격\n",
    "        price = prices[i].text\n",
    "\n",
    "        # 이미지 경로\n",
    "        src = srcs[i].get_attribute('src')\n",
    "\n",
    "        # 제품 링크\n",
    "        link = links[i].get_attribute(\"href\")\n",
    "\n",
    "        data[name] = [brand, name, price, src, link]\n"
   ]
  },
  {
   "cell_type": "code",
   "execution_count": 30,
   "metadata": {},
   "outputs": [
    {
     "data": {
      "text/plain": [
       "108"
      ]
     },
     "execution_count": 30,
     "metadata": {},
     "output_type": "execute_result"
    }
   ],
   "source": [
    "result_amount = len(data.keys())\n",
    "result_amount"
   ]
  },
  {
   "cell_type": "code",
   "execution_count": 31,
   "metadata": {},
   "outputs": [
    {
     "name": "stderr",
     "output_type": "stream",
     "text": [
      "  1%|          | 1/108 [00:01<03:16,  1.83s/it]"
     ]
    },
    {
     "name": "stdout",
     "output_type": "stream",
     "text": [
      "https://image.ohou.se/i/bucketplace-v2-development/uploads/productions/168006784570630681.jpg?gif=1&w=360&h=360&c=c&q=0.8&webp=1\n"
     ]
    },
    {
     "name": "stderr",
     "output_type": "stream",
     "text": [
      "  2%|▏         | 2/108 [00:02<02:29,  1.41s/it]"
     ]
    },
    {
     "name": "stdout",
     "output_type": "stream",
     "text": [
      "https://image.ohou.se/i/bucketplace-v2-development/uploads/productions/166259430577377615.jpg?gif=1&w=360&h=360&c=c&q=0.8&webp=1\n"
     ]
    },
    {
     "name": "stderr",
     "output_type": "stream",
     "text": [
      "  3%|▎         | 3/108 [00:04<02:54,  1.66s/it]"
     ]
    },
    {
     "name": "stdout",
     "output_type": "stream",
     "text": [
      "https://image.ohou.se/i/bucketplace-v2-development/uploads/openapi/814499/1657782459831.jpg?gif=1&w=360&h=360&c=c&q=0.8&webp=1\n"
     ]
    },
    {
     "name": "stderr",
     "output_type": "stream",
     "text": [
      "  4%|▎         | 4/108 [00:06<02:51,  1.65s/it]"
     ]
    },
    {
     "name": "stdout",
     "output_type": "stream",
     "text": [
      "https://image.ohou.se/i/bucketplace-v2-development/uploads/productions/1594971001_103481_20.jpg?gif=1&w=360&h=360&c=c&q=0.8&webp=1\n"
     ]
    },
    {
     "name": "stderr",
     "output_type": "stream",
     "text": [
      "  5%|▍         | 5/108 [00:08<03:12,  1.87s/it]"
     ]
    },
    {
     "name": "stdout",
     "output_type": "stream",
     "text": [
      "https://image.ohou.se/i/bucketplace-v2-development/uploads/productions/164878806214938813.jpg?gif=1&w=360&h=360&c=c&q=0.8&webp=1\n"
     ]
    },
    {
     "name": "stderr",
     "output_type": "stream",
     "text": [
      "  6%|▌         | 6/108 [00:09<02:46,  1.63s/it]"
     ]
    },
    {
     "name": "stdout",
     "output_type": "stream",
     "text": [
      "https://image.ohou.se/i/bucketplace-v2-development/uploads/productions/161778385979834003.jpg?gif=1&w=360&h=360&c=c&q=0.8&webp=1\n"
     ]
    },
    {
     "name": "stderr",
     "output_type": "stream",
     "text": [
      "  6%|▋         | 7/108 [00:11<02:32,  1.51s/it]"
     ]
    },
    {
     "name": "stdout",
     "output_type": "stream",
     "text": [
      "https://image.ohou.se/i/bucketplace-v2-development/uploads/productions/164870628137172836.jpg?gif=1&w=360&h=360&c=c&q=0.8&webp=1\n"
     ]
    },
    {
     "name": "stderr",
     "output_type": "stream",
     "text": [
      "  7%|▋         | 8/108 [00:12<02:24,  1.45s/it]"
     ]
    },
    {
     "name": "stdout",
     "output_type": "stream",
     "text": [
      "https://image.ohou.se/i/bucketplace-v2-development/uploads/productions/1540792576_115408_1.jpg?gif=1&w=360&h=360&c=c&q=0.8&webp=1\n"
     ]
    },
    {
     "name": "stderr",
     "output_type": "stream",
     "text": [
      "  8%|▊         | 9/108 [00:14<02:23,  1.45s/it]"
     ]
    },
    {
     "name": "stdout",
     "output_type": "stream",
     "text": [
      "https://image.ohou.se/i/bucketplace-v2-development/uploads/productions/164005352562745313.jpg?gif=1&w=360&h=360&c=c&q=0.8&webp=1\n"
     ]
    },
    {
     "name": "stderr",
     "output_type": "stream",
     "text": [
      "  9%|▉         | 10/108 [00:15<02:09,  1.33s/it]"
     ]
    },
    {
     "name": "stdout",
     "output_type": "stream",
     "text": [
      "https://image.ohou.se/i/bucketplace-v2-development/uploads/productions/167685554803919623.jpg?gif=1&w=360&h=360&c=c&q=0.8&webp=1\n"
     ]
    },
    {
     "name": "stderr",
     "output_type": "stream",
     "text": [
      " 10%|█         | 11/108 [00:15<01:53,  1.17s/it]"
     ]
    },
    {
     "name": "stdout",
     "output_type": "stream",
     "text": [
      "https://image.ohou.se/i/bucketplace-v2-development/uploads/productions/166753732833612673.jpg?gif=1&w=360&h=360&c=c&q=0.8&webp=1\n"
     ]
    },
    {
     "name": "stderr",
     "output_type": "stream",
     "text": [
      " 11%|█         | 12/108 [00:17<02:07,  1.33s/it]"
     ]
    },
    {
     "name": "stdout",
     "output_type": "stream",
     "text": [
      "https://image.ohou.se/i/bucketplace-v2-development/uploads/productions/167220057761364881.jpg?gif=1&w=360&h=360&c=c&q=0.8&webp=1\n"
     ]
    },
    {
     "name": "stderr",
     "output_type": "stream",
     "text": [
      " 12%|█▏        | 13/108 [00:18<02:06,  1.33s/it]"
     ]
    },
    {
     "name": "stdout",
     "output_type": "stream",
     "text": [
      "https://image.ohou.se/i/bucketplace-v2-development/uploads/productions/163903379067328922.jpg?gif=1&w=360&h=360&c=c&q=0.8&webp=1\n"
     ]
    },
    {
     "name": "stderr",
     "output_type": "stream",
     "text": [
      " 13%|█▎        | 14/108 [00:20<02:09,  1.37s/it]"
     ]
    },
    {
     "name": "stdout",
     "output_type": "stream",
     "text": [
      "https://image.ohou.se/i/bucketplace-v2-development/uploads/productions/1541485750_115420_1.jpg?gif=1&w=360&h=360&c=c&q=0.8&webp=1\n"
     ]
    },
    {
     "name": "stderr",
     "output_type": "stream",
     "text": [
      " 14%|█▍        | 15/108 [00:21<02:09,  1.39s/it]"
     ]
    },
    {
     "name": "stdout",
     "output_type": "stream",
     "text": [
      "https://image.ohou.se/i/bucketplace-v2-development/uploads/productions/161778398784546169.jpg?gif=1&w=360&h=360&c=c&q=0.8&webp=1\n"
     ]
    },
    {
     "name": "stderr",
     "output_type": "stream",
     "text": [
      " 15%|█▍        | 16/108 [00:23<02:16,  1.48s/it]"
     ]
    },
    {
     "name": "stdout",
     "output_type": "stream",
     "text": [
      "https://image.ohou.se/i/bucketplace-v2-development/uploads/productions/159004113236776054.jpg?gif=1&w=360&h=360&c=c&q=0.8&webp=1\n"
     ]
    },
    {
     "name": "stderr",
     "output_type": "stream",
     "text": [
      " 16%|█▌        | 17/108 [00:24<02:12,  1.45s/it]"
     ]
    },
    {
     "name": "stdout",
     "output_type": "stream",
     "text": [
      "https://image.ohou.se/i/bucketplace-v2-development/uploads/productions/161778394400360916.jpg?gif=1&w=360&h=360&c=c&q=0.8&webp=1\n"
     ]
    },
    {
     "name": "stderr",
     "output_type": "stream",
     "text": [
      " 17%|█▋        | 18/108 [00:25<01:55,  1.28s/it]"
     ]
    },
    {
     "name": "stdout",
     "output_type": "stream",
     "text": [
      "https://image.ohou.se/i/bucketplace-v2-development/uploads/openapi/3886323/1666156861921.jpg?gif=1&w=360&h=360&c=c&q=0.8&webp=1\n"
     ]
    },
    {
     "name": "stderr",
     "output_type": "stream",
     "text": [
      " 18%|█▊        | 19/108 [00:26<01:50,  1.25s/it]"
     ]
    },
    {
     "name": "stdout",
     "output_type": "stream",
     "text": [
      "https://image.ohou.se/i/bucketplace-v2-development/uploads/productions/164671761886976563.jpg?gif=1&w=360&h=360&c=c&q=0.8&webp=1\n"
     ]
    },
    {
     "name": "stderr",
     "output_type": "stream",
     "text": [
      " 19%|█▊        | 20/108 [00:27<01:37,  1.11s/it]"
     ]
    },
    {
     "name": "stdout",
     "output_type": "stream",
     "text": [
      "https://image.ohou.se/i/bucketplace-v2-development/uploads/productions/162938396225885176.jpg?gif=1&w=360&h=360&c=c&q=0.8&webp=1\n"
     ]
    },
    {
     "name": "stderr",
     "output_type": "stream",
     "text": [
      " 19%|█▉        | 21/108 [00:29<01:48,  1.24s/it]"
     ]
    },
    {
     "name": "stdout",
     "output_type": "stream",
     "text": [
      "https://image.ohou.se/i/bucketplace-v2-development/uploads/productions/168143668149988366.jpg?gif=1&w=360&h=360&c=c&q=0.8&webp=1\n"
     ]
    },
    {
     "name": "stderr",
     "output_type": "stream",
     "text": [
      " 20%|██        | 22/108 [00:30<01:45,  1.23s/it]"
     ]
    },
    {
     "name": "stdout",
     "output_type": "stream",
     "text": [
      "https://image.ohou.se/i/bucketplace-v2-development/uploads/productions/1591764587_102588_1.jpg?gif=1&w=360&h=360&c=c&q=0.8&webp=1\n"
     ]
    },
    {
     "name": "stderr",
     "output_type": "stream",
     "text": [
      " 21%|██▏       | 23/108 [00:31<01:41,  1.20s/it]"
     ]
    },
    {
     "name": "stdout",
     "output_type": "stream",
     "text": [
      "https://image.ohou.se/i/bucketplace-v2-development/uploads/productions/1594971014_103480_20.jpg?gif=1&w=360&h=360&c=c&q=0.8&webp=1\n"
     ]
    },
    {
     "name": "stderr",
     "output_type": "stream",
     "text": [
      " 22%|██▏       | 24/108 [00:32<01:34,  1.13s/it]"
     ]
    },
    {
     "name": "stdout",
     "output_type": "stream",
     "text": [
      "https://image.ohou.se/i/bucketplace-v2-development/uploads/productions/168852064846272541.jpg?gif=1&w=360&h=360&c=c&q=0.8&webp=1\n"
     ]
    },
    {
     "name": "stderr",
     "output_type": "stream",
     "text": [
      " 23%|██▎       | 25/108 [00:33<01:41,  1.22s/it]"
     ]
    },
    {
     "name": "stdout",
     "output_type": "stream",
     "text": [
      "https://image.ohou.se/i/bucketplace-v2-development/uploads/productions/1589274409_115144_1.jpg?gif=1&w=360&h=360&c=c&q=0.8&webp=1\n"
     ]
    },
    {
     "name": "stderr",
     "output_type": "stream",
     "text": [
      " 24%|██▍       | 26/108 [00:35<01:53,  1.38s/it]"
     ]
    },
    {
     "name": "stdout",
     "output_type": "stream",
     "text": [
      "https://image.ohou.se/i/bucketplace-v2-development/uploads/productions/159254870690887808.jpg?gif=1&w=360&h=360&c=c&q=0.8&webp=1\n"
     ]
    },
    {
     "name": "stderr",
     "output_type": "stream",
     "text": [
      " 25%|██▌       | 27/108 [00:36<01:47,  1.33s/it]"
     ]
    },
    {
     "name": "stdout",
     "output_type": "stream",
     "text": [
      "https://image.ohou.se/i/bucketplace-v2-development/uploads/productions/156938675913147330.jpg?gif=1&w=360&h=360&c=c&q=0.8&webp=1\n"
     ]
    },
    {
     "name": "stderr",
     "output_type": "stream",
     "text": [
      " 26%|██▌       | 28/108 [00:38<01:58,  1.48s/it]"
     ]
    },
    {
     "name": "stdout",
     "output_type": "stream",
     "text": [
      "https://image.ohou.se/i/bucketplace-v2-development/uploads/productions/162996946442176672.jpg?gif=1&w=360&h=360&c=c&q=0.8&webp=1\n"
     ]
    },
    {
     "name": "stderr",
     "output_type": "stream",
     "text": [
      " 27%|██▋       | 29/108 [00:40<02:10,  1.65s/it]"
     ]
    },
    {
     "name": "stdout",
     "output_type": "stream",
     "text": [
      "https://image.ohou.se/i/bucketplace-v2-development/uploads/productions/164119707275644514.jpg?gif=1&w=360&h=360&c=c&q=0.8&webp=1\n"
     ]
    },
    {
     "name": "stderr",
     "output_type": "stream",
     "text": [
      " 28%|██▊       | 30/108 [00:41<01:48,  1.39s/it]"
     ]
    },
    {
     "name": "stdout",
     "output_type": "stream",
     "text": [
      "https://image.ohou.se/i/bucketplace-v2-development/uploads/productions/161181958955324664.jpg?gif=1&w=360&h=360&c=c&q=0.8&webp=1\n"
     ]
    },
    {
     "name": "stderr",
     "output_type": "stream",
     "text": [
      " 29%|██▊       | 31/108 [00:42<01:43,  1.35s/it]"
     ]
    },
    {
     "name": "stdout",
     "output_type": "stream",
     "text": [
      "https://image.ohou.se/i/bucketplace-v2-development/uploads/productions/159168641671268061.jpg?gif=1&w=360&h=360&c=c&q=0.8&webp=1\n"
     ]
    },
    {
     "name": "stderr",
     "output_type": "stream",
     "text": [
      " 30%|██▉       | 32/108 [00:43<01:36,  1.26s/it]"
     ]
    },
    {
     "name": "stdout",
     "output_type": "stream",
     "text": [
      "https://image.ohou.se/i/bucketplace-v2-development/uploads/productions/166753537323872891.jpg?gif=1&w=360&h=360&c=c&q=0.8&webp=1\n"
     ]
    },
    {
     "name": "stderr",
     "output_type": "stream",
     "text": [
      " 31%|███       | 33/108 [00:46<02:14,  1.80s/it]"
     ]
    },
    {
     "name": "stdout",
     "output_type": "stream",
     "text": [
      "https://image.ohou.se/i/bucketplace-v2-development/uploads/openapi/712282/1653464962146.jpg?gif=1&w=360&h=360&c=c&q=0.8&webp=1\n"
     ]
    },
    {
     "name": "stderr",
     "output_type": "stream",
     "text": [
      " 31%|███▏      | 34/108 [00:48<02:14,  1.82s/it]"
     ]
    },
    {
     "name": "stdout",
     "output_type": "stream",
     "text": [
      "https://image.ohou.se/i/bucketplace-v2-development/uploads/productions/1541485758_115419_1.jpg?gif=1&w=360&h=360&c=c&q=0.8&webp=1\n"
     ]
    },
    {
     "name": "stderr",
     "output_type": "stream",
     "text": [
      " 32%|███▏      | 35/108 [00:49<01:55,  1.58s/it]"
     ]
    },
    {
     "name": "stdout",
     "output_type": "stream",
     "text": [
      "https://image.ohou.se/i/bucketplace-v2-development/uploads/productions/166720305857895660.jpg?gif=1&w=360&h=360&c=c&q=0.8&webp=1\n"
     ]
    },
    {
     "name": "stderr",
     "output_type": "stream",
     "text": [
      " 33%|███▎      | 36/108 [00:51<02:00,  1.68s/it]"
     ]
    },
    {
     "name": "stdout",
     "output_type": "stream",
     "text": [
      "https://image.ohou.se/i/bucketplace-v2-development/uploads/productions/167219991120911300.jpg?gif=1&w=360&h=360&c=c&q=0.8&webp=1\n"
     ]
    },
    {
     "name": "stderr",
     "output_type": "stream",
     "text": [
      " 34%|███▍      | 37/108 [00:53<01:53,  1.60s/it]"
     ]
    },
    {
     "name": "stdout",
     "output_type": "stream",
     "text": [
      "https://image.ohou.se/i/bucketplace-v2-development/uploads/productions/159004046625948987.jpg?gif=1&w=360&h=360&c=c&q=0.8&webp=1\n"
     ]
    },
    {
     "name": "stderr",
     "output_type": "stream",
     "text": [
      " 35%|███▌      | 38/108 [00:54<01:53,  1.62s/it]"
     ]
    },
    {
     "name": "stdout",
     "output_type": "stream",
     "text": [
      "https://image.ohou.se/i/bucketplace-v2-development/uploads/openapi/814499/1673600512292.jpg?gif=1&w=360&h=360&c=c&q=0.8&webp=1\n"
     ]
    },
    {
     "name": "stderr",
     "output_type": "stream",
     "text": [
      " 36%|███▌      | 39/108 [00:56<02:01,  1.76s/it]"
     ]
    },
    {
     "name": "stdout",
     "output_type": "stream",
     "text": [
      "https://image.ohou.se/i/bucketplace-v2-development/uploads/productions/164119704093882953.jpg?gif=1&w=360&h=360&c=c&q=0.8&webp=1\n"
     ]
    },
    {
     "name": "stderr",
     "output_type": "stream",
     "text": [
      " 37%|███▋      | 40/108 [00:58<01:54,  1.68s/it]"
     ]
    },
    {
     "name": "stdout",
     "output_type": "stream",
     "text": [
      "https://image.ohou.se/i/bucketplace-v2-development/uploads/productions/164905119613473806.jpg?gif=1&w=360&h=360&c=c&q=0.8&webp=1\n"
     ]
    },
    {
     "name": "stderr",
     "output_type": "stream",
     "text": [
      " 38%|███▊      | 41/108 [01:00<01:57,  1.75s/it]"
     ]
    },
    {
     "name": "stdout",
     "output_type": "stream",
     "text": [
      "https://image.ohou.se/i/bucketplace-v2-development/uploads/productions/160066908341771841.jpg?gif=1&w=360&h=360&c=c&q=0.8&webp=1\n"
     ]
    },
    {
     "name": "stderr",
     "output_type": "stream",
     "text": [
      " 39%|███▉      | 42/108 [01:02<01:54,  1.73s/it]"
     ]
    },
    {
     "name": "stdout",
     "output_type": "stream",
     "text": [
      "https://image.ohou.se/i/bucketplace-v2-development/uploads/productions/159298770974110932.jpg?gif=1&w=360&h=360&c=c&q=0.8&webp=1\n"
     ]
    },
    {
     "name": "stderr",
     "output_type": "stream",
     "text": [
      " 40%|███▉      | 43/108 [01:03<01:50,  1.70s/it]"
     ]
    },
    {
     "name": "stdout",
     "output_type": "stream",
     "text": [
      "https://image.ohou.se/i/bucketplace-v2-development/uploads/openapi/3886323/1695706716530.jpg?gif=1&w=360&h=360&c=c&q=0.8&webp=1\n"
     ]
    },
    {
     "name": "stderr",
     "output_type": "stream",
     "text": [
      " 41%|████      | 44/108 [01:04<01:32,  1.44s/it]"
     ]
    },
    {
     "name": "stdout",
     "output_type": "stream",
     "text": [
      "https://image.ohou.se/i/bucketplace-v2-development/uploads/productions/168189135540517193.jpg?gif=1&w=360&h=360&c=c&q=0.8&webp=1\n"
     ]
    },
    {
     "name": "stderr",
     "output_type": "stream",
     "text": [
      " 42%|████▏     | 45/108 [01:06<01:34,  1.50s/it]"
     ]
    },
    {
     "name": "stdout",
     "output_type": "stream",
     "text": [
      "https://image.ohou.se/i/bucketplace-v2-development/uploads/productions/1602480374_108990_1.jpg?gif=1&w=360&h=360&c=c&q=0.8&webp=1\n"
     ]
    },
    {
     "name": "stderr",
     "output_type": "stream",
     "text": [
      " 43%|████▎     | 46/108 [01:07<01:32,  1.49s/it]"
     ]
    },
    {
     "name": "stdout",
     "output_type": "stream",
     "text": [
      "https://image.ohou.se/i/bucketplace-v2-development/uploads/productions/160197328092519255.jpg?gif=1&w=360&h=360&c=c&q=0.8&webp=1\n",
      "https://image.ohou.se/i/bucketplace-v2-development/uploads/productions/162938358069542814.jpg?gif=1&w=360&h=360&c=c&q=0.8&webp=1\n"
     ]
    },
    {
     "name": "stderr",
     "output_type": "stream",
     "text": [
      " 44%|████▍     | 48/108 [01:11<01:41,  1.69s/it]"
     ]
    },
    {
     "name": "stdout",
     "output_type": "stream",
     "text": [
      "https://image.ohou.se/i/bucketplace-v2-development/uploads/productions/162337739491278743.jpg?gif=1&w=360&h=360&c=c&q=0.8&webp=1\n"
     ]
    },
    {
     "name": "stderr",
     "output_type": "stream",
     "text": [
      " 45%|████▌     | 49/108 [01:13<01:47,  1.83s/it]"
     ]
    },
    {
     "name": "stdout",
     "output_type": "stream",
     "text": [
      "https://image.ohou.se/i/bucketplace-v2-development/uploads/productions/159004846236764524.jpg?gif=1&w=360&h=360&c=c&q=0.8&webp=1\n"
     ]
    },
    {
     "name": "stderr",
     "output_type": "stream",
     "text": [
      " 46%|████▋     | 50/108 [01:15<01:44,  1.80s/it]"
     ]
    },
    {
     "name": "stdout",
     "output_type": "stream",
     "text": [
      "https://image.ohou.se/i/bucketplace-v2-development/uploads/openapi/3886323/1695706720067.jpg?gif=1&w=360&h=360&c=c&q=0.8&webp=1\n"
     ]
    },
    {
     "name": "stderr",
     "output_type": "stream",
     "text": [
      " 47%|████▋     | 51/108 [01:16<01:38,  1.72s/it]"
     ]
    },
    {
     "name": "stdout",
     "output_type": "stream",
     "text": [
      "https://image.ohou.se/i/bucketplace-v2-development/uploads/productions/161900075571287982.jpg?gif=1&w=360&h=360&c=c&q=0.8&webp=1\n"
     ]
    },
    {
     "name": "stderr",
     "output_type": "stream",
     "text": [
      " 48%|████▊     | 52/108 [01:18<01:27,  1.56s/it]"
     ]
    },
    {
     "name": "stdout",
     "output_type": "stream",
     "text": [
      "https://image.ohou.se/i/bucketplace-v2-development/uploads/productions/160739611087597703.jpg?gif=1&w=360&h=360&c=c&q=0.8&webp=1\n"
     ]
    },
    {
     "name": "stderr",
     "output_type": "stream",
     "text": [
      " 49%|████▉     | 53/108 [01:19<01:20,  1.46s/it]"
     ]
    },
    {
     "name": "stdout",
     "output_type": "stream",
     "text": [
      "https://image.ohou.se/i/bucketplace-v2-development/uploads/productions/162121995846603431.jpg?gif=1&w=360&h=360&c=c&q=0.8&webp=1\n"
     ]
    },
    {
     "name": "stderr",
     "output_type": "stream",
     "text": [
      " 50%|█████     | 54/108 [01:20<01:18,  1.45s/it]"
     ]
    },
    {
     "name": "stdout",
     "output_type": "stream",
     "text": [
      "https://image.ohou.se/i/bucketplace-v2-development/uploads/productions/167220025851975761.jpg?gif=1&w=360&h=360&c=c&q=0.8&webp=1\n"
     ]
    },
    {
     "name": "stderr",
     "output_type": "stream",
     "text": [
      " 51%|█████     | 55/108 [01:22<01:25,  1.61s/it]"
     ]
    },
    {
     "name": "stdout",
     "output_type": "stream",
     "text": [
      "https://image.ohou.se/i/bucketplace-v2-development/uploads/productions/162814775674882553.jpg?gif=1&w=360&h=360&c=c&q=0.8&webp=1\n"
     ]
    },
    {
     "name": "stderr",
     "output_type": "stream",
     "text": [
      " 52%|█████▏    | 56/108 [01:24<01:20,  1.55s/it]"
     ]
    },
    {
     "name": "stdout",
     "output_type": "stream",
     "text": [
      "https://image.ohou.se/i/bucketplace-v2-development/uploads/productions/160914797500825138.jpg?gif=1&w=360&h=360&c=c&q=0.8&webp=1\n"
     ]
    },
    {
     "name": "stderr",
     "output_type": "stream",
     "text": [
      " 53%|█████▎    | 57/108 [01:25<01:21,  1.59s/it]"
     ]
    },
    {
     "name": "stdout",
     "output_type": "stream",
     "text": [
      "https://image.ohou.se/i/bucketplace-v2-development/uploads/productions/166720269687357933.jpg?gif=1&w=360&h=360&c=c&q=0.8&webp=1\n"
     ]
    },
    {
     "name": "stderr",
     "output_type": "stream",
     "text": [
      " 54%|█████▎    | 58/108 [01:27<01:13,  1.47s/it]"
     ]
    },
    {
     "name": "stdout",
     "output_type": "stream",
     "text": [
      "https://image.ohou.se/i/bucketplace-v2-development/uploads/productions/162814771251552406.jpg?gif=1&w=360&h=360&c=c&q=0.8&webp=1\n"
     ]
    },
    {
     "name": "stderr",
     "output_type": "stream",
     "text": [
      " 55%|█████▍    | 59/108 [01:28<01:16,  1.56s/it]"
     ]
    },
    {
     "name": "stdout",
     "output_type": "stream",
     "text": [
      "https://image.ohou.se/i/bucketplace-v2-development/uploads/productions/159713224846048385.jpg?gif=1&w=360&h=360&c=c&q=0.8&webp=1\n"
     ]
    },
    {
     "name": "stderr",
     "output_type": "stream",
     "text": [
      " 56%|█████▌    | 60/108 [01:31<01:24,  1.75s/it]"
     ]
    },
    {
     "name": "stdout",
     "output_type": "stream",
     "text": [
      "https://image.ohou.se/i/bucketplace-v2-development/uploads/productions/164429520337645392.jpg?gif=1&w=360&h=360&c=c&q=0.8&webp=1\n"
     ]
    },
    {
     "name": "stderr",
     "output_type": "stream",
     "text": [
      " 56%|█████▋    | 61/108 [01:32<01:19,  1.69s/it]"
     ]
    },
    {
     "name": "stdout",
     "output_type": "stream",
     "text": [
      "https://image.ohou.se/i/bucketplace-v2-development/uploads/openapi/1146150/1672723976516.jpg?gif=1&w=360&h=360&c=c&q=0.8&webp=1\n"
     ]
    },
    {
     "name": "stderr",
     "output_type": "stream",
     "text": [
      " 57%|█████▋    | 62/108 [01:34<01:18,  1.71s/it]"
     ]
    },
    {
     "name": "stdout",
     "output_type": "stream",
     "text": [
      "https://image.ohou.se/i/bucketplace-v2-development/uploads/productions/156412422298938609.jpg?gif=1&w=360&h=360&c=c&q=0.8&webp=1\n"
     ]
    },
    {
     "name": "stderr",
     "output_type": "stream",
     "text": [
      " 58%|█████▊    | 63/108 [01:35<01:09,  1.55s/it]"
     ]
    },
    {
     "name": "stdout",
     "output_type": "stream",
     "text": [
      "https://image.ohou.se/i/bucketplace-v2-development/uploads/productions/162667662218971319.jpg?gif=1&w=360&h=360&c=c&q=0.8&webp=1\n"
     ]
    },
    {
     "name": "stderr",
     "output_type": "stream",
     "text": [
      " 59%|█████▉    | 64/108 [01:36<01:05,  1.50s/it]"
     ]
    },
    {
     "name": "stdout",
     "output_type": "stream",
     "text": [
      "https://image.ohou.se/i/bucketplace-v2-development/uploads/openapi/814499/1664526148404.jpg?gif=1&w=360&h=360&c=c&q=0.8&webp=1\n"
     ]
    },
    {
     "name": "stderr",
     "output_type": "stream",
     "text": [
      " 60%|██████    | 65/108 [01:38<01:05,  1.53s/it]"
     ]
    },
    {
     "name": "stdout",
     "output_type": "stream",
     "text": [
      "https://image.ohou.se/i/bucketplace-v2-development/uploads/productions/160128249270291028.jpg?gif=1&w=360&h=360&c=c&q=0.8&webp=1\n"
     ]
    },
    {
     "name": "stderr",
     "output_type": "stream",
     "text": [
      " 61%|██████    | 66/108 [01:39<00:55,  1.31s/it]"
     ]
    },
    {
     "name": "stdout",
     "output_type": "stream",
     "text": [
      "https://image.ohou.se/i/bucketplace-v2-development/uploads/productions/163575027796251295.jpg?gif=1&w=360&h=360&c=c&q=0.8&webp=1\n"
     ]
    },
    {
     "name": "stderr",
     "output_type": "stream",
     "text": [
      " 62%|██████▏   | 67/108 [01:40<00:48,  1.18s/it]"
     ]
    },
    {
     "name": "stdout",
     "output_type": "stream",
     "text": [
      "ERROR!!\n"
     ]
    },
    {
     "name": "stderr",
     "output_type": "stream",
     "text": [
      " 63%|██████▎   | 68/108 [01:40<00:39,  1.02it/s]"
     ]
    },
    {
     "name": "stdout",
     "output_type": "stream",
     "text": [
      "ERROR!!\n"
     ]
    },
    {
     "name": "stderr",
     "output_type": "stream",
     "text": [
      " 64%|██████▍   | 69/108 [01:42<00:42,  1.10s/it]"
     ]
    },
    {
     "name": "stdout",
     "output_type": "stream",
     "text": [
      "ERROR!!\n"
     ]
    },
    {
     "name": "stderr",
     "output_type": "stream",
     "text": [
      " 65%|██████▍   | 70/108 [01:43<00:44,  1.18s/it]"
     ]
    },
    {
     "name": "stdout",
     "output_type": "stream",
     "text": [
      "https://image.ohou.se/i/bucketplace-v2-development/uploads/productions/159134139403514323.jpg?gif=1&w=360&h=360&c=c&q=0.8&webp=1\n"
     ]
    },
    {
     "name": "stderr",
     "output_type": "stream",
     "text": [
      " 66%|██████▌   | 71/108 [01:44<00:45,  1.24s/it]"
     ]
    },
    {
     "name": "stdout",
     "output_type": "stream",
     "text": [
      "https://image.ohou.se/i/bucketplace-v2-development/uploads/productions/161899571373407312.jpg?gif=1&w=360&h=360&c=c&q=0.8&webp=1\n"
     ]
    },
    {
     "name": "stderr",
     "output_type": "stream",
     "text": [
      " 67%|██████▋   | 72/108 [01:48<01:06,  1.85s/it]"
     ]
    },
    {
     "name": "stdout",
     "output_type": "stream",
     "text": [
      "https://image.ohou.se/i/bucketplace-v2-development/uploads/productions/15650448020240_9o3xS.jpg?gif=1&w=360&h=360&c=c&q=0.8&webp=1\n"
     ]
    },
    {
     "name": "stderr",
     "output_type": "stream",
     "text": [
      " 68%|██████▊   | 73/108 [01:49<00:56,  1.60s/it]"
     ]
    },
    {
     "name": "stdout",
     "output_type": "stream",
     "text": [
      "https://image.ohou.se/i/bucketplace-v2-development/uploads/openapi/3886323/1691638647482.jpg?gif=1&w=360&h=360&c=c&q=0.8&webp=1\n"
     ]
    },
    {
     "name": "stderr",
     "output_type": "stream",
     "text": [
      " 69%|██████▊   | 74/108 [01:51<00:58,  1.72s/it]"
     ]
    },
    {
     "name": "stdout",
     "output_type": "stream",
     "text": [
      "https://image.ohou.se/i/bucketplace-v2-development/uploads/productions/164915495420290106.jpg?gif=1&w=360&h=360&c=c&q=0.8&webp=1\n"
     ]
    },
    {
     "name": "stderr",
     "output_type": "stream",
     "text": [
      " 69%|██████▉   | 75/108 [01:52<00:54,  1.65s/it]"
     ]
    },
    {
     "name": "stdout",
     "output_type": "stream",
     "text": [
      "https://image.ohou.se/i/bucketplace-v2-development/uploads/openapi/814499/1667970141417.jpg?gif=1&w=360&h=360&c=c&q=0.8&webp=1\n"
     ]
    },
    {
     "name": "stderr",
     "output_type": "stream",
     "text": [
      " 70%|███████   | 76/108 [01:53<00:50,  1.57s/it]"
     ]
    },
    {
     "name": "stdout",
     "output_type": "stream",
     "text": [
      "https://image.ohou.se/i/bucketplace-v2-development/uploads/productions/163348832043020412.jpg?gif=1&w=360&h=360&c=c&q=0.8&webp=1\n"
     ]
    },
    {
     "name": "stderr",
     "output_type": "stream",
     "text": [
      " 71%|███████▏  | 77/108 [01:55<00:49,  1.60s/it]"
     ]
    },
    {
     "name": "stdout",
     "output_type": "stream",
     "text": [
      "https://image.ohou.se/i/bucketplace-v2-development/uploads/productions/158043267199971375.jpg?gif=1&w=360&h=360&c=c&q=0.8&webp=1\n"
     ]
    },
    {
     "name": "stderr",
     "output_type": "stream",
     "text": [
      " 72%|███████▏  | 78/108 [01:57<00:53,  1.78s/it]"
     ]
    },
    {
     "name": "stdout",
     "output_type": "stream",
     "text": [
      "https://image.ohou.se/i/bucketplace-v2-development/uploads/productions/166753719220173433.jpg?gif=1&w=360&h=360&c=c&q=0.8&webp=1\n"
     ]
    },
    {
     "name": "stderr",
     "output_type": "stream",
     "text": [
      " 73%|███████▎  | 79/108 [01:59<00:53,  1.83s/it]"
     ]
    },
    {
     "name": "stdout",
     "output_type": "stream",
     "text": [
      "https://image.ohou.se/i/bucketplace-v2-development/uploads/productions/160567456726999227.jpg?gif=1&w=360&h=360&c=c&q=0.8&webp=1\n"
     ]
    },
    {
     "name": "stderr",
     "output_type": "stream",
     "text": [
      " 74%|███████▍  | 80/108 [02:02<00:54,  1.96s/it]"
     ]
    },
    {
     "name": "stdout",
     "output_type": "stream",
     "text": [
      "https://image.ohou.se/i/bucketplace-v2-development/uploads/productions/169389770423008068.jpg?gif=1&w=360&h=360&c=c&q=0.8&webp=1\n"
     ]
    },
    {
     "name": "stderr",
     "output_type": "stream",
     "text": [
      " 75%|███████▌  | 81/108 [02:04<00:57,  2.14s/it]"
     ]
    },
    {
     "name": "stdout",
     "output_type": "stream",
     "text": [
      "https://image.ohou.se/i/bucketplace-v2-development/uploads/productions/165717961791325406.jpg?gif=1&w=360&h=360&c=c&q=0.8&webp=1\n"
     ]
    },
    {
     "name": "stderr",
     "output_type": "stream",
     "text": [
      " 76%|███████▌  | 82/108 [02:07<01:00,  2.34s/it]"
     ]
    },
    {
     "name": "stdout",
     "output_type": "stream",
     "text": [
      "https://image.ohou.se/i/bucketplace-v2-development/uploads/productions/1571793783_101515_1.jpg?gif=1&w=360&h=360&c=c&q=0.8&webp=1\n"
     ]
    },
    {
     "name": "stderr",
     "output_type": "stream",
     "text": [
      " 77%|███████▋  | 83/108 [02:08<00:51,  2.05s/it]"
     ]
    },
    {
     "name": "stdout",
     "output_type": "stream",
     "text": [
      "https://image.ohou.se/i/bucketplace-v2-development/uploads/openapi/3886323/1665647022625.jpg?gif=1&w=360&h=360&c=c&q=0.8&webp=1\n"
     ]
    },
    {
     "name": "stderr",
     "output_type": "stream",
     "text": [
      " 78%|███████▊  | 84/108 [02:10<00:45,  1.88s/it]"
     ]
    },
    {
     "name": "stdout",
     "output_type": "stream",
     "text": [
      "https://image.ohou.se/i/bucketplace-v2-development/uploads/productions/169199113993049880.jpg?gif=1&w=360&h=360&c=c&q=0.8&webp=1\n"
     ]
    },
    {
     "name": "stderr",
     "output_type": "stream",
     "text": [
      " 79%|███████▊  | 85/108 [02:11<00:41,  1.82s/it]"
     ]
    },
    {
     "name": "stdout",
     "output_type": "stream",
     "text": [
      "https://image.ohou.se/i/bucketplace-v2-development/uploads/productions/161181984404879460.jpg?gif=1&w=360&h=360&c=c&q=0.8&webp=1\n"
     ]
    },
    {
     "name": "stderr",
     "output_type": "stream",
     "text": [
      " 80%|███████▉  | 86/108 [02:13<00:39,  1.82s/it]"
     ]
    },
    {
     "name": "stdout",
     "output_type": "stream",
     "text": [
      "https://image.ohou.se/i/bucketplace-v2-development/uploads/productions/1593503361_102944_20.jpg?gif=1&w=360&h=360&c=c&q=0.8&webp=1\n"
     ]
    },
    {
     "name": "stderr",
     "output_type": "stream",
     "text": [
      " 81%|████████  | 87/108 [02:15<00:38,  1.83s/it]"
     ]
    },
    {
     "name": "stdout",
     "output_type": "stream",
     "text": [
      "https://image.ohou.se/i/bucketplace-v2-development/uploads/productions/164861562519982844.jpg?gif=1&w=360&h=360&c=c&q=0.8&webp=1\n"
     ]
    },
    {
     "name": "stderr",
     "output_type": "stream",
     "text": [
      " 81%|████████▏ | 88/108 [02:17<00:34,  1.71s/it]"
     ]
    },
    {
     "name": "stdout",
     "output_type": "stream",
     "text": [
      "https://image.ohou.se/i/bucketplace-v2-development/uploads/productions/159168674934553159.jpg?gif=1&w=360&h=360&c=c&q=0.8&webp=1\n"
     ]
    },
    {
     "name": "stderr",
     "output_type": "stream",
     "text": [
      " 82%|████████▏ | 89/108 [02:20<00:41,  2.18s/it]"
     ]
    },
    {
     "name": "stdout",
     "output_type": "stream",
     "text": [
      "https://image.ohou.se/i/bucketplace-v2-development/uploads/productions/156282337515235810.jpg?gif=1&w=360&h=360&c=c&q=0.8&webp=1\n"
     ]
    },
    {
     "name": "stderr",
     "output_type": "stream",
     "text": [
      " 83%|████████▎ | 90/108 [02:21<00:35,  2.00s/it]"
     ]
    },
    {
     "name": "stdout",
     "output_type": "stream",
     "text": [
      "https://image.ohou.se/i/bucketplace-v2-development/uploads/openapi/3886323/1695706614552.jpg?gif=1&w=360&h=360&c=c&q=0.8&webp=1\n"
     ]
    },
    {
     "name": "stderr",
     "output_type": "stream",
     "text": [
      " 84%|████████▍ | 91/108 [02:23<00:29,  1.76s/it]"
     ]
    },
    {
     "name": "stdout",
     "output_type": "stream",
     "text": [
      "https://image.ohou.se/i/bucketplace-v2-development/uploads/productions/160827326840421573.jpg?gif=1&w=360&h=360&c=c&q=0.8&webp=1\n"
     ]
    },
    {
     "name": "stderr",
     "output_type": "stream",
     "text": [
      " 85%|████████▌ | 92/108 [02:25<00:29,  1.86s/it]"
     ]
    },
    {
     "name": "stdout",
     "output_type": "stream",
     "text": [
      "https://image.ohou.se/i/bucketplace-v2-development/uploads/productions/161181924208106475.jpg?gif=1&w=360&h=360&c=c&q=0.8&webp=1\n"
     ]
    },
    {
     "name": "stderr",
     "output_type": "stream",
     "text": [
      " 86%|████████▌ | 93/108 [02:26<00:27,  1.82s/it]"
     ]
    },
    {
     "name": "stdout",
     "output_type": "stream",
     "text": [
      "https://image.ohou.se/i/bucketplace-v2-development/uploads/productions/159590700539389546.jpg?gif=1&w=360&h=360&c=c&q=0.8&webp=1\n"
     ]
    },
    {
     "name": "stderr",
     "output_type": "stream",
     "text": [
      " 87%|████████▋ | 94/108 [02:28<00:25,  1.80s/it]"
     ]
    },
    {
     "name": "stdout",
     "output_type": "stream",
     "text": [
      "https://image.ohou.se/i/bucketplace-v2-development/uploads/productions/167220007733008815.jpg?gif=1&w=360&h=360&c=c&q=0.8&webp=1\n"
     ]
    },
    {
     "name": "stderr",
     "output_type": "stream",
     "text": [
      " 88%|████████▊ | 95/108 [02:31<00:27,  2.09s/it]"
     ]
    },
    {
     "name": "stdout",
     "output_type": "stream",
     "text": [
      "https://image.ohou.se/i/bucketplace-v2-development/uploads/productions/156860198936480547.jpg?gif=1&w=360&h=360&c=c&q=0.8&webp=1\n"
     ]
    },
    {
     "name": "stderr",
     "output_type": "stream",
     "text": [
      " 89%|████████▉ | 96/108 [02:33<00:23,  1.93s/it]"
     ]
    },
    {
     "name": "stdout",
     "output_type": "stream",
     "text": [
      "https://image.ohou.se/i/bucketplace-v2-development/uploads/openapi/814499/1654676110516.jpg?gif=1&w=360&h=360&c=c&q=0.8&webp=1\n"
     ]
    },
    {
     "name": "stderr",
     "output_type": "stream",
     "text": [
      " 90%|████████▉ | 97/108 [02:34<00:18,  1.71s/it]"
     ]
    },
    {
     "name": "stdout",
     "output_type": "stream",
     "text": [
      "https://image.ohou.se/i/bucketplace-v2-development/uploads/productions/162259634302470320.jpg?gif=1&w=360&h=360&c=c&q=0.8&webp=1\n"
     ]
    },
    {
     "name": "stderr",
     "output_type": "stream",
     "text": [
      " 91%|█████████ | 98/108 [02:36<00:20,  2.03s/it]"
     ]
    },
    {
     "name": "stdout",
     "output_type": "stream",
     "text": [
      "https://image.ohou.se/i/bucketplace-v2-development/uploads/productions/160739689148698827.jpg?gif=1&w=360&h=360&c=c&q=0.8&webp=1\n"
     ]
    },
    {
     "name": "stderr",
     "output_type": "stream",
     "text": [
      " 92%|█████████▏| 99/108 [02:38<00:16,  1.79s/it]"
     ]
    },
    {
     "name": "stdout",
     "output_type": "stream",
     "text": [
      "https://image.ohou.se/i/bucketplace-v2-development/uploads/productions/159108233801033127.jpg?gif=1&w=360&h=360&c=c&q=0.8&webp=1\n"
     ]
    },
    {
     "name": "stderr",
     "output_type": "stream",
     "text": [
      " 93%|█████████▎| 100/108 [02:40<00:14,  1.82s/it]"
     ]
    },
    {
     "name": "stdout",
     "output_type": "stream",
     "text": [
      "https://image.ohou.se/i/bucketplace-v2-development/uploads/productions/159851806327893602.jpg?gif=1&w=360&h=360&c=c&q=0.8&webp=1\n"
     ]
    },
    {
     "name": "stderr",
     "output_type": "stream",
     "text": [
      " 94%|█████████▎| 101/108 [02:41<00:11,  1.61s/it]"
     ]
    },
    {
     "name": "stdout",
     "output_type": "stream",
     "text": [
      "https://image.ohou.se/i/bucketplace-v2-development/uploads/productions/163460387991420889.jpg?gif=1&w=360&h=360&c=c&q=0.8&webp=1\n"
     ]
    },
    {
     "name": "stderr",
     "output_type": "stream",
     "text": [
      " 94%|█████████▍| 102/108 [02:42<00:09,  1.56s/it]"
     ]
    },
    {
     "name": "stdout",
     "output_type": "stream",
     "text": [
      "https://image.ohou.se/i/bucketplace-v2-development/uploads/productions/169389668067048902.jpg?gif=1&w=360&h=360&c=c&q=0.8&webp=1\n"
     ]
    },
    {
     "name": "stderr",
     "output_type": "stream",
     "text": [
      " 95%|█████████▌| 103/108 [02:44<00:08,  1.61s/it]"
     ]
    },
    {
     "name": "stdout",
     "output_type": "stream",
     "text": [
      "https://image.ohou.se/i/bucketplace-v2-development/uploads/productions/156349781612308159.jpg?gif=1&w=360&h=360&c=c&q=0.8&webp=1\n"
     ]
    },
    {
     "name": "stderr",
     "output_type": "stream",
     "text": [
      " 96%|█████████▋| 104/108 [02:46<00:06,  1.69s/it]"
     ]
    },
    {
     "name": "stdout",
     "output_type": "stream",
     "text": [
      "https://image.ohou.se/i/bucketplace-v2-development/uploads/productions/165718043005721541.jpg?gif=1&w=360&h=360&c=c&q=0.8&webp=1\n"
     ]
    },
    {
     "name": "stderr",
     "output_type": "stream",
     "text": [
      " 97%|█████████▋| 105/108 [02:47<00:05,  1.67s/it]"
     ]
    },
    {
     "name": "stdout",
     "output_type": "stream",
     "text": [
      "https://image.ohou.se/i/bucketplace-v2-development/uploads/productions/1514513008586_UcxCO.jpg?gif=1&w=360&h=360&c=c&q=0.8&webp=1\n"
     ]
    },
    {
     "name": "stderr",
     "output_type": "stream",
     "text": [
      " 98%|█████████▊| 106/108 [02:49<00:03,  1.80s/it]"
     ]
    },
    {
     "name": "stdout",
     "output_type": "stream",
     "text": [
      "https://image.ohou.se/i/bucketplace-v2-development/uploads/productions/160082643866658797.jpg?gif=1&w=360&h=360&c=c&q=0.8&webp=1\n"
     ]
    },
    {
     "name": "stderr",
     "output_type": "stream",
     "text": [
      " 99%|█████████▉| 107/108 [02:52<00:01,  1.99s/it]"
     ]
    },
    {
     "name": "stdout",
     "output_type": "stream",
     "text": [
      "https://image.ohou.se/i/bucketplace-v2-development/uploads/productions/1560826133017_ol6nVgE.jpg?gif=1&w=360&h=360&c=c&q=0.8&webp=1\n"
     ]
    },
    {
     "name": "stderr",
     "output_type": "stream",
     "text": [
      "100%|██████████| 108/108 [02:55<00:00,  1.62s/it]"
     ]
    },
    {
     "name": "stdout",
     "output_type": "stream",
     "text": [
      "https://image.ohou.se/i/bucketplace-v2-development/uploads/productions/160197307210080038.jpg?gif=1&w=360&h=360&c=c&q=0.8&webp=1\n"
     ]
    },
    {
     "name": "stderr",
     "output_type": "stream",
     "text": [
      "\n"
     ]
    }
   ],
   "source": [
    "i = 0\n",
    "info = []\n",
    "\n",
    "for key,value in tqdm(data.items()):\n",
    "    try:\n",
    "        brand = value[0]\n",
    "        name = value[1]\n",
    "        price = value[2]\n",
    "        src = value[3]\n",
    "        link = value[4]\n",
    "\n",
    "        i += 1\n",
    "        time.sleep(0.5 + random.random())\n",
    "        response = requests.get(src, stream=True)\n",
    "        print(src)\n",
    "\n",
    "        save_image_path = f'./static/img/kitchen/cabinet/cab{i}.png'\n",
    "        if response.status_code == 200:\n",
    "            # 응답 내용을 바이너리 파일로 저장하기\n",
    "            with open(save_image_path, 'wb') as out_file:\n",
    "                out_file.write(response.content)\n",
    "        \n",
    "        info.append([brand, name, price, save_image_path, link, None])\n",
    "\n",
    "    except:\n",
    "        print('ERROR!!')\n",
    "        pass"
   ]
  },
  {
   "cell_type": "code",
   "execution_count": 32,
   "metadata": {},
   "outputs": [
    {
     "data": {
      "text/plain": [
       "105"
      ]
     },
     "execution_count": 32,
     "metadata": {},
     "output_type": "execute_result"
    }
   ],
   "source": [
    "len(info)"
   ]
  },
  {
   "cell_type": "code",
   "execution_count": 33,
   "metadata": {},
   "outputs": [
    {
     "name": "stderr",
     "output_type": "stream",
     "text": [
      " 27%|██▋       | 28/105 [21:35<1:02:48, 48.94s/it]"
     ]
    },
    {
     "name": "stdout",
     "output_type": "stream",
     "text": [
      "ERROR!!\n"
     ]
    },
    {
     "name": "stderr",
     "output_type": "stream",
     "text": [
      " 28%|██▊       | 29/105 [22:28<1:03:24, 50.05s/it]"
     ]
    },
    {
     "name": "stdout",
     "output_type": "stream",
     "text": [
      "ERROR!!\n",
      "ERROR!!\n"
     ]
    },
    {
     "name": "stderr",
     "output_type": "stream",
     "text": [
      " 29%|██▊       | 30/105 [23:19<1:03:09, 50.52s/it]"
     ]
    },
    {
     "name": "stdout",
     "output_type": "stream",
     "text": [
      "ERROR!!\n",
      "ERROR!!\n"
     ]
    },
    {
     "name": "stderr",
     "output_type": "stream",
     "text": [
      " 30%|██▉       | 31/105 [24:07<1:01:28, 49.84s/it]"
     ]
    },
    {
     "name": "stdout",
     "output_type": "stream",
     "text": [
      "ERROR!!\n",
      "ERROR!!\n",
      "ERROR!!\n",
      "ERROR!!\n"
     ]
    },
    {
     "name": "stderr",
     "output_type": "stream",
     "text": [
      " 30%|███       | 32/105 [25:05<1:03:38, 52.31s/it]"
     ]
    },
    {
     "name": "stdout",
     "output_type": "stream",
     "text": [
      "ERROR!!\n",
      "ERROR!!\n",
      "ERROR!!\n",
      "ERROR!!\n",
      "ERROR!!\n"
     ]
    },
    {
     "name": "stderr",
     "output_type": "stream",
     "text": [
      " 31%|███▏      | 33/105 [25:58<1:02:55, 52.44s/it]"
     ]
    },
    {
     "name": "stdout",
     "output_type": "stream",
     "text": [
      "ERROR!!\n",
      "ERROR!!\n",
      "ERROR!!\n",
      "ERROR!!\n",
      "ERROR!!\n"
     ]
    },
    {
     "name": "stderr",
     "output_type": "stream",
     "text": [
      " 32%|███▏      | 34/105 [26:54<1:03:15, 53.46s/it]"
     ]
    },
    {
     "name": "stdout",
     "output_type": "stream",
     "text": [
      "ERROR!!\n",
      "ERROR!!\n",
      "ERROR!!\n",
      "ERROR!!\n",
      "ERROR!!\n"
     ]
    },
    {
     "name": "stderr",
     "output_type": "stream",
     "text": [
      " 33%|███▎      | 35/105 [27:48<1:02:23, 53.48s/it]"
     ]
    },
    {
     "name": "stdout",
     "output_type": "stream",
     "text": [
      "ERROR!!\n",
      "ERROR!!\n",
      "ERROR!!\n",
      "ERROR!!\n",
      "ERROR!!\n"
     ]
    },
    {
     "name": "stderr",
     "output_type": "stream",
     "text": [
      " 34%|███▍      | 36/105 [28:44<1:02:27, 54.31s/it]"
     ]
    },
    {
     "name": "stdout",
     "output_type": "stream",
     "text": [
      "ERROR!!\n",
      "ERROR!!\n",
      "ERROR!!\n",
      "ERROR!!\n",
      "ERROR!!\n",
      "ERROR!!\n"
     ]
    },
    {
     "name": "stderr",
     "output_type": "stream",
     "text": [
      " 35%|███▌      | 37/105 [29:44<1:03:34, 56.10s/it]"
     ]
    },
    {
     "name": "stdout",
     "output_type": "stream",
     "text": [
      "ERROR!!\n",
      "ERROR!!\n",
      "ERROR!!\n",
      "ERROR!!\n",
      "ERROR!!\n",
      "ERROR!!\n"
     ]
    },
    {
     "name": "stderr",
     "output_type": "stream",
     "text": [
      " 36%|███▌      | 38/105 [30:45<1:04:08, 57.44s/it]"
     ]
    },
    {
     "name": "stdout",
     "output_type": "stream",
     "text": [
      "ERROR!!\n",
      "ERROR!!\n",
      "ERROR!!\n",
      "ERROR!!\n",
      "ERROR!!\n",
      "ERROR!!\n"
     ]
    },
    {
     "name": "stderr",
     "output_type": "stream",
     "text": [
      " 37%|███▋      | 39/105 [31:46<1:04:33, 58.68s/it]"
     ]
    },
    {
     "name": "stdout",
     "output_type": "stream",
     "text": [
      "ERROR!!\n",
      "ERROR!!\n",
      "ERROR!!\n",
      "ERROR!!\n",
      "ERROR!!\n",
      "ERROR!!\n"
     ]
    },
    {
     "name": "stderr",
     "output_type": "stream",
     "text": [
      " 38%|███▊      | 40/105 [32:49<1:04:56, 59.95s/it]"
     ]
    },
    {
     "name": "stdout",
     "output_type": "stream",
     "text": [
      "ERROR!!\n",
      "ERROR!!\n",
      "ERROR!!\n",
      "ERROR!!\n",
      "ERROR!!\n",
      "ERROR!!\n"
     ]
    },
    {
     "name": "stderr",
     "output_type": "stream",
     "text": [
      " 39%|███▉      | 41/105 [33:49<1:03:54, 59.91s/it]"
     ]
    },
    {
     "name": "stdout",
     "output_type": "stream",
     "text": [
      "ERROR!!\n",
      "ERROR!!\n",
      "ERROR!!\n",
      "ERROR!!\n",
      "ERROR!!\n",
      "ERROR!!\n",
      "ERROR!!\n"
     ]
    },
    {
     "name": "stderr",
     "output_type": "stream",
     "text": [
      " 40%|████      | 42/105 [34:48<1:02:35, 59.61s/it]"
     ]
    },
    {
     "name": "stdout",
     "output_type": "stream",
     "text": [
      "ERROR!!\n",
      "ERROR!!\n",
      "ERROR!!\n",
      "ERROR!!\n",
      "ERROR!!\n",
      "ERROR!!\n",
      "ERROR!!\n"
     ]
    },
    {
     "name": "stderr",
     "output_type": "stream",
     "text": [
      " 41%|████      | 43/105 [35:47<1:01:23, 59.40s/it]"
     ]
    },
    {
     "name": "stdout",
     "output_type": "stream",
     "text": [
      "ERROR!!\n",
      "ERROR!!\n",
      "ERROR!!\n",
      "ERROR!!\n",
      "ERROR!!\n",
      "ERROR!!\n",
      "ERROR!!\n"
     ]
    },
    {
     "name": "stderr",
     "output_type": "stream",
     "text": [
      " 42%|████▏     | 44/105 [36:48<1:00:54, 59.91s/it]"
     ]
    },
    {
     "name": "stdout",
     "output_type": "stream",
     "text": [
      "ERROR!!\n",
      "ERROR!!\n",
      "ERROR!!\n",
      "ERROR!!\n",
      "ERROR!!\n",
      "ERROR!!\n",
      "ERROR!!\n"
     ]
    },
    {
     "name": "stderr",
     "output_type": "stream",
     "text": [
      " 43%|████▎     | 45/105 [37:50<1:00:25, 60.42s/it]"
     ]
    },
    {
     "name": "stdout",
     "output_type": "stream",
     "text": [
      "ERROR!!\n",
      "ERROR!!\n",
      "ERROR!!\n",
      "ERROR!!\n",
      "ERROR!!\n",
      "ERROR!!\n",
      "ERROR!!\n"
     ]
    },
    {
     "name": "stderr",
     "output_type": "stream",
     "text": [
      " 44%|████▍     | 46/105 [38:47<58:34, 59.57s/it]  "
     ]
    },
    {
     "name": "stdout",
     "output_type": "stream",
     "text": [
      "ERROR!!\n",
      "ERROR!!\n",
      "ERROR!!\n",
      "ERROR!!\n",
      "ERROR!!\n",
      "ERROR!!\n",
      "ERROR!!\n",
      "ERROR!!\n"
     ]
    },
    {
     "name": "stderr",
     "output_type": "stream",
     "text": [
      " 45%|████▍     | 47/105 [39:46<57:22, 59.36s/it]"
     ]
    },
    {
     "name": "stdout",
     "output_type": "stream",
     "text": [
      "ERROR!!\n",
      "ERROR!!\n",
      "ERROR!!\n",
      "ERROR!!\n",
      "ERROR!!\n",
      "ERROR!!\n",
      "ERROR!!\n",
      "ERROR!!\n"
     ]
    },
    {
     "name": "stderr",
     "output_type": "stream",
     "text": [
      " 46%|████▌     | 48/105 [40:55<59:00, 62.12s/it]"
     ]
    },
    {
     "name": "stdout",
     "output_type": "stream",
     "text": [
      "ERROR!!\n",
      "ERROR!!\n",
      "ERROR!!\n",
      "ERROR!!\n",
      "ERROR!!\n",
      "ERROR!!\n",
      "ERROR!!\n",
      "ERROR!!\n"
     ]
    },
    {
     "name": "stderr",
     "output_type": "stream",
     "text": [
      " 47%|████▋     | 49/105 [41:58<58:23, 62.56s/it]"
     ]
    },
    {
     "name": "stdout",
     "output_type": "stream",
     "text": [
      "ERROR!!\n",
      "ERROR!!\n",
      "ERROR!!\n",
      "ERROR!!\n",
      "ERROR!!\n",
      "ERROR!!\n",
      "ERROR!!\n",
      "ERROR!!\n"
     ]
    },
    {
     "name": "stderr",
     "output_type": "stream",
     "text": [
      " 48%|████▊     | 50/105 [43:00<57:03, 62.24s/it]"
     ]
    },
    {
     "name": "stdout",
     "output_type": "stream",
     "text": [
      "ERROR!!\n",
      "ERROR!!\n",
      "ERROR!!\n",
      "ERROR!!\n",
      "ERROR!!\n",
      "ERROR!!\n",
      "ERROR!!\n",
      "ERROR!!\n"
     ]
    },
    {
     "name": "stderr",
     "output_type": "stream",
     "text": [
      " 49%|████▊     | 51/105 [44:03<56:15, 62.51s/it]"
     ]
    },
    {
     "name": "stdout",
     "output_type": "stream",
     "text": [
      "ERROR!!\n",
      "ERROR!!\n",
      "ERROR!!\n",
      "ERROR!!\n",
      "ERROR!!\n",
      "ERROR!!\n",
      "ERROR!!\n",
      "ERROR!!\n",
      "ERROR!!\n"
     ]
    },
    {
     "name": "stderr",
     "output_type": "stream",
     "text": [
      " 50%|████▉     | 52/105 [45:08<55:51, 63.24s/it]"
     ]
    },
    {
     "name": "stdout",
     "output_type": "stream",
     "text": [
      "ERROR!!\n",
      "ERROR!!\n",
      "ERROR!!\n",
      "ERROR!!\n",
      "ERROR!!\n",
      "ERROR!!\n",
      "ERROR!!\n",
      "ERROR!!\n",
      "ERROR!!\n"
     ]
    },
    {
     "name": "stderr",
     "output_type": "stream",
     "text": [
      " 50%|█████     | 53/105 [46:10<54:28, 62.85s/it]"
     ]
    },
    {
     "name": "stdout",
     "output_type": "stream",
     "text": [
      "ERROR!!\n",
      "ERROR!!\n",
      "ERROR!!\n",
      "ERROR!!\n",
      "ERROR!!\n",
      "ERROR!!\n",
      "ERROR!!\n",
      "ERROR!!\n",
      "ERROR!!\n"
     ]
    },
    {
     "name": "stderr",
     "output_type": "stream",
     "text": [
      " 51%|█████▏    | 54/105 [47:16<54:12, 63.77s/it]"
     ]
    },
    {
     "name": "stdout",
     "output_type": "stream",
     "text": [
      "ERROR!!\n",
      "ERROR!!\n",
      "ERROR!!\n",
      "ERROR!!\n",
      "ERROR!!\n",
      "ERROR!!\n",
      "ERROR!!\n",
      "ERROR!!\n",
      "ERROR!!\n",
      "ERROR!!\n"
     ]
    },
    {
     "name": "stderr",
     "output_type": "stream",
     "text": [
      " 52%|█████▏    | 55/105 [48:23<54:01, 64.83s/it]"
     ]
    },
    {
     "name": "stdout",
     "output_type": "stream",
     "text": [
      "ERROR!!\n",
      "ERROR!!\n",
      "ERROR!!\n",
      "ERROR!!\n",
      "ERROR!!\n",
      "ERROR!!\n",
      "ERROR!!\n",
      "ERROR!!\n",
      "ERROR!!\n",
      "ERROR!!\n"
     ]
    },
    {
     "name": "stderr",
     "output_type": "stream",
     "text": [
      " 53%|█████▎    | 56/105 [49:31<53:44, 65.80s/it]"
     ]
    },
    {
     "name": "stdout",
     "output_type": "stream",
     "text": [
      "ERROR!!\n",
      "ERROR!!\n",
      "ERROR!!\n",
      "ERROR!!\n",
      "ERROR!!\n",
      "ERROR!!\n",
      "ERROR!!\n",
      "ERROR!!\n",
      "ERROR!!\n",
      "ERROR!!\n"
     ]
    },
    {
     "name": "stderr",
     "output_type": "stream",
     "text": [
      " 54%|█████▍    | 57/105 [50:35<52:13, 65.28s/it]"
     ]
    },
    {
     "name": "stdout",
     "output_type": "stream",
     "text": [
      "ERROR!!\n",
      "ERROR!!\n",
      "ERROR!!\n",
      "ERROR!!\n",
      "ERROR!!\n",
      "ERROR!!\n",
      "ERROR!!\n",
      "ERROR!!\n",
      "ERROR!!\n",
      "ERROR!!\n"
     ]
    },
    {
     "name": "stderr",
     "output_type": "stream",
     "text": [
      " 55%|█████▌    | 58/105 [51:41<51:20, 65.55s/it]"
     ]
    },
    {
     "name": "stdout",
     "output_type": "stream",
     "text": [
      "ERROR!!\n",
      "ERROR!!\n",
      "ERROR!!\n",
      "ERROR!!\n",
      "ERROR!!\n",
      "ERROR!!\n",
      "ERROR!!\n",
      "ERROR!!\n",
      "ERROR!!\n",
      "ERROR!!\n"
     ]
    },
    {
     "name": "stderr",
     "output_type": "stream",
     "text": [
      " 56%|█████▌    | 59/105 [52:49<50:50, 66.31s/it]"
     ]
    },
    {
     "name": "stdout",
     "output_type": "stream",
     "text": [
      "ERROR!!\n",
      "ERROR!!\n",
      "ERROR!!\n",
      "ERROR!!\n",
      "ERROR!!\n",
      "ERROR!!\n",
      "ERROR!!\n",
      "ERROR!!\n",
      "ERROR!!\n",
      "ERROR!!\n"
     ]
    },
    {
     "name": "stderr",
     "output_type": "stream",
     "text": [
      " 57%|█████▋    | 60/105 [53:54<49:24, 65.87s/it]"
     ]
    },
    {
     "name": "stdout",
     "output_type": "stream",
     "text": [
      "ERROR!!\n",
      "ERROR!!\n",
      "ERROR!!\n",
      "ERROR!!\n",
      "ERROR!!\n",
      "ERROR!!\n",
      "ERROR!!\n",
      "ERROR!!\n",
      "ERROR!!\n",
      "ERROR!!\n"
     ]
    },
    {
     "name": "stderr",
     "output_type": "stream",
     "text": [
      " 58%|█████▊    | 61/105 [55:01<48:26, 66.05s/it]"
     ]
    },
    {
     "name": "stdout",
     "output_type": "stream",
     "text": [
      "ERROR!!\n",
      "ERROR!!\n",
      "ERROR!!\n",
      "ERROR!!\n",
      "ERROR!!\n",
      "ERROR!!\n",
      "ERROR!!\n",
      "ERROR!!\n",
      "ERROR!!\n",
      "ERROR!!\n",
      "ERROR!!\n"
     ]
    },
    {
     "name": "stderr",
     "output_type": "stream",
     "text": [
      " 59%|█████▉    | 62/105 [56:12<48:24, 67.56s/it]"
     ]
    },
    {
     "name": "stdout",
     "output_type": "stream",
     "text": [
      "ERROR!!\n",
      "ERROR!!\n",
      "ERROR!!\n",
      "ERROR!!\n",
      "ERROR!!\n",
      "ERROR!!\n",
      "ERROR!!\n",
      "ERROR!!\n",
      "ERROR!!\n",
      "ERROR!!\n",
      "ERROR!!\n"
     ]
    },
    {
     "name": "stderr",
     "output_type": "stream",
     "text": [
      " 60%|██████    | 63/105 [57:19<47:16, 67.55s/it]"
     ]
    },
    {
     "name": "stdout",
     "output_type": "stream",
     "text": [
      "ERROR!!\n",
      "ERROR!!\n",
      "ERROR!!\n",
      "ERROR!!\n",
      "ERROR!!\n",
      "ERROR!!\n",
      "ERROR!!\n",
      "ERROR!!\n",
      "ERROR!!\n",
      "ERROR!!\n",
      "ERROR!!\n"
     ]
    },
    {
     "name": "stderr",
     "output_type": "stream",
     "text": [
      " 61%|██████    | 64/105 [58:27<46:12, 67.62s/it]"
     ]
    },
    {
     "name": "stdout",
     "output_type": "stream",
     "text": [
      "ERROR!!\n",
      "ERROR!!\n",
      "ERROR!!\n",
      "ERROR!!\n",
      "ERROR!!\n",
      "ERROR!!\n",
      "ERROR!!\n",
      "ERROR!!\n",
      "ERROR!!\n",
      "ERROR!!\n",
      "ERROR!!\n"
     ]
    },
    {
     "name": "stderr",
     "output_type": "stream",
     "text": [
      " 62%|██████▏   | 65/105 [59:39<45:58, 68.96s/it]"
     ]
    },
    {
     "name": "stdout",
     "output_type": "stream",
     "text": [
      "ERROR!!\n",
      "ERROR!!\n",
      "ERROR!!\n",
      "ERROR!!\n",
      "ERROR!!\n",
      "ERROR!!\n",
      "ERROR!!\n",
      "ERROR!!\n",
      "ERROR!!\n",
      "ERROR!!\n",
      "ERROR!!\n"
     ]
    },
    {
     "name": "stderr",
     "output_type": "stream",
     "text": [
      " 63%|██████▎   | 66/105 [1:00:44<43:59, 67.69s/it]"
     ]
    },
    {
     "name": "stdout",
     "output_type": "stream",
     "text": [
      "ERROR!!\n",
      "ERROR!!\n",
      "ERROR!!\n",
      "ERROR!!\n",
      "ERROR!!\n",
      "ERROR!!\n",
      "ERROR!!\n",
      "ERROR!!\n",
      "ERROR!!\n",
      "ERROR!!\n",
      "ERROR!!\n",
      "ERROR!!\n"
     ]
    },
    {
     "name": "stderr",
     "output_type": "stream",
     "text": [
      " 64%|██████▍   | 67/105 [1:01:57<43:53, 69.29s/it]"
     ]
    },
    {
     "name": "stdout",
     "output_type": "stream",
     "text": [
      "ERROR!!\n",
      "ERROR!!\n",
      "ERROR!!\n",
      "ERROR!!\n",
      "ERROR!!\n",
      "ERROR!!\n",
      "ERROR!!\n",
      "ERROR!!\n",
      "ERROR!!\n",
      "ERROR!!\n",
      "ERROR!!\n",
      "ERROR!!\n"
     ]
    },
    {
     "name": "stderr",
     "output_type": "stream",
     "text": [
      " 65%|██████▍   | 68/105 [1:03:14<44:15, 71.78s/it]"
     ]
    },
    {
     "name": "stdout",
     "output_type": "stream",
     "text": [
      "ERROR!!\n",
      "ERROR!!\n",
      "ERROR!!\n",
      "ERROR!!\n",
      "ERROR!!\n",
      "ERROR!!\n",
      "ERROR!!\n",
      "ERROR!!\n",
      "ERROR!!\n",
      "ERROR!!\n",
      "ERROR!!\n",
      "ERROR!!\n",
      "ERROR!!\n"
     ]
    },
    {
     "name": "stderr",
     "output_type": "stream",
     "text": [
      " 66%|██████▌   | 69/105 [1:04:31<43:59, 73.33s/it]"
     ]
    },
    {
     "name": "stdout",
     "output_type": "stream",
     "text": [
      "ERROR!!\n",
      "ERROR!!\n",
      "ERROR!!\n",
      "ERROR!!\n",
      "ERROR!!\n",
      "ERROR!!\n",
      "ERROR!!\n",
      "ERROR!!\n",
      "ERROR!!\n",
      "ERROR!!\n",
      "ERROR!!\n",
      "ERROR!!\n",
      "ERROR!!\n"
     ]
    },
    {
     "name": "stderr",
     "output_type": "stream",
     "text": [
      " 67%|██████▋   | 70/105 [1:05:44<42:36, 73.04s/it]"
     ]
    },
    {
     "name": "stdout",
     "output_type": "stream",
     "text": [
      "ERROR!!\n",
      "ERROR!!\n",
      "ERROR!!\n",
      "ERROR!!\n",
      "ERROR!!\n",
      "ERROR!!\n",
      "ERROR!!\n",
      "ERROR!!\n",
      "ERROR!!\n",
      "ERROR!!\n",
      "ERROR!!\n",
      "ERROR!!\n",
      "ERROR!!\n"
     ]
    },
    {
     "name": "stderr",
     "output_type": "stream",
     "text": [
      " 68%|██████▊   | 71/105 [1:06:59<41:45, 73.69s/it]"
     ]
    },
    {
     "name": "stdout",
     "output_type": "stream",
     "text": [
      "ERROR!!\n",
      "ERROR!!\n",
      "ERROR!!\n",
      "ERROR!!\n",
      "ERROR!!\n",
      "ERROR!!\n",
      "ERROR!!\n",
      "ERROR!!\n",
      "ERROR!!\n",
      "ERROR!!\n",
      "ERROR!!\n",
      "ERROR!!\n",
      "ERROR!!\n"
     ]
    },
    {
     "name": "stderr",
     "output_type": "stream",
     "text": [
      " 69%|██████▊   | 72/105 [1:08:11<40:13, 73.14s/it]"
     ]
    },
    {
     "name": "stdout",
     "output_type": "stream",
     "text": [
      "ERROR!!\n",
      "ERROR!!\n",
      "ERROR!!\n",
      "ERROR!!\n",
      "ERROR!!\n",
      "ERROR!!\n",
      "ERROR!!\n",
      "ERROR!!\n",
      "ERROR!!\n",
      "ERROR!!\n",
      "ERROR!!\n",
      "ERROR!!\n",
      "ERROR!!\n"
     ]
    },
    {
     "name": "stderr",
     "output_type": "stream",
     "text": [
      " 70%|██████▉   | 73/105 [1:09:23<38:50, 72.82s/it]"
     ]
    },
    {
     "name": "stdout",
     "output_type": "stream",
     "text": [
      "ERROR!!\n",
      "ERROR!!\n",
      "ERROR!!\n",
      "ERROR!!\n",
      "ERROR!!\n",
      "ERROR!!\n",
      "ERROR!!\n",
      "ERROR!!\n",
      "ERROR!!\n",
      "ERROR!!\n",
      "ERROR!!\n",
      "ERROR!!\n",
      "ERROR!!\n"
     ]
    },
    {
     "name": "stderr",
     "output_type": "stream",
     "text": [
      " 70%|███████   | 74/105 [1:10:36<37:43, 73.03s/it]"
     ]
    },
    {
     "name": "stdout",
     "output_type": "stream",
     "text": [
      "ERROR!!\n",
      "ERROR!!\n",
      "ERROR!!\n",
      "ERROR!!\n",
      "ERROR!!\n",
      "ERROR!!\n",
      "ERROR!!\n",
      "ERROR!!\n",
      "ERROR!!\n",
      "ERROR!!\n",
      "ERROR!!\n",
      "ERROR!!\n",
      "ERROR!!\n"
     ]
    },
    {
     "name": "stderr",
     "output_type": "stream",
     "text": [
      " 71%|███████▏  | 75/105 [1:11:49<36:31, 73.05s/it]"
     ]
    },
    {
     "name": "stdout",
     "output_type": "stream",
     "text": [
      "ERROR!!\n",
      "ERROR!!\n",
      "ERROR!!\n",
      "ERROR!!\n",
      "ERROR!!\n",
      "ERROR!!\n",
      "ERROR!!\n",
      "ERROR!!\n",
      "ERROR!!\n",
      "ERROR!!\n",
      "ERROR!!\n",
      "ERROR!!\n",
      "ERROR!!\n"
     ]
    },
    {
     "name": "stderr",
     "output_type": "stream",
     "text": [
      " 72%|███████▏  | 76/105 [1:13:06<35:52, 74.24s/it]"
     ]
    },
    {
     "name": "stdout",
     "output_type": "stream",
     "text": [
      "ERROR!!\n",
      "ERROR!!\n",
      "ERROR!!\n",
      "ERROR!!\n",
      "ERROR!!\n",
      "ERROR!!\n",
      "ERROR!!\n",
      "ERROR!!\n",
      "ERROR!!\n",
      "ERROR!!\n",
      "ERROR!!\n",
      "ERROR!!\n",
      "ERROR!!\n"
     ]
    },
    {
     "name": "stderr",
     "output_type": "stream",
     "text": [
      " 73%|███████▎  | 77/105 [1:14:22<34:48, 74.57s/it]"
     ]
    },
    {
     "name": "stdout",
     "output_type": "stream",
     "text": [
      "ERROR!!\n",
      "ERROR!!\n",
      "ERROR!!\n",
      "ERROR!!\n",
      "ERROR!!\n",
      "ERROR!!\n",
      "ERROR!!\n",
      "ERROR!!\n",
      "ERROR!!\n",
      "ERROR!!\n",
      "ERROR!!\n",
      "ERROR!!\n",
      "ERROR!!\n"
     ]
    },
    {
     "name": "stderr",
     "output_type": "stream",
     "text": [
      " 74%|███████▍  | 78/105 [1:15:36<33:28, 74.40s/it]"
     ]
    },
    {
     "name": "stdout",
     "output_type": "stream",
     "text": [
      "ERROR!!\n",
      "ERROR!!\n",
      "ERROR!!\n",
      "ERROR!!\n",
      "ERROR!!\n",
      "ERROR!!\n",
      "ERROR!!\n",
      "ERROR!!\n",
      "ERROR!!\n",
      "ERROR!!\n",
      "ERROR!!\n",
      "ERROR!!\n",
      "ERROR!!\n"
     ]
    },
    {
     "name": "stderr",
     "output_type": "stream",
     "text": [
      " 75%|███████▌  | 79/105 [1:16:49<32:01, 73.92s/it]"
     ]
    },
    {
     "name": "stdout",
     "output_type": "stream",
     "text": [
      "ERROR!!\n",
      "ERROR!!\n",
      "ERROR!!\n",
      "ERROR!!\n",
      "ERROR!!\n",
      "ERROR!!\n",
      "ERROR!!\n",
      "ERROR!!\n",
      "ERROR!!\n",
      "ERROR!!\n",
      "ERROR!!\n",
      "ERROR!!\n",
      "ERROR!!\n"
     ]
    },
    {
     "name": "stderr",
     "output_type": "stream",
     "text": [
      " 76%|███████▌  | 80/105 [1:18:04<31:01, 74.45s/it]"
     ]
    },
    {
     "name": "stdout",
     "output_type": "stream",
     "text": [
      "ERROR!!\n",
      "ERROR!!\n",
      "ERROR!!\n",
      "ERROR!!\n",
      "ERROR!!\n",
      "ERROR!!\n",
      "ERROR!!\n",
      "ERROR!!\n",
      "ERROR!!\n",
      "ERROR!!\n",
      "ERROR!!\n",
      "ERROR!!\n",
      "ERROR!!\n"
     ]
    },
    {
     "name": "stderr",
     "output_type": "stream",
     "text": [
      " 77%|███████▋  | 81/105 [1:19:21<29:59, 75.00s/it]"
     ]
    },
    {
     "name": "stdout",
     "output_type": "stream",
     "text": [
      "ERROR!!\n",
      "ERROR!!\n",
      "ERROR!!\n",
      "ERROR!!\n",
      "ERROR!!\n",
      "ERROR!!\n",
      "ERROR!!\n",
      "ERROR!!\n",
      "ERROR!!\n",
      "ERROR!!\n",
      "ERROR!!\n",
      "ERROR!!\n",
      "ERROR!!\n"
     ]
    },
    {
     "name": "stderr",
     "output_type": "stream",
     "text": [
      " 78%|███████▊  | 82/105 [1:20:39<29:10, 76.11s/it]"
     ]
    },
    {
     "name": "stdout",
     "output_type": "stream",
     "text": [
      "ERROR!!\n",
      "ERROR!!\n",
      "ERROR!!\n",
      "ERROR!!\n",
      "ERROR!!\n",
      "ERROR!!\n",
      "ERROR!!\n",
      "ERROR!!\n",
      "ERROR!!\n",
      "ERROR!!\n",
      "ERROR!!\n",
      "ERROR!!\n"
     ]
    },
    {
     "name": "stderr",
     "output_type": "stream",
     "text": [
      " 79%|███████▉  | 83/105 [1:21:53<27:40, 75.46s/it]"
     ]
    },
    {
     "name": "stdout",
     "output_type": "stream",
     "text": [
      "ERROR!!\n",
      "ERROR!!\n",
      "ERROR!!\n",
      "ERROR!!\n",
      "ERROR!!\n",
      "ERROR!!\n",
      "ERROR!!\n",
      "ERROR!!\n",
      "ERROR!!\n",
      "ERROR!!\n",
      "ERROR!!\n",
      "ERROR!!\n",
      "ERROR!!\n",
      "ERROR!!\n"
     ]
    },
    {
     "name": "stderr",
     "output_type": "stream",
     "text": [
      " 80%|████████  | 84/105 [1:23:13<26:50, 76.68s/it]"
     ]
    },
    {
     "name": "stdout",
     "output_type": "stream",
     "text": [
      "ERROR!!\n",
      "ERROR!!\n",
      "ERROR!!\n",
      "ERROR!!\n",
      "ERROR!!\n",
      "ERROR!!\n",
      "ERROR!!\n",
      "ERROR!!\n",
      "ERROR!!\n",
      "ERROR!!\n",
      "ERROR!!\n",
      "ERROR!!\n",
      "ERROR!!\n",
      "ERROR!!\n"
     ]
    },
    {
     "name": "stderr",
     "output_type": "stream",
     "text": [
      " 81%|████████  | 85/105 [1:24:30<25:36, 76.81s/it]"
     ]
    },
    {
     "name": "stdout",
     "output_type": "stream",
     "text": [
      "ERROR!!\n",
      "ERROR!!\n",
      "ERROR!!\n",
      "ERROR!!\n",
      "ERROR!!\n",
      "ERROR!!\n",
      "ERROR!!\n",
      "ERROR!!\n",
      "ERROR!!\n",
      "ERROR!!\n",
      "ERROR!!\n",
      "ERROR!!\n",
      "ERROR!!\n",
      "ERROR!!\n"
     ]
    },
    {
     "name": "stderr",
     "output_type": "stream",
     "text": [
      " 82%|████████▏ | 86/105 [1:26:12<26:45, 84.51s/it]"
     ]
    },
    {
     "name": "stdout",
     "output_type": "stream",
     "text": [
      "ERROR!!\n",
      "ERROR!!\n",
      "ERROR!!\n",
      "ERROR!!\n",
      "ERROR!!\n",
      "ERROR!!\n",
      "ERROR!!\n",
      "ERROR!!\n",
      "ERROR!!\n",
      "ERROR!!\n",
      "ERROR!!\n",
      "ERROR!!\n",
      "ERROR!!\n",
      "ERROR!!\n"
     ]
    },
    {
     "name": "stderr",
     "output_type": "stream",
     "text": [
      " 83%|████████▎ | 87/105 [1:27:29<24:38, 82.12s/it]"
     ]
    },
    {
     "name": "stdout",
     "output_type": "stream",
     "text": [
      "ERROR!!\n",
      "ERROR!!\n",
      "ERROR!!\n",
      "ERROR!!\n",
      "ERROR!!\n",
      "ERROR!!\n",
      "ERROR!!\n",
      "ERROR!!\n",
      "ERROR!!\n",
      "ERROR!!\n",
      "ERROR!!\n",
      "ERROR!!\n",
      "ERROR!!\n",
      "ERROR!!\n"
     ]
    },
    {
     "name": "stderr",
     "output_type": "stream",
     "text": [
      " 84%|████████▍ | 88/105 [1:28:49<23:04, 81.45s/it]"
     ]
    },
    {
     "name": "stdout",
     "output_type": "stream",
     "text": [
      "ERROR!!\n",
      "ERROR!!\n",
      "ERROR!!\n",
      "ERROR!!\n",
      "ERROR!!\n",
      "ERROR!!\n",
      "ERROR!!\n",
      "ERROR!!\n",
      "ERROR!!\n",
      "ERROR!!\n",
      "ERROR!!\n",
      "ERROR!!\n",
      "ERROR!!\n",
      "ERROR!!\n"
     ]
    },
    {
     "name": "stderr",
     "output_type": "stream",
     "text": [
      " 85%|████████▍ | 89/105 [1:30:07<21:26, 80.38s/it]"
     ]
    },
    {
     "name": "stdout",
     "output_type": "stream",
     "text": [
      "ERROR!!\n",
      "ERROR!!\n",
      "ERROR!!\n",
      "ERROR!!\n",
      "ERROR!!\n",
      "ERROR!!\n",
      "ERROR!!\n",
      "ERROR!!\n",
      "ERROR!!\n",
      "ERROR!!\n",
      "ERROR!!\n",
      "ERROR!!\n",
      "ERROR!!\n",
      "ERROR!!\n"
     ]
    },
    {
     "name": "stderr",
     "output_type": "stream",
     "text": [
      " 86%|████████▌ | 90/105 [1:31:26<19:59, 79.95s/it]"
     ]
    },
    {
     "name": "stdout",
     "output_type": "stream",
     "text": [
      "ERROR!!\n",
      "ERROR!!\n",
      "ERROR!!\n",
      "ERROR!!\n",
      "ERROR!!\n",
      "ERROR!!\n",
      "ERROR!!\n",
      "ERROR!!\n",
      "ERROR!!\n",
      "ERROR!!\n",
      "ERROR!!\n",
      "ERROR!!\n",
      "ERROR!!\n",
      "ERROR!!\n"
     ]
    },
    {
     "name": "stderr",
     "output_type": "stream",
     "text": [
      " 87%|████████▋ | 91/105 [1:32:46<18:40, 80.07s/it]"
     ]
    },
    {
     "name": "stdout",
     "output_type": "stream",
     "text": [
      "ERROR!!\n",
      "ERROR!!\n",
      "ERROR!!\n",
      "ERROR!!\n",
      "ERROR!!\n",
      "ERROR!!\n",
      "ERROR!!\n",
      "ERROR!!\n",
      "ERROR!!\n",
      "ERROR!!\n",
      "ERROR!!\n",
      "ERROR!!\n",
      "ERROR!!\n",
      "ERROR!!\n"
     ]
    },
    {
     "name": "stderr",
     "output_type": "stream",
     "text": [
      " 88%|████████▊ | 92/105 [1:34:07<17:25, 80.44s/it]"
     ]
    },
    {
     "name": "stdout",
     "output_type": "stream",
     "text": [
      "ERROR!!\n",
      "ERROR!!\n",
      "ERROR!!\n",
      "ERROR!!\n",
      "ERROR!!\n",
      "ERROR!!\n",
      "ERROR!!\n",
      "ERROR!!\n",
      "ERROR!!\n",
      "ERROR!!\n",
      "ERROR!!\n",
      "ERROR!!\n",
      "ERROR!!\n",
      "ERROR!!\n"
     ]
    },
    {
     "name": "stderr",
     "output_type": "stream",
     "text": [
      " 89%|████████▊ | 93/105 [1:35:21<15:41, 78.43s/it]"
     ]
    },
    {
     "name": "stdout",
     "output_type": "stream",
     "text": [
      "ERROR!!\n",
      "ERROR!!\n",
      "ERROR!!\n",
      "ERROR!!\n",
      "ERROR!!\n",
      "ERROR!!\n",
      "ERROR!!\n",
      "ERROR!!\n",
      "ERROR!!\n",
      "ERROR!!\n",
      "ERROR!!\n",
      "ERROR!!\n",
      "ERROR!!\n",
      "ERROR!!\n"
     ]
    },
    {
     "name": "stderr",
     "output_type": "stream",
     "text": [
      " 90%|████████▉ | 94/105 [1:36:42<14:29, 79.08s/it]"
     ]
    },
    {
     "name": "stdout",
     "output_type": "stream",
     "text": [
      "ERROR!!\n",
      "ERROR!!\n",
      "ERROR!!\n",
      "ERROR!!\n",
      "ERROR!!\n",
      "ERROR!!\n",
      "ERROR!!\n",
      "ERROR!!\n",
      "ERROR!!\n",
      "ERROR!!\n",
      "ERROR!!\n",
      "ERROR!!\n",
      "ERROR!!\n",
      "ERROR!!\n"
     ]
    },
    {
     "name": "stderr",
     "output_type": "stream",
     "text": [
      " 90%|█████████ | 95/105 [1:37:56<12:56, 77.65s/it]"
     ]
    },
    {
     "name": "stdout",
     "output_type": "stream",
     "text": [
      "ERROR!!\n",
      "ERROR!!\n",
      "ERROR!!\n",
      "ERROR!!\n",
      "ERROR!!\n",
      "ERROR!!\n",
      "ERROR!!\n",
      "ERROR!!\n",
      "ERROR!!\n",
      "ERROR!!\n",
      "ERROR!!\n",
      "ERROR!!\n",
      "ERROR!!\n",
      "ERROR!!\n"
     ]
    },
    {
     "name": "stderr",
     "output_type": "stream",
     "text": [
      " 91%|█████████▏| 96/105 [1:39:16<11:46, 78.51s/it]"
     ]
    },
    {
     "name": "stdout",
     "output_type": "stream",
     "text": [
      "ERROR!!\n",
      "ERROR!!\n",
      "ERROR!!\n",
      "ERROR!!\n",
      "ERROR!!\n",
      "ERROR!!\n",
      "ERROR!!\n",
      "ERROR!!\n",
      "ERROR!!\n",
      "ERROR!!\n",
      "ERROR!!\n",
      "ERROR!!\n",
      "ERROR!!\n",
      "ERROR!!\n"
     ]
    },
    {
     "name": "stderr",
     "output_type": "stream",
     "text": [
      " 92%|█████████▏| 97/105 [1:40:35<10:27, 78.41s/it]"
     ]
    },
    {
     "name": "stdout",
     "output_type": "stream",
     "text": [
      "ERROR!!\n",
      "ERROR!!\n",
      "ERROR!!\n",
      "ERROR!!\n",
      "ERROR!!\n",
      "ERROR!!\n",
      "ERROR!!\n",
      "ERROR!!\n",
      "ERROR!!\n",
      "ERROR!!\n",
      "ERROR!!\n",
      "ERROR!!\n",
      "ERROR!!\n",
      "ERROR!!\n"
     ]
    },
    {
     "name": "stderr",
     "output_type": "stream",
     "text": [
      " 93%|█████████▎| 98/105 [1:41:57<09:17, 79.67s/it]"
     ]
    },
    {
     "name": "stdout",
     "output_type": "stream",
     "text": [
      "ERROR!!\n",
      "ERROR!!\n",
      "ERROR!!\n",
      "ERROR!!\n",
      "ERROR!!\n",
      "ERROR!!\n",
      "ERROR!!\n",
      "ERROR!!\n",
      "ERROR!!\n",
      "ERROR!!\n",
      "ERROR!!\n",
      "ERROR!!\n",
      "ERROR!!\n",
      "ERROR!!\n"
     ]
    },
    {
     "name": "stderr",
     "output_type": "stream",
     "text": [
      " 94%|█████████▍| 99/105 [1:43:13<07:51, 78.56s/it]"
     ]
    },
    {
     "name": "stdout",
     "output_type": "stream",
     "text": [
      "ERROR!!\n",
      "ERROR!!\n",
      "ERROR!!\n",
      "ERROR!!\n",
      "ERROR!!\n",
      "ERROR!!\n",
      "ERROR!!\n",
      "ERROR!!\n",
      "ERROR!!\n",
      "ERROR!!\n",
      "ERROR!!\n",
      "ERROR!!\n",
      "ERROR!!\n",
      "ERROR!!\n"
     ]
    },
    {
     "name": "stderr",
     "output_type": "stream",
     "text": [
      " 95%|█████████▌| 100/105 [1:44:33<06:34, 79.00s/it]"
     ]
    },
    {
     "name": "stdout",
     "output_type": "stream",
     "text": [
      "ERROR!!\n",
      "ERROR!!\n",
      "ERROR!!\n",
      "ERROR!!\n",
      "ERROR!!\n",
      "ERROR!!\n",
      "ERROR!!\n",
      "ERROR!!\n",
      "ERROR!!\n",
      "ERROR!!\n",
      "ERROR!!\n",
      "ERROR!!\n",
      "ERROR!!\n",
      "ERROR!!\n"
     ]
    },
    {
     "name": "stderr",
     "output_type": "stream",
     "text": [
      " 96%|█████████▌| 101/105 [1:45:56<05:20, 80.01s/it]"
     ]
    },
    {
     "name": "stdout",
     "output_type": "stream",
     "text": [
      "ERROR!!\n",
      "ERROR!!\n",
      "ERROR!!\n",
      "ERROR!!\n",
      "ERROR!!\n",
      "ERROR!!\n",
      "ERROR!!\n",
      "ERROR!!\n",
      "ERROR!!\n",
      "ERROR!!\n",
      "ERROR!!\n",
      "ERROR!!\n",
      "ERROR!!\n",
      "ERROR!!\n"
     ]
    },
    {
     "name": "stderr",
     "output_type": "stream",
     "text": [
      " 97%|█████████▋| 102/105 [1:47:11<03:56, 78.74s/it]"
     ]
    },
    {
     "name": "stdout",
     "output_type": "stream",
     "text": [
      "ERROR!!\n",
      "ERROR!!\n",
      "ERROR!!\n",
      "ERROR!!\n",
      "ERROR!!\n",
      "ERROR!!\n",
      "ERROR!!\n",
      "ERROR!!\n",
      "ERROR!!\n",
      "ERROR!!\n",
      "ERROR!!\n",
      "ERROR!!\n",
      "ERROR!!\n",
      "ERROR!!\n"
     ]
    },
    {
     "name": "stderr",
     "output_type": "stream",
     "text": [
      " 98%|█████████▊| 103/105 [1:48:36<02:40, 80.43s/it]"
     ]
    },
    {
     "name": "stdout",
     "output_type": "stream",
     "text": [
      "ERROR!!\n",
      "ERROR!!\n",
      "ERROR!!\n",
      "ERROR!!\n",
      "ERROR!!\n",
      "ERROR!!\n",
      "ERROR!!\n",
      "ERROR!!\n",
      "ERROR!!\n",
      "ERROR!!\n",
      "ERROR!!\n",
      "ERROR!!\n",
      "ERROR!!\n",
      "ERROR!!\n"
     ]
    },
    {
     "name": "stderr",
     "output_type": "stream",
     "text": [
      " 99%|█████████▉| 104/105 [1:49:56<01:20, 80.40s/it]"
     ]
    },
    {
     "name": "stdout",
     "output_type": "stream",
     "text": [
      "ERROR!!\n",
      "ERROR!!\n",
      "ERROR!!\n",
      "ERROR!!\n",
      "ERROR!!\n",
      "ERROR!!\n",
      "ERROR!!\n",
      "ERROR!!\n",
      "ERROR!!\n",
      "ERROR!!\n",
      "ERROR!!\n",
      "ERROR!!\n",
      "ERROR!!\n",
      "ERROR!!\n"
     ]
    },
    {
     "name": "stderr",
     "output_type": "stream",
     "text": [
      "100%|██████████| 105/105 [1:51:14<00:00, 63.57s/it]"
     ]
    },
    {
     "name": "stdout",
     "output_type": "stream",
     "text": [
      "ERROR!!\n"
     ]
    },
    {
     "name": "stderr",
     "output_type": "stream",
     "text": [
      "\n"
     ]
    }
   ],
   "source": [
    "# 제품 링크 접속하기\n",
    "# 회원만 구입할 수 있는 상품이 포함되어 있어 로그인 후 크롤링\n",
    "for i in tqdm(range(len(info))):\n",
    "    info_line = info[i]\n",
    "    link = info_line[4]\n",
    "\n",
    "    driver.get(link)\n",
    "    driver.implicitly_wait(4)\n",
    "    time.sleep(0.5+random.random())\n",
    "\n",
    "    re_ = driver.find_elements(By.CLASS_NAME, \"production-selling-navigation__item\")\n",
    "    re_[1].click()\n",
    "    time.sleep(0.5+random.random()) \n",
    "\n",
    "    # 한 페이지당 5개 리뷰 \n",
    "    # 20페이지 크롤링해서 총 100개 리뷰 가져오기\n",
    "    review = []\n",
    "    first = driver.find_elements(By.CLASS_NAME, \"production-review-item__description\")\n",
    "    for i in first:\n",
    "        review.append(i.text)\n",
    "\n",
    "    for i in range(19):\n",
    "        try:\n",
    "            driver.find_elements(By.CLASS_NAME, \"_2XI47._3I7ex\")[0].click()\n",
    "            time.sleep(1.5+random.random())\n",
    "            text = driver.find_elements(By.CLASS_NAME, \"production-review-item__description\")\n",
    "            for i in text:\n",
    "                review.append(i.text)\n",
    "        except:\n",
    "            print('ERROR!!')\n",
    "            pass\n",
    "\n",
    "    info_line[5] = review\n",
    "\n"
   ]
  },
  {
   "cell_type": "code",
   "execution_count": 34,
   "metadata": {},
   "outputs": [
    {
     "data": {
      "text/html": [
       "<div>\n",
       "<style scoped>\n",
       "    .dataframe tbody tr th:only-of-type {\n",
       "        vertical-align: middle;\n",
       "    }\n",
       "\n",
       "    .dataframe tbody tr th {\n",
       "        vertical-align: top;\n",
       "    }\n",
       "\n",
       "    .dataframe thead th {\n",
       "        text-align: right;\n",
       "    }\n",
       "</style>\n",
       "<table border=\"1\" class=\"dataframe\">\n",
       "  <thead>\n",
       "    <tr style=\"text-align: right;\">\n",
       "      <th></th>\n",
       "      <th>brand</th>\n",
       "      <th>item</th>\n",
       "      <th>price</th>\n",
       "      <th>image</th>\n",
       "      <th>link</th>\n",
       "      <th>review</th>\n",
       "    </tr>\n",
       "  </thead>\n",
       "  <tbody>\n",
       "    <tr>\n",
       "      <th>0</th>\n",
       "      <td>아리아퍼니쳐</td>\n",
       "      <td>Tribeca 주방/거실 높은 수납장 1000+상부장추가선택</td>\n",
       "      <td>159,000</td>\n",
       "      <td>./static/img/kitchen/cabinet/cab1.png</td>\n",
       "      <td>https://ohou.se/productions/452975/selling?aff...</td>\n",
       "      <td>[디자인 너무 깔끔하고 서랍도 부드럽게 잘 열리고 닫히고 수납도 넉넉해서 완전 맘에...</td>\n",
       "    </tr>\n",
       "    <tr>\n",
       "      <th>1</th>\n",
       "      <td>필웰</td>\n",
       "      <td>RZ9757 데이아 서랍형 이동조리대 DVX</td>\n",
       "      <td>89,000</td>\n",
       "      <td>./static/img/kitchen/cabinet/cab2.png</td>\n",
       "      <td>https://ohou.se/productions/390565/selling?aff...</td>\n",
       "      <td>[새가구 사서 기분좋게 사용하고 싶었는데 포장뜯기전부터 기분이 안좋네요 리뷰 둘러보...</td>\n",
       "    </tr>\n",
       "    <tr>\n",
       "      <th>2</th>\n",
       "      <td>필웰</td>\n",
       "      <td>RZ9492 데이아 이동조리대400 DVX</td>\n",
       "      <td>59,000</td>\n",
       "      <td>./static/img/kitchen/cabinet/cab3.png</td>\n",
       "      <td>https://ohou.se/productions/390566/selling?aff...</td>\n",
       "      <td>[나무색이 때도안타고 좋음 흰색부분은 때탐 이동식이라 좋아요 판도 두껍고 단단해요!...</td>\n",
       "    </tr>\n",
       "    <tr>\n",
       "      <th>3</th>\n",
       "      <td>필웰</td>\n",
       "      <td>ST9839 무노 주방 서랍수납장800 DVX</td>\n",
       "      <td>109,000</td>\n",
       "      <td>./static/img/kitchen/cabinet/cab4.png</td>\n",
       "      <td>https://ohou.se/productions/413790/selling?aff...</td>\n",
       "      <td>[위에는 화장품 넣고 아래는 옷장으로 쓰기도 했고 지금은 위에는 잠옷 아래는 바지 ...</td>\n",
       "    </tr>\n",
       "    <tr>\n",
       "      <th>4</th>\n",
       "      <td>리센트</td>\n",
       "      <td>파스타 주방수납장</td>\n",
       "      <td>159,000</td>\n",
       "      <td>./static/img/kitchen/cabinet/cab5.png</td>\n",
       "      <td>https://ohou.se/productions/300318/selling?aff...</td>\n",
       "      <td>[크기도적당하고 예쁘네요 특히 수납도 알차서 좋아요, 원하는 날짜에 배송해주셨고 바...</td>\n",
       "    </tr>\n",
       "    <tr>\n",
       "      <th>...</th>\n",
       "      <td>...</td>\n",
       "      <td>...</td>\n",
       "      <td>...</td>\n",
       "      <td>...</td>\n",
       "      <td>...</td>\n",
       "      <td>...</td>\n",
       "    </tr>\n",
       "    <tr>\n",
       "      <th>100</th>\n",
       "      <td>리센트</td>\n",
       "      <td>퐁듀 속깊은 주방수납장 1000</td>\n",
       "      <td>169,000</td>\n",
       "      <td>./static/img/kitchen/cabinet/cab104.png</td>\n",
       "      <td>https://ohou.se/productions/1455446/selling?af...</td>\n",
       "      <td>[주방 수납장과 샹활용품 담아놓기에 넓고 좋아요 정수기도 올려놓으니 좁은 주방이 활...</td>\n",
       "    </tr>\n",
       "    <tr>\n",
       "      <th>101</th>\n",
       "      <td>장인가구</td>\n",
       "      <td>셰리 그레이 주방수납장 8종</td>\n",
       "      <td>93,000</td>\n",
       "      <td>./static/img/kitchen/cabinet/cab105.png</td>\n",
       "      <td>https://ohou.se/productions/39689/selling?affe...</td>\n",
       "      <td>[가격대비 괜찬아요 근데 좀 낮은 느낌.. 다리를 따로 구입해서 달아줫더니 예뻐요~...</td>\n",
       "    </tr>\n",
       "    <tr>\n",
       "      <th>102</th>\n",
       "      <td>DF동서가구</td>\n",
       "      <td>허브 600 주방수납장(소)</td>\n",
       "      <td>44,900</td>\n",
       "      <td>./static/img/kitchen/cabinet/cab106.png</td>\n",
       "      <td>https://ohou.se/productions/484965/selling?aff...</td>\n",
       "      <td>[생각보다 배송도 빨랐구 튼튼하고 좋네요, 진작 살 걸 하는 맘이었어요. 깔끔하게 ...</td>\n",
       "    </tr>\n",
       "    <tr>\n",
       "      <th>103</th>\n",
       "      <td>한샘</td>\n",
       "      <td>머그 아일랜드 주방수납장</td>\n",
       "      <td>267,000</td>\n",
       "      <td>./static/img/kitchen/cabinet/cab107.png</td>\n",
       "      <td>https://ohou.se/productions/130453/selling?aff...</td>\n",
       "      <td>[기사님이 빠르고 설치해주고 가셨습니다! 서랍도 생각보다 커서 수납도 좋고 디자인도...</td>\n",
       "    </tr>\n",
       "    <tr>\n",
       "      <th>104</th>\n",
       "      <td>소피드메종</td>\n",
       "      <td>제제 다용도 주방 수납장 2colors</td>\n",
       "      <td>57,500</td>\n",
       "      <td>./static/img/kitchen/cabinet/cab108.png</td>\n",
       "      <td>https://ohou.se/productions/361188/selling?aff...</td>\n",
       "      <td>[수납도 너무 잘 되어있고 기사님도 친절하셨어요! 배송도 일주일만에 받았어요!, 수...</td>\n",
       "    </tr>\n",
       "  </tbody>\n",
       "</table>\n",
       "<p>105 rows × 6 columns</p>\n",
       "</div>"
      ],
      "text/plain": [
       "      brand                               item    price  \\\n",
       "0    아리아퍼니쳐  Tribeca 주방/거실 높은 수납장 1000+상부장추가선택  159,000   \n",
       "1        필웰           RZ9757 데이아 서랍형 이동조리대 DVX   89,000   \n",
       "2        필웰            RZ9492 데이아 이동조리대400 DVX   59,000   \n",
       "3        필웰          ST9839 무노 주방 서랍수납장800 DVX  109,000   \n",
       "4       리센트                          파스타 주방수납장  159,000   \n",
       "..      ...                                ...      ...   \n",
       "100     리센트                  퐁듀 속깊은 주방수납장 1000  169,000   \n",
       "101    장인가구                    셰리 그레이 주방수납장 8종   93,000   \n",
       "102  DF동서가구                    허브 600 주방수납장(소)   44,900   \n",
       "103      한샘                      머그 아일랜드 주방수납장  267,000   \n",
       "104   소피드메종              제제 다용도 주방 수납장 2colors   57,500   \n",
       "\n",
       "                                       image  \\\n",
       "0      ./static/img/kitchen/cabinet/cab1.png   \n",
       "1      ./static/img/kitchen/cabinet/cab2.png   \n",
       "2      ./static/img/kitchen/cabinet/cab3.png   \n",
       "3      ./static/img/kitchen/cabinet/cab4.png   \n",
       "4      ./static/img/kitchen/cabinet/cab5.png   \n",
       "..                                       ...   \n",
       "100  ./static/img/kitchen/cabinet/cab104.png   \n",
       "101  ./static/img/kitchen/cabinet/cab105.png   \n",
       "102  ./static/img/kitchen/cabinet/cab106.png   \n",
       "103  ./static/img/kitchen/cabinet/cab107.png   \n",
       "104  ./static/img/kitchen/cabinet/cab108.png   \n",
       "\n",
       "                                                  link  \\\n",
       "0    https://ohou.se/productions/452975/selling?aff...   \n",
       "1    https://ohou.se/productions/390565/selling?aff...   \n",
       "2    https://ohou.se/productions/390566/selling?aff...   \n",
       "3    https://ohou.se/productions/413790/selling?aff...   \n",
       "4    https://ohou.se/productions/300318/selling?aff...   \n",
       "..                                                 ...   \n",
       "100  https://ohou.se/productions/1455446/selling?af...   \n",
       "101  https://ohou.se/productions/39689/selling?affe...   \n",
       "102  https://ohou.se/productions/484965/selling?aff...   \n",
       "103  https://ohou.se/productions/130453/selling?aff...   \n",
       "104  https://ohou.se/productions/361188/selling?aff...   \n",
       "\n",
       "                                                review  \n",
       "0    [디자인 너무 깔끔하고 서랍도 부드럽게 잘 열리고 닫히고 수납도 넉넉해서 완전 맘에...  \n",
       "1    [새가구 사서 기분좋게 사용하고 싶었는데 포장뜯기전부터 기분이 안좋네요 리뷰 둘러보...  \n",
       "2    [나무색이 때도안타고 좋음 흰색부분은 때탐 이동식이라 좋아요 판도 두껍고 단단해요!...  \n",
       "3    [위에는 화장품 넣고 아래는 옷장으로 쓰기도 했고 지금은 위에는 잠옷 아래는 바지 ...  \n",
       "4    [크기도적당하고 예쁘네요 특히 수납도 알차서 좋아요, 원하는 날짜에 배송해주셨고 바...  \n",
       "..                                                 ...  \n",
       "100  [주방 수납장과 샹활용품 담아놓기에 넓고 좋아요 정수기도 올려놓으니 좁은 주방이 활...  \n",
       "101  [가격대비 괜찬아요 근데 좀 낮은 느낌.. 다리를 따로 구입해서 달아줫더니 예뻐요~...  \n",
       "102  [생각보다 배송도 빨랐구 튼튼하고 좋네요, 진작 살 걸 하는 맘이었어요. 깔끔하게 ...  \n",
       "103  [기사님이 빠르고 설치해주고 가셨습니다! 서랍도 생각보다 커서 수납도 좋고 디자인도...  \n",
       "104  [수납도 너무 잘 되어있고 기사님도 친절하셨어요! 배송도 일주일만에 받았어요!, 수...  \n",
       "\n",
       "[105 rows x 6 columns]"
      ]
     },
     "execution_count": 34,
     "metadata": {},
     "output_type": "execute_result"
    }
   ],
   "source": [
    "cabinet = pd.DataFrame(info, columns=['brand', 'item', 'price', 'image', 'link', 'review'])\n",
    "cabinet"
   ]
  },
  {
   "cell_type": "code",
   "execution_count": 35,
   "metadata": {},
   "outputs": [],
   "source": [
    "cabinet.to_csv('cabinet.csv')"
   ]
  },
  {
   "cell_type": "code",
   "execution_count": null,
   "metadata": {},
   "outputs": [],
   "source": []
  },
  {
   "cell_type": "code",
   "execution_count": null,
   "metadata": {},
   "outputs": [],
   "source": []
  },
  {
   "cell_type": "code",
   "execution_count": null,
   "metadata": {},
   "outputs": [],
   "source": []
  },
  {
   "cell_type": "code",
   "execution_count": null,
   "metadata": {},
   "outputs": [],
   "source": []
  }
 ],
 "metadata": {
  "kernelspec": {
   "display_name": "learning",
   "language": "python",
   "name": "python3"
  },
  "language_info": {
   "codemirror_mode": {
    "name": "ipython",
    "version": 3
   },
   "file_extension": ".py",
   "mimetype": "text/x-python",
   "name": "python",
   "nbconvert_exporter": "python",
   "pygments_lexer": "ipython3",
   "version": "3.10.13"
  }
 },
 "nbformat": 4,
 "nbformat_minor": 2
}
