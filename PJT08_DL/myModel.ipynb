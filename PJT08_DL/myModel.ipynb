{
  "cells": [
    {
      "cell_type": "code",
      "execution_count": null,
      "metadata": {
        "id": "-QNsHZGhDtBk"
      },
      "outputs": [],
      "source": [
        "import numpy as np"
      ]
    },
    {
      "cell_type": "code",
      "execution_count": null,
      "metadata": {
        "id": "LzS1yGS264z_"
      },
      "outputs": [],
      "source": [
        "from google.colab import drive\n",
        "drive.mount('/content/drive')"
      ]
    },
    {
      "cell_type": "code",
      "execution_count": null,
      "metadata": {
        "id": "HBAmRw0yEC_P"
      },
      "outputs": [],
      "source": [
        "feature = np.load('/content/drive/MyDrive/feature.npy')\n",
        "target = np.load('/content/drive/MyDrive/target.npy')"
      ]
    },
    {
      "cell_type": "code",
      "execution_count": null,
      "metadata": {
        "colab": {
          "base_uri": "https://localhost:8080/"
        },
        "id": "qoyyI_PpEP3m",
        "outputId": "dd0ae8b5-dfd5-467f-cb45-8f30a8abd654"
      },
      "outputs": [
        {
          "data": {
            "text/plain": [
              "((269640, 48, 48, 3), (269640, 3))"
            ]
          },
          "execution_count": 4,
          "metadata": {},
          "output_type": "execute_result"
        }
      ],
      "source": [
        "feature.shape, target.shape"
      ]
    },
    {
      "cell_type": "code",
      "execution_count": null,
      "metadata": {
        "id": "r08hv8y8EWQT"
      },
      "outputs": [],
      "source": [
        "from keras.models import Sequential\n",
        "from keras.layers import Dense, Activation, Dropout, Flatten, Conv2D, MaxPooling2D\n",
        "from keras.preprocessing.image import ImageDataGenerator\n",
        "from keras.callbacks import EarlyStopping\n",
        "from keras import optimizers\n",
        "from keras.applications import VGG16"
      ]
    },
    {
      "cell_type": "code",
      "execution_count": null,
      "metadata": {
        "colab": {
          "base_uri": "https://localhost:8080/"
        },
        "id": "Ltfd4t1nEkXv",
        "outputId": "23ef2b86-a36e-405a-ffed-06c7258ea6f6"
      },
      "outputs": [
        {
          "name": "stdout",
          "output_type": "stream",
          "text": [
            "Model: \"vgg16\"\n",
            "_________________________________________________________________\n",
            " Layer (type)                Output Shape              Param #   \n",
            "=================================================================\n",
            " input_1 (InputLayer)        [(None, 48, 48, 3)]       0         \n",
            "                                                                 \n",
            " block1_conv1 (Conv2D)       (None, 48, 48, 64)        1792      \n",
            "                                                                 \n",
            " block1_conv2 (Conv2D)       (None, 48, 48, 64)        36928     \n",
            "                                                                 \n",
            " block1_pool (MaxPooling2D)  (None, 24, 24, 64)        0         \n",
            "                                                                 \n",
            " block2_conv1 (Conv2D)       (None, 24, 24, 128)       73856     \n",
            "                                                                 \n",
            " block2_conv2 (Conv2D)       (None, 24, 24, 128)       147584    \n",
            "                                                                 \n",
            " block2_pool (MaxPooling2D)  (None, 12, 12, 128)       0         \n",
            "                                                                 \n",
            " block3_conv1 (Conv2D)       (None, 12, 12, 256)       295168    \n",
            "                                                                 \n",
            " block3_conv2 (Conv2D)       (None, 12, 12, 256)       590080    \n",
            "                                                                 \n",
            " block3_conv3 (Conv2D)       (None, 12, 12, 256)       590080    \n",
            "                                                                 \n",
            " block3_pool (MaxPooling2D)  (None, 6, 6, 256)         0         \n",
            "                                                                 \n",
            " block4_conv1 (Conv2D)       (None, 6, 6, 512)         1180160   \n",
            "                                                                 \n",
            " block4_conv2 (Conv2D)       (None, 6, 6, 512)         2359808   \n",
            "                                                                 \n",
            " block4_conv3 (Conv2D)       (None, 6, 6, 512)         2359808   \n",
            "                                                                 \n",
            " block4_pool (MaxPooling2D)  (None, 3, 3, 512)         0         \n",
            "                                                                 \n",
            " block5_conv1 (Conv2D)       (None, 3, 3, 512)         2359808   \n",
            "                                                                 \n",
            " block5_conv2 (Conv2D)       (None, 3, 3, 512)         2359808   \n",
            "                                                                 \n",
            " block5_conv3 (Conv2D)       (None, 3, 3, 512)         2359808   \n",
            "                                                                 \n",
            " block5_pool (MaxPooling2D)  (None, 1, 1, 512)         0         \n",
            "                                                                 \n",
            "=================================================================\n",
            "Total params: 14714688 (56.13 MB)\n",
            "Trainable params: 0 (0.00 Byte)\n",
            "Non-trainable params: 14714688 (56.13 MB)\n",
            "_________________________________________________________________\n"
          ]
        }
      ],
      "source": [
        "transfer_model = VGG16(weights='imagenet', include_top=False, input_shape=(48, 48, 3))\n",
        "transfer_model.trainable=False\n",
        "transfer_model.summary()"
      ]
    },
    {
      "cell_type": "code",
      "execution_count": null,
      "metadata": {
        "colab": {
          "base_uri": "https://localhost:8080/"
        },
        "id": "XUWc0NEJEtKn",
        "outputId": "205eab48-f880-402e-d656-984edee3a46e"
      },
      "outputs": [
        {
          "name": "stdout",
          "output_type": "stream",
          "text": [
            "Model: \"sequential\"\n",
            "_________________________________________________________________\n",
            " Layer (type)                Output Shape              Param #   \n",
            "=================================================================\n",
            " vgg16 (Functional)          (None, 1, 1, 512)         14714688  \n",
            "                                                                 \n",
            " flatten (Flatten)           (None, 512)               0         \n",
            "                                                                 \n",
            " dense (Dense)               (None, 64)                32832     \n",
            "                                                                 \n",
            " activation (Activation)     (None, 64)                0         \n",
            "                                                                 \n",
            " dropout (Dropout)           (None, 64)                0         \n",
            "                                                                 \n",
            " dense_1 (Dense)             (None, 3)                 195       \n",
            "                                                                 \n",
            " activation_1 (Activation)   (None, 3)                 0         \n",
            "                                                                 \n",
            "=================================================================\n",
            "Total params: 14747715 (56.26 MB)\n",
            "Trainable params: 33027 (129.01 KB)\n",
            "Non-trainable params: 14714688 (56.13 MB)\n",
            "_________________________________________________________________\n"
          ]
        }
      ],
      "source": [
        "model = Sequential()\n",
        "model.add(transfer_model)\n",
        "model.add(Flatten())\n",
        "model.add(Dense(64))\n",
        "model.add(Activation('relu'))\n",
        "model.add(Dropout(0.5))\n",
        "model.add(Dense(3))\n",
        "model.add(Activation('softmax'))\n",
        "model.summary()"
      ]
    },
    {
      "cell_type": "code",
      "execution_count": null,
      "metadata": {
        "id": "s5_8Xmg_E-5d"
      },
      "outputs": [],
      "source": [
        "model.compile(loss='categorical_crossentropy', optimizer=optimizers.Adam(learning_rate=0.0002), metrics='accuracy')"
      ]
    },
    {
      "cell_type": "code",
      "execution_count": null,
      "metadata": {
        "id": "pKi3TOpUFCZD"
      },
      "outputs": [],
      "source": [
        "early_stopping_callback = EarlyStopping(monitor='val_loss', patience=5)"
      ]
    },
    {
      "cell_type": "code",
      "execution_count": null,
      "metadata": {
        "id": "Q2RD4j-nFDUC"
      },
      "outputs": [],
      "source": [
        "from sklearn.model_selection import train_test_split\n",
        "\n",
        "train_X, test_X, train_y, test_y = train_test_split(feature, target,\n",
        "                                                    test_size=0.2,\n",
        "                                                    random_state=12,\n",
        "                                                    stratify=target)"
      ]
    },
    {
      "cell_type": "code",
      "execution_count": null,
      "metadata": {
        "colab": {
          "base_uri": "https://localhost:8080/"
        },
        "id": "974z5HXpFiov",
        "outputId": "6d46b5db-af75-4233-b806-287ad4c1c067"
      },
      "outputs": [
        {
          "name": "stderr",
          "output_type": "stream",
          "text": [
            "<ipython-input-12-94471a811b41>:1: DeprecationWarning: `import kerastuner` is deprecated, please use `import keras_tuner`.\n",
            "  from kerastuner.tuners import RandomSearch\n"
          ]
        }
      ],
      "source": [
        "from kerastuner.tuners import RandomSearch"
      ]
    },
    {
      "cell_type": "code",
      "execution_count": null,
      "metadata": {
        "id": "pJ_237X4Fkaq"
      },
      "outputs": [],
      "source": [
        "def build_model(hp):\n",
        "    model = Sequential()\n",
        "    model.add(Flatten(input_shape=(48,48,3)))\n",
        "\n",
        "    # 하이퍼파라미터로 조정할 레이어 수 및 유닛 수\n",
        "    for i in range(hp.Int('num_layers', min_value=2, max_value=20)):\n",
        "        model.add(Dense(units=hp.Int('units_' + str(i), min_value=32, max_value=512, step=32),\n",
        "                               activation='relu'))\n",
        "\n",
        "    model.add(Dense(3, activation='softmax'))\n",
        "\n",
        "    # 옵티마이저 및 학습률 설정\n",
        "    hp_optimizer = hp.Choice('optimizer', values=['adam', 'sgd'])\n",
        "    hp_learning_rate = hp.Float('learning_rate', min_value=1e-4, max_value=1e-2, sampling='log')\n",
        "\n",
        "    if hp_optimizer == 'adam':\n",
        "        optimizer = optimizers.Adam(learning_rate=hp_learning_rate)\n",
        "    else:\n",
        "        optimizer = optimizers.SGD(learning_rate=hp_learning_rate)\n",
        "\n",
        "    model.compile(optimizer=optimizer,\n",
        "                  loss='categorical_crossentropy',\n",
        "                  metrics=['accuracy'])\n",
        "\n",
        "    return model\n"
      ]
    },
    {
      "cell_type": "code",
      "execution_count": null,
      "metadata": {
        "id": "m-DnkR7oF4l-"
      },
      "outputs": [],
      "source": [
        "# 하이퍼파라미터 튜닝을 위한 튜너 설정 (RandomSearch 사용)\n",
        "tuner = RandomSearch(\n",
        "    build_model,\n",
        "    objective='val_accuracy',\n",
        "    max_trials=5,  # 탐색할 하이퍼파라미터 조합 수\n",
        "    directory='my_tuner_dir',  # 결과를 저장할 디렉토리\n",
        "    project_name='melon_tuning'  # 프로젝트 이름\n",
        ")"
      ]
    },
    {
      "cell_type": "code",
      "execution_count": null,
      "metadata": {
        "colab": {
          "base_uri": "https://localhost:8080/"
        },
        "id": "Jh7gNoA_F6FV",
        "outputId": "3f28502b-3438-4402-acfb-148fa6f0805f"
      },
      "outputs": [
        {
          "name": "stdout",
          "output_type": "stream",
          "text": [
            "Trial 5 Complete [00h 00m 25s]\n",
            "val_accuracy: 0.45993557572364807\n",
            "\n",
            "Best val_accuracy So Far: 0.45993557572364807\n",
            "Total elapsed time: 00h 01m 36s\n",
            "Best Hyperparameters: <keras_tuner.engine.hyperparameters.hyperparameters.HyperParameters object at 0x7d5e455e82b0>\n",
            "Epoch 1/100\n",
            "169/169 [==============================] - 9s 25ms/step - loss: 0.9899 - accuracy: 0.4838 - val_loss: 0.9941 - val_accuracy: 0.4834\n",
            "Epoch 2/100\n",
            "169/169 [==============================] - 3s 18ms/step - loss: 0.9702 - accuracy: 0.4990 - val_loss: 0.9630 - val_accuracy: 0.5103\n",
            "Epoch 3/100\n",
            "169/169 [==============================] - 2s 14ms/step - loss: 0.9450 - accuracy: 0.5190 - val_loss: 0.9432 - val_accuracy: 0.5224\n",
            "Epoch 4/100\n",
            "169/169 [==============================] - 2s 14ms/step - loss: 0.9272 - accuracy: 0.5341 - val_loss: 0.9321 - val_accuracy: 0.5310\n",
            "Epoch 5/100\n",
            "169/169 [==============================] - 2s 14ms/step - loss: 0.9014 - accuracy: 0.5519 - val_loss: 0.9126 - val_accuracy: 0.5458\n",
            "Epoch 6/100\n",
            "169/169 [==============================] - 3s 16ms/step - loss: 0.8795 - accuracy: 0.5663 - val_loss: 0.9105 - val_accuracy: 0.5547\n",
            "Epoch 7/100\n",
            "169/169 [==============================] - 3s 17ms/step - loss: 0.8520 - accuracy: 0.5859 - val_loss: 0.9014 - val_accuracy: 0.5569\n",
            "Epoch 8/100\n",
            "169/169 [==============================] - 3s 16ms/step - loss: 0.8317 - accuracy: 0.5993 - val_loss: 0.8599 - val_accuracy: 0.5856\n",
            "Epoch 9/100\n",
            "169/169 [==============================] - 2s 14ms/step - loss: 0.8021 - accuracy: 0.6181 - val_loss: 0.8501 - val_accuracy: 0.5947\n",
            "Epoch 10/100\n",
            "169/169 [==============================] - 2s 14ms/step - loss: 0.7837 - accuracy: 0.6296 - val_loss: 0.8464 - val_accuracy: 0.6019\n",
            "Epoch 11/100\n",
            "169/169 [==============================] - 2s 14ms/step - loss: 0.7638 - accuracy: 0.6401 - val_loss: 0.8258 - val_accuracy: 0.6120\n",
            "Epoch 12/100\n",
            "169/169 [==============================] - 3s 15ms/step - loss: 0.7377 - accuracy: 0.6552 - val_loss: 0.8367 - val_accuracy: 0.6093\n",
            "Epoch 13/100\n",
            "169/169 [==============================] - 3s 18ms/step - loss: 0.7253 - accuracy: 0.6613 - val_loss: 0.8211 - val_accuracy: 0.6228\n",
            "Epoch 14/100\n",
            "169/169 [==============================] - 3s 15ms/step - loss: 0.6944 - accuracy: 0.6797 - val_loss: 0.7927 - val_accuracy: 0.6388\n",
            "Epoch 15/100\n",
            "169/169 [==============================] - 2s 14ms/step - loss: 0.6804 - accuracy: 0.6861 - val_loss: 0.8485 - val_accuracy: 0.6169\n",
            "Epoch 16/100\n",
            "169/169 [==============================] - 2s 14ms/step - loss: 0.6587 - accuracy: 0.6990 - val_loss: 0.7895 - val_accuracy: 0.6481\n",
            "Epoch 17/100\n",
            "169/169 [==============================] - 2s 14ms/step - loss: 0.6459 - accuracy: 0.7053 - val_loss: 0.7836 - val_accuracy: 0.6511\n",
            "Epoch 18/100\n",
            "169/169 [==============================] - 3s 17ms/step - loss: 0.6354 - accuracy: 0.7100 - val_loss: 0.7718 - val_accuracy: 0.6589\n",
            "Epoch 19/100\n",
            "169/169 [==============================] - 3s 20ms/step - loss: 0.6141 - accuracy: 0.7213 - val_loss: 0.7697 - val_accuracy: 0.6671\n",
            "Epoch 20/100\n",
            "169/169 [==============================] - 2s 15ms/step - loss: 0.6037 - accuracy: 0.7269 - val_loss: 0.7997 - val_accuracy: 0.6562\n",
            "Epoch 21/100\n",
            "169/169 [==============================] - 2s 14ms/step - loss: 0.5857 - accuracy: 0.7365 - val_loss: 0.7891 - val_accuracy: 0.6657\n",
            "Epoch 22/100\n",
            "169/169 [==============================] - 2s 14ms/step - loss: 0.5728 - accuracy: 0.7424 - val_loss: 0.7843 - val_accuracy: 0.6781\n",
            "Epoch 23/100\n",
            "169/169 [==============================] - 2s 14ms/step - loss: 0.5655 - accuracy: 0.7473 - val_loss: 0.7885 - val_accuracy: 0.6802\n",
            "Epoch 24/100\n",
            "169/169 [==============================] - 3s 19ms/step - loss: 0.5483 - accuracy: 0.7560 - val_loss: 0.7724 - val_accuracy: 0.6823\n",
            "Epoch 25/100\n",
            "169/169 [==============================] - 3s 16ms/step - loss: 0.5450 - accuracy: 0.7571 - val_loss: 0.7642 - val_accuracy: 0.6844\n",
            "Epoch 26/100\n",
            "169/169 [==============================] - 2s 14ms/step - loss: 0.5248 - accuracy: 0.7677 - val_loss: 0.7833 - val_accuracy: 0.6861\n",
            "Epoch 27/100\n",
            "169/169 [==============================] - 2s 14ms/step - loss: 0.5168 - accuracy: 0.7720 - val_loss: 0.8090 - val_accuracy: 0.6818\n",
            "Epoch 28/100\n",
            "169/169 [==============================] - 2s 14ms/step - loss: 0.5092 - accuracy: 0.7741 - val_loss: 0.8026 - val_accuracy: 0.6870\n",
            "Epoch 29/100\n",
            "169/169 [==============================] - 3s 17ms/step - loss: 0.4992 - accuracy: 0.7801 - val_loss: 0.7837 - val_accuracy: 0.7024\n",
            "Epoch 30/100\n",
            "169/169 [==============================] - 3s 19ms/step - loss: 0.4912 - accuracy: 0.7831 - val_loss: 0.8181 - val_accuracy: 0.6810\n",
            "Epoch 31/100\n",
            "169/169 [==============================] - 2s 15ms/step - loss: 0.4814 - accuracy: 0.7884 - val_loss: 0.8007 - val_accuracy: 0.6987\n",
            "Epoch 32/100\n",
            "169/169 [==============================] - 3s 15ms/step - loss: 0.4741 - accuracy: 0.7915 - val_loss: 0.8168 - val_accuracy: 0.6961\n",
            "Epoch 33/100\n",
            "169/169 [==============================] - 2s 14ms/step - loss: 0.4591 - accuracy: 0.7980 - val_loss: 0.8415 - val_accuracy: 0.6973\n",
            "Epoch 34/100\n",
            "169/169 [==============================] - 3s 15ms/step - loss: 0.4600 - accuracy: 0.7974 - val_loss: 0.7841 - val_accuracy: 0.7080\n",
            "Epoch 35/100\n",
            "169/169 [==============================] - 3s 20ms/step - loss: 0.4443 - accuracy: 0.8057 - val_loss: 0.8191 - val_accuracy: 0.6918\n",
            "Epoch 36/100\n",
            "169/169 [==============================] - 3s 17ms/step - loss: 0.4431 - accuracy: 0.8063 - val_loss: 0.8481 - val_accuracy: 0.6996\n",
            "Epoch 37/100\n",
            "169/169 [==============================] - 2s 14ms/step - loss: 0.4352 - accuracy: 0.8102 - val_loss: 0.8325 - val_accuracy: 0.7082\n",
            "Epoch 38/100\n",
            "169/169 [==============================] - 2s 14ms/step - loss: 0.4211 - accuracy: 0.8162 - val_loss: 0.8323 - val_accuracy: 0.7131\n",
            "Epoch 39/100\n",
            "169/169 [==============================] - 2s 14ms/step - loss: 0.4225 - accuracy: 0.8165 - val_loss: 0.8720 - val_accuracy: 0.6872\n",
            "Epoch 40/100\n",
            "169/169 [==============================] - 3s 17ms/step - loss: 0.4175 - accuracy: 0.8175 - val_loss: 0.8389 - val_accuracy: 0.7043\n",
            "Epoch 41/100\n",
            "169/169 [==============================] - 3s 18ms/step - loss: 0.4087 - accuracy: 0.8228 - val_loss: 0.8776 - val_accuracy: 0.7066\n",
            "Epoch 42/100\n",
            "169/169 [==============================] - 2s 14ms/step - loss: 0.4029 - accuracy: 0.8250 - val_loss: 0.8504 - val_accuracy: 0.7123\n",
            "Epoch 43/100\n",
            "169/169 [==============================] - 3s 15ms/step - loss: 0.3973 - accuracy: 0.8280 - val_loss: 0.9169 - val_accuracy: 0.7053\n",
            "Epoch 44/100\n",
            "169/169 [==============================] - 2s 14ms/step - loss: 0.3907 - accuracy: 0.8294 - val_loss: 0.8993 - val_accuracy: 0.7165\n",
            "Epoch 45/100\n",
            "169/169 [==============================] - 2s 14ms/step - loss: 0.3976 - accuracy: 0.8278 - val_loss: 0.8648 - val_accuracy: 0.7200\n",
            "Epoch 46/100\n",
            "169/169 [==============================] - 3s 19ms/step - loss: 0.3726 - accuracy: 0.8393 - val_loss: 0.9060 - val_accuracy: 0.7194\n",
            "Epoch 47/100\n",
            "169/169 [==============================] - 3s 17ms/step - loss: 0.3684 - accuracy: 0.8408 - val_loss: 0.8914 - val_accuracy: 0.7145\n",
            "Epoch 48/100\n",
            "169/169 [==============================] - 2s 14ms/step - loss: 0.3648 - accuracy: 0.8425 - val_loss: 0.9112 - val_accuracy: 0.7195\n",
            "Epoch 49/100\n",
            "169/169 [==============================] - 2s 14ms/step - loss: 0.3666 - accuracy: 0.8421 - val_loss: 0.9079 - val_accuracy: 0.7162\n",
            "Epoch 50/100\n",
            "169/169 [==============================] - 4s 23ms/step - loss: 0.3697 - accuracy: 0.8400 - val_loss: 0.9430 - val_accuracy: 0.7181\n",
            "Epoch 51/100\n",
            "169/169 [==============================] - 5s 28ms/step - loss: 0.3530 - accuracy: 0.8483 - val_loss: 0.9301 - val_accuracy: 0.7251\n",
            "Epoch 52/100\n",
            "169/169 [==============================] - 5s 27ms/step - loss: 0.3490 - accuracy: 0.8501 - val_loss: 0.9310 - val_accuracy: 0.7120\n",
            "Epoch 53/100\n",
            "169/169 [==============================] - 4s 25ms/step - loss: 0.3474 - accuracy: 0.8513 - val_loss: 0.9038 - val_accuracy: 0.7215\n",
            "Epoch 54/100\n",
            "169/169 [==============================] - 4s 24ms/step - loss: 0.3476 - accuracy: 0.8509 - val_loss: 0.9294 - val_accuracy: 0.7233\n",
            "Epoch 55/100\n",
            "169/169 [==============================] - 3s 18ms/step - loss: 0.3327 - accuracy: 0.8576 - val_loss: 0.9431 - val_accuracy: 0.7276\n",
            "Epoch 56/100\n",
            "169/169 [==============================] - 3s 15ms/step - loss: 0.3369 - accuracy: 0.8558 - val_loss: 0.9532 - val_accuracy: 0.7198\n",
            "Epoch 57/100\n",
            "169/169 [==============================] - 2s 14ms/step - loss: 0.3290 - accuracy: 0.8595 - val_loss: 1.0017 - val_accuracy: 0.7309\n",
            "Epoch 58/100\n",
            "169/169 [==============================] - 2s 14ms/step - loss: 0.3194 - accuracy: 0.8635 - val_loss: 0.9848 - val_accuracy: 0.7222\n",
            "Epoch 59/100\n",
            "169/169 [==============================] - 2s 15ms/step - loss: 0.3310 - accuracy: 0.8586 - val_loss: 0.9540 - val_accuracy: 0.7223\n",
            "Epoch 60/100\n",
            "169/169 [==============================] - 3s 19ms/step - loss: 0.3198 - accuracy: 0.8628 - val_loss: 0.9380 - val_accuracy: 0.7238\n",
            "Epoch 61/100\n",
            "169/169 [==============================] - 3s 18ms/step - loss: 0.3095 - accuracy: 0.8683 - val_loss: 0.9423 - val_accuracy: 0.7193\n",
            "Epoch 62/100\n",
            "169/169 [==============================] - 2s 15ms/step - loss: 0.3250 - accuracy: 0.8615 - val_loss: 0.9251 - val_accuracy: 0.7284\n",
            "Epoch 63/100\n",
            "169/169 [==============================] - 3s 16ms/step - loss: 0.3048 - accuracy: 0.8698 - val_loss: 0.9927 - val_accuracy: 0.7213\n",
            "Epoch 64/100\n",
            "169/169 [==============================] - 2s 14ms/step - loss: 0.3017 - accuracy: 0.8714 - val_loss: 0.9862 - val_accuracy: 0.7266\n",
            "Epoch 65/100\n",
            "169/169 [==============================] - 3s 17ms/step - loss: 0.3047 - accuracy: 0.8702 - val_loss: 0.9892 - val_accuracy: 0.7211\n",
            "Epoch 66/100\n",
            "169/169 [==============================] - 3s 17ms/step - loss: 0.2986 - accuracy: 0.8726 - val_loss: 0.9826 - val_accuracy: 0.7315\n",
            "Epoch 67/100\n",
            "169/169 [==============================] - 3s 15ms/step - loss: 0.3042 - accuracy: 0.8709 - val_loss: 0.9989 - val_accuracy: 0.7243\n",
            "Epoch 68/100\n",
            "169/169 [==============================] - 2s 15ms/step - loss: 0.2827 - accuracy: 0.8801 - val_loss: 1.0096 - val_accuracy: 0.7346\n",
            "Epoch 69/100\n",
            "169/169 [==============================] - 2s 15ms/step - loss: 0.2894 - accuracy: 0.8770 - val_loss: 1.0531 - val_accuracy: 0.7276\n",
            "Epoch 70/100\n",
            "169/169 [==============================] - 2s 14ms/step - loss: 0.2940 - accuracy: 0.8752 - val_loss: 1.0053 - val_accuracy: 0.7318\n",
            "Epoch 71/100\n",
            "169/169 [==============================] - 3s 17ms/step - loss: 0.2962 - accuracy: 0.8741 - val_loss: 1.0239 - val_accuracy: 0.7333\n",
            "Epoch 72/100\n",
            "169/169 [==============================] - 3s 18ms/step - loss: 0.2776 - accuracy: 0.8823 - val_loss: 1.0369 - val_accuracy: 0.7300\n",
            "Epoch 73/100\n",
            "169/169 [==============================] - 2s 14ms/step - loss: 0.2736 - accuracy: 0.8852 - val_loss: 1.0519 - val_accuracy: 0.7295\n",
            "Epoch 74/100\n",
            "169/169 [==============================] - 2s 15ms/step - loss: 0.2747 - accuracy: 0.8835 - val_loss: 1.0669 - val_accuracy: 0.7192\n",
            "Epoch 75/100\n",
            "169/169 [==============================] - 2s 15ms/step - loss: 0.2804 - accuracy: 0.8819 - val_loss: 1.0404 - val_accuracy: 0.7305\n",
            "Epoch 76/100\n",
            "169/169 [==============================] - 2s 14ms/step - loss: 0.2724 - accuracy: 0.8845 - val_loss: 1.0342 - val_accuracy: 0.7298\n",
            "Epoch 77/100\n",
            "169/169 [==============================] - 3s 19ms/step - loss: 0.2575 - accuracy: 0.8912 - val_loss: 1.0535 - val_accuracy: 0.7367\n",
            "Epoch 78/100\n",
            "169/169 [==============================] - 3s 16ms/step - loss: 0.2659 - accuracy: 0.8887 - val_loss: 1.0776 - val_accuracy: 0.7139\n",
            "Epoch 79/100\n",
            "169/169 [==============================] - 3s 15ms/step - loss: 0.2606 - accuracy: 0.8894 - val_loss: 1.0805 - val_accuracy: 0.7292\n",
            "Epoch 80/100\n",
            "169/169 [==============================] - 2s 14ms/step - loss: 0.2579 - accuracy: 0.8914 - val_loss: 1.0501 - val_accuracy: 0.7334\n",
            "Epoch 81/100\n",
            "169/169 [==============================] - 2s 15ms/step - loss: 0.2625 - accuracy: 0.8885 - val_loss: 1.0818 - val_accuracy: 0.7297\n",
            "Epoch 82/100\n",
            "169/169 [==============================] - 3s 18ms/step - loss: 0.2575 - accuracy: 0.8912 - val_loss: 1.1078 - val_accuracy: 0.7299\n",
            "Epoch 83/100\n",
            "169/169 [==============================] - 3s 19ms/step - loss: 0.2488 - accuracy: 0.8959 - val_loss: 1.1052 - val_accuracy: 0.7318\n",
            "Epoch 84/100\n",
            "169/169 [==============================] - 3s 16ms/step - loss: 0.2465 - accuracy: 0.8960 - val_loss: 1.1513 - val_accuracy: 0.7313\n",
            "Epoch 85/100\n",
            "169/169 [==============================] - 3s 18ms/step - loss: 0.2509 - accuracy: 0.8942 - val_loss: 1.1090 - val_accuracy: 0.7266\n",
            "Epoch 86/100\n",
            "169/169 [==============================] - 2s 14ms/step - loss: 0.2417 - accuracy: 0.8981 - val_loss: 1.1801 - val_accuracy: 0.7225\n",
            "Epoch 87/100\n",
            "169/169 [==============================] - 3s 16ms/step - loss: 0.2525 - accuracy: 0.8932 - val_loss: 1.1006 - val_accuracy: 0.7340\n",
            "Epoch 88/100\n",
            "169/169 [==============================] - 3s 21ms/step - loss: 0.2305 - accuracy: 0.9032 - val_loss: 1.1466 - val_accuracy: 0.7396\n",
            "Epoch 89/100\n",
            "169/169 [==============================] - 2s 15ms/step - loss: 0.2412 - accuracy: 0.8988 - val_loss: 1.1200 - val_accuracy: 0.7358\n",
            "Epoch 90/100\n",
            "169/169 [==============================] - 2s 14ms/step - loss: 0.2354 - accuracy: 0.9011 - val_loss: 1.1577 - val_accuracy: 0.7400\n",
            "Epoch 91/100\n",
            "169/169 [==============================] - 2s 14ms/step - loss: 0.2283 - accuracy: 0.9032 - val_loss: 1.1570 - val_accuracy: 0.7304\n",
            "Epoch 92/100\n",
            "169/169 [==============================] - 2s 14ms/step - loss: 0.2382 - accuracy: 0.8992 - val_loss: 1.1771 - val_accuracy: 0.7354\n",
            "Epoch 93/100\n",
            "169/169 [==============================] - 3s 19ms/step - loss: 0.2416 - accuracy: 0.8984 - val_loss: 1.1889 - val_accuracy: 0.7262\n",
            "Epoch 94/100\n",
            "169/169 [==============================] - 3s 19ms/step - loss: 0.2280 - accuracy: 0.9044 - val_loss: 1.1669 - val_accuracy: 0.7327\n",
            "Epoch 95/100\n",
            "169/169 [==============================] - 2s 15ms/step - loss: 0.2291 - accuracy: 0.9039 - val_loss: 1.0788 - val_accuracy: 0.7391\n",
            "Epoch 96/100\n",
            "169/169 [==============================] - 2s 14ms/step - loss: 0.2210 - accuracy: 0.9068 - val_loss: 1.1809 - val_accuracy: 0.7353\n",
            "Epoch 97/100\n",
            "169/169 [==============================] - 2s 14ms/step - loss: 0.2161 - accuracy: 0.9096 - val_loss: 1.1822 - val_accuracy: 0.7377\n",
            "Epoch 98/100\n",
            "169/169 [==============================] - 3s 18ms/step - loss: 0.2176 - accuracy: 0.9083 - val_loss: 1.1763 - val_accuracy: 0.7350\n",
            "Epoch 99/100\n",
            "169/169 [==============================] - 3s 20ms/step - loss: 0.2323 - accuracy: 0.9029 - val_loss: 1.1882 - val_accuracy: 0.7418\n",
            "Epoch 100/100\n",
            "169/169 [==============================] - 2s 14ms/step - loss: 0.2154 - accuracy: 0.9094 - val_loss: 1.2146 - val_accuracy: 0.7290\n"
          ]
        },
        {
          "data": {
            "text/plain": [
              "<keras.src.callbacks.History at 0x7d5e455e9150>"
            ]
          },
          "execution_count": 15,
          "metadata": {},
          "output_type": "execute_result"
        }
      ],
      "source": [
        "# 튜닝 수행\n",
        "tuner.search(train_X, train_y, epochs=5, batch_size=1024, validation_split=0.2)\n",
        "\n",
        "# 최적의 하이퍼파라미터 조합 출력\n",
        "best_hps = tuner.get_best_hyperparameters(num_trials=1)[0]\n",
        "print(f\"Best Hyperparameters: {best_hps}\")\n",
        "\n",
        "# 최적의 모델 가져오기\n",
        "best_model = tuner.get_best_models(num_models=1)[0]\n",
        "\n",
        "# 최적의 모델 훈련\n",
        "best_model.fit(train_X, train_y, epochs=100, batch_size=1024, validation_split=0.2)"
      ]
    },
    {
      "cell_type": "code",
      "execution_count": null,
      "metadata": {
        "colab": {
          "base_uri": "https://localhost:8080/"
        },
        "id": "yyD2RxJkF711",
        "outputId": "538e4215-6993-4ed8-ffe6-c29f23b15c4d"
      },
      "outputs": [
        {
          "name": "stdout",
          "output_type": "stream",
          "text": [
            "1686/1686 [==============================] - 7s 4ms/step - loss: 1.2291 - accuracy: 0.7297\n"
          ]
        },
        {
          "data": {
            "text/plain": [
              "(1.2290809154510498, 0.7296951413154602)"
            ]
          },
          "execution_count": 16,
          "metadata": {},
          "output_type": "execute_result"
        }
      ],
      "source": [
        "test_loss, test_acc = best_model.evaluate(test_X, test_y)\n",
        "test_loss, test_acc"
      ]
    },
    {
      "cell_type": "code",
      "execution_count": null,
      "metadata": {
        "id": "7U4VowJ5RWe_"
      },
      "outputs": [],
      "source": [
        "from keras.models import save_model, load_model"
      ]
    },
    {
      "cell_type": "code",
      "execution_count": null,
      "metadata": {
        "colab": {
          "base_uri": "https://localhost:8080/"
        },
        "id": "XqhXUoLSMHOw",
        "outputId": "11205b93-9e0b-43b8-bfa7-2eb62c097449"
      },
      "outputs": [
        {
          "name": "stderr",
          "output_type": "stream",
          "text": [
            "/usr/local/lib/python3.10/dist-packages/keras/src/engine/training.py:3000: UserWarning: You are saving your model as an HDF5 file via `model.save()`. This file format is considered legacy. We recommend using instead the native Keras format, e.g. `model.save('my_model.keras')`.\n",
            "  saving_api.save_model(\n"
          ]
        }
      ],
      "source": [
        "best_model.save('melon_model.h5')"
      ]
    },
    {
      "cell_type": "code",
      "execution_count": null,
      "metadata": {
        "id": "ApaL3Y_zMtTc"
      },
      "outputs": [],
      "source": [
        "# 모델 로드\n",
        "loaded_model = load_model('melon_model.h5')"
      ]
    },
    {
      "cell_type": "code",
      "execution_count": null,
      "metadata": {
        "id": "YY2jfLpFS92S"
      },
      "outputs": [],
      "source": [
        "from PIL import Image"
      ]
    },
    {
      "cell_type": "code",
      "execution_count": null,
      "metadata": {
        "id": "c15w5FJIS-QD"
      },
      "outputs": [],
      "source": [
        "# 이미지 파일 경로\n",
        "image_path = 'newjeans.jpg'\n",
        "\n",
        "# 이미지 불러오기\n",
        "image = Image.open(image_path)\n",
        "\n",
        "# resize\n",
        "new_size = (48, 48)\n",
        "image = image.resize(new_size)"
      ]
    },
    {
      "cell_type": "code",
      "execution_count": null,
      "metadata": {
        "colab": {
          "base_uri": "https://localhost:8080/"
        },
        "id": "faG4sEnzS-Y2",
        "outputId": "dc1aeff6-ae4d-4249-c1f0-89f7f96da5c6"
      },
      "outputs": [
        {
          "name": "stdout",
          "output_type": "stream",
          "text": [
            "1/1 [==============================] - 0s 18ms/step\n",
            "[[0.05103343 0.18057665 0.76838994]]\n"
          ]
        },
        {
          "data": {
            "text/plain": [
              "2"
            ]
          },
          "execution_count": 62,
          "metadata": {},
          "output_type": "execute_result"
        }
      ],
      "source": [
        "# 로드된 모델을 사용하여 예측 또는 추가 훈련 등의 작업 수행\n",
        "prediction = loaded_model.predict(np.expand_dims(image, axis=0))\n",
        "print(prediction)\n",
        "np.argmax(prediction)"
      ]
    },
    {
      "cell_type": "code",
      "execution_count": null,
      "metadata": {
        "id": "XMdcyzliOkRp"
      },
      "outputs": [],
      "source": [
        "# 이미지 파일 경로\n",
        "image_path = 'pussy.jpg'\n",
        "\n",
        "# 이미지 불러오기\n",
        "image = Image.open(image_path)\n",
        "\n",
        "# resize\n",
        "new_size = (48, 48)\n",
        "image = image.resize(new_size)"
      ]
    },
    {
      "cell_type": "code",
      "execution_count": null,
      "metadata": {
        "colab": {
          "base_uri": "https://localhost:8080/"
        },
        "id": "d9tGoZ92gwXq",
        "outputId": "b4f4253c-cd78-4b1d-a273-396dbd3cca0b"
      },
      "outputs": [
        {
          "name": "stdout",
          "output_type": "stream",
          "text": [
            "1/1 [==============================] - 0s 23ms/step\n",
            "[[0.05681313 0.2808108  0.66237605]]\n"
          ]
        }
      ],
      "source": [
        "prediction = loaded_model.predict(np.expand_dims(image, axis=0))\n",
        "print(prediction)"
      ]
    },
    {
      "cell_type": "code",
      "execution_count": null,
      "metadata": {
        "id": "VynbkteIgyHR"
      },
      "outputs": [],
      "source": []
    }
  ],
  "metadata": {
    "accelerator": "GPU",
    "colab": {
      "gpuType": "T4",
      "provenance": []
    },
    "kernelspec": {
      "display_name": "Python 3",
      "name": "python3"
    },
    "language_info": {
      "name": "python"
    }
  },
  "nbformat": 4,
  "nbformat_minor": 0
}
