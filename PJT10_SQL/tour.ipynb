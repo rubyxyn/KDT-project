{
 "cells": [
  {
   "cell_type": "code",
   "execution_count": 1,
   "metadata": {},
   "outputs": [],
   "source": [
    "import requests\n",
    "from bs4 import BeautifulSoup\n",
    "from tqdm import tqdm\n",
    "\n",
    "import pandas as pd\n",
    "import random\n",
    "import time\n",
    "from selenium import webdriver\n",
    "from selenium.webdriver.chrome.service import Service\n",
    "from selenium.webdriver.common.keys import Keys\n",
    "from selenium.webdriver.common.by import By "
   ]
  },
  {
   "cell_type": "code",
   "execution_count": 48,
   "metadata": {},
   "outputs": [],
   "source": [
    "driver = webdriver.Chrome()\n",
    "driver.get('https://api.visitkorea.or.kr/#/hubTourSearch')\n",
    "driver.implicitly_wait(10)\n",
    "time.sleep(3)"
   ]
  },
  {
   "cell_type": "code",
   "execution_count": 49,
   "metadata": {},
   "outputs": [],
   "source": [
    "# 관광타입 선택\n",
    "buttons = driver.find_elements(By.CLASS_NAME, 'btn-type2.btn-blue.floatright')\n",
    "buttons[1].click()\n",
    "time.sleep(2)\n",
    "\n",
    "all = driver.find_element(By.NAME, 'contentTypeIdAll')\n",
    "all.click()\n",
    "time.sleep(2)\n",
    "\n",
    "check = driver.find_elements(By.CLASS_NAME, 'btn.btn-type2.btn-blue.ml10')\n",
    "check[-1].click()\n",
    "time.sleep(2)"
   ]
  },
  {
   "cell_type": "markdown",
   "metadata": {},
   "source": [
    "----"
   ]
  },
  {
   "cell_type": "code",
   "execution_count": 65,
   "metadata": {},
   "outputs": [],
   "source": [
    "# 지역 선택\n",
    "buttons = driver.find_elements(By.CLASS_NAME, 'btn-type2.btn-blue.floatright')\n",
    "buttons[3].click()\n",
    "time.sleep(2)\n",
    "\n",
    "driver.find_element(By.ID, 39).click()\n",
    "time.sleep(2)\n",
    "\n",
    "check = driver.find_elements(By.CLASS_NAME, 'btn.btn-type2.btn-blue.ml10')\n",
    "check[1].click()\n",
    "time.sleep(2)"
   ]
  },
  {
   "cell_type": "code",
   "execution_count": 81,
   "metadata": {},
   "outputs": [],
   "source": [
    "# 검색\n",
    "search = driver.find_element(By.CLASS_NAME, 'btn-type2.btn-blue.ml5')\n",
    "search.click()\n",
    "time.sleep(2)"
   ]
  },
  {
   "cell_type": "code",
   "execution_count": 82,
   "metadata": {},
   "outputs": [],
   "source": [
    "# 목록선택\n",
    "list_ = driver.find_element(By.CLASS_NAME, 'btn-wrap.floatleft')\n",
    "list_.click()\n",
    "time.sleep(2)"
   ]
  },
  {
   "cell_type": "markdown",
   "metadata": {},
   "source": [
    "---"
   ]
  },
  {
   "cell_type": "code",
   "execution_count": 130,
   "metadata": {},
   "outputs": [
    {
     "name": "stdout",
     "output_type": "stream",
     "text": [
      "2\n",
      "3\n",
      "4\n",
      "5\n",
      "6\n",
      "7\n",
      "8\n",
      "9\n",
      "10\n"
     ]
    }
   ],
   "source": [
    "# 페이지 넘기기\n",
    "page = driver.find_element(By.CLASS_NAME, 'paging').find_elements(By.TAG_NAME, 'button')\n",
    "for i in range(3, 12):\n",
    "    print(page[i].text)"
   ]
  },
  {
   "cell_type": "code",
   "execution_count": 131,
   "metadata": {},
   "outputs": [],
   "source": [
    "page = driver.find_element(By.CLASS_NAME, 'paging').find_elements(By.TAG_NAME, 'button')\n",
    "page[-2].click()\n",
    "time.sleep(2)"
   ]
  },
  {
   "cell_type": "code",
   "execution_count": null,
   "metadata": {},
   "outputs": [],
   "source": []
  },
  {
   "cell_type": "code",
   "execution_count": null,
   "metadata": {},
   "outputs": [],
   "source": []
  },
  {
   "cell_type": "code",
   "execution_count": null,
   "metadata": {},
   "outputs": [],
   "source": []
  },
  {
   "cell_type": "code",
   "execution_count": null,
   "metadata": {},
   "outputs": [],
   "source": []
  },
  {
   "cell_type": "code",
   "execution_count": null,
   "metadata": {},
   "outputs": [],
   "source": []
  },
  {
   "cell_type": "code",
   "execution_count": null,
   "metadata": {},
   "outputs": [],
   "source": []
  }
 ],
 "metadata": {
  "kernelspec": {
   "display_name": "learning",
   "language": "python",
   "name": "python3"
  },
  "language_info": {
   "codemirror_mode": {
    "name": "ipython",
    "version": 3
   },
   "file_extension": ".py",
   "mimetype": "text/x-python",
   "name": "python",
   "nbconvert_exporter": "python",
   "pygments_lexer": "ipython3",
   "version": "3.10.13"
  }
 },
 "nbformat": 4,
 "nbformat_minor": 2
}
